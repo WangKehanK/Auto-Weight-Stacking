{
  "nbformat": 4,
  "nbformat_minor": 0,
  "metadata": {
    "colab": {
      "name": "NYC_Property_7.4.ipynb",
      "provenance": [],
      "collapsed_sections": []
    },
    "kernelspec": {
      "name": "python3",
      "display_name": "Python 3"
    },
    "accelerator": "GPU"
  },
  "cells": [
    {
      "cell_type": "code",
      "metadata": {
        "id": "5QGOnWkVRR1P",
        "colab_type": "code",
        "colab": {
          "base_uri": "https://localhost:8080/",
          "height": 547
        },
        "outputId": "91a5e85d-fa9e-4962-a2b2-0010bea9ccb0"
      },
      "source": [
        "\"\"\"\n",
        "create by: Kehan Wang\n",
        "Date: 2020.6.26\n",
        "\"\"\"\n",
        "import pandas as pd\n",
        "import numpy as np\n",
        "import matplotlib.pyplot as plt\n",
        "import seaborn as sns\n",
        "from sklearn.preprocessing import StandardScaler, LabelEncoder, OneHotEncoder\n",
        "from sklearn.metrics import mean_squared_error\n",
        "from math import sqrt\n",
        "from sklearn.model_selection import train_test_split\n",
        "from sklearn.linear_model import LinearRegression\n",
        "from sklearn.linear_model import Lasso\n",
        "from sklearn.linear_model import Ridge\n",
        "from sklearn.linear_model import ElasticNet\n",
        "from sklearn.ensemble import RandomForestRegressor\n",
        "from sklearn.ensemble import GradientBoostingRegressor\n",
        "df = pd.read_csv('nyc-rolling-sales.csv')\n",
        "# df.head(100)\n",
        "df.head()"
      ],
      "execution_count": null,
      "outputs": [
        {
          "output_type": "execute_result",
          "data": {
            "text/html": [
              "<div>\n",
              "<style scoped>\n",
              "    .dataframe tbody tr th:only-of-type {\n",
              "        vertical-align: middle;\n",
              "    }\n",
              "\n",
              "    .dataframe tbody tr th {\n",
              "        vertical-align: top;\n",
              "    }\n",
              "\n",
              "    .dataframe thead th {\n",
              "        text-align: right;\n",
              "    }\n",
              "</style>\n",
              "<table border=\"1\" class=\"dataframe\">\n",
              "  <thead>\n",
              "    <tr style=\"text-align: right;\">\n",
              "      <th></th>\n",
              "      <th>Unnamed: 0</th>\n",
              "      <th>BOROUGH</th>\n",
              "      <th>NEIGHBORHOOD</th>\n",
              "      <th>BUILDING CLASS CATEGORY</th>\n",
              "      <th>TAX CLASS AT PRESENT</th>\n",
              "      <th>BLOCK</th>\n",
              "      <th>LOT</th>\n",
              "      <th>EASE-MENT</th>\n",
              "      <th>BUILDING CLASS AT PRESENT</th>\n",
              "      <th>ADDRESS</th>\n",
              "      <th>APARTMENT NUMBER</th>\n",
              "      <th>ZIP CODE</th>\n",
              "      <th>RESIDENTIAL UNITS</th>\n",
              "      <th>COMMERCIAL UNITS</th>\n",
              "      <th>TOTAL UNITS</th>\n",
              "      <th>LAND SQUARE FEET</th>\n",
              "      <th>GROSS SQUARE FEET</th>\n",
              "      <th>YEAR BUILT</th>\n",
              "      <th>TAX CLASS AT TIME OF SALE</th>\n",
              "      <th>BUILDING CLASS AT TIME OF SALE</th>\n",
              "      <th>SALE PRICE</th>\n",
              "      <th>SALE DATE</th>\n",
              "    </tr>\n",
              "  </thead>\n",
              "  <tbody>\n",
              "    <tr>\n",
              "      <th>0</th>\n",
              "      <td>4</td>\n",
              "      <td>1</td>\n",
              "      <td>ALPHABET CITY</td>\n",
              "      <td>07 RENTALS - WALKUP APARTMENTS</td>\n",
              "      <td>2A</td>\n",
              "      <td>392</td>\n",
              "      <td>6</td>\n",
              "      <td></td>\n",
              "      <td>C2</td>\n",
              "      <td>153 AVENUE B</td>\n",
              "      <td></td>\n",
              "      <td>10009</td>\n",
              "      <td>5</td>\n",
              "      <td>0</td>\n",
              "      <td>5</td>\n",
              "      <td>1633</td>\n",
              "      <td>6440</td>\n",
              "      <td>1900</td>\n",
              "      <td>2</td>\n",
              "      <td>C2</td>\n",
              "      <td>6625000</td>\n",
              "      <td>2017-07-19 00:00:00</td>\n",
              "    </tr>\n",
              "    <tr>\n",
              "      <th>1</th>\n",
              "      <td>5</td>\n",
              "      <td>1</td>\n",
              "      <td>ALPHABET CITY</td>\n",
              "      <td>07 RENTALS - WALKUP APARTMENTS</td>\n",
              "      <td>2</td>\n",
              "      <td>399</td>\n",
              "      <td>26</td>\n",
              "      <td></td>\n",
              "      <td>C7</td>\n",
              "      <td>234 EAST 4TH   STREET</td>\n",
              "      <td></td>\n",
              "      <td>10009</td>\n",
              "      <td>28</td>\n",
              "      <td>3</td>\n",
              "      <td>31</td>\n",
              "      <td>4616</td>\n",
              "      <td>18690</td>\n",
              "      <td>1900</td>\n",
              "      <td>2</td>\n",
              "      <td>C7</td>\n",
              "      <td>-</td>\n",
              "      <td>2016-12-14 00:00:00</td>\n",
              "    </tr>\n",
              "    <tr>\n",
              "      <th>2</th>\n",
              "      <td>6</td>\n",
              "      <td>1</td>\n",
              "      <td>ALPHABET CITY</td>\n",
              "      <td>07 RENTALS - WALKUP APARTMENTS</td>\n",
              "      <td>2</td>\n",
              "      <td>399</td>\n",
              "      <td>39</td>\n",
              "      <td></td>\n",
              "      <td>C7</td>\n",
              "      <td>197 EAST 3RD   STREET</td>\n",
              "      <td></td>\n",
              "      <td>10009</td>\n",
              "      <td>16</td>\n",
              "      <td>1</td>\n",
              "      <td>17</td>\n",
              "      <td>2212</td>\n",
              "      <td>7803</td>\n",
              "      <td>1900</td>\n",
              "      <td>2</td>\n",
              "      <td>C7</td>\n",
              "      <td>-</td>\n",
              "      <td>2016-12-09 00:00:00</td>\n",
              "    </tr>\n",
              "    <tr>\n",
              "      <th>3</th>\n",
              "      <td>7</td>\n",
              "      <td>1</td>\n",
              "      <td>ALPHABET CITY</td>\n",
              "      <td>07 RENTALS - WALKUP APARTMENTS</td>\n",
              "      <td>2B</td>\n",
              "      <td>402</td>\n",
              "      <td>21</td>\n",
              "      <td></td>\n",
              "      <td>C4</td>\n",
              "      <td>154 EAST 7TH STREET</td>\n",
              "      <td></td>\n",
              "      <td>10009</td>\n",
              "      <td>10</td>\n",
              "      <td>0</td>\n",
              "      <td>10</td>\n",
              "      <td>2272</td>\n",
              "      <td>6794</td>\n",
              "      <td>1913</td>\n",
              "      <td>2</td>\n",
              "      <td>C4</td>\n",
              "      <td>3936272</td>\n",
              "      <td>2016-09-23 00:00:00</td>\n",
              "    </tr>\n",
              "    <tr>\n",
              "      <th>4</th>\n",
              "      <td>8</td>\n",
              "      <td>1</td>\n",
              "      <td>ALPHABET CITY</td>\n",
              "      <td>07 RENTALS - WALKUP APARTMENTS</td>\n",
              "      <td>2A</td>\n",
              "      <td>404</td>\n",
              "      <td>55</td>\n",
              "      <td></td>\n",
              "      <td>C2</td>\n",
              "      <td>301 EAST 10TH   STREET</td>\n",
              "      <td></td>\n",
              "      <td>10009</td>\n",
              "      <td>6</td>\n",
              "      <td>0</td>\n",
              "      <td>6</td>\n",
              "      <td>2369</td>\n",
              "      <td>4615</td>\n",
              "      <td>1900</td>\n",
              "      <td>2</td>\n",
              "      <td>C2</td>\n",
              "      <td>8000000</td>\n",
              "      <td>2016-11-17 00:00:00</td>\n",
              "    </tr>\n",
              "  </tbody>\n",
              "</table>\n",
              "</div>"
            ],
            "text/plain": [
              "   Unnamed: 0  BOROUGH  ... SALE PRICE            SALE DATE\n",
              "0           4        1  ...    6625000  2017-07-19 00:00:00\n",
              "1           5        1  ...        -    2016-12-14 00:00:00\n",
              "2           6        1  ...        -    2016-12-09 00:00:00\n",
              "3           7        1  ...    3936272  2016-09-23 00:00:00\n",
              "4           8        1  ...    8000000  2016-11-17 00:00:00\n",
              "\n",
              "[5 rows x 22 columns]"
            ]
          },
          "metadata": {
            "tags": []
          },
          "execution_count": 25
        }
      ]
    },
    {
      "cell_type": "markdown",
      "metadata": {
        "id": "Eo5gK6nE-G6L",
        "colab_type": "text"
      },
      "source": [
        "#1) Data Clean"
      ]
    },
    {
      "cell_type": "markdown",
      "metadata": {
        "id": "TUBrhCUO_6gV",
        "colab_type": "text"
      },
      "source": [
        "First of all, we want to drop thoese useless columns and to check whether there are any duplicate values in our dataset. If there is any, we will need to drop them."
      ]
    },
    {
      "cell_type": "code",
      "metadata": {
        "id": "2m-kVUmMSGNy",
        "colab_type": "code",
        "colab": {}
      },
      "source": [
        "# \"Unname: 0\" column looks like useless, drop it.\n",
        "del df['Unnamed: 0']\n",
        "#\"EASE-MENT\" column is empty, we are going to drop it.\n",
        "del df['EASE-MENT']\n",
        "\n",
        "#del df['SALE DATE']"
      ],
      "execution_count": null,
      "outputs": []
    },
    {
      "cell_type": "code",
      "metadata": {
        "id": "Cvqw8SvN_457",
        "colab_type": "code",
        "colab": {
          "base_uri": "https://localhost:8080/",
          "height": 34
        },
        "outputId": "b7e64438-0cc4-4239-cbbe-46b3a640ea12"
      },
      "source": [
        "sum(df.duplicated(df.columns))\n",
        "df = df.drop_duplicates(df.columns, keep='last')\n",
        "df.shape"
      ],
      "execution_count": null,
      "outputs": [
        {
          "output_type": "execute_result",
          "data": {
            "text/plain": [
              "(83783, 20)"
            ]
          },
          "metadata": {
            "tags": []
          },
          "execution_count": 27
        }
      ]
    },
    {
      "cell_type": "markdown",
      "metadata": {
        "id": "I7UWV8-UBFzA",
        "colab_type": "text"
      },
      "source": [
        "Now, Let's look into details."
      ]
    },
    {
      "cell_type": "code",
      "metadata": {
        "id": "htSGOtHWUvQf",
        "colab_type": "code",
        "colab": {
          "base_uri": "https://localhost:8080/",
          "height": 476
        },
        "outputId": "059dba2f-b8f3-4d8f-b999-88fa6540f5c0"
      },
      "source": [
        "df.info()"
      ],
      "execution_count": null,
      "outputs": [
        {
          "output_type": "stream",
          "text": [
            "<class 'pandas.core.frame.DataFrame'>\n",
            "Int64Index: 83783 entries, 0 to 84547\n",
            "Data columns (total 20 columns):\n",
            " #   Column                          Non-Null Count  Dtype \n",
            "---  ------                          --------------  ----- \n",
            " 0   BOROUGH                         83783 non-null  int64 \n",
            " 1   NEIGHBORHOOD                    83783 non-null  object\n",
            " 2   BUILDING CLASS CATEGORY         83783 non-null  object\n",
            " 3   TAX CLASS AT PRESENT            83783 non-null  object\n",
            " 4   BLOCK                           83783 non-null  int64 \n",
            " 5   LOT                             83783 non-null  int64 \n",
            " 6   BUILDING CLASS AT PRESENT       83783 non-null  object\n",
            " 7   ADDRESS                         83783 non-null  object\n",
            " 8   APARTMENT NUMBER                83783 non-null  object\n",
            " 9   ZIP CODE                        83783 non-null  int64 \n",
            " 10  RESIDENTIAL UNITS               83783 non-null  int64 \n",
            " 11  COMMERCIAL UNITS                83783 non-null  int64 \n",
            " 12  TOTAL UNITS                     83783 non-null  int64 \n",
            " 13  LAND SQUARE FEET                83783 non-null  object\n",
            " 14  GROSS SQUARE FEET               83783 non-null  object\n",
            " 15  YEAR BUILT                      83783 non-null  int64 \n",
            " 16  TAX CLASS AT TIME OF SALE       83783 non-null  int64 \n",
            " 17  BUILDING CLASS AT TIME OF SALE  83783 non-null  object\n",
            " 18  SALE PRICE                      83783 non-null  object\n",
            " 19  SALE DATE                       83783 non-null  object\n",
            "dtypes: int64(9), object(11)\n",
            "memory usage: 13.4+ MB\n"
          ],
          "name": "stdout"
        }
      ]
    },
    {
      "cell_type": "markdown",
      "metadata": {
        "id": "20mGNQvqLwJd",
        "colab_type": "text"
      },
      "source": [
        "After browsing the information of dataset, we can see they use \"-\" to represent the missing values. Before prediction, we should clean these rows in the data table. Some of them should not be counted as the sale of real estate. For example, in column \"SALE PRICE\", these properties with 0 value might be transferred as a gift. \n",
        "\n",
        "Before cleaning missing values, We need to convert some of the columns(for example, SALE PRICE is object, SALE DATE is object, etc) to appropriate datatype."
      ]
    },
    {
      "cell_type": "code",
      "metadata": {
        "id": "y6Ti1ywdEuNz",
        "colab_type": "code",
        "colab": {}
      },
      "source": [
        "df['SALE PRICE'] = pd.to_numeric(df['SALE PRICE'], errors='coerce')\n",
        "#df['SALE DATE'] = pd.to_datetime(df['SALE DATE'], errors='coerce')\n",
        "df['LAND SQUARE FEET'] = pd.to_numeric(df['LAND SQUARE FEET'], errors='coerce')\n",
        "df['GROSS SQUARE FEET']= pd.to_numeric(df['GROSS SQUARE FEET'], errors='coerce')\n",
        "df['TAX CLASS AT PRESENT'] = df['TAX CLASS AT PRESENT'].astype('category')\n",
        "df['TAX CLASS AT PRESENT'] = df['TAX CLASS AT PRESENT'].astype('category')\n",
        "df['BOROUGH'] = df['BOROUGH'].astype('category')\n"
      ],
      "execution_count": null,
      "outputs": []
    },
    {
      "cell_type": "code",
      "metadata": {
        "id": "dqpzQNboMZdl",
        "colab_type": "code",
        "colab": {}
      },
      "source": [
        "df['SALE DATE'] = df['SALE DATE'].apply(lambda x: int(x[:4]+x[5:7]+x[8:10]))\n",
        "df['SALE DATE'] = df['SALE DATE'].astype(int)"
      ],
      "execution_count": null,
      "outputs": []
    },
    {
      "cell_type": "code",
      "metadata": {
        "id": "j95V0sE0S-tw",
        "colab_type": "code",
        "colab": {
          "base_uri": "https://localhost:8080/",
          "height": 34
        },
        "outputId": "74908365-5c0e-4bde-c942-1b656dab2e14"
      },
      "source": [
        "df.shape\n"
      ],
      "execution_count": null,
      "outputs": [
        {
          "output_type": "execute_result",
          "data": {
            "text/plain": [
              "(83783, 20)"
            ]
          },
          "metadata": {
            "tags": []
          },
          "execution_count": 31
        }
      ]
    },
    {
      "cell_type": "code",
      "metadata": {
        "id": "74ejJcPNHlFX",
        "colab_type": "code",
        "colab": {
          "base_uri": "https://localhost:8080/",
          "height": 476
        },
        "outputId": "efdf6163-0bb2-4dcd-e213-40c3d9f3bf0c"
      },
      "source": [
        "df.info()"
      ],
      "execution_count": null,
      "outputs": [
        {
          "output_type": "stream",
          "text": [
            "<class 'pandas.core.frame.DataFrame'>\n",
            "Int64Index: 83783 entries, 0 to 84547\n",
            "Data columns (total 20 columns):\n",
            " #   Column                          Non-Null Count  Dtype   \n",
            "---  ------                          --------------  -----   \n",
            " 0   BOROUGH                         83783 non-null  category\n",
            " 1   NEIGHBORHOOD                    83783 non-null  object  \n",
            " 2   BUILDING CLASS CATEGORY         83783 non-null  object  \n",
            " 3   TAX CLASS AT PRESENT            83783 non-null  category\n",
            " 4   BLOCK                           83783 non-null  int64   \n",
            " 5   LOT                             83783 non-null  int64   \n",
            " 6   BUILDING CLASS AT PRESENT       83783 non-null  object  \n",
            " 7   ADDRESS                         83783 non-null  object  \n",
            " 8   APARTMENT NUMBER                83783 non-null  object  \n",
            " 9   ZIP CODE                        83783 non-null  int64   \n",
            " 10  RESIDENTIAL UNITS               83783 non-null  int64   \n",
            " 11  COMMERCIAL UNITS                83783 non-null  int64   \n",
            " 12  TOTAL UNITS                     83783 non-null  int64   \n",
            " 13  LAND SQUARE FEET                57729 non-null  float64 \n",
            " 14  GROSS SQUARE FEET               56398 non-null  float64 \n",
            " 15  YEAR BUILT                      83783 non-null  int64   \n",
            " 16  TAX CLASS AT TIME OF SALE       83783 non-null  int64   \n",
            " 17  BUILDING CLASS AT TIME OF SALE  83783 non-null  object  \n",
            " 18  SALE PRICE                      69607 non-null  float64 \n",
            " 19  SALE DATE                       83783 non-null  int64   \n",
            "dtypes: category(2), float64(3), int64(9), object(6)\n",
            "memory usage: 12.3+ MB\n"
          ],
          "name": "stdout"
        }
      ]
    },
    {
      "cell_type": "code",
      "metadata": {
        "id": "7bxrLnLiEG_7",
        "colab_type": "code",
        "colab": {}
      },
      "source": [
        "variables = df.columns\n",
        "\n",
        "data = []\n",
        "for variable in variables:\n",
        "  l = df[variable].count()\n",
        "  data.append(l)\n",
        "available_per = np.round(pd.Series(data)/len(df), 3)"
      ],
      "execution_count": null,
      "outputs": []
    },
    {
      "cell_type": "code",
      "metadata": {
        "id": "tKiqJIuZEiGI",
        "colab_type": "code",
        "colab": {
          "base_uri": "https://localhost:8080/",
          "height": 392
        },
        "outputId": "ac344da3-9b9e-486f-f43e-5e744a70166a"
      },
      "source": [
        "plt.figure(figsize=(8,6))\n",
        "plt.barh(variables, available_per)\n",
        "plt.title(\"Percent of available data\", fontsize=15)\n",
        "plt.show()"
      ],
      "execution_count": null,
      "outputs": [
        {
          "output_type": "display_data",
          "data": {
            "image/png": "[encoded data removed]",
            "text/plain": [
              "<Figure size 576x432 with 1 Axes>"
            ]
          },
          "metadata": {
            "tags": [],
            "needs_background": "light"
          }
        }
      ]
    },
    {
      "cell_type": "markdown",
      "metadata": {
        "id": "SDz8IvrdF4Oz",
        "colab_type": "text"
      },
      "source": [
        "As shown in the figure, SALE PRICE, GROSS SQUARE FEET and LAND SQUARE FEET have the lowest percent of available data. But again, SALE PRICE is the value we wanted to predict, and as the data set description states:\n",
        "\n",
        "*Many sales occur with a nonsensically small dollar amount: $0 most commonly. These sales are actually transfers of deeds between parties: for example, parents transferring ownership to their home to a child after moving out for retirement.* We may want to drop those rows.\n",
        "\n",
        "For SQUARE FEET, in this case, we will use mean values to fill them up."
      ]
    },
    {
      "cell_type": "code",
      "metadata": {
        "id": "A_MFibUyM3Fp",
        "colab_type": "code",
        "colab": {
          "base_uri": "https://localhost:8080/",
          "height": 34
        },
        "outputId": "93ac4de7-86ce-4fdd-b066-bd54257ad2e4"
      },
      "source": [
        "df=df[df['SALE PRICE']!=0]\n",
        "df['LAND SQUARE FEET']=df['LAND SQUARE FEET'].fillna(df['LAND SQUARE FEET'].mean())\n",
        "df['GROSS SQUARE FEET']=df['GROSS SQUARE FEET'].fillna(df['GROSS SQUARE FEET'].mean())\n",
        "df.shape"
      ],
      "execution_count": null,
      "outputs": [
        {
          "output_type": "execute_result",
          "data": {
            "text/plain": [
              "(73771, 20)"
            ]
          },
          "metadata": {
            "tags": []
          },
          "execution_count": 35
        }
      ]
    },
    {
      "cell_type": "code",
      "metadata": {
        "id": "r0aWxeKKOdH0",
        "colab_type": "code",
        "colab": {}
      },
      "source": [
        "# Splitting dataset \n",
        "test=df[df['SALE PRICE'].isna()]\n",
        "sale_house=df[~df['SALE PRICE'].isna()]"
      ],
      "execution_count": null,
      "outputs": []
    },
    {
      "cell_type": "code",
      "metadata": {
        "id": "e1FDQ8zL7YiG",
        "colab_type": "code",
        "colab": {}
      },
      "source": [
        "test = test.drop(columns='SALE PRICE')"
      ],
      "execution_count": null,
      "outputs": []
    },
    {
      "cell_type": "code",
      "metadata": {
        "id": "PqKUdXdd7dXQ",
        "colab_type": "code",
        "colab": {
          "base_uri": "https://localhost:8080/",
          "height": 564
        },
        "outputId": "d290a45b-88fb-4e16-9db5-a42c9e7ec940"
      },
      "source": [
        "print(test.shape)\n",
        "test.head()"
      ],
      "execution_count": null,
      "outputs": [
        {
          "output_type": "stream",
          "text": [
            "(14176, 19)\n"
          ],
          "name": "stdout"
        },
        {
          "output_type": "execute_result",
          "data": {
            "text/html": [
              "<div>\n",
              "<style scoped>\n",
              "    .dataframe tbody tr th:only-of-type {\n",
              "        vertical-align: middle;\n",
              "    }\n",
              "\n",
              "    .dataframe tbody tr th {\n",
              "        vertical-align: top;\n",
              "    }\n",
              "\n",
              "    .dataframe thead th {\n",
              "        text-align: right;\n",
              "    }\n",
              "</style>\n",
              "<table border=\"1\" class=\"dataframe\">\n",
              "  <thead>\n",
              "    <tr style=\"text-align: right;\">\n",
              "      <th></th>\n",
              "      <th>BOROUGH</th>\n",
              "      <th>NEIGHBORHOOD</th>\n",
              "      <th>BUILDING CLASS CATEGORY</th>\n",
              "      <th>TAX CLASS AT PRESENT</th>\n",
              "      <th>BLOCK</th>\n",
              "      <th>LOT</th>\n",
              "      <th>BUILDING CLASS AT PRESENT</th>\n",
              "      <th>ADDRESS</th>\n",
              "      <th>APARTMENT NUMBER</th>\n",
              "      <th>ZIP CODE</th>\n",
              "      <th>RESIDENTIAL UNITS</th>\n",
              "      <th>COMMERCIAL UNITS</th>\n",
              "      <th>TOTAL UNITS</th>\n",
              "      <th>LAND SQUARE FEET</th>\n",
              "      <th>GROSS SQUARE FEET</th>\n",
              "      <th>YEAR BUILT</th>\n",
              "      <th>TAX CLASS AT TIME OF SALE</th>\n",
              "      <th>BUILDING CLASS AT TIME OF SALE</th>\n",
              "      <th>SALE DATE</th>\n",
              "    </tr>\n",
              "  </thead>\n",
              "  <tbody>\n",
              "    <tr>\n",
              "      <th>1</th>\n",
              "      <td>1</td>\n",
              "      <td>ALPHABET CITY</td>\n",
              "      <td>07 RENTALS - WALKUP APARTMENTS</td>\n",
              "      <td>2</td>\n",
              "      <td>399</td>\n",
              "      <td>26</td>\n",
              "      <td>C7</td>\n",
              "      <td>234 EAST 4TH   STREET</td>\n",
              "      <td></td>\n",
              "      <td>10009</td>\n",
              "      <td>28</td>\n",
              "      <td>3</td>\n",
              "      <td>31</td>\n",
              "      <td>4616.0</td>\n",
              "      <td>18690.0</td>\n",
              "      <td>1900</td>\n",
              "      <td>2</td>\n",
              "      <td>C7</td>\n",
              "      <td>20161214</td>\n",
              "    </tr>\n",
              "    <tr>\n",
              "      <th>2</th>\n",
              "      <td>1</td>\n",
              "      <td>ALPHABET CITY</td>\n",
              "      <td>07 RENTALS - WALKUP APARTMENTS</td>\n",
              "      <td>2</td>\n",
              "      <td>399</td>\n",
              "      <td>39</td>\n",
              "      <td>C7</td>\n",
              "      <td>197 EAST 3RD   STREET</td>\n",
              "      <td></td>\n",
              "      <td>10009</td>\n",
              "      <td>16</td>\n",
              "      <td>1</td>\n",
              "      <td>17</td>\n",
              "      <td>2212.0</td>\n",
              "      <td>7803.0</td>\n",
              "      <td>1900</td>\n",
              "      <td>2</td>\n",
              "      <td>C7</td>\n",
              "      <td>20161209</td>\n",
              "    </tr>\n",
              "    <tr>\n",
              "      <th>5</th>\n",
              "      <td>1</td>\n",
              "      <td>ALPHABET CITY</td>\n",
              "      <td>07 RENTALS - WALKUP APARTMENTS</td>\n",
              "      <td>2</td>\n",
              "      <td>405</td>\n",
              "      <td>16</td>\n",
              "      <td>C4</td>\n",
              "      <td>516 EAST 12TH   STREET</td>\n",
              "      <td></td>\n",
              "      <td>10009</td>\n",
              "      <td>20</td>\n",
              "      <td>0</td>\n",
              "      <td>20</td>\n",
              "      <td>2581.0</td>\n",
              "      <td>9730.0</td>\n",
              "      <td>1900</td>\n",
              "      <td>2</td>\n",
              "      <td>C4</td>\n",
              "      <td>20170720</td>\n",
              "    </tr>\n",
              "    <tr>\n",
              "      <th>7</th>\n",
              "      <td>1</td>\n",
              "      <td>ALPHABET CITY</td>\n",
              "      <td>07 RENTALS - WALKUP APARTMENTS</td>\n",
              "      <td>2</td>\n",
              "      <td>407</td>\n",
              "      <td>18</td>\n",
              "      <td>C7</td>\n",
              "      <td>520 EAST 14TH   STREET</td>\n",
              "      <td></td>\n",
              "      <td>10009</td>\n",
              "      <td>44</td>\n",
              "      <td>2</td>\n",
              "      <td>46</td>\n",
              "      <td>5163.0</td>\n",
              "      <td>21007.0</td>\n",
              "      <td>1900</td>\n",
              "      <td>2</td>\n",
              "      <td>C7</td>\n",
              "      <td>20170720</td>\n",
              "    </tr>\n",
              "    <tr>\n",
              "      <th>8</th>\n",
              "      <td>1</td>\n",
              "      <td>ALPHABET CITY</td>\n",
              "      <td>08 RENTALS - ELEVATOR APARTMENTS</td>\n",
              "      <td>2</td>\n",
              "      <td>379</td>\n",
              "      <td>34</td>\n",
              "      <td>D5</td>\n",
              "      <td>141 AVENUE D</td>\n",
              "      <td></td>\n",
              "      <td>10009</td>\n",
              "      <td>15</td>\n",
              "      <td>0</td>\n",
              "      <td>15</td>\n",
              "      <td>1534.0</td>\n",
              "      <td>9198.0</td>\n",
              "      <td>1920</td>\n",
              "      <td>2</td>\n",
              "      <td>D5</td>\n",
              "      <td>20170620</td>\n",
              "    </tr>\n",
              "  </tbody>\n",
              "</table>\n",
              "</div>"
            ],
            "text/plain": [
              "  BOROUGH   NEIGHBORHOOD  ... BUILDING CLASS AT TIME OF SALE SALE DATE\n",
              "1       1  ALPHABET CITY  ...                             C7  20161214\n",
              "2       1  ALPHABET CITY  ...                             C7  20161209\n",
              "5       1  ALPHABET CITY  ...                             C4  20170720\n",
              "7       1  ALPHABET CITY  ...                             C7  20170720\n",
              "8       1  ALPHABET CITY  ...                             D5  20170620\n",
              "\n",
              "[5 rows x 19 columns]"
            ]
          },
          "metadata": {
            "tags": []
          },
          "execution_count": 38
        }
      ]
    },
    {
      "cell_type": "markdown",
      "metadata": {
        "id": "Wnal5oAeNIG7",
        "colab_type": "text"
      },
      "source": [
        "Now Let's recap and revisit the details of the remaining dataset."
      ]
    },
    {
      "cell_type": "code",
      "metadata": {
        "id": "_y_fK8Pw70Bd",
        "colab_type": "code",
        "colab": {
          "base_uri": "https://localhost:8080/",
          "height": 974
        },
        "outputId": "0319b897-0f08-421d-8a83-4fc90acc6cc8"
      },
      "source": [
        "print(sale_house.shape)\n",
        "sale_house.head(10)"
      ],
      "execution_count": null,
      "outputs": [
        {
          "output_type": "stream",
          "text": [
            "(59595, 20)\n"
          ],
          "name": "stdout"
        },
        {
          "output_type": "execute_result",
          "data": {
            "text/html": [
              "<div>\n",
              "<style scoped>\n",
              "    .dataframe tbody tr th:only-of-type {\n",
              "        vertical-align: middle;\n",
              "    }\n",
              "\n",
              "    .dataframe tbody tr th {\n",
              "        vertical-align: top;\n",
              "    }\n",
              "\n",
              "    .dataframe thead th {\n",
              "        text-align: right;\n",
              "    }\n",
              "</style>\n",
              "<table border=\"1\" class=\"dataframe\">\n",
              "  <thead>\n",
              "    <tr style=\"text-align: right;\">\n",
              "      <th></th>\n",
              "      <th>BOROUGH</th>\n",
              "      <th>NEIGHBORHOOD</th>\n",
              "      <th>BUILDING CLASS CATEGORY</th>\n",
              "      <th>TAX CLASS AT PRESENT</th>\n",
              "      <th>BLOCK</th>\n",
              "      <th>LOT</th>\n",
              "      <th>BUILDING CLASS AT PRESENT</th>\n",
              "      <th>ADDRESS</th>\n",
              "      <th>APARTMENT NUMBER</th>\n",
              "      <th>ZIP CODE</th>\n",
              "      <th>RESIDENTIAL UNITS</th>\n",
              "      <th>COMMERCIAL UNITS</th>\n",
              "      <th>TOTAL UNITS</th>\n",
              "      <th>LAND SQUARE FEET</th>\n",
              "      <th>GROSS SQUARE FEET</th>\n",
              "      <th>YEAR BUILT</th>\n",
              "      <th>TAX CLASS AT TIME OF SALE</th>\n",
              "      <th>BUILDING CLASS AT TIME OF SALE</th>\n",
              "      <th>SALE PRICE</th>\n",
              "      <th>SALE DATE</th>\n",
              "    </tr>\n",
              "  </thead>\n",
              "  <tbody>\n",
              "    <tr>\n",
              "      <th>0</th>\n",
              "      <td>1</td>\n",
              "      <td>ALPHABET CITY</td>\n",
              "      <td>07 RENTALS - WALKUP APARTMENTS</td>\n",
              "      <td>2A</td>\n",
              "      <td>392</td>\n",
              "      <td>6</td>\n",
              "      <td>C2</td>\n",
              "      <td>153 AVENUE B</td>\n",
              "      <td></td>\n",
              "      <td>10009</td>\n",
              "      <td>5</td>\n",
              "      <td>0</td>\n",
              "      <td>5</td>\n",
              "      <td>1633.000000</td>\n",
              "      <td>6440.000000</td>\n",
              "      <td>1900</td>\n",
              "      <td>2</td>\n",
              "      <td>C2</td>\n",
              "      <td>6625000.0</td>\n",
              "      <td>20170719</td>\n",
              "    </tr>\n",
              "    <tr>\n",
              "      <th>3</th>\n",
              "      <td>1</td>\n",
              "      <td>ALPHABET CITY</td>\n",
              "      <td>07 RENTALS - WALKUP APARTMENTS</td>\n",
              "      <td>2B</td>\n",
              "      <td>402</td>\n",
              "      <td>21</td>\n",
              "      <td>C4</td>\n",
              "      <td>154 EAST 7TH STREET</td>\n",
              "      <td></td>\n",
              "      <td>10009</td>\n",
              "      <td>10</td>\n",
              "      <td>0</td>\n",
              "      <td>10</td>\n",
              "      <td>2272.000000</td>\n",
              "      <td>6794.000000</td>\n",
              "      <td>1913</td>\n",
              "      <td>2</td>\n",
              "      <td>C4</td>\n",
              "      <td>3936272.0</td>\n",
              "      <td>20160923</td>\n",
              "    </tr>\n",
              "    <tr>\n",
              "      <th>4</th>\n",
              "      <td>1</td>\n",
              "      <td>ALPHABET CITY</td>\n",
              "      <td>07 RENTALS - WALKUP APARTMENTS</td>\n",
              "      <td>2A</td>\n",
              "      <td>404</td>\n",
              "      <td>55</td>\n",
              "      <td>C2</td>\n",
              "      <td>301 EAST 10TH   STREET</td>\n",
              "      <td></td>\n",
              "      <td>10009</td>\n",
              "      <td>6</td>\n",
              "      <td>0</td>\n",
              "      <td>6</td>\n",
              "      <td>2369.000000</td>\n",
              "      <td>4615.000000</td>\n",
              "      <td>1900</td>\n",
              "      <td>2</td>\n",
              "      <td>C2</td>\n",
              "      <td>8000000.0</td>\n",
              "      <td>20161117</td>\n",
              "    </tr>\n",
              "    <tr>\n",
              "      <th>6</th>\n",
              "      <td>1</td>\n",
              "      <td>ALPHABET CITY</td>\n",
              "      <td>07 RENTALS - WALKUP APARTMENTS</td>\n",
              "      <td>2B</td>\n",
              "      <td>406</td>\n",
              "      <td>32</td>\n",
              "      <td>C4</td>\n",
              "      <td>210 AVENUE B</td>\n",
              "      <td></td>\n",
              "      <td>10009</td>\n",
              "      <td>8</td>\n",
              "      <td>0</td>\n",
              "      <td>8</td>\n",
              "      <td>1750.000000</td>\n",
              "      <td>4226.000000</td>\n",
              "      <td>1920</td>\n",
              "      <td>2</td>\n",
              "      <td>C4</td>\n",
              "      <td>3192840.0</td>\n",
              "      <td>20160923</td>\n",
              "    </tr>\n",
              "    <tr>\n",
              "      <th>9</th>\n",
              "      <td>1</td>\n",
              "      <td>ALPHABET CITY</td>\n",
              "      <td>08 RENTALS - ELEVATOR APARTMENTS</td>\n",
              "      <td>2</td>\n",
              "      <td>387</td>\n",
              "      <td>153</td>\n",
              "      <td>D9</td>\n",
              "      <td>629 EAST 5TH STREET</td>\n",
              "      <td></td>\n",
              "      <td>10009</td>\n",
              "      <td>24</td>\n",
              "      <td>0</td>\n",
              "      <td>24</td>\n",
              "      <td>4489.000000</td>\n",
              "      <td>18523.000000</td>\n",
              "      <td>1920</td>\n",
              "      <td>2</td>\n",
              "      <td>D9</td>\n",
              "      <td>16232000.0</td>\n",
              "      <td>20161107</td>\n",
              "    </tr>\n",
              "    <tr>\n",
              "      <th>11</th>\n",
              "      <td>1</td>\n",
              "      <td>ALPHABET CITY</td>\n",
              "      <td>08 RENTALS - ELEVATOR APARTMENTS</td>\n",
              "      <td>2B</td>\n",
              "      <td>400</td>\n",
              "      <td>21</td>\n",
              "      <td>D1</td>\n",
              "      <td>530-532 EAST 5TH STREET</td>\n",
              "      <td></td>\n",
              "      <td>10009</td>\n",
              "      <td>10</td>\n",
              "      <td>0</td>\n",
              "      <td>10</td>\n",
              "      <td>3717.000000</td>\n",
              "      <td>12350.000000</td>\n",
              "      <td>2009</td>\n",
              "      <td>2</td>\n",
              "      <td>D1</td>\n",
              "      <td>10350000.0</td>\n",
              "      <td>20161017</td>\n",
              "    </tr>\n",
              "    <tr>\n",
              "      <th>12</th>\n",
              "      <td>1</td>\n",
              "      <td>ALPHABET CITY</td>\n",
              "      <td>09 COOPS - WALKUP APARTMENTS</td>\n",
              "      <td>2</td>\n",
              "      <td>373</td>\n",
              "      <td>40</td>\n",
              "      <td>C6</td>\n",
              "      <td>327 EAST 3 STREET, 1C</td>\n",
              "      <td></td>\n",
              "      <td>10009</td>\n",
              "      <td>0</td>\n",
              "      <td>0</td>\n",
              "      <td>0</td>\n",
              "      <td>4035.581491</td>\n",
              "      <td>3891.650088</td>\n",
              "      <td>1920</td>\n",
              "      <td>2</td>\n",
              "      <td>C6</td>\n",
              "      <td>1.0</td>\n",
              "      <td>20160906</td>\n",
              "    </tr>\n",
              "    <tr>\n",
              "      <th>13</th>\n",
              "      <td>1</td>\n",
              "      <td>ALPHABET CITY</td>\n",
              "      <td>09 COOPS - WALKUP APARTMENTS</td>\n",
              "      <td>2</td>\n",
              "      <td>373</td>\n",
              "      <td>40</td>\n",
              "      <td>C6</td>\n",
              "      <td>327 EAST 3 STREET, 1C</td>\n",
              "      <td></td>\n",
              "      <td>10009</td>\n",
              "      <td>0</td>\n",
              "      <td>0</td>\n",
              "      <td>0</td>\n",
              "      <td>4035.581491</td>\n",
              "      <td>3891.650088</td>\n",
              "      <td>1920</td>\n",
              "      <td>2</td>\n",
              "      <td>C6</td>\n",
              "      <td>499000.0</td>\n",
              "      <td>20170310</td>\n",
              "    </tr>\n",
              "    <tr>\n",
              "      <th>14</th>\n",
              "      <td>1</td>\n",
              "      <td>ALPHABET CITY</td>\n",
              "      <td>09 COOPS - WALKUP APARTMENTS</td>\n",
              "      <td>2</td>\n",
              "      <td>373</td>\n",
              "      <td>40</td>\n",
              "      <td>C6</td>\n",
              "      <td>327 EAST 3 STREET, 3A</td>\n",
              "      <td></td>\n",
              "      <td>10009</td>\n",
              "      <td>0</td>\n",
              "      <td>0</td>\n",
              "      <td>0</td>\n",
              "      <td>4035.581491</td>\n",
              "      <td>3891.650088</td>\n",
              "      <td>1920</td>\n",
              "      <td>2</td>\n",
              "      <td>C6</td>\n",
              "      <td>10.0</td>\n",
              "      <td>20170428</td>\n",
              "    </tr>\n",
              "    <tr>\n",
              "      <th>15</th>\n",
              "      <td>1</td>\n",
              "      <td>ALPHABET CITY</td>\n",
              "      <td>09 COOPS - WALKUP APARTMENTS</td>\n",
              "      <td>2</td>\n",
              "      <td>373</td>\n",
              "      <td>40</td>\n",
              "      <td>C6</td>\n",
              "      <td>327 EAST 3RD STREET, 5A</td>\n",
              "      <td></td>\n",
              "      <td>10009</td>\n",
              "      <td>0</td>\n",
              "      <td>0</td>\n",
              "      <td>0</td>\n",
              "      <td>4035.581491</td>\n",
              "      <td>3891.650088</td>\n",
              "      <td>1920</td>\n",
              "      <td>2</td>\n",
              "      <td>C6</td>\n",
              "      <td>529500.0</td>\n",
              "      <td>20170609</td>\n",
              "    </tr>\n",
              "  </tbody>\n",
              "</table>\n",
              "</div>"
            ],
            "text/plain": [
              "   BOROUGH   NEIGHBORHOOD  ...  SALE PRICE SALE DATE\n",
              "0        1  ALPHABET CITY  ...   6625000.0  20170719\n",
              "3        1  ALPHABET CITY  ...   3936272.0  20160923\n",
              "4        1  ALPHABET CITY  ...   8000000.0  20161117\n",
              "6        1  ALPHABET CITY  ...   3192840.0  20160923\n",
              "9        1  ALPHABET CITY  ...  16232000.0  20161107\n",
              "11       1  ALPHABET CITY  ...  10350000.0  20161017\n",
              "12       1  ALPHABET CITY  ...         1.0  20160906\n",
              "13       1  ALPHABET CITY  ...    499000.0  20170310\n",
              "14       1  ALPHABET CITY  ...        10.0  20170428\n",
              "15       1  ALPHABET CITY  ...    529500.0  20170609\n",
              "\n",
              "[10 rows x 20 columns]"
            ]
          },
          "metadata": {
            "tags": []
          },
          "execution_count": 39
        }
      ]
    },
    {
      "cell_type": "code",
      "metadata": {
        "id": "OP5UYq4fOx_9",
        "colab_type": "code",
        "colab": {
          "base_uri": "https://localhost:8080/",
          "height": 351
        },
        "outputId": "f0ad0a18-a960-4fb3-e5b0-59e77539f79c"
      },
      "source": [
        "sale_house.describe()"
      ],
      "execution_count": null,
      "outputs": [
        {
          "output_type": "execute_result",
          "data": {
            "text/html": [
              "<div>\n",
              "<style scoped>\n",
              "    .dataframe tbody tr th:only-of-type {\n",
              "        vertical-align: middle;\n",
              "    }\n",
              "\n",
              "    .dataframe tbody tr th {\n",
              "        vertical-align: top;\n",
              "    }\n",
              "\n",
              "    .dataframe thead th {\n",
              "        text-align: right;\n",
              "    }\n",
              "</style>\n",
              "<table border=\"1\" class=\"dataframe\">\n",
              "  <thead>\n",
              "    <tr style=\"text-align: right;\">\n",
              "      <th></th>\n",
              "      <th>BLOCK</th>\n",
              "      <th>LOT</th>\n",
              "      <th>ZIP CODE</th>\n",
              "      <th>RESIDENTIAL UNITS</th>\n",
              "      <th>COMMERCIAL UNITS</th>\n",
              "      <th>TOTAL UNITS</th>\n",
              "      <th>LAND SQUARE FEET</th>\n",
              "      <th>GROSS SQUARE FEET</th>\n",
              "      <th>YEAR BUILT</th>\n",
              "      <th>TAX CLASS AT TIME OF SALE</th>\n",
              "      <th>SALE PRICE</th>\n",
              "      <th>SALE DATE</th>\n",
              "    </tr>\n",
              "  </thead>\n",
              "  <tbody>\n",
              "    <tr>\n",
              "      <th>count</th>\n",
              "      <td>59595.000000</td>\n",
              "      <td>59595.000000</td>\n",
              "      <td>59595.000000</td>\n",
              "      <td>59595.000000</td>\n",
              "      <td>59595.000000</td>\n",
              "      <td>59595.000000</td>\n",
              "      <td>5.959500e+04</td>\n",
              "      <td>5.959500e+04</td>\n",
              "      <td>59595.000000</td>\n",
              "      <td>59595.000000</td>\n",
              "      <td>5.959500e+04</td>\n",
              "      <td>5.959500e+04</td>\n",
              "    </tr>\n",
              "    <tr>\n",
              "      <th>mean</th>\n",
              "      <td>4154.698716</td>\n",
              "      <td>390.863864</td>\n",
              "      <td>10706.268529</td>\n",
              "      <td>1.721671</td>\n",
              "      <td>0.154023</td>\n",
              "      <td>1.887927</td>\n",
              "      <td>3.812022e+03</td>\n",
              "      <td>3.597314e+03</td>\n",
              "      <td>1810.145264</td>\n",
              "      <td>1.627972</td>\n",
              "      <td>1.495862e+06</td>\n",
              "      <td>2.016728e+07</td>\n",
              "    </tr>\n",
              "    <tr>\n",
              "      <th>std</th>\n",
              "      <td>3569.531348</td>\n",
              "      <td>670.551351</td>\n",
              "      <td>1264.707637</td>\n",
              "      <td>14.109692</td>\n",
              "      <td>9.670540</td>\n",
              "      <td>17.212224</td>\n",
              "      <td>3.555350e+04</td>\n",
              "      <td>2.372817e+04</td>\n",
              "      <td>505.618047</td>\n",
              "      <td>0.703273</td>\n",
              "      <td>1.234024e+07</td>\n",
              "      <td>4.455825e+03</td>\n",
              "    </tr>\n",
              "    <tr>\n",
              "      <th>min</th>\n",
              "      <td>1.000000</td>\n",
              "      <td>1.000000</td>\n",
              "      <td>0.000000</td>\n",
              "      <td>0.000000</td>\n",
              "      <td>0.000000</td>\n",
              "      <td>0.000000</td>\n",
              "      <td>0.000000e+00</td>\n",
              "      <td>0.000000e+00</td>\n",
              "      <td>0.000000</td>\n",
              "      <td>1.000000</td>\n",
              "      <td>1.000000e+00</td>\n",
              "      <td>2.016090e+07</td>\n",
              "    </tr>\n",
              "    <tr>\n",
              "      <th>25%</th>\n",
              "      <td>1279.000000</td>\n",
              "      <td>21.000000</td>\n",
              "      <td>10301.000000</td>\n",
              "      <td>0.000000</td>\n",
              "      <td>0.000000</td>\n",
              "      <td>0.000000</td>\n",
              "      <td>2.000000e+03</td>\n",
              "      <td>1.300000e+03</td>\n",
              "      <td>1920.000000</td>\n",
              "      <td>1.000000</td>\n",
              "      <td>3.700000e+05</td>\n",
              "      <td>2.016120e+07</td>\n",
              "    </tr>\n",
              "    <tr>\n",
              "      <th>50%</th>\n",
              "      <td>3170.000000</td>\n",
              "      <td>50.000000</td>\n",
              "      <td>11207.000000</td>\n",
              "      <td>1.000000</td>\n",
              "      <td>0.000000</td>\n",
              "      <td>1.000000</td>\n",
              "      <td>3.680000e+03</td>\n",
              "      <td>2.527000e+03</td>\n",
              "      <td>1940.000000</td>\n",
              "      <td>2.000000</td>\n",
              "      <td>6.280000e+05</td>\n",
              "      <td>2.017030e+07</td>\n",
              "    </tr>\n",
              "    <tr>\n",
              "      <th>75%</th>\n",
              "      <td>6111.500000</td>\n",
              "      <td>1002.000000</td>\n",
              "      <td>11357.000000</td>\n",
              "      <td>2.000000</td>\n",
              "      <td>0.000000</td>\n",
              "      <td>2.000000</td>\n",
              "      <td>4.035581e+03</td>\n",
              "      <td>3.891650e+03</td>\n",
              "      <td>1966.000000</td>\n",
              "      <td>2.000000</td>\n",
              "      <td>1.075000e+06</td>\n",
              "      <td>2.017060e+07</td>\n",
              "    </tr>\n",
              "    <tr>\n",
              "      <th>max</th>\n",
              "      <td>16319.000000</td>\n",
              "      <td>9106.000000</td>\n",
              "      <td>11694.000000</td>\n",
              "      <td>1844.000000</td>\n",
              "      <td>2261.000000</td>\n",
              "      <td>2261.000000</td>\n",
              "      <td>4.252327e+06</td>\n",
              "      <td>3.750565e+06</td>\n",
              "      <td>2017.000000</td>\n",
              "      <td>4.000000</td>\n",
              "      <td>2.210000e+09</td>\n",
              "      <td>2.017083e+07</td>\n",
              "    </tr>\n",
              "  </tbody>\n",
              "</table>\n",
              "</div>"
            ],
            "text/plain": [
              "              BLOCK           LOT  ...    SALE PRICE     SALE DATE\n",
              "count  59595.000000  59595.000000  ...  5.959500e+04  5.959500e+04\n",
              "mean    4154.698716    390.863864  ...  1.495862e+06  2.016728e+07\n",
              "std     3569.531348    670.551351  ...  1.234024e+07  4.455825e+03\n",
              "min        1.000000      1.000000  ...  1.000000e+00  2.016090e+07\n",
              "25%     1279.000000     21.000000  ...  3.700000e+05  2.016120e+07\n",
              "50%     3170.000000     50.000000  ...  6.280000e+05  2.017030e+07\n",
              "75%     6111.500000   1002.000000  ...  1.075000e+06  2.017060e+07\n",
              "max    16319.000000   9106.000000  ...  2.210000e+09  2.017083e+07\n",
              "\n",
              "[8 rows x 12 columns]"
            ]
          },
          "metadata": {
            "tags": []
          },
          "execution_count": 40
        }
      ]
    },
    {
      "cell_type": "markdown",
      "metadata": {
        "id": "em3V3l818Kxy",
        "colab_type": "text"
      },
      "source": [
        "According to the above chart, we can observe that \n",
        "\n",
        "1) The min value for ZIP CODE is 0, we don't have ZIP CODE that equals to 0\n",
        "\n",
        "2) The Building Year of some properties are 0, this should be incorrect as well.\n",
        "\n",
        "3) Some properties have 0 SQUARE FEET...\n",
        "\n",
        "Let's fix them\n",
        "\n",
        "####TODO"
      ]
    },
    {
      "cell_type": "markdown",
      "metadata": {
        "id": "nLKmBT8ri_kX",
        "colab_type": "text"
      },
      "source": [
        "ZIP CODE"
      ]
    },
    {
      "cell_type": "code",
      "metadata": {
        "id": "MsR7OfLejGWJ",
        "colab_type": "code",
        "colab": {
          "base_uri": "https://localhost:8080/",
          "height": 516
        },
        "outputId": "70085dbd-e6eb-4f78-a566-8227df2cefe0"
      },
      "source": [
        "plt.figure(figsize=(10,8))\n",
        "plt.title(' ZIP CODE ')\n",
        "plt.xlim(0,12000)\n",
        "\n",
        "sale_house['ZIP CODE'].value_counts().sort_index().plot.line()"
      ],
      "execution_count": null,
      "outputs": [
        {
          "output_type": "execute_result",
          "data": {
            "text/plain": [
              "<matplotlib.axes._subplots.AxesSubplot at 0x7f109a868160>"
            ]
          },
          "metadata": {
            "tags": []
          },
          "execution_count": 41
        },
        {
          "output_type": "display_data",
          "data": {
            "image/png": "[encoded data removed]",
            "text/plain": [
              "<Figure size 720x576 with 1 Axes>"
            ]
          },
          "metadata": {
            "tags": [],
            "needs_background": "light"
          }
        }
      ]
    },
    {
      "cell_type": "code",
      "metadata": {
        "id": "q8WV6zVej4-_",
        "colab_type": "code",
        "colab": {}
      },
      "source": [
        "sale_house = sale_house[(sale_house['ZIP CODE'] != 0)]"
      ],
      "execution_count": null,
      "outputs": []
    },
    {
      "cell_type": "code",
      "metadata": {
        "id": "3IOsH6YtkYrR",
        "colab_type": "code",
        "colab": {
          "base_uri": "https://localhost:8080/",
          "height": 286
        },
        "outputId": "051f2df6-c405-4969-d075-f03c68922a1a"
      },
      "source": [
        "sale_house['ZIP CODE'].value_counts().sort_index().plot.line()"
      ],
      "execution_count": null,
      "outputs": [
        {
          "output_type": "execute_result",
          "data": {
            "text/plain": [
              "<matplotlib.axes._subplots.AxesSubplot at 0x7f109a7ed320>"
            ]
          },
          "metadata": {
            "tags": []
          },
          "execution_count": 43
        },
        {
          "output_type": "display_data",
          "data": {
            "image/png": "[encoded data removed]",
            "text/plain": [
              "<Figure size 432x288 with 1 Axes>"
            ]
          },
          "metadata": {
            "tags": [],
            "needs_background": "light"
          }
        }
      ]
    },
    {
      "cell_type": "markdown",
      "metadata": {
        "id": "ElMJbcRSc7ra",
        "colab_type": "text"
      },
      "source": [
        "BUILDING YEAR "
      ]
    },
    {
      "cell_type": "code",
      "metadata": {
        "id": "OcCfBJo6dCUZ",
        "colab_type": "code",
        "colab": {
          "base_uri": "https://localhost:8080/",
          "height": 516
        },
        "outputId": "774a6e8e-12ef-4d09-a870-5670167375fc"
      },
      "source": [
        "plt.figure(figsize=(10,8))\n",
        "plt.title(' Year Built ')\n",
        "plt.xlim(1500,2020)\n",
        "\n",
        "sale_house['YEAR BUILT'].value_counts().sort_index().plot.line()"
      ],
      "execution_count": null,
      "outputs": [
        {
          "output_type": "execute_result",
          "data": {
            "text/plain": [
              "<matplotlib.axes._subplots.AxesSubplot at 0x7f109a7571d0>"
            ]
          },
          "metadata": {
            "tags": []
          },
          "execution_count": 44
        },
        {
          "output_type": "display_data",
          "data": {
            "image/png": "[encoded data removed]",
            "text/plain": [
              "<Figure size 720x576 with 1 Axes>"
            ]
          },
          "metadata": {
            "tags": [],
            "needs_background": "light"
          }
        }
      ]
    },
    {
      "cell_type": "code",
      "metadata": {
        "id": "ua6tt2U2gLFL",
        "colab_type": "code",
        "colab": {}
      },
      "source": [
        "sale_house = sale_house[(sale_house['YEAR BUILT'] > 1875)]"
      ],
      "execution_count": null,
      "outputs": []
    },
    {
      "cell_type": "code",
      "metadata": {
        "id": "ibyJ9XSJiXXK",
        "colab_type": "code",
        "colab": {
          "base_uri": "https://localhost:8080/",
          "height": 282
        },
        "outputId": "1b12f1cd-4fbe-44d7-9dc8-7002349eaf0f"
      },
      "source": [
        "sale_house['YEAR BUILT'].value_counts().sort_index().plot.line()"
      ],
      "execution_count": null,
      "outputs": [
        {
          "output_type": "execute_result",
          "data": {
            "text/plain": [
              "<matplotlib.axes._subplots.AxesSubplot at 0x7f109a766978>"
            ]
          },
          "metadata": {
            "tags": []
          },
          "execution_count": 46
        },
        {
          "output_type": "display_data",
          "data": {
            "image/png": "[encoded data removed]",
            "text/plain": [
              "<Figure size 432x288 with 1 Axes>"
            ]
          },
          "metadata": {
            "tags": [],
            "needs_background": "light"
          }
        }
      ]
    },
    {
      "cell_type": "markdown",
      "metadata": {
        "id": "m6vleZKW9UK1",
        "colab_type": "text"
      },
      "source": [
        "Finally, it's time check the outliers in our datasets, let's first look into the column sale price.\n",
        "\n",
        "####SALE PRICE"
      ]
    },
    {
      "cell_type": "code",
      "metadata": {
        "id": "5LPz59-c9dlc",
        "colab_type": "code",
        "colab": {
          "base_uri": "https://localhost:8080/",
          "height": 350
        },
        "outputId": "72c0d058-b2ec-4b92-98ff-f372fc2aabe6"
      },
      "source": [
        "plt.figure(figsize=(10,5))\n",
        "\n",
        "sns.boxplot(x='SALE PRICE', data=sale_house)\n",
        "plt.ticklabel_format(style='plain', axis='x')\n",
        "plt.title('SALE PRICE in USD')\n",
        "plt.show()"
      ],
      "execution_count": null,
      "outputs": [
        {
          "output_type": "display_data",
          "data": {
            "image/png": "[encoded data removed]",
            "text/plain": [
              "<Figure size 720x360 with 1 Axes>"
            ]
          },
          "metadata": {
            "tags": [],
            "needs_background": "light"
          }
        }
      ]
    },
    {
      "cell_type": "code",
      "metadata": {
        "id": "Y42-Cfcn9nfj",
        "colab_type": "code",
        "colab": {}
      },
      "source": [
        "sale_house = sale_house[(sale_house['SALE PRICE'] > 0) & (sale_house['SALE PRICE'] < 500000000)] \n"
      ],
      "execution_count": null,
      "outputs": []
    },
    {
      "cell_type": "code",
      "metadata": {
        "id": "4RlLJs9__bwD",
        "colab_type": "code",
        "colab": {
          "base_uri": "https://localhost:8080/",
          "height": 307
        },
        "outputId": "4c2e4468-07bf-4507-b494-935d88996a83"
      },
      "source": [
        "sns.distplot(sale_house['SALE PRICE'])\n"
      ],
      "execution_count": null,
      "outputs": [
        {
          "output_type": "execute_result",
          "data": {
            "text/plain": [
              "<matplotlib.axes._subplots.AxesSubplot at 0x7f109a694128>"
            ]
          },
          "metadata": {
            "tags": []
          },
          "execution_count": 49
        },
        {
          "output_type": "display_data",
          "data": {
            "image/png": "[encoded data removed]",
            "text/plain": [
              "<Figure size 432x288 with 1 Axes>"
            ]
          },
          "metadata": {
            "tags": [],
            "needs_background": "light"
          }
        }
      ]
    },
    {
      "cell_type": "code",
      "metadata": {
        "id": "vcsEPct4_kPP",
        "colab_type": "code",
        "colab": {}
      },
      "source": [
        "sale_house = sale_house[(sale_house['SALE PRICE'] > 0) & (sale_house['SALE PRICE'] < 5000000)]\n"
      ],
      "execution_count": null,
      "outputs": []
    },
    {
      "cell_type": "code",
      "metadata": {
        "id": "9h9dHhas_skG",
        "colab_type": "code",
        "colab": {
          "base_uri": "https://localhost:8080/",
          "height": 307
        },
        "outputId": "009172fb-6f91-40f4-cfa7-41b34669ce8e"
      },
      "source": [
        "sns.distplot(sale_house['SALE PRICE'])\n"
      ],
      "execution_count": null,
      "outputs": [
        {
          "output_type": "execute_result",
          "data": {
            "text/plain": [
              "<matplotlib.axes._subplots.AxesSubplot at 0x7f109a690898>"
            ]
          },
          "metadata": {
            "tags": []
          },
          "execution_count": 51
        },
        {
          "output_type": "display_data",
          "data": {
            "image/png": "[encoded data removed]",
            "text/plain": [
              "<Figure size 432x288 with 1 Axes>"
            ]
          },
          "metadata": {
            "tags": [],
            "needs_background": "light"
          }
        }
      ]
    },
    {
      "cell_type": "markdown",
      "metadata": {
        "id": "k9UfItZ5_9u8",
        "colab_type": "text"
      },
      "source": [
        "####SQUARE FEET"
      ]
    },
    {
      "cell_type": "code",
      "metadata": {
        "id": "cKNAb2HFAQb8",
        "colab_type": "code",
        "colab": {
          "base_uri": "https://localhost:8080/",
          "height": 798
        },
        "outputId": "400d0b4c-b011-4e26-da53-e90b80457a59"
      },
      "source": [
        "sale_house = sale_house[sale_house['GROSS SQUARE FEET'] < 10000]\n",
        "sale_house = sale_house[sale_house['LAND SQUARE FEET'] < 10000]\n",
        "\n",
        "plt.figure(figsize=(10,6))\n",
        "sns.regplot(x='GROSS SQUARE FEET', y='SALE PRICE', data=sale_house, fit_reg=False, scatter_kws={'alpha':0.3})\n",
        "\n",
        "plt.figure(figsize=(10,6))\n",
        "sns.regplot(x='LAND SQUARE FEET', y='SALE PRICE', data=sale_house, fit_reg=False, scatter_kws={'alpha':0.3})"
      ],
      "execution_count": null,
      "outputs": [
        {
          "output_type": "execute_result",
          "data": {
            "text/plain": [
              "<matplotlib.axes._subplots.AxesSubplot at 0x7f109a5c1550>"
            ]
          },
          "metadata": {
            "tags": []
          },
          "execution_count": 52
        },
        {
          "output_type": "display_data",
          "data": {
            "image/png": "[encoded data removed]",
            "text/plain": [
              "<Figure size 720x432 with 1 Axes>"
            ]
          },
          "metadata": {
            "tags": [],
            "needs_background": "light"
          }
        },
        {
          "output_type": "display_data",
          "data": {
            "image/png": "[encoded data removed]",
            "text/plain": [
              "<Figure size 720x432 with 1 Axes>"
            ]
          },
          "metadata": {
            "tags": [],
            "needs_background": "light"
          }
        }
      ]
    },
    {
      "cell_type": "markdown",
      "metadata": {
        "id": "CilCOp1OAx5W",
        "colab_type": "text"
      },
      "source": [
        "####UNIT NUMBER"
      ]
    },
    {
      "cell_type": "code",
      "metadata": {
        "id": "SBWj9jY8AVOn",
        "colab_type": "code",
        "colab": {
          "base_uri": "https://localhost:8080/",
          "height": 700
        },
        "outputId": "f3381252-5018-4098-e65c-81535c390d36"
      },
      "source": [
        "sale_house[[\"TOTAL UNITS\", \"SALE PRICE\"]].groupby(['TOTAL UNITS'], as_index=False).count().sort_values(by='SALE PRICE', ascending=False)"
      ],
      "execution_count": null,
      "outputs": [
        {
          "output_type": "execute_result",
          "data": {
            "text/html": [
              "<div>\n",
              "<style scoped>\n",
              "    .dataframe tbody tr th:only-of-type {\n",
              "        vertical-align: middle;\n",
              "    }\n",
              "\n",
              "    .dataframe tbody tr th {\n",
              "        vertical-align: top;\n",
              "    }\n",
              "\n",
              "    .dataframe thead th {\n",
              "        text-align: right;\n",
              "    }\n",
              "</style>\n",
              "<table border=\"1\" class=\"dataframe\">\n",
              "  <thead>\n",
              "    <tr style=\"text-align: right;\">\n",
              "      <th></th>\n",
              "      <th>TOTAL UNITS</th>\n",
              "      <th>SALE PRICE</th>\n",
              "    </tr>\n",
              "  </thead>\n",
              "  <tbody>\n",
              "    <tr>\n",
              "      <th>1</th>\n",
              "      <td>1</td>\n",
              "      <td>22984</td>\n",
              "    </tr>\n",
              "    <tr>\n",
              "      <th>0</th>\n",
              "      <td>0</td>\n",
              "      <td>14781</td>\n",
              "    </tr>\n",
              "    <tr>\n",
              "      <th>2</th>\n",
              "      <td>2</td>\n",
              "      <td>9964</td>\n",
              "    </tr>\n",
              "    <tr>\n",
              "      <th>3</th>\n",
              "      <td>3</td>\n",
              "      <td>2889</td>\n",
              "    </tr>\n",
              "    <tr>\n",
              "      <th>4</th>\n",
              "      <td>4</td>\n",
              "      <td>741</td>\n",
              "    </tr>\n",
              "    <tr>\n",
              "      <th>6</th>\n",
              "      <td>6</td>\n",
              "      <td>377</td>\n",
              "    </tr>\n",
              "    <tr>\n",
              "      <th>5</th>\n",
              "      <td>5</td>\n",
              "      <td>181</td>\n",
              "    </tr>\n",
              "    <tr>\n",
              "      <th>8</th>\n",
              "      <td>8</td>\n",
              "      <td>141</td>\n",
              "    </tr>\n",
              "    <tr>\n",
              "      <th>7</th>\n",
              "      <td>7</td>\n",
              "      <td>74</td>\n",
              "    </tr>\n",
              "    <tr>\n",
              "      <th>9</th>\n",
              "      <td>9</td>\n",
              "      <td>58</td>\n",
              "    </tr>\n",
              "    <tr>\n",
              "      <th>10</th>\n",
              "      <td>10</td>\n",
              "      <td>50</td>\n",
              "    </tr>\n",
              "    <tr>\n",
              "      <th>12</th>\n",
              "      <td>12</td>\n",
              "      <td>17</td>\n",
              "    </tr>\n",
              "    <tr>\n",
              "      <th>11</th>\n",
              "      <td>11</td>\n",
              "      <td>12</td>\n",
              "    </tr>\n",
              "    <tr>\n",
              "      <th>16</th>\n",
              "      <td>16</td>\n",
              "      <td>10</td>\n",
              "    </tr>\n",
              "    <tr>\n",
              "      <th>13</th>\n",
              "      <td>13</td>\n",
              "      <td>5</td>\n",
              "    </tr>\n",
              "    <tr>\n",
              "      <th>14</th>\n",
              "      <td>14</td>\n",
              "      <td>5</td>\n",
              "    </tr>\n",
              "    <tr>\n",
              "      <th>15</th>\n",
              "      <td>15</td>\n",
              "      <td>5</td>\n",
              "    </tr>\n",
              "    <tr>\n",
              "      <th>17</th>\n",
              "      <td>18</td>\n",
              "      <td>2</td>\n",
              "    </tr>\n",
              "    <tr>\n",
              "      <th>18</th>\n",
              "      <td>19</td>\n",
              "      <td>1</td>\n",
              "    </tr>\n",
              "    <tr>\n",
              "      <th>19</th>\n",
              "      <td>20</td>\n",
              "      <td>1</td>\n",
              "    </tr>\n",
              "    <tr>\n",
              "      <th>20</th>\n",
              "      <td>2261</td>\n",
              "      <td>1</td>\n",
              "    </tr>\n",
              "  </tbody>\n",
              "</table>\n",
              "</div>"
            ],
            "text/plain": [
              "    TOTAL UNITS  SALE PRICE\n",
              "1             1       22984\n",
              "0             0       14781\n",
              "2             2        9964\n",
              "3             3        2889\n",
              "4             4         741\n",
              "6             6         377\n",
              "5             5         181\n",
              "8             8         141\n",
              "7             7          74\n",
              "9             9          58\n",
              "10           10          50\n",
              "12           12          17\n",
              "11           11          12\n",
              "16           16          10\n",
              "13           13           5\n",
              "14           14           5\n",
              "15           15           5\n",
              "17           18           2\n",
              "18           19           1\n",
              "19           20           1\n",
              "20         2261           1"
            ]
          },
          "metadata": {
            "tags": []
          },
          "execution_count": 53
        }
      ]
    },
    {
      "cell_type": "code",
      "metadata": {
        "id": "wLs9YzluA3pX",
        "colab_type": "code",
        "colab": {}
      },
      "source": [
        "sale_house = sale_house[(sale_house['TOTAL UNITS'] > 0) & (sale_house['TOTAL UNITS'] != 2261)] \n"
      ],
      "execution_count": null,
      "outputs": []
    },
    {
      "cell_type": "code",
      "metadata": {
        "id": "tY2u_0RMA-_F",
        "colab_type": "code",
        "colab": {
          "base_uri": "https://localhost:8080/",
          "height": 404
        },
        "outputId": "d31a6289-f28c-4b6a-d9c3-0d55be901cbc"
      },
      "source": [
        "plt.figure(figsize=(10,6))\n",
        "sns.boxplot(x='TOTAL UNITS', y='SALE PRICE', data=sale_house)\n",
        "plt.title('Total Units vs Sale Price')\n",
        "plt.show()"
      ],
      "execution_count": null,
      "outputs": [
        {
          "output_type": "display_data",
          "data": {
            "image/png": "[encoded data removed]",
            "text/plain": [
              "<Figure size 720x432 with 1 Axes>"
            ]
          },
          "metadata": {
            "tags": [],
            "needs_background": "light"
          }
        }
      ]
    },
    {
      "cell_type": "markdown",
      "metadata": {
        "id": "jzTyJ11ic3ys",
        "colab_type": "text"
      },
      "source": [
        "#2) Preparation"
      ]
    },
    {
      "cell_type": "code",
      "metadata": {
        "id": "glwjK_96BTTT",
        "colab_type": "code",
        "colab": {
          "base_uri": "https://localhost:8080/",
          "height": 34
        },
        "outputId": "2eb84527-4333-4eb2-852d-864daafefae6"
      },
      "source": [
        "#\"Apartment Number\" only has few values, so we are going to drop it.\n",
        "print(\"The percent of rows with null in apartment number:\" +str(sum(df['APARTMENT NUMBER']==' ')/len(df)))\n",
        "del sale_house['APARTMENT NUMBER']\n",
        "del sale_house['ADDRESS']\n",
        "\n",
        "del sale_house['NEIGHBORHOOD']\n",
        "del sale_house['BUILDING CLASS AT PRESENT']\n",
        "del sale_house['BUILDING CLASS AT TIME OF SALE']"
      ],
      "execution_count": null,
      "outputs": [
        {
          "output_type": "stream",
          "text": [
            "The percent of rows with null in apartment number:0.7702484716216399\n"
          ],
          "name": "stdout"
        }
      ]
    },
    {
      "cell_type": "code",
      "metadata": {
        "id": "fIuac0OuPMs-",
        "colab_type": "code",
        "colab": {
          "base_uri": "https://localhost:8080/",
          "height": 852
        },
        "outputId": "0166be54-b93b-4955-e41a-411686eadeaf"
      },
      "source": [
        "cor = sale_house.corr()\n",
        "fig, ax = plt.subplots(figsize=(12,12))\n",
        "sns.heatmap(cor,annot=True, ax = ax)"
      ],
      "execution_count": null,
      "outputs": [
        {
          "output_type": "execute_result",
          "data": {
            "text/plain": [
              "<matplotlib.axes._subplots.AxesSubplot at 0x7f1098b9ad30>"
            ]
          },
          "metadata": {
            "tags": []
          },
          "execution_count": 57
        },
        {
          "output_type": "display_data",
          "data": {
            "image/png": "[encoded data removed]",
            "text/plain": [
              "<Figure size 864x864 with 2 Axes>"
            ]
          },
          "metadata": {
            "tags": [],
            "needs_background": "light"
          }
        }
      ]
    },
    {
      "cell_type": "markdown",
      "metadata": {
        "id": "4TeZJpNBddbW",
        "colab_type": "text"
      },
      "source": [
        "Removing highing correlated independent variable from datasets."
      ]
    },
    {
      "cell_type": "code",
      "metadata": {
        "id": "JpRlhINndvj4",
        "colab_type": "code",
        "colab": {}
      },
      "source": [
        "# sale_house.drop(['RESIDENTIAL UNITS','GROSS SQUARE FEET',],inplace=True, axis=1)\n",
        "# sale_house.head()"
      ],
      "execution_count": null,
      "outputs": []
    },
    {
      "cell_type": "code",
      "metadata": {
        "id": "s2OQJ0MXd1IS",
        "colab_type": "code",
        "colab": {}
      },
      "source": [
        "#one hot encoded\n",
        "#https://machinelearningmastery.com/why-one-hot-encode-data-in-machine-learning/\n",
        "one_hot_features = ['BOROUGH', 'BUILDING CLASS CATEGORY','TAX CLASS AT PRESENT','TAX CLASS AT TIME OF SALE']"
      ],
      "execution_count": null,
      "outputs": []
    },
    {
      "cell_type": "code",
      "metadata": {
        "id": "KT9VYrsWd5qy",
        "colab_type": "code",
        "colab": {
          "base_uri": "https://localhost:8080/",
          "height": 1000
        },
        "outputId": "9a6107ca-2057-4a0f-9fbb-75e9d9474f0c"
      },
      "source": [
        "# Convert categorical variables into dummy/indicator variables (i.e. one-hot encoding).\n",
        "one_hot_encoded = pd.get_dummies(sale_house[one_hot_features])\n",
        "one_hot_encoded.info(verbose=True, memory_usage=True, null_counts=True)"
      ],
      "execution_count": null,
      "outputs": [
        {
          "output_type": "stream",
          "text": [
            "<class 'pandas.core.frame.DataFrame'>\n",
            "Int64Index: 37517 entries, 3 to 84545\n",
            "Data columns (total 56 columns):\n",
            " #   Column                                                                Non-Null Count  Dtype\n",
            "---  ------                                                                --------------  -----\n",
            " 0   TAX CLASS AT TIME OF SALE                                             37517 non-null  int64\n",
            " 1   BOROUGH_1                                                             37517 non-null  uint8\n",
            " 2   BOROUGH_2                                                             37517 non-null  uint8\n",
            " 3   BOROUGH_3                                                             37517 non-null  uint8\n",
            " 4   BOROUGH_4                                                             37517 non-null  uint8\n",
            " 5   BOROUGH_5                                                             37517 non-null  uint8\n",
            " 6   BUILDING CLASS CATEGORY_01 ONE FAMILY DWELLINGS                       37517 non-null  uint8\n",
            " 7   BUILDING CLASS CATEGORY_02 TWO FAMILY DWELLINGS                       37517 non-null  uint8\n",
            " 8   BUILDING CLASS CATEGORY_03 THREE FAMILY DWELLINGS                     37517 non-null  uint8\n",
            " 9   BUILDING CLASS CATEGORY_04 TAX CLASS 1 CONDOS                         37517 non-null  uint8\n",
            " 10  BUILDING CLASS CATEGORY_05 TAX CLASS 1 VACANT LAND                    37517 non-null  uint8\n",
            " 11  BUILDING CLASS CATEGORY_06 TAX CLASS 1 - OTHER                        37517 non-null  uint8\n",
            " 12  BUILDING CLASS CATEGORY_07 RENTALS - WALKUP APARTMENTS                37517 non-null  uint8\n",
            " 13  BUILDING CLASS CATEGORY_08 RENTALS - ELEVATOR APARTMENTS              37517 non-null  uint8\n",
            " 14  BUILDING CLASS CATEGORY_09 COOPS - WALKUP APARTMENTS                  37517 non-null  uint8\n",
            " 15  BUILDING CLASS CATEGORY_11A CONDO-RENTALS                             37517 non-null  uint8\n",
            " 16  BUILDING CLASS CATEGORY_12 CONDOS - WALKUP APARTMENTS                 37517 non-null  uint8\n",
            " 17  BUILDING CLASS CATEGORY_13 CONDOS - ELEVATOR APARTMENTS               37517 non-null  uint8\n",
            " 18  BUILDING CLASS CATEGORY_14 RENTALS - 4-10 UNIT                        37517 non-null  uint8\n",
            " 19  BUILDING CLASS CATEGORY_15 CONDOS - 2-10 UNIT RESIDENTIAL             37517 non-null  uint8\n",
            " 20  BUILDING CLASS CATEGORY_16 CONDOS - 2-10 UNIT WITH COMMERCIAL UNIT    37517 non-null  uint8\n",
            " 21  BUILDING CLASS CATEGORY_21 OFFICE BUILDINGS                           37517 non-null  uint8\n",
            " 22  BUILDING CLASS CATEGORY_22 STORE BUILDINGS                            37517 non-null  uint8\n",
            " 23  BUILDING CLASS CATEGORY_23 LOFT BUILDINGS                             37517 non-null  uint8\n",
            " 24  BUILDING CLASS CATEGORY_26 OTHER HOTELS                               37517 non-null  uint8\n",
            " 25  BUILDING CLASS CATEGORY_27 FACTORIES                                  37517 non-null  uint8\n",
            " 26  BUILDING CLASS CATEGORY_28 COMMERCIAL CONDOS                          37517 non-null  uint8\n",
            " 27  BUILDING CLASS CATEGORY_29 COMMERCIAL GARAGES                         37517 non-null  uint8\n",
            " 28  BUILDING CLASS CATEGORY_30 WAREHOUSES                                 37517 non-null  uint8\n",
            " 29  BUILDING CLASS CATEGORY_31 COMMERCIAL VACANT LAND                     37517 non-null  uint8\n",
            " 30  BUILDING CLASS CATEGORY_32 HOSPITAL AND HEALTH FACILITIES             37517 non-null  uint8\n",
            " 31  BUILDING CLASS CATEGORY_33 EDUCATIONAL FACILITIES                     37517 non-null  uint8\n",
            " 32  BUILDING CLASS CATEGORY_35 INDOOR PUBLIC AND CULTURAL FACILITIES      37517 non-null  uint8\n",
            " 33  BUILDING CLASS CATEGORY_37 RELIGIOUS FACILITIES                       37517 non-null  uint8\n",
            " 34  BUILDING CLASS CATEGORY_38 ASYLUMS AND HOMES                          37517 non-null  uint8\n",
            " 35  BUILDING CLASS CATEGORY_40 SELECTED GOVERNMENTAL FACILITIES           37517 non-null  uint8\n",
            " 36  BUILDING CLASS CATEGORY_41 TAX CLASS 4 - OTHER                        37517 non-null  uint8\n",
            " 37  BUILDING CLASS CATEGORY_42 CONDO CULTURAL/MEDICAL/EDUCATIONAL/ETC     37517 non-null  uint8\n",
            " 38  BUILDING CLASS CATEGORY_43 CONDO OFFICE BUILDINGS                     37517 non-null  uint8\n",
            " 39  BUILDING CLASS CATEGORY_44 CONDO PARKING                              37517 non-null  uint8\n",
            " 40  BUILDING CLASS CATEGORY_45 CONDO HOTELS                               37517 non-null  uint8\n",
            " 41  BUILDING CLASS CATEGORY_46 CONDO STORE BUILDINGS                      37517 non-null  uint8\n",
            " 42  BUILDING CLASS CATEGORY_47 CONDO NON-BUSINESS STORAGE                 37517 non-null  uint8\n",
            " 43  BUILDING CLASS CATEGORY_48 CONDO TERRACES/GARDENS/CABANAS             37517 non-null  uint8\n",
            " 44  BUILDING CLASS CATEGORY_49 CONDO WAREHOUSES/FACTORY/INDUS             37517 non-null  uint8\n",
            " 45  TAX CLASS AT PRESENT_                                                 37517 non-null  uint8\n",
            " 46  TAX CLASS AT PRESENT_1                                                37517 non-null  uint8\n",
            " 47  TAX CLASS AT PRESENT_1A                                               37517 non-null  uint8\n",
            " 48  TAX CLASS AT PRESENT_1B                                               37517 non-null  uint8\n",
            " 49  TAX CLASS AT PRESENT_1C                                               37517 non-null  uint8\n",
            " 50  TAX CLASS AT PRESENT_2                                                37517 non-null  uint8\n",
            " 51  TAX CLASS AT PRESENT_2A                                               37517 non-null  uint8\n",
            " 52  TAX CLASS AT PRESENT_2B                                               37517 non-null  uint8\n",
            " 53  TAX CLASS AT PRESENT_2C                                               37517 non-null  uint8\n",
            " 54  TAX CLASS AT PRESENT_3                                                37517 non-null  uint8\n",
            " 55  TAX CLASS AT PRESENT_4                                                37517 non-null  uint8\n",
            "dtypes: int64(1), uint8(55)\n",
            "memory usage: 3.8 MB\n"
          ],
          "name": "stdout"
        }
      ]
    },
    {
      "cell_type": "code",
      "metadata": {
        "id": "IYR_n7VKeBTi",
        "colab_type": "code",
        "colab": {
          "base_uri": "https://localhost:8080/",
          "height": 351
        },
        "outputId": "1fe8cfb0-5d59-4df3-b590-f1d19736bc59"
      },
      "source": [
        "numeric_data=sale_house.select_dtypes(include=[np.number])\n",
        "numeric_data.describe()"
      ],
      "execution_count": null,
      "outputs": [
        {
          "output_type": "execute_result",
          "data": {
            "text/html": [
              "<div>\n",
              "<style scoped>\n",
              "    .dataframe tbody tr th:only-of-type {\n",
              "        vertical-align: middle;\n",
              "    }\n",
              "\n",
              "    .dataframe tbody tr th {\n",
              "        vertical-align: top;\n",
              "    }\n",
              "\n",
              "    .dataframe thead th {\n",
              "        text-align: right;\n",
              "    }\n",
              "</style>\n",
              "<table border=\"1\" class=\"dataframe\">\n",
              "  <thead>\n",
              "    <tr style=\"text-align: right;\">\n",
              "      <th></th>\n",
              "      <th>BLOCK</th>\n",
              "      <th>LOT</th>\n",
              "      <th>ZIP CODE</th>\n",
              "      <th>RESIDENTIAL UNITS</th>\n",
              "      <th>COMMERCIAL UNITS</th>\n",
              "      <th>TOTAL UNITS</th>\n",
              "      <th>LAND SQUARE FEET</th>\n",
              "      <th>GROSS SQUARE FEET</th>\n",
              "      <th>YEAR BUILT</th>\n",
              "      <th>TAX CLASS AT TIME OF SALE</th>\n",
              "      <th>SALE PRICE</th>\n",
              "      <th>SALE DATE</th>\n",
              "    </tr>\n",
              "  </thead>\n",
              "  <tbody>\n",
              "    <tr>\n",
              "      <th>count</th>\n",
              "      <td>37517.000000</td>\n",
              "      <td>37517.000000</td>\n",
              "      <td>37517.000000</td>\n",
              "      <td>37517.000000</td>\n",
              "      <td>37517.000000</td>\n",
              "      <td>37517.000000</td>\n",
              "      <td>37517.000000</td>\n",
              "      <td>37517.000000</td>\n",
              "      <td>37517.000000</td>\n",
              "      <td>37517.000000</td>\n",
              "      <td>3.751700e+04</td>\n",
              "      <td>3.751700e+04</td>\n",
              "    </tr>\n",
              "    <tr>\n",
              "      <th>mean</th>\n",
              "      <td>4845.260575</td>\n",
              "      <td>395.729776</td>\n",
              "      <td>10933.494896</td>\n",
              "      <td>1.552230</td>\n",
              "      <td>0.064611</td>\n",
              "      <td>1.630168</td>\n",
              "      <td>2849.641900</td>\n",
              "      <td>2223.945240</td>\n",
              "      <td>1953.153637</td>\n",
              "      <td>1.374763</td>\n",
              "      <td>8.661611e+05</td>\n",
              "      <td>2.016723e+07</td>\n",
              "    </tr>\n",
              "    <tr>\n",
              "      <th>std</th>\n",
              "      <td>3763.906873</td>\n",
              "      <td>628.845667</td>\n",
              "      <td>522.688421</td>\n",
              "      <td>1.139358</td>\n",
              "      <td>0.354453</td>\n",
              "      <td>1.180274</td>\n",
              "      <td>1537.865505</td>\n",
              "      <td>1366.788744</td>\n",
              "      <td>37.330413</td>\n",
              "      <td>0.665727</td>\n",
              "      <td>7.565489e+05</td>\n",
              "      <td>4.466463e+03</td>\n",
              "    </tr>\n",
              "    <tr>\n",
              "      <th>min</th>\n",
              "      <td>1.000000</td>\n",
              "      <td>1.000000</td>\n",
              "      <td>10001.000000</td>\n",
              "      <td>0.000000</td>\n",
              "      <td>0.000000</td>\n",
              "      <td>1.000000</td>\n",
              "      <td>0.000000</td>\n",
              "      <td>0.000000</td>\n",
              "      <td>1880.000000</td>\n",
              "      <td>1.000000</td>\n",
              "      <td>1.000000e+00</td>\n",
              "      <td>2.016090e+07</td>\n",
              "    </tr>\n",
              "    <tr>\n",
              "      <th>25%</th>\n",
              "      <td>1641.000000</td>\n",
              "      <td>26.000000</td>\n",
              "      <td>10314.000000</td>\n",
              "      <td>1.000000</td>\n",
              "      <td>0.000000</td>\n",
              "      <td>1.000000</td>\n",
              "      <td>1980.000000</td>\n",
              "      <td>1296.000000</td>\n",
              "      <td>1925.000000</td>\n",
              "      <td>1.000000</td>\n",
              "      <td>4.300000e+05</td>\n",
              "      <td>2.016113e+07</td>\n",
              "    </tr>\n",
              "    <tr>\n",
              "      <th>50%</th>\n",
              "      <td>4227.000000</td>\n",
              "      <td>56.000000</td>\n",
              "      <td>11216.000000</td>\n",
              "      <td>1.000000</td>\n",
              "      <td>0.000000</td>\n",
              "      <td>1.000000</td>\n",
              "      <td>2554.000000</td>\n",
              "      <td>1952.000000</td>\n",
              "      <td>1945.000000</td>\n",
              "      <td>1.000000</td>\n",
              "      <td>6.500000e+05</td>\n",
              "      <td>2.017023e+07</td>\n",
              "    </tr>\n",
              "    <tr>\n",
              "      <th>75%</th>\n",
              "      <td>6977.000000</td>\n",
              "      <td>1007.000000</td>\n",
              "      <td>11362.000000</td>\n",
              "      <td>2.000000</td>\n",
              "      <td>0.000000</td>\n",
              "      <td>2.000000</td>\n",
              "      <td>4035.581491</td>\n",
              "      <td>3375.000000</td>\n",
              "      <td>1988.000000</td>\n",
              "      <td>2.000000</td>\n",
              "      <td>9.950000e+05</td>\n",
              "      <td>2.017053e+07</td>\n",
              "    </tr>\n",
              "    <tr>\n",
              "      <th>max</th>\n",
              "      <td>16319.000000</td>\n",
              "      <td>8160.000000</td>\n",
              "      <td>11694.000000</td>\n",
              "      <td>20.000000</td>\n",
              "      <td>14.000000</td>\n",
              "      <td>20.000000</td>\n",
              "      <td>9996.000000</td>\n",
              "      <td>9926.000000</td>\n",
              "      <td>2017.000000</td>\n",
              "      <td>4.000000</td>\n",
              "      <td>4.996841e+06</td>\n",
              "      <td>2.017083e+07</td>\n",
              "    </tr>\n",
              "  </tbody>\n",
              "</table>\n",
              "</div>"
            ],
            "text/plain": [
              "              BLOCK           LOT  ...    SALE PRICE     SALE DATE\n",
              "count  37517.000000  37517.000000  ...  3.751700e+04  3.751700e+04\n",
              "mean    4845.260575    395.729776  ...  8.661611e+05  2.016723e+07\n",
              "std     3763.906873    628.845667  ...  7.565489e+05  4.466463e+03\n",
              "min        1.000000      1.000000  ...  1.000000e+00  2.016090e+07\n",
              "25%     1641.000000     26.000000  ...  4.300000e+05  2.016113e+07\n",
              "50%     4227.000000     56.000000  ...  6.500000e+05  2.017023e+07\n",
              "75%     6977.000000   1007.000000  ...  9.950000e+05  2.017053e+07\n",
              "max    16319.000000   8160.000000  ...  4.996841e+06  2.017083e+07\n",
              "\n",
              "[8 rows x 12 columns]"
            ]
          },
          "metadata": {
            "tags": []
          },
          "execution_count": 165
        }
      ]
    },
    {
      "cell_type": "code",
      "metadata": {
        "id": "EnM7qgYGeHyg",
        "colab_type": "code",
        "colab": {}
      },
      "source": [
        "df = sale_house\n",
        "scaler = StandardScaler()\n",
        "scaler.fit(df[numeric_data.columns])\n",
        "scaled = scaler.transform(df[numeric_data.columns])\n",
        "\n",
        "for i, col in enumerate(numeric_data.columns):\n",
        "       df[col] = scaled[:,i]"
      ],
      "execution_count": null,
      "outputs": []
    },
    {
      "cell_type": "code",
      "metadata": {
        "id": "jhGGAXpgeT-0",
        "colab_type": "code",
        "colab": {
          "base_uri": "https://localhost:8080/",
          "height": 343
        },
        "outputId": "4e70e14f-df31-4118-b95c-b61c602333f0"
      },
      "source": [
        "\n",
        "df.drop(one_hot_features,axis=1,inplace=True)\n",
        "df = pd.concat([df, one_hot_encoded] ,axis=1)\n",
        "df.head()"
      ],
      "execution_count": null,
      "outputs": [
        {
          "output_type": "execute_result",
          "data": {
            "text/html": [
              "<div>\n",
              "<style scoped>\n",
              "    .dataframe tbody tr th:only-of-type {\n",
              "        vertical-align: middle;\n",
              "    }\n",
              "\n",
              "    .dataframe tbody tr th {\n",
              "        vertical-align: top;\n",
              "    }\n",
              "\n",
              "    .dataframe thead th {\n",
              "        text-align: right;\n",
              "    }\n",
              "</style>\n",
              "<table border=\"1\" class=\"dataframe\">\n",
              "  <thead>\n",
              "    <tr style=\"text-align: right;\">\n",
              "      <th></th>\n",
              "      <th>BLOCK</th>\n",
              "      <th>LOT</th>\n",
              "      <th>ZIP CODE</th>\n",
              "      <th>RESIDENTIAL UNITS</th>\n",
              "      <th>COMMERCIAL UNITS</th>\n",
              "      <th>TOTAL UNITS</th>\n",
              "      <th>LAND SQUARE FEET</th>\n",
              "      <th>GROSS SQUARE FEET</th>\n",
              "      <th>YEAR BUILT</th>\n",
              "      <th>SALE PRICE</th>\n",
              "      <th>SALE DATE</th>\n",
              "      <th>TAX CLASS AT TIME OF SALE</th>\n",
              "      <th>BOROUGH_1</th>\n",
              "      <th>BOROUGH_2</th>\n",
              "      <th>BOROUGH_3</th>\n",
              "      <th>BOROUGH_4</th>\n",
              "      <th>BOROUGH_5</th>\n",
              "      <th>BUILDING CLASS CATEGORY_01 ONE FAMILY DWELLINGS</th>\n",
              "      <th>BUILDING CLASS CATEGORY_02 TWO FAMILY DWELLINGS</th>\n",
              "      <th>BUILDING CLASS CATEGORY_03 THREE FAMILY DWELLINGS</th>\n",
              "      <th>BUILDING CLASS CATEGORY_04 TAX CLASS 1 CONDOS</th>\n",
              "      <th>BUILDING CLASS CATEGORY_05 TAX CLASS 1 VACANT LAND</th>\n",
              "      <th>BUILDING CLASS CATEGORY_06 TAX CLASS 1 - OTHER</th>\n",
              "      <th>BUILDING CLASS CATEGORY_07 RENTALS - WALKUP APARTMENTS</th>\n",
              "      <th>BUILDING CLASS CATEGORY_08 RENTALS - ELEVATOR APARTMENTS</th>\n",
              "      <th>BUILDING CLASS CATEGORY_09 COOPS - WALKUP APARTMENTS</th>\n",
              "      <th>BUILDING CLASS CATEGORY_11A CONDO-RENTALS</th>\n",
              "      <th>BUILDING CLASS CATEGORY_12 CONDOS - WALKUP APARTMENTS</th>\n",
              "      <th>BUILDING CLASS CATEGORY_13 CONDOS - ELEVATOR APARTMENTS</th>\n",
              "      <th>BUILDING CLASS CATEGORY_14 RENTALS - 4-10 UNIT</th>\n",
              "      <th>BUILDING CLASS CATEGORY_15 CONDOS - 2-10 UNIT RESIDENTIAL</th>\n",
              "      <th>BUILDING CLASS CATEGORY_16 CONDOS - 2-10 UNIT WITH COMMERCIAL UNIT</th>\n",
              "      <th>BUILDING CLASS CATEGORY_21 OFFICE BUILDINGS</th>\n",
              "      <th>BUILDING CLASS CATEGORY_22 STORE BUILDINGS</th>\n",
              "      <th>BUILDING CLASS CATEGORY_23 LOFT BUILDINGS</th>\n",
              "      <th>BUILDING CLASS CATEGORY_26 OTHER HOTELS</th>\n",
              "      <th>BUILDING CLASS CATEGORY_27 FACTORIES</th>\n",
              "      <th>BUILDING CLASS CATEGORY_28 COMMERCIAL CONDOS</th>\n",
              "      <th>BUILDING CLASS CATEGORY_29 COMMERCIAL GARAGES</th>\n",
              "      <th>BUILDING CLASS CATEGORY_30 WAREHOUSES</th>\n",
              "      <th>BUILDING CLASS CATEGORY_31 COMMERCIAL VACANT LAND</th>\n",
              "      <th>BUILDING CLASS CATEGORY_32 HOSPITAL AND HEALTH FACILITIES</th>\n",
              "      <th>BUILDING CLASS CATEGORY_33 EDUCATIONAL FACILITIES</th>\n",
              "      <th>BUILDING CLASS CATEGORY_35 INDOOR PUBLIC AND CULTURAL FACILITIES</th>\n",
              "      <th>BUILDING CLASS CATEGORY_37 RELIGIOUS FACILITIES</th>\n",
              "      <th>BUILDING CLASS CATEGORY_38 ASYLUMS AND HOMES</th>\n",
              "      <th>BUILDING CLASS CATEGORY_40 SELECTED GOVERNMENTAL FACILITIES</th>\n",
              "      <th>BUILDING CLASS CATEGORY_41 TAX CLASS 4 - OTHER</th>\n",
              "      <th>BUILDING CLASS CATEGORY_42 CONDO CULTURAL/MEDICAL/EDUCATIONAL/ETC</th>\n",
              "      <th>BUILDING CLASS CATEGORY_43 CONDO OFFICE BUILDINGS</th>\n",
              "      <th>BUILDING CLASS CATEGORY_44 CONDO PARKING</th>\n",
              "      <th>BUILDING CLASS CATEGORY_45 CONDO HOTELS</th>\n",
              "      <th>BUILDING CLASS CATEGORY_46 CONDO STORE BUILDINGS</th>\n",
              "      <th>BUILDING CLASS CATEGORY_47 CONDO NON-BUSINESS STORAGE</th>\n",
              "      <th>BUILDING CLASS CATEGORY_48 CONDO TERRACES/GARDENS/CABANAS</th>\n",
              "      <th>BUILDING CLASS CATEGORY_49 CONDO WAREHOUSES/FACTORY/INDUS</th>\n",
              "      <th>TAX CLASS AT PRESENT_</th>\n",
              "      <th>TAX CLASS AT PRESENT_1</th>\n",
              "      <th>TAX CLASS AT PRESENT_1A</th>\n",
              "      <th>TAX CLASS AT PRESENT_1B</th>\n",
              "      <th>TAX CLASS AT PRESENT_1C</th>\n",
              "      <th>TAX CLASS AT PRESENT_2</th>\n",
              "      <th>TAX CLASS AT PRESENT_2A</th>\n",
              "      <th>TAX CLASS AT PRESENT_2B</th>\n",
              "      <th>TAX CLASS AT PRESENT_2C</th>\n",
              "      <th>TAX CLASS AT PRESENT_3</th>\n",
              "      <th>TAX CLASS AT PRESENT_4</th>\n",
              "    </tr>\n",
              "  </thead>\n",
              "  <tbody>\n",
              "    <tr>\n",
              "      <th>3</th>\n",
              "      <td>-1.180507</td>\n",
              "      <td>-0.595909</td>\n",
              "      <td>-1.768754</td>\n",
              "      <td>7.414598</td>\n",
              "      <td>-0.182286</td>\n",
              "      <td>7.091524</td>\n",
              "      <td>-0.375618</td>\n",
              "      <td>3.343688</td>\n",
              "      <td>-1.075642</td>\n",
              "      <td>4.058101</td>\n",
              "      <td>-1.411364</td>\n",
              "      <td>2</td>\n",
              "      <td>1</td>\n",
              "      <td>0</td>\n",
              "      <td>0</td>\n",
              "      <td>0</td>\n",
              "      <td>0</td>\n",
              "      <td>0</td>\n",
              "      <td>0</td>\n",
              "      <td>0</td>\n",
              "      <td>0</td>\n",
              "      <td>0</td>\n",
              "      <td>0</td>\n",
              "      <td>1</td>\n",
              "      <td>0</td>\n",
              "      <td>0</td>\n",
              "      <td>0</td>\n",
              "      <td>0</td>\n",
              "      <td>0</td>\n",
              "      <td>0</td>\n",
              "      <td>0</td>\n",
              "      <td>0</td>\n",
              "      <td>0</td>\n",
              "      <td>0</td>\n",
              "      <td>0</td>\n",
              "      <td>0</td>\n",
              "      <td>0</td>\n",
              "      <td>0</td>\n",
              "      <td>0</td>\n",
              "      <td>0</td>\n",
              "      <td>0</td>\n",
              "      <td>0</td>\n",
              "      <td>0</td>\n",
              "      <td>0</td>\n",
              "      <td>0</td>\n",
              "      <td>0</td>\n",
              "      <td>0</td>\n",
              "      <td>0</td>\n",
              "      <td>0</td>\n",
              "      <td>0</td>\n",
              "      <td>0</td>\n",
              "      <td>0</td>\n",
              "      <td>0</td>\n",
              "      <td>0</td>\n",
              "      <td>0</td>\n",
              "      <td>0</td>\n",
              "      <td>0</td>\n",
              "      <td>0</td>\n",
              "      <td>0</td>\n",
              "      <td>0</td>\n",
              "      <td>0</td>\n",
              "      <td>0</td>\n",
              "      <td>0</td>\n",
              "      <td>1</td>\n",
              "      <td>0</td>\n",
              "      <td>0</td>\n",
              "      <td>0</td>\n",
              "    </tr>\n",
              "    <tr>\n",
              "      <th>6</th>\n",
              "      <td>-1.179445</td>\n",
              "      <td>-0.578416</td>\n",
              "      <td>-1.768754</td>\n",
              "      <td>5.659201</td>\n",
              "      <td>-0.182286</td>\n",
              "      <td>5.396980</td>\n",
              "      <td>-0.715054</td>\n",
              "      <td>1.464807</td>\n",
              "      <td>-0.888125</td>\n",
              "      <td>3.075426</td>\n",
              "      <td>-1.411364</td>\n",
              "      <td>2</td>\n",
              "      <td>1</td>\n",
              "      <td>0</td>\n",
              "      <td>0</td>\n",
              "      <td>0</td>\n",
              "      <td>0</td>\n",
              "      <td>0</td>\n",
              "      <td>0</td>\n",
              "      <td>0</td>\n",
              "      <td>0</td>\n",
              "      <td>0</td>\n",
              "      <td>0</td>\n",
              "      <td>1</td>\n",
              "      <td>0</td>\n",
              "      <td>0</td>\n",
              "      <td>0</td>\n",
              "      <td>0</td>\n",
              "      <td>0</td>\n",
              "      <td>0</td>\n",
              "      <td>0</td>\n",
              "      <td>0</td>\n",
              "      <td>0</td>\n",
              "      <td>0</td>\n",
              "      <td>0</td>\n",
              "      <td>0</td>\n",
              "      <td>0</td>\n",
              "      <td>0</td>\n",
              "      <td>0</td>\n",
              "      <td>0</td>\n",
              "      <td>0</td>\n",
              "      <td>0</td>\n",
              "      <td>0</td>\n",
              "      <td>0</td>\n",
              "      <td>0</td>\n",
              "      <td>0</td>\n",
              "      <td>0</td>\n",
              "      <td>0</td>\n",
              "      <td>0</td>\n",
              "      <td>0</td>\n",
              "      <td>0</td>\n",
              "      <td>0</td>\n",
              "      <td>0</td>\n",
              "      <td>0</td>\n",
              "      <td>0</td>\n",
              "      <td>0</td>\n",
              "      <td>0</td>\n",
              "      <td>0</td>\n",
              "      <td>0</td>\n",
              "      <td>0</td>\n",
              "      <td>0</td>\n",
              "      <td>0</td>\n",
              "      <td>0</td>\n",
              "      <td>1</td>\n",
              "      <td>0</td>\n",
              "      <td>0</td>\n",
              "      <td>0</td>\n",
              "    </tr>\n",
              "    <tr>\n",
              "      <th>79</th>\n",
              "      <td>-1.188212</td>\n",
              "      <td>0.965703</td>\n",
              "      <td>-1.768754</td>\n",
              "      <td>-0.484691</td>\n",
              "      <td>-0.182286</td>\n",
              "      <td>-0.533923</td>\n",
              "      <td>0.771170</td>\n",
              "      <td>1.220179</td>\n",
              "      <td>-0.888125</td>\n",
              "      <td>-0.136797</td>\n",
              "      <td>-1.411812</td>\n",
              "      <td>2</td>\n",
              "      <td>1</td>\n",
              "      <td>0</td>\n",
              "      <td>0</td>\n",
              "      <td>0</td>\n",
              "      <td>0</td>\n",
              "      <td>0</td>\n",
              "      <td>0</td>\n",
              "      <td>0</td>\n",
              "      <td>0</td>\n",
              "      <td>0</td>\n",
              "      <td>0</td>\n",
              "      <td>0</td>\n",
              "      <td>0</td>\n",
              "      <td>0</td>\n",
              "      <td>0</td>\n",
              "      <td>0</td>\n",
              "      <td>1</td>\n",
              "      <td>0</td>\n",
              "      <td>0</td>\n",
              "      <td>0</td>\n",
              "      <td>0</td>\n",
              "      <td>0</td>\n",
              "      <td>0</td>\n",
              "      <td>0</td>\n",
              "      <td>0</td>\n",
              "      <td>0</td>\n",
              "      <td>0</td>\n",
              "      <td>0</td>\n",
              "      <td>0</td>\n",
              "      <td>0</td>\n",
              "      <td>0</td>\n",
              "      <td>0</td>\n",
              "      <td>0</td>\n",
              "      <td>0</td>\n",
              "      <td>0</td>\n",
              "      <td>0</td>\n",
              "      <td>0</td>\n",
              "      <td>0</td>\n",
              "      <td>0</td>\n",
              "      <td>0</td>\n",
              "      <td>0</td>\n",
              "      <td>0</td>\n",
              "      <td>0</td>\n",
              "      <td>0</td>\n",
              "      <td>0</td>\n",
              "      <td>0</td>\n",
              "      <td>0</td>\n",
              "      <td>0</td>\n",
              "      <td>0</td>\n",
              "      <td>1</td>\n",
              "      <td>0</td>\n",
              "      <td>0</td>\n",
              "      <td>0</td>\n",
              "      <td>0</td>\n",
              "      <td>0</td>\n",
              "    </tr>\n",
              "    <tr>\n",
              "      <th>80</th>\n",
              "      <td>-1.188212</td>\n",
              "      <td>0.967294</td>\n",
              "      <td>-1.768754</td>\n",
              "      <td>-0.484691</td>\n",
              "      <td>-0.182286</td>\n",
              "      <td>-0.533923</td>\n",
              "      <td>0.771170</td>\n",
              "      <td>1.220179</td>\n",
              "      <td>-0.888125</td>\n",
              "      <td>-0.123338</td>\n",
              "      <td>-1.413827</td>\n",
              "      <td>2</td>\n",
              "      <td>1</td>\n",
              "      <td>0</td>\n",
              "      <td>0</td>\n",
              "      <td>0</td>\n",
              "      <td>0</td>\n",
              "      <td>0</td>\n",
              "      <td>0</td>\n",
              "      <td>0</td>\n",
              "      <td>0</td>\n",
              "      <td>0</td>\n",
              "      <td>0</td>\n",
              "      <td>0</td>\n",
              "      <td>0</td>\n",
              "      <td>0</td>\n",
              "      <td>0</td>\n",
              "      <td>0</td>\n",
              "      <td>1</td>\n",
              "      <td>0</td>\n",
              "      <td>0</td>\n",
              "      <td>0</td>\n",
              "      <td>0</td>\n",
              "      <td>0</td>\n",
              "      <td>0</td>\n",
              "      <td>0</td>\n",
              "      <td>0</td>\n",
              "      <td>0</td>\n",
              "      <td>0</td>\n",
              "      <td>0</td>\n",
              "      <td>0</td>\n",
              "      <td>0</td>\n",
              "      <td>0</td>\n",
              "      <td>0</td>\n",
              "      <td>0</td>\n",
              "      <td>0</td>\n",
              "      <td>0</td>\n",
              "      <td>0</td>\n",
              "      <td>0</td>\n",
              "      <td>0</td>\n",
              "      <td>0</td>\n",
              "      <td>0</td>\n",
              "      <td>0</td>\n",
              "      <td>0</td>\n",
              "      <td>0</td>\n",
              "      <td>0</td>\n",
              "      <td>0</td>\n",
              "      <td>0</td>\n",
              "      <td>0</td>\n",
              "      <td>0</td>\n",
              "      <td>0</td>\n",
              "      <td>1</td>\n",
              "      <td>0</td>\n",
              "      <td>0</td>\n",
              "      <td>0</td>\n",
              "      <td>0</td>\n",
              "      <td>0</td>\n",
              "    </tr>\n",
              "    <tr>\n",
              "      <th>81</th>\n",
              "      <td>-1.188212</td>\n",
              "      <td>0.968884</td>\n",
              "      <td>-1.768754</td>\n",
              "      <td>-0.484691</td>\n",
              "      <td>-0.182286</td>\n",
              "      <td>-0.533923</td>\n",
              "      <td>0.771170</td>\n",
              "      <td>1.220179</td>\n",
              "      <td>-0.888125</td>\n",
              "      <td>0.223014</td>\n",
              "      <td>-1.371063</td>\n",
              "      <td>2</td>\n",
              "      <td>1</td>\n",
              "      <td>0</td>\n",
              "      <td>0</td>\n",
              "      <td>0</td>\n",
              "      <td>0</td>\n",
              "      <td>0</td>\n",
              "      <td>0</td>\n",
              "      <td>0</td>\n",
              "      <td>0</td>\n",
              "      <td>0</td>\n",
              "      <td>0</td>\n",
              "      <td>0</td>\n",
              "      <td>0</td>\n",
              "      <td>0</td>\n",
              "      <td>0</td>\n",
              "      <td>0</td>\n",
              "      <td>1</td>\n",
              "      <td>0</td>\n",
              "      <td>0</td>\n",
              "      <td>0</td>\n",
              "      <td>0</td>\n",
              "      <td>0</td>\n",
              "      <td>0</td>\n",
              "      <td>0</td>\n",
              "      <td>0</td>\n",
              "      <td>0</td>\n",
              "      <td>0</td>\n",
              "      <td>0</td>\n",
              "      <td>0</td>\n",
              "      <td>0</td>\n",
              "      <td>0</td>\n",
              "      <td>0</td>\n",
              "      <td>0</td>\n",
              "      <td>0</td>\n",
              "      <td>0</td>\n",
              "      <td>0</td>\n",
              "      <td>0</td>\n",
              "      <td>0</td>\n",
              "      <td>0</td>\n",
              "      <td>0</td>\n",
              "      <td>0</td>\n",
              "      <td>0</td>\n",
              "      <td>0</td>\n",
              "      <td>0</td>\n",
              "      <td>0</td>\n",
              "      <td>0</td>\n",
              "      <td>0</td>\n",
              "      <td>0</td>\n",
              "      <td>0</td>\n",
              "      <td>1</td>\n",
              "      <td>0</td>\n",
              "      <td>0</td>\n",
              "      <td>0</td>\n",
              "      <td>0</td>\n",
              "      <td>0</td>\n",
              "    </tr>\n",
              "  </tbody>\n",
              "</table>\n",
              "</div>"
            ],
            "text/plain": [
              "       BLOCK       LOT  ...  TAX CLASS AT PRESENT_3  TAX CLASS AT PRESENT_4\n",
              "3  -1.180507 -0.595909  ...                       0                       0\n",
              "6  -1.179445 -0.578416  ...                       0                       0\n",
              "79 -1.188212  0.965703  ...                       0                       0\n",
              "80 -1.188212  0.967294  ...                       0                       0\n",
              "81 -1.188212  0.968884  ...                       0                       0\n",
              "\n",
              "[5 rows x 67 columns]"
            ]
          },
          "metadata": {
            "tags": []
          },
          "execution_count": 167
        }
      ]
    },
    {
      "cell_type": "code",
      "metadata": {
        "id": "0lBz50Ujebua",
        "colab_type": "code",
        "colab": {}
      },
      "source": [
        "# classifying data into independent and dependent variable\n",
        "X = df.drop(['SALE PRICE'],axis = 1).values\n",
        "y = df['SALE PRICE'].values"
      ],
      "execution_count": null,
      "outputs": []
    },
    {
      "cell_type": "code",
      "metadata": {
        "id": "M2ke98sJeeB6",
        "colab_type": "code",
        "colab": {}
      },
      "source": [
        "# creating test and training set data, 70% train, 30% test\n",
        "X_train,X_test,y_train,y_test = train_test_split(X, y, test_size = 0.3, random_state = 0)"
      ],
      "execution_count": null,
      "outputs": []
    },
    {
      "cell_type": "markdown",
      "metadata": {
        "id": "zEIhN0Q09_-J",
        "colab_type": "text"
      },
      "source": [
        "#3) Predition"
      ]
    },
    {
      "cell_type": "markdown",
      "metadata": {
        "id": "bPvvtPLXgXbd",
        "colab_type": "text"
      },
      "source": [
        "##3.0)Helper Function"
      ]
    },
    {
      "cell_type": "code",
      "metadata": {
        "id": "LJr7swCEgWKf",
        "colab_type": "code",
        "colab": {}
      },
      "source": [
        "def rmse(y_test,y_pred):\n",
        "      return np.sqrt(mean_squared_error(y_test,y_pred))"
      ],
      "execution_count": null,
      "outputs": []
    },
    {
      "cell_type": "markdown",
      "metadata": {
        "id": "74cEg17tf-m8",
        "colab_type": "text"
      },
      "source": [
        "##3.1) Linear"
      ]
    },
    {
      "cell_type": "code",
      "metadata": {
        "id": "bh90cNyal8kG",
        "colab_type": "code",
        "colab": {
          "base_uri": "https://localhost:8080/",
          "height": 34
        },
        "outputId": "a77329a6-8e67-4f37-a555-9e16fbda1e9e"
      },
      "source": [
        "linear=LinearRegression()\n",
        "linear.fit(X_train, y_train)\n",
        "y_pred = linear.predict(X_test)\n",
        "result_linear = rmse(y_test, y_pred)\n",
        "result_linear"
      ],
      "execution_count": null,
      "outputs": [
        {
          "output_type": "execute_result",
          "data": {
            "text/plain": [
              "0.8062959093917004"
            ]
          },
          "metadata": {
            "tags": []
          },
          "execution_count": 171
        }
      ]
    },
    {
      "cell_type": "markdown",
      "metadata": {
        "id": "Bw0-mV6ggCiY",
        "colab_type": "text"
      },
      "source": [
        "##3.2)Ridge, Lasso"
      ]
    },
    {
      "cell_type": "code",
      "metadata": {
        "id": "ub5SG-zEegva",
        "colab_type": "code",
        "colab": {
          "base_uri": "https://localhost:8080/",
          "height": 51
        },
        "outputId": "4231b95c-dfd2-4a81-9ec6-db96d8d7fca3"
      },
      "source": [
        "\n",
        "# fitting linear regression to training set\n",
        "regressor = Ridge(alpha=0.01, normalize=True)\n",
        "regressor.fit(X_train,y_train)"
      ],
      "execution_count": null,
      "outputs": [
        {
          "output_type": "execute_result",
          "data": {
            "text/plain": [
              "Ridge(alpha=0.01, copy_X=True, fit_intercept=True, max_iter=None,\n",
              "      normalize=True, random_state=None, solver='auto', tol=0.001)"
            ]
          },
          "metadata": {
            "tags": []
          },
          "execution_count": 172
        }
      ]
    },
    {
      "cell_type": "code",
      "metadata": {
        "id": "BQff_gtvfZhp",
        "colab_type": "code",
        "colab": {
          "base_uri": "https://localhost:8080/",
          "height": 34
        },
        "outputId": "e19b6399-3984-4113-f62b-02d67f9e12b2"
      },
      "source": [
        "y_pred = regressor.predict(X_test)\n",
        "result_ridge = rmse(y_test, y_pred)\n",
        "result_ridge"
      ],
      "execution_count": null,
      "outputs": [
        {
          "output_type": "execute_result",
          "data": {
            "text/plain": [
              "0.8063537353164582"
            ]
          },
          "metadata": {
            "tags": []
          },
          "execution_count": 173
        }
      ]
    },
    {
      "cell_type": "code",
      "metadata": {
        "id": "ZVUCZyaZg4pW",
        "colab_type": "code",
        "colab": {
          "base_uri": "https://localhost:8080/",
          "height": 34
        },
        "outputId": "fdbef0a5-6c17-4eea-9a9d-7d6e0f3dcd3e"
      },
      "source": [
        "#3.6)Lasso\n",
        "Lassoregressor = Lasso(alpha = 0.01, normalize =True)\n",
        "Lassoregressor.fit(X_train,y_train)\n",
        "\n",
        "y_predict = Lassoregressor.predict(X_test)\n",
        "result_Lasso = rmse(y_test, y_predict)\n",
        "result_Lasso"
      ],
      "execution_count": null,
      "outputs": [
        {
          "output_type": "execute_result",
          "data": {
            "text/plain": [
              "1.0025043522464563"
            ]
          },
          "metadata": {
            "tags": []
          },
          "execution_count": 175
        }
      ]
    },
    {
      "cell_type": "markdown",
      "metadata": {
        "id": "jt6Sq1GNgJ9O",
        "colab_type": "text"
      },
      "source": [
        "##3.3)Random Forest"
      ]
    },
    {
      "cell_type": "code",
      "metadata": {
        "id": "IwDCfHKrKCzg",
        "colab_type": "code",
        "colab": {
          "base_uri": "https://localhost:8080/",
          "height": 119
        },
        "outputId": "5f19f6fd-3eb7-427a-f501-f6aa1758fe53"
      },
      "source": [
        "from sklearn.tree import DecisionTreeRegressor\n",
        "dtree = DecisionTreeRegressor()\n",
        "dtree.fit(X_train, y_train)"
      ],
      "execution_count": null,
      "outputs": [
        {
          "output_type": "execute_result",
          "data": {
            "text/plain": [
              "DecisionTreeRegressor(ccp_alpha=0.0, criterion='mse', max_depth=None,\n",
              "                      max_features=None, max_leaf_nodes=None,\n",
              "                      min_impurity_decrease=0.0, min_impurity_split=None,\n",
              "                      min_samples_leaf=1, min_samples_split=2,\n",
              "                      min_weight_fraction_leaf=0.0, presort='deprecated',\n",
              "                      random_state=None, splitter='best')"
            ]
          },
          "metadata": {
            "tags": []
          },
          "execution_count": 176
        }
      ]
    },
    {
      "cell_type": "code",
      "metadata": {
        "id": "ZJdqOQVTMHJX",
        "colab_type": "code",
        "colab": {
          "base_uri": "https://localhost:8080/",
          "height": 34
        },
        "outputId": "858087ff-fd49-4ae2-fd07-d77d7e72be2e"
      },
      "source": [
        "y_pred = dtree.predict(X_test)\n",
        "result_dt = rmse(y_test, y_pred)\n",
        "result_dt"
      ],
      "execution_count": null,
      "outputs": [
        {
          "output_type": "execute_result",
          "data": {
            "text/plain": [
              "0.8061365269363384"
            ]
          },
          "metadata": {
            "tags": []
          },
          "execution_count": 177
        }
      ]
    },
    {
      "cell_type": "code",
      "metadata": {
        "id": "tLVsW_Y-NQf-",
        "colab_type": "code",
        "colab": {
          "base_uri": "https://localhost:8080/",
          "height": 136
        },
        "outputId": "86c3e7db-5753-40cc-d332-956d54f4716f"
      },
      "source": [
        "dforest = RandomForestRegressor(n_estimators=100, criterion='mse', bootstrap=True, n_jobs=-1)\n",
        "dforest.fit(X_train, y_train)"
      ],
      "execution_count": null,
      "outputs": [
        {
          "output_type": "execute_result",
          "data": {
            "text/plain": [
              "RandomForestRegressor(bootstrap=True, ccp_alpha=0.0, criterion='mse',\n",
              "                      max_depth=None, max_features='auto', max_leaf_nodes=None,\n",
              "                      max_samples=None, min_impurity_decrease=0.0,\n",
              "                      min_impurity_split=None, min_samples_leaf=1,\n",
              "                      min_samples_split=2, min_weight_fraction_leaf=0.0,\n",
              "                      n_estimators=100, n_jobs=-1, oob_score=False,\n",
              "                      random_state=None, verbose=0, warm_start=False)"
            ]
          },
          "metadata": {
            "tags": []
          },
          "execution_count": 178
        }
      ]
    },
    {
      "cell_type": "code",
      "metadata": {
        "id": "m6I68PflPaH1",
        "colab_type": "code",
        "colab": {
          "base_uri": "https://localhost:8080/",
          "height": 34
        },
        "outputId": "24842594-3da1-48cf-c2e0-3f6ff784311d"
      },
      "source": [
        "y_pred = dforest.predict(X_test)\n",
        "result_rf = rmse(y_test, y_pred)\n",
        "result_rf"
      ],
      "execution_count": null,
      "outputs": [
        {
          "output_type": "execute_result",
          "data": {
            "text/plain": [
              "0.6001294987121775"
            ]
          },
          "metadata": {
            "tags": []
          },
          "execution_count": 179
        }
      ]
    },
    {
      "cell_type": "markdown",
      "metadata": {
        "id": "ZLQx6ESrgOAU",
        "colab_type": "text"
      },
      "source": [
        "##3.4)Gradient boosting"
      ]
    },
    {
      "cell_type": "code",
      "metadata": {
        "colab_type": "code",
        "id": "Yy2bM8vmF7MT",
        "colab": {
          "base_uri": "https://localhost:8080/",
          "height": 35
        },
        "outputId": "b1437d17-7284-4f58-c7d3-a66c2d737b6e"
      },
      "source": [
        "from sklearn.ensemble import GradientBoostingRegressor\n",
        "from sklearn.model_selection import RandomizedSearchCV\n",
        "from sklearn.model_selection import GridSearchCV\n",
        "reg = GradientBoostingRegressor(alpha=0.9, ccp_alpha=0.0, criterion='friedman_mse',\n",
        "                          init=None, learning_rate=0.05, loss='ls', max_depth=7,\n",
        "                          max_features=None, max_leaf_nodes=None,\n",
        "                          min_impurity_decrease=0.0, min_impurity_split=None,\n",
        "                          min_samples_leaf=1, min_samples_split=2,\n",
        "                          min_weight_fraction_leaf=0.0, n_estimators=500,\n",
        "                          n_iter_no_change=None, presort='deprecated',\n",
        "                          random_state=None, subsample=1.0, tol=0.0001,\n",
        "                          validation_fraction=0.1, verbose=0, warm_start=False)\n",
        "reg.fit(X_train, y_train)\n",
        "pre = reg.predict(X_test)\n",
        "result_gl = rmse(y_test, pre)\n",
        "result_gl"
      ],
      "execution_count": null,
      "outputs": [
        {
          "output_type": "execute_result",
          "data": {
            "text/plain": [
              "0.6076888166192086"
            ]
          },
          "metadata": {
            "tags": []
          },
          "execution_count": 97
        }
      ]
    },
    {
      "cell_type": "code",
      "metadata": {
        "id": "6KCad95d6hy4",
        "colab_type": "code",
        "colab": {
          "base_uri": "https://localhost:8080/",
          "height": 35
        },
        "outputId": "52292d6d-bdaa-475a-cab6-6734bf475d3a"
      },
      "source": [
        "grid.best_score_"
      ],
      "execution_count": null,
      "outputs": [
        {
          "output_type": "execute_result",
          "data": {
            "text/plain": [
              "0.62654029637563"
            ]
          },
          "metadata": {
            "tags": []
          },
          "execution_count": 96
        }
      ]
    },
    {
      "cell_type": "markdown",
      "metadata": {
        "id": "aS7_IqiUMkQa",
        "colab_type": "text"
      },
      "source": [
        "## 3.5)AdaBoost"
      ]
    },
    {
      "cell_type": "code",
      "metadata": {
        "colab_type": "code",
        "id": "7PPnadKqGHt5",
        "colab": {
          "base_uri": "https://localhost:8080/",
          "height": 35
        },
        "outputId": "be049009-6907-4f36-889d-b9645cac4512"
      },
      "source": [
        "from sklearn.ensemble import AdaBoostRegressor\n",
        "from sklearn.model_selection import GridSearchCV\n",
        "from sklearn.model_selection import RandomizedSearchCV\n",
        "reg = AdaBoostRegressor(base_estimator=None, learning_rate=0.05, loss='linear',\n",
        "                  n_estimators=50, random_state=None)\n",
        "reg.fit(X_train, y_train)\n",
        "pre = reg.predict(X_test)\n",
        "result_gl = rmse(y_test, pre)\n",
        "result_gl\n"
      ],
      "execution_count": null,
      "outputs": [
        {
          "output_type": "execute_result",
          "data": {
            "text/plain": [
              "0.7938937073884783"
            ]
          },
          "metadata": {
            "tags": []
          },
          "execution_count": 127
        }
      ]
    },
    {
      "cell_type": "markdown",
      "metadata": {
        "id": "A7JEu6n3GAKr",
        "colab_type": "text"
      },
      "source": [
        "##3.6) Stacked"
      ]
    },
    {
      "cell_type": "code",
      "metadata": {
        "id": "25oSQEzDGgSz",
        "colab_type": "code",
        "colab": {}
      },
      "source": [
        "from sklearn.linear_model import ElasticNet, Lasso,  BayesianRidge, LassoLarsIC\n",
        "from sklearn.ensemble import RandomForestRegressor,  GradientBoostingRegressor\n",
        "from sklearn.kernel_ridge import KernelRidge\n",
        "from sklearn.pipeline import make_pipeline\n",
        "from sklearn.preprocessing import RobustScaler\n",
        "from sklearn.base import BaseEstimator, TransformerMixin, RegressorMixin, clone\n",
        "from sklearn.model_selection import KFold, cross_val_score, train_test_split\n",
        "from sklearn.metrics import mean_squared_error\n",
        "import xgboost as xgb\n",
        "import lightgbm as lgb"
      ],
      "execution_count": null,
      "outputs": []
    },
    {
      "cell_type": "markdown",
      "metadata": {
        "id": "MBJp44UciEp0",
        "colab_type": "text"
      },
      "source": [
        "This time we add a cross validation approach."
      ]
    },
    {
      "cell_type": "code",
      "metadata": {
        "id": "rL5iKnCcusWI",
        "colab_type": "code",
        "colab": {}
      },
      "source": [
        "n_folds = 5\n",
        "\n",
        "def rmsle_cv(model):\n",
        "    kf = KFold(n_folds, shuffle=True, random_state=42).get_n_splits(X_train)\n",
        "    rmse= np.sqrt(-cross_val_score(model, X_train, y_train, scoring=\"neg_mean_squared_error\", cv = kf))\n",
        "    return(rmse)"
      ],
      "execution_count": null,
      "outputs": []
    },
    {
      "cell_type": "code",
      "metadata": {
        "id": "mk973mMbyHG3",
        "colab_type": "code",
        "colab": {
          "base_uri": "https://localhost:8080/",
          "height": 68
        },
        "outputId": "84e2548f-69af-4967-ca6f-0fbf9470f4cb"
      },
      "source": [
        "lasso = make_pipeline(RobustScaler(), Lasso(alpha =0.0005, random_state=1))\n",
        "score = rmsle_cv(lasso)\n",
        "print(\"\\nLasso score: {:.4f} ({:.4f})\\n\".format(score.mean(), score.std()))"
      ],
      "execution_count": null,
      "outputs": [
        {
          "output_type": "stream",
          "text": [
            "\n",
            "Lasso score: 0.7970 (0.0083)\n",
            "\n"
          ],
          "name": "stdout"
        }
      ]
    },
    {
      "cell_type": "code",
      "metadata": {
        "id": "dNNFPpG1ytyd",
        "colab_type": "code",
        "colab": {
          "base_uri": "https://localhost:8080/",
          "height": 68
        },
        "outputId": "bf86b207-e41b-4b5c-d9bc-6c268a920093"
      },
      "source": [
        "ridge = make_pipeline(RobustScaler(), Ridge(alpha =0.01, random_state=1))\n",
        "score = rmsle_cv(ridge)\n",
        "print(\"\\nridge score: {:.4f} ({:.4f})\\n\".format(score.mean(), score.std()))"
      ],
      "execution_count": null,
      "outputs": [
        {
          "output_type": "stream",
          "text": [
            "\n",
            "ridge score: 0.7974 (0.0085)\n",
            "\n"
          ],
          "name": "stdout"
        }
      ]
    },
    {
      "cell_type": "code",
      "metadata": {
        "id": "4I13ZBSqy_eV",
        "colab_type": "code",
        "colab": {
          "base_uri": "https://localhost:8080/",
          "height": 68
        },
        "outputId": "93e99987-33dd-47b2-ab8b-acb9279dfcf6"
      },
      "source": [
        "elastic = make_pipeline(RobustScaler(), ElasticNet(alpha =0.01, random_state=1))\n",
        "score = rmsle_cv(elastic)\n",
        "print(\"\\nElastic score: {:.4f} ({:.4f})\\n\".format(score.mean(), score.std()))"
      ],
      "execution_count": null,
      "outputs": [
        {
          "output_type": "stream",
          "text": [
            "\n",
            "Elastic score: 0.8107 (0.0081)\n",
            "\n"
          ],
          "name": "stdout"
        }
      ]
    },
    {
      "cell_type": "code",
      "metadata": {
        "id": "kq58t6F5tjHC",
        "colab_type": "code",
        "colab": {
          "base_uri": "https://localhost:8080/",
          "height": 68
        },
        "outputId": "2952a876-afa8-4e14-9ff0-127a01aac0b6"
      },
      "source": [
        "dforest = RandomForestRegressor(n_estimators=100, criterion='mse', bootstrap=True, n_jobs=-1)\n",
        "score = rmsle_cv(dforest)\n",
        "print(\"\\nRandomF score: {:.4f} ({:.4f})\\n\".format(score.mean(), score.std()))"
      ],
      "execution_count": null,
      "outputs": [
        {
          "output_type": "stream",
          "text": [
            "\n",
            "RandomF score: 0.6097 (0.0105)\n",
            "\n"
          ],
          "name": "stdout"
        }
      ]
    },
    {
      "cell_type": "code",
      "metadata": {
        "colab_type": "code",
        "id": "LOIdViyLGO2E",
        "colab": {
          "base_uri": "https://localhost:8080/",
          "height": 53
        },
        "outputId": "d6826650-25ab-47fc-8a07-ce64f6b8de11"
      },
      "source": [
        "model_gb = GradientBoostingRegressor(alpha=0.9, ccp_alpha=0.0, criterion='friedman_mse',\n",
        "                          init=None, learning_rate=0.05, loss='ls', max_depth=7,\n",
        "                          max_features=None, max_leaf_nodes=None,\n",
        "                          min_impurity_decrease=0.0, min_impurity_split=None,\n",
        "                          min_samples_leaf=1, min_samples_split=2,\n",
        "                          min_weight_fraction_leaf=0.0, n_estimators=500,\n",
        "                          n_iter_no_change=None, presort='deprecated',\n",
        "                          random_state=None, subsample=1.0, tol=0.0001,\n",
        "                          validation_fraction=0.1, verbose=0, warm_start=False)\n",
        "score = rmsle_cv(model_gb)\n",
        "print(\"GB score: {:.4f} ({:.4f})\\n\" .format(score.mean(), score.std()))\n"
      ],
      "execution_count": null,
      "outputs": [
        {
          "output_type": "stream",
          "text": [
            "GB score: 0.6049 (0.0107)\n",
            "\n"
          ],
          "name": "stdout"
        }
      ]
    },
    {
      "cell_type": "code",
      "metadata": {
        "colab_type": "code",
        "id": "wkzbe3dLGRzR",
        "colab": {
          "base_uri": "https://localhost:8080/",
          "height": 53
        },
        "outputId": "c7ef68bd-3364-4500-b40f-9fbeb1698696"
      },
      "source": [
        "ada = AdaBoostRegressor(base_estimator=None, learning_rate=0.05, loss='linear',\n",
        "                  n_estimators=50, random_state=None)\n",
        "score = rmsle_cv(ada)\n",
        "print(\"AdaBoost Ridge score: {:.4f} ({:.4f})\\n\".format(score.mean(), score.std()))"
      ],
      "execution_count": null,
      "outputs": [
        {
          "output_type": "stream",
          "text": [
            "AdaBoost Ridge score: 0.7968 (0.0069)\n",
            "\n"
          ],
          "name": "stdout"
        }
      ]
    },
    {
      "cell_type": "code",
      "metadata": {
        "id": "lr8kGxx47V0P",
        "colab_type": "code",
        "colab": {}
      },
      "source": [
        "class StackingAveragedModels(BaseEstimator, RegressorMixin, TransformerMixin):\n",
        "    def __init__(self, base_models, meta_model, n_folds=5):\n",
        "        self.base_models = base_models\n",
        "        self.meta_model = meta_model\n",
        "        self.n_folds = n_folds\n",
        "   \n",
        "    # Fit the data on clones of the original models\n",
        "    def fit(self, X, y):\n",
        "        self.base_models_ = [list() for x in self.base_models]\n",
        "        self.meta_model_ = clone(self.meta_model)\n",
        "        kfold = KFold(n_splits=self.n_folds, shuffle=True, random_state=156)\n",
        "        \n",
        "        # Train cloned base models then create out-of-fold predictions\n",
        "        # that are needed to train the cloned meta-model\n",
        "        out_of_fold_predictions = np.zeros((X.shape[0], len(self.base_models)))\n",
        "        for i, model in enumerate(self.base_models):\n",
        "            for train_index, holdout_index in kfold.split(X, y):\n",
        "                instance = clone(model)\n",
        "                self.base_models_[i].append(instance)\n",
        "                instance.fit(X[train_index], y[train_index])\n",
        "                y_pred = instance.predict(X[holdout_index])\n",
        "                out_of_fold_predictions[holdout_index, i] = y_pred\n",
        "                \n",
        "        # Now train the cloned  meta-model using the out-of-fold predictions as new feature\n",
        "        self.meta_model_.fit(out_of_fold_predictions, y)\n",
        "        return self\n",
        "   \n",
        "    #Do the predictions of all base models on the test data and use the averaged predictions as \n",
        "    #meta-features for the final prediction which is done by the meta-model\n",
        "    def predict(self, X):\n",
        "        meta_features = np.column_stack([\n",
        "            np.column_stack([model.predict(X) for model in base_models]).mean(axis=1)\n",
        "            for base_models in self.base_models_ ])\n",
        "        return self.meta_model_.predict(meta_features)"
      ],
      "execution_count": null,
      "outputs": []
    },
    {
      "cell_type": "code",
      "metadata": {
        "id": "yoZegQ487Wx-",
        "colab_type": "code",
        "colab": {
          "base_uri": "https://localhost:8080/",
          "height": 34
        },
        "outputId": "0b26adfe-4018-4340-ed58-5d17ee075907"
      },
      "source": [
        "stacked_averaged_models = StackingAveragedModels(base_models = (model_gb, ridge, elastic, ada, dforest),\n",
        "                                                 meta_model = lasso)\n",
        "\n",
        "score = rmsle_cv(stacked_averaged_models)\n",
        "print(\"Stacking Averaged models score: {:.4f} ({:.4f})\".format(score.mean(), score.std()))"
      ],
      "execution_count": null,
      "outputs": [
        {
          "output_type": "stream",
          "text": [
            "Stacking Averaged models score: 0.6050 (0.0088)\n"
          ],
          "name": "stdout"
        }
      ]
    },
    {
      "cell_type": "code",
      "metadata": {
        "id": "jrk-002181TW",
        "colab_type": "code",
        "colab": {
          "base_uri": "https://localhost:8080/",
          "height": 34
        },
        "outputId": "c11875c4-d179-40af-84fa-69bc99f6fa6d"
      },
      "source": [
        "stacked_averaged_models.fit(X_train, y_train)\n",
        "stacked_train_pred = stacked_averaged_models.predict(X_train)\n",
        "stacked_pred = np.expm1(stacked_averaged_models.predict(X_test))\n",
        "print(rmse(y_train, stacked_train_pred))"
      ],
      "execution_count": null,
      "outputs": [
        {
          "output_type": "stream",
          "text": [
            "0.3487306036252571\n"
          ],
          "name": "stdout"
        }
      ]
    }
  ]
}
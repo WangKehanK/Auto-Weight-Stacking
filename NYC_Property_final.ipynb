{
  "nbformat": 4,
  "nbformat_minor": 0,
  "metadata": {
    "colab": {
      "name": "NYC_Property_final.ipynb",
      "provenance": [],
      "collapsed_sections": [],
      "toc_visible": true
    },
    "kernelspec": {
      "name": "python3",
      "display_name": "Python 3"
    },
    "accelerator": "GPU"
  },
  "cells": [
    {
      "cell_type": "code",
      "metadata": {
        "id": "5QGOnWkVRR1P",
        "colab_type": "code",
        "colab": {
          "base_uri": "https://localhost:8080/",
          "height": 450
        },
        "outputId": "8baff79d-675e-435e-98e4-72ee02ddaf6e"
      },
      "source": [
        "\"\"\"\n",
        "create by: Kehan Wang\n",
        "Date: 2020.6.26\n",
        "\"\"\"\n",
        "import pandas as pd\n",
        "import numpy as np\n",
        "import matplotlib.pyplot as plt\n",
        "import seaborn as sns\n",
        "from sklearn.preprocessing import StandardScaler, LabelEncoder, OneHotEncoder\n",
        "from sklearn.metrics import mean_squared_error\n",
        "from math import sqrt\n",
        "from sklearn.model_selection import train_test_split\n",
        "from sklearn.linear_model import LinearRegression\n",
        "from sklearn.linear_model import Lasso\n",
        "from sklearn.linear_model import Ridge\n",
        "from sklearn.linear_model import ElasticNet\n",
        "from sklearn.ensemble import RandomForestRegressor\n",
        "from sklearn.ensemble import GradientBoostingRegressor\n",
        "df = pd.read_csv('nyc-rolling-sales.csv')\n",
        "# df.head(100)\n",
        "df.head()"
      ],
      "execution_count": null,
      "outputs": [
        {
          "output_type": "stream",
          "text": [
            "/usr/local/lib/python3.6/dist-packages/statsmodels/tools/_testing.py:19: FutureWarning: pandas.util.testing is deprecated. Use the functions in the public API at pandas.testing instead.\n",
            "  import pandas.util.testing as tm\n"
          ],
          "name": "stderr"
        },
        {
          "output_type": "execute_result",
          "data": {
            "text/html": [
              "<div>\n",
              "<style scoped>\n",
              "    .dataframe tbody tr th:only-of-type {\n",
              "        vertical-align: middle;\n",
              "    }\n",
              "\n",
              "    .dataframe tbody tr th {\n",
              "        vertical-align: top;\n",
              "    }\n",
              "\n",
              "    .dataframe thead th {\n",
              "        text-align: right;\n",
              "    }\n",
              "</style>\n",
              "<table border=\"1\" class=\"dataframe\">\n",
              "  <thead>\n",
              "    <tr style=\"text-align: right;\">\n",
              "      <th></th>\n",
              "      <th>Unnamed: 0</th>\n",
              "      <th>BOROUGH</th>\n",
              "      <th>NEIGHBORHOOD</th>\n",
              "      <th>BUILDING CLASS CATEGORY</th>\n",
              "      <th>TAX CLASS AT PRESENT</th>\n",
              "      <th>BLOCK</th>\n",
              "      <th>LOT</th>\n",
              "      <th>EASE-MENT</th>\n",
              "      <th>BUILDING CLASS AT PRESENT</th>\n",
              "      <th>ADDRESS</th>\n",
              "      <th>APARTMENT NUMBER</th>\n",
              "      <th>ZIP CODE</th>\n",
              "      <th>RESIDENTIAL UNITS</th>\n",
              "      <th>COMMERCIAL UNITS</th>\n",
              "      <th>TOTAL UNITS</th>\n",
              "      <th>LAND SQUARE FEET</th>\n",
              "      <th>GROSS SQUARE FEET</th>\n",
              "      <th>YEAR BUILT</th>\n",
              "      <th>TAX CLASS AT TIME OF SALE</th>\n",
              "      <th>BUILDING CLASS AT TIME OF SALE</th>\n",
              "      <th>SALE PRICE</th>\n",
              "      <th>SALE DATE</th>\n",
              "    </tr>\n",
              "  </thead>\n",
              "  <tbody>\n",
              "    <tr>\n",
              "      <th>0</th>\n",
              "      <td>4</td>\n",
              "      <td>1</td>\n",
              "      <td>ALPHABET CITY</td>\n",
              "      <td>07 RENTALS - WALKUP APARTMENTS</td>\n",
              "      <td>2A</td>\n",
              "      <td>392</td>\n",
              "      <td>6</td>\n",
              "      <td></td>\n",
              "      <td>C2</td>\n",
              "      <td>153 AVENUE B</td>\n",
              "      <td></td>\n",
              "      <td>10009</td>\n",
              "      <td>5</td>\n",
              "      <td>0</td>\n",
              "      <td>5</td>\n",
              "      <td>1633</td>\n",
              "      <td>6440</td>\n",
              "      <td>1900</td>\n",
              "      <td>2</td>\n",
              "      <td>C2</td>\n",
              "      <td>6625000</td>\n",
              "      <td>2017-07-19 00:00:00</td>\n",
              "    </tr>\n",
              "    <tr>\n",
              "      <th>1</th>\n",
              "      <td>5</td>\n",
              "      <td>1</td>\n",
              "      <td>ALPHABET CITY</td>\n",
              "      <td>07 RENTALS - WALKUP APARTMENTS</td>\n",
              "      <td>2</td>\n",
              "      <td>399</td>\n",
              "      <td>26</td>\n",
              "      <td></td>\n",
              "      <td>C7</td>\n",
              "      <td>234 EAST 4TH   STREET</td>\n",
              "      <td></td>\n",
              "      <td>10009</td>\n",
              "      <td>28</td>\n",
              "      <td>3</td>\n",
              "      <td>31</td>\n",
              "      <td>4616</td>\n",
              "      <td>18690</td>\n",
              "      <td>1900</td>\n",
              "      <td>2</td>\n",
              "      <td>C7</td>\n",
              "      <td>-</td>\n",
              "      <td>2016-12-14 00:00:00</td>\n",
              "    </tr>\n",
              "    <tr>\n",
              "      <th>2</th>\n",
              "      <td>6</td>\n",
              "      <td>1</td>\n",
              "      <td>ALPHABET CITY</td>\n",
              "      <td>07 RENTALS - WALKUP APARTMENTS</td>\n",
              "      <td>2</td>\n",
              "      <td>399</td>\n",
              "      <td>39</td>\n",
              "      <td></td>\n",
              "      <td>C7</td>\n",
              "      <td>197 EAST 3RD   STREET</td>\n",
              "      <td></td>\n",
              "      <td>10009</td>\n",
              "      <td>16</td>\n",
              "      <td>1</td>\n",
              "      <td>17</td>\n",
              "      <td>2212</td>\n",
              "      <td>7803</td>\n",
              "      <td>1900</td>\n",
              "      <td>2</td>\n",
              "      <td>C7</td>\n",
              "      <td>-</td>\n",
              "      <td>2016-12-09 00:00:00</td>\n",
              "    </tr>\n",
              "    <tr>\n",
              "      <th>3</th>\n",
              "      <td>7</td>\n",
              "      <td>1</td>\n",
              "      <td>ALPHABET CITY</td>\n",
              "      <td>07 RENTALS - WALKUP APARTMENTS</td>\n",
              "      <td>2B</td>\n",
              "      <td>402</td>\n",
              "      <td>21</td>\n",
              "      <td></td>\n",
              "      <td>C4</td>\n",
              "      <td>154 EAST 7TH STREET</td>\n",
              "      <td></td>\n",
              "      <td>10009</td>\n",
              "      <td>10</td>\n",
              "      <td>0</td>\n",
              "      <td>10</td>\n",
              "      <td>2272</td>\n",
              "      <td>6794</td>\n",
              "      <td>1913</td>\n",
              "      <td>2</td>\n",
              "      <td>C4</td>\n",
              "      <td>3936272</td>\n",
              "      <td>2016-09-23 00:00:00</td>\n",
              "    </tr>\n",
              "    <tr>\n",
              "      <th>4</th>\n",
              "      <td>8</td>\n",
              "      <td>1</td>\n",
              "      <td>ALPHABET CITY</td>\n",
              "      <td>07 RENTALS - WALKUP APARTMENTS</td>\n",
              "      <td>2A</td>\n",
              "      <td>404</td>\n",
              "      <td>55</td>\n",
              "      <td></td>\n",
              "      <td>C2</td>\n",
              "      <td>301 EAST 10TH   STREET</td>\n",
              "      <td></td>\n",
              "      <td>10009</td>\n",
              "      <td>6</td>\n",
              "      <td>0</td>\n",
              "      <td>6</td>\n",
              "      <td>2369</td>\n",
              "      <td>4615</td>\n",
              "      <td>1900</td>\n",
              "      <td>2</td>\n",
              "      <td>C2</td>\n",
              "      <td>8000000</td>\n",
              "      <td>2016-11-17 00:00:00</td>\n",
              "    </tr>\n",
              "  </tbody>\n",
              "</table>\n",
              "</div>"
            ],
            "text/plain": [
              "   Unnamed: 0  BOROUGH  ... SALE PRICE            SALE DATE\n",
              "0           4        1  ...    6625000  2017-07-19 00:00:00\n",
              "1           5        1  ...        -    2016-12-14 00:00:00\n",
              "2           6        1  ...        -    2016-12-09 00:00:00\n",
              "3           7        1  ...    3936272  2016-09-23 00:00:00\n",
              "4           8        1  ...    8000000  2016-11-17 00:00:00\n",
              "\n",
              "[5 rows x 22 columns]"
            ]
          },
          "metadata": {
            "tags": []
          },
          "execution_count": 2
        }
      ]
    },
    {
      "cell_type": "markdown",
      "metadata": {
        "id": "Eo5gK6nE-G6L",
        "colab_type": "text"
      },
      "source": [
        "#1) Data Clean"
      ]
    },
    {
      "cell_type": "markdown",
      "metadata": {
        "id": "TUBrhCUO_6gV",
        "colab_type": "text"
      },
      "source": [
        "First of all, we want to drop thoese useless columns and to check whether there are any duplicate values in our dataset. If there is any, we will need to drop them."
      ]
    },
    {
      "cell_type": "code",
      "metadata": {
        "id": "2m-kVUmMSGNy",
        "colab_type": "code",
        "colab": {
          "base_uri": "https://localhost:8080/",
          "height": 52
        },
        "outputId": "26438037-10b9-41de-9ab4-6928f8de7657"
      },
      "source": [
        "%%time\n",
        "# \"Unname: 0\" column looks like useless, drop it.\n",
        "del df['Unnamed: 0']\n",
        "#\"EASE-MENT\" column is empty, we are going to drop it.\n",
        "del df['EASE-MENT']\n",
        "\n",
        "del df['SALE DATE']"
      ],
      "execution_count": null,
      "outputs": [
        {
          "output_type": "stream",
          "text": [
            "CPU times: user 12.3 ms, sys: 5.74 ms, total: 18.1 ms\n",
            "Wall time: 20.2 ms\n"
          ],
          "name": "stdout"
        }
      ]
    },
    {
      "cell_type": "code",
      "metadata": {
        "id": "Cvqw8SvN_457",
        "colab_type": "code",
        "colab": {
          "base_uri": "https://localhost:8080/",
          "height": 34
        },
        "outputId": "6fb79efe-7ff8-4a30-bb25-751321af9e61"
      },
      "source": [
        "sum(df.duplicated(df.columns))\n",
        "df = df.drop_duplicates(df.columns, keep='last')\n",
        "df.shape"
      ],
      "execution_count": null,
      "outputs": [
        {
          "output_type": "execute_result",
          "data": {
            "text/plain": [
              "(83190, 19)"
            ]
          },
          "metadata": {
            "tags": []
          },
          "execution_count": 61
        }
      ]
    },
    {
      "cell_type": "markdown",
      "metadata": {
        "id": "I7UWV8-UBFzA",
        "colab_type": "text"
      },
      "source": [
        "Now, Let's look into details."
      ]
    },
    {
      "cell_type": "code",
      "metadata": {
        "id": "htSGOtHWUvQf",
        "colab_type": "code",
        "colab": {
          "base_uri": "https://localhost:8080/",
          "height": 478
        },
        "outputId": "bd6bb03f-1dee-4f92-ad08-1f8d62d1b91d"
      },
      "source": [
        "df.info()"
      ],
      "execution_count": null,
      "outputs": [
        {
          "output_type": "stream",
          "text": [
            "<class 'pandas.core.frame.DataFrame'>\n",
            "Int64Index: 83190 entries, 0 to 84547\n",
            "Data columns (total 19 columns):\n",
            " #   Column                          Non-Null Count  Dtype \n",
            "---  ------                          --------------  ----- \n",
            " 0   BOROUGH                         83190 non-null  int64 \n",
            " 1   NEIGHBORHOOD                    83190 non-null  object\n",
            " 2   BUILDING CLASS CATEGORY         83190 non-null  object\n",
            " 3   TAX CLASS AT PRESENT            83190 non-null  object\n",
            " 4   BLOCK                           83190 non-null  int64 \n",
            " 5   LOT                             83190 non-null  int64 \n",
            " 6   BUILDING CLASS AT PRESENT       83190 non-null  object\n",
            " 7   ADDRESS                         83190 non-null  object\n",
            " 8   APARTMENT NUMBER                83190 non-null  object\n",
            " 9   ZIP CODE                        83190 non-null  int64 \n",
            " 10  RESIDENTIAL UNITS               83190 non-null  int64 \n",
            " 11  COMMERCIAL UNITS                83190 non-null  int64 \n",
            " 12  TOTAL UNITS                     83190 non-null  int64 \n",
            " 13  LAND SQUARE FEET                83190 non-null  object\n",
            " 14  GROSS SQUARE FEET               83190 non-null  object\n",
            " 15  YEAR BUILT                      83190 non-null  int64 \n",
            " 16  TAX CLASS AT TIME OF SALE       83190 non-null  int64 \n",
            " 17  BUILDING CLASS AT TIME OF SALE  83190 non-null  object\n",
            " 18  SALE PRICE                      83190 non-null  object\n",
            "dtypes: int64(9), object(10)\n",
            "memory usage: 12.7+ MB\n"
          ],
          "name": "stdout"
        }
      ]
    },
    {
      "cell_type": "markdown",
      "metadata": {
        "id": "20mGNQvqLwJd",
        "colab_type": "text"
      },
      "source": [
        "After browsing the information of dataset, we can see they use \"-\" to represent the missing values. Before prediction, we should clean these rows in the data table. Some of them should not be counted as the sale of real estate. For example, in column \"SALE PRICE\", these properties with 0 value might be transferred as a gift. \n",
        "\n",
        "Before cleaning missing values, We need to convert some of the columns(for example, SALE PRICE is object, SALE DATE is object, etc) to appropriate datatype."
      ]
    },
    {
      "cell_type": "code",
      "metadata": {
        "id": "y6Ti1ywdEuNz",
        "colab_type": "code",
        "colab": {}
      },
      "source": [
        "df['SALE PRICE'] = pd.to_numeric(df['SALE PRICE'], errors='coerce')\n",
        "df['LAND SQUARE FEET'] = pd.to_numeric(df['LAND SQUARE FEET'], errors='coerce')\n",
        "df['GROSS SQUARE FEET']= pd.to_numeric(df['GROSS SQUARE FEET'], errors='coerce')\n",
        "df['TAX CLASS AT PRESENT'] = df['TAX CLASS AT PRESENT'].astype('category')\n",
        "df['TAX CLASS AT PRESENT'] = df['TAX CLASS AT PRESENT'].astype('category')\n",
        "df['BOROUGH'] = df['BOROUGH'].astype('category')\n"
      ],
      "execution_count": null,
      "outputs": []
    },
    {
      "cell_type": "code",
      "metadata": {
        "id": "j95V0sE0S-tw",
        "colab_type": "code",
        "colab": {
          "base_uri": "https://localhost:8080/",
          "height": 34
        },
        "outputId": "a743505f-c69a-4e12-d074-3f64949e6af4"
      },
      "source": [
        "df.shape\n"
      ],
      "execution_count": null,
      "outputs": [
        {
          "output_type": "execute_result",
          "data": {
            "text/plain": [
              "(83190, 19)"
            ]
          },
          "metadata": {
            "tags": []
          },
          "execution_count": 64
        }
      ]
    },
    {
      "cell_type": "code",
      "metadata": {
        "id": "74ejJcPNHlFX",
        "colab_type": "code",
        "colab": {
          "base_uri": "https://localhost:8080/",
          "height": 478
        },
        "outputId": "5fff357f-e0ae-481a-a500-7209d0c343de"
      },
      "source": [
        "df.info()"
      ],
      "execution_count": null,
      "outputs": [
        {
          "output_type": "stream",
          "text": [
            "<class 'pandas.core.frame.DataFrame'>\n",
            "Int64Index: 83190 entries, 0 to 84547\n",
            "Data columns (total 19 columns):\n",
            " #   Column                          Non-Null Count  Dtype   \n",
            "---  ------                          --------------  -----   \n",
            " 0   BOROUGH                         83190 non-null  category\n",
            " 1   NEIGHBORHOOD                    83190 non-null  object  \n",
            " 2   BUILDING CLASS CATEGORY         83190 non-null  object  \n",
            " 3   TAX CLASS AT PRESENT            83190 non-null  category\n",
            " 4   BLOCK                           83190 non-null  int64   \n",
            " 5   LOT                             83190 non-null  int64   \n",
            " 6   BUILDING CLASS AT PRESENT       83190 non-null  object  \n",
            " 7   ADDRESS                         83190 non-null  object  \n",
            " 8   APARTMENT NUMBER                83190 non-null  object  \n",
            " 9   ZIP CODE                        83190 non-null  int64   \n",
            " 10  RESIDENTIAL UNITS               83190 non-null  int64   \n",
            " 11  COMMERCIAL UNITS                83190 non-null  int64   \n",
            " 12  TOTAL UNITS                     83190 non-null  int64   \n",
            " 13  LAND SQUARE FEET                57217 non-null  float64 \n",
            " 14  GROSS SQUARE FEET               55913 non-null  float64 \n",
            " 15  YEAR BUILT                      83190 non-null  int64   \n",
            " 16  TAX CLASS AT TIME OF SALE       83190 non-null  int64   \n",
            " 17  BUILDING CLASS AT TIME OF SALE  83190 non-null  object  \n",
            " 18  SALE PRICE                      69281 non-null  float64 \n",
            "dtypes: category(2), float64(3), int64(8), object(6)\n",
            "memory usage: 11.6+ MB\n"
          ],
          "name": "stdout"
        }
      ]
    },
    {
      "cell_type": "code",
      "metadata": {
        "id": "7bxrLnLiEG_7",
        "colab_type": "code",
        "colab": {}
      },
      "source": [
        "variables = df.columns\n",
        "\n",
        "data = []\n",
        "for variable in variables:\n",
        "  l = df[variable].count()\n",
        "  data.append(l)\n",
        "available_per = np.round(pd.Series(data)/len(df), 3)"
      ],
      "execution_count": null,
      "outputs": []
    },
    {
      "cell_type": "code",
      "metadata": {
        "id": "tKiqJIuZEiGI",
        "colab_type": "code",
        "colab": {
          "base_uri": "https://localhost:8080/",
          "height": 392
        },
        "outputId": "42469163-ec41-4fda-935b-a81e3b8ab1f2"
      },
      "source": [
        "plt.figure(figsize=(8,6))\n",
        "plt.barh(variables, available_per)\n",
        "plt.title(\"Percent of available data\", fontsize=15)\n",
        "plt.show()"
      ],
      "execution_count": null,
      "outputs": [
        {
          "output_type": "display_data",
          "data": {
            "image/png": "[encoded data removed]",
            "text/plain": [
              "<Figure size 576x432 with 1 Axes>"
            ]
          },
          "metadata": {
            "tags": [],
            "needs_background": "light"
          }
        }
      ]
    },
    {
      "cell_type": "markdown",
      "metadata": {
        "id": "SDz8IvrdF4Oz",
        "colab_type": "text"
      },
      "source": [
        "As shown in the figure, SALE PRICE, GROSS SQUARE FEET and LAND SQUARE FEET have the lowest percent of available data. But again, SALE PRICE is the value we wanted to predict, and as the data set description states:\n",
        "\n",
        "*Many sales occur with a nonsensically small dollar amount: $0 most commonly. These sales are actually transfers of deeds between parties: for example, parents transferring ownership to their home to a child after moving out for retirement.* We may want to drop those rows.\n",
        "\n",
        "For SQUARE FEET, in this case, we will use mean values to fill them up."
      ]
    },
    {
      "cell_type": "code",
      "metadata": {
        "id": "A_MFibUyM3Fp",
        "colab_type": "code",
        "colab": {
          "base_uri": "https://localhost:8080/",
          "height": 34
        },
        "outputId": "b5e071d6-bdb4-4cba-d0d9-c3d5d611414a"
      },
      "source": [
        "df=df[df['SALE PRICE']!=0]\n",
        "df['LAND SQUARE FEET']=df['LAND SQUARE FEET'].fillna(df['LAND SQUARE FEET'].mean())\n",
        "df['GROSS SQUARE FEET']=df['GROSS SQUARE FEET'].fillna(df['GROSS SQUARE FEET'].mean())\n",
        "df.shape"
      ],
      "execution_count": null,
      "outputs": [
        {
          "output_type": "execute_result",
          "data": {
            "text/plain": [
              "(73450, 19)"
            ]
          },
          "metadata": {
            "tags": []
          },
          "execution_count": 68
        }
      ]
    },
    {
      "cell_type": "code",
      "metadata": {
        "id": "r0aWxeKKOdH0",
        "colab_type": "code",
        "colab": {}
      },
      "source": [
        "# Splitting dataset \n",
        "test=df[df['SALE PRICE'].isna()]\n",
        "sale_house=df[~df['SALE PRICE'].isna()]"
      ],
      "execution_count": null,
      "outputs": []
    },
    {
      "cell_type": "code",
      "metadata": {
        "id": "e1FDQ8zL7YiG",
        "colab_type": "code",
        "colab": {}
      },
      "source": [
        "test = test.drop(columns='SALE PRICE')"
      ],
      "execution_count": null,
      "outputs": []
    },
    {
      "cell_type": "code",
      "metadata": {
        "id": "PqKUdXdd7dXQ",
        "colab_type": "code",
        "colab": {
          "base_uri": "https://localhost:8080/",
          "height": 432
        },
        "outputId": "e662b216-2f44-40f8-cf60-ac6cfc1e04e6"
      },
      "source": [
        "print(test.shape)\n",
        "test.head()"
      ],
      "execution_count": null,
      "outputs": [
        {
          "output_type": "stream",
          "text": [
            "(13909, 18)\n"
          ],
          "name": "stdout"
        },
        {
          "output_type": "execute_result",
          "data": {
            "text/html": [
              "<div>\n",
              "<style scoped>\n",
              "    .dataframe tbody tr th:only-of-type {\n",
              "        vertical-align: middle;\n",
              "    }\n",
              "\n",
              "    .dataframe tbody tr th {\n",
              "        vertical-align: top;\n",
              "    }\n",
              "\n",
              "    .dataframe thead th {\n",
              "        text-align: right;\n",
              "    }\n",
              "</style>\n",
              "<table border=\"1\" class=\"dataframe\">\n",
              "  <thead>\n",
              "    <tr style=\"text-align: right;\">\n",
              "      <th></th>\n",
              "      <th>BOROUGH</th>\n",
              "      <th>NEIGHBORHOOD</th>\n",
              "      <th>BUILDING CLASS CATEGORY</th>\n",
              "      <th>TAX CLASS AT PRESENT</th>\n",
              "      <th>BLOCK</th>\n",
              "      <th>LOT</th>\n",
              "      <th>BUILDING CLASS AT PRESENT</th>\n",
              "      <th>ADDRESS</th>\n",
              "      <th>APARTMENT NUMBER</th>\n",
              "      <th>ZIP CODE</th>\n",
              "      <th>RESIDENTIAL UNITS</th>\n",
              "      <th>COMMERCIAL UNITS</th>\n",
              "      <th>TOTAL UNITS</th>\n",
              "      <th>LAND SQUARE FEET</th>\n",
              "      <th>GROSS SQUARE FEET</th>\n",
              "      <th>YEAR BUILT</th>\n",
              "      <th>TAX CLASS AT TIME OF SALE</th>\n",
              "      <th>BUILDING CLASS AT TIME OF SALE</th>\n",
              "    </tr>\n",
              "  </thead>\n",
              "  <tbody>\n",
              "    <tr>\n",
              "      <th>1</th>\n",
              "      <td>1</td>\n",
              "      <td>ALPHABET CITY</td>\n",
              "      <td>07 RENTALS - WALKUP APARTMENTS</td>\n",
              "      <td>2</td>\n",
              "      <td>399</td>\n",
              "      <td>26</td>\n",
              "      <td>C7</td>\n",
              "      <td>234 EAST 4TH   STREET</td>\n",
              "      <td></td>\n",
              "      <td>10009</td>\n",
              "      <td>28</td>\n",
              "      <td>3</td>\n",
              "      <td>31</td>\n",
              "      <td>4616.0</td>\n",
              "      <td>18690.0</td>\n",
              "      <td>1900</td>\n",
              "      <td>2</td>\n",
              "      <td>C7</td>\n",
              "    </tr>\n",
              "    <tr>\n",
              "      <th>2</th>\n",
              "      <td>1</td>\n",
              "      <td>ALPHABET CITY</td>\n",
              "      <td>07 RENTALS - WALKUP APARTMENTS</td>\n",
              "      <td>2</td>\n",
              "      <td>399</td>\n",
              "      <td>39</td>\n",
              "      <td>C7</td>\n",
              "      <td>197 EAST 3RD   STREET</td>\n",
              "      <td></td>\n",
              "      <td>10009</td>\n",
              "      <td>16</td>\n",
              "      <td>1</td>\n",
              "      <td>17</td>\n",
              "      <td>2212.0</td>\n",
              "      <td>7803.0</td>\n",
              "      <td>1900</td>\n",
              "      <td>2</td>\n",
              "      <td>C7</td>\n",
              "    </tr>\n",
              "    <tr>\n",
              "      <th>5</th>\n",
              "      <td>1</td>\n",
              "      <td>ALPHABET CITY</td>\n",
              "      <td>07 RENTALS - WALKUP APARTMENTS</td>\n",
              "      <td>2</td>\n",
              "      <td>405</td>\n",
              "      <td>16</td>\n",
              "      <td>C4</td>\n",
              "      <td>516 EAST 12TH   STREET</td>\n",
              "      <td></td>\n",
              "      <td>10009</td>\n",
              "      <td>20</td>\n",
              "      <td>0</td>\n",
              "      <td>20</td>\n",
              "      <td>2581.0</td>\n",
              "      <td>9730.0</td>\n",
              "      <td>1900</td>\n",
              "      <td>2</td>\n",
              "      <td>C4</td>\n",
              "    </tr>\n",
              "    <tr>\n",
              "      <th>7</th>\n",
              "      <td>1</td>\n",
              "      <td>ALPHABET CITY</td>\n",
              "      <td>07 RENTALS - WALKUP APARTMENTS</td>\n",
              "      <td>2</td>\n",
              "      <td>407</td>\n",
              "      <td>18</td>\n",
              "      <td>C7</td>\n",
              "      <td>520 EAST 14TH   STREET</td>\n",
              "      <td></td>\n",
              "      <td>10009</td>\n",
              "      <td>44</td>\n",
              "      <td>2</td>\n",
              "      <td>46</td>\n",
              "      <td>5163.0</td>\n",
              "      <td>21007.0</td>\n",
              "      <td>1900</td>\n",
              "      <td>2</td>\n",
              "      <td>C7</td>\n",
              "    </tr>\n",
              "    <tr>\n",
              "      <th>8</th>\n",
              "      <td>1</td>\n",
              "      <td>ALPHABET CITY</td>\n",
              "      <td>08 RENTALS - ELEVATOR APARTMENTS</td>\n",
              "      <td>2</td>\n",
              "      <td>379</td>\n",
              "      <td>34</td>\n",
              "      <td>D5</td>\n",
              "      <td>141 AVENUE D</td>\n",
              "      <td></td>\n",
              "      <td>10009</td>\n",
              "      <td>15</td>\n",
              "      <td>0</td>\n",
              "      <td>15</td>\n",
              "      <td>1534.0</td>\n",
              "      <td>9198.0</td>\n",
              "      <td>1920</td>\n",
              "      <td>2</td>\n",
              "      <td>D5</td>\n",
              "    </tr>\n",
              "  </tbody>\n",
              "</table>\n",
              "</div>"
            ],
            "text/plain": [
              "  BOROUGH  ... BUILDING CLASS AT TIME OF SALE\n",
              "1       1  ...                             C7\n",
              "2       1  ...                             C7\n",
              "5       1  ...                             C4\n",
              "7       1  ...                             C7\n",
              "8       1  ...                             D5\n",
              "\n",
              "[5 rows x 18 columns]"
            ]
          },
          "metadata": {
            "tags": []
          },
          "execution_count": 71
        }
      ]
    },
    {
      "cell_type": "markdown",
      "metadata": {
        "id": "Wnal5oAeNIG7",
        "colab_type": "text"
      },
      "source": [
        "Now Let's recap and revisit the details of the remaining dataset."
      ]
    },
    {
      "cell_type": "code",
      "metadata": {
        "id": "_y_fK8Pw70Bd",
        "colab_type": "code",
        "colab": {
          "base_uri": "https://localhost:8080/",
          "height": 932
        },
        "outputId": "fa1fb30a-ad73-4fb5-89c6-f58c213698cd"
      },
      "source": [
        "print(sale_house.shape)\n",
        "sale_house.head(10)"
      ],
      "execution_count": null,
      "outputs": [
        {
          "output_type": "stream",
          "text": [
            "(59541, 19)\n"
          ],
          "name": "stdout"
        },
        {
          "output_type": "execute_result",
          "data": {
            "text/html": [
              "<div>\n",
              "<style scoped>\n",
              "    .dataframe tbody tr th:only-of-type {\n",
              "        vertical-align: middle;\n",
              "    }\n",
              "\n",
              "    .dataframe tbody tr th {\n",
              "        vertical-align: top;\n",
              "    }\n",
              "\n",
              "    .dataframe thead th {\n",
              "        text-align: right;\n",
              "    }\n",
              "</style>\n",
              "<table border=\"1\" class=\"dataframe\">\n",
              "  <thead>\n",
              "    <tr style=\"text-align: right;\">\n",
              "      <th></th>\n",
              "      <th>BOROUGH</th>\n",
              "      <th>NEIGHBORHOOD</th>\n",
              "      <th>BUILDING CLASS CATEGORY</th>\n",
              "      <th>TAX CLASS AT PRESENT</th>\n",
              "      <th>BLOCK</th>\n",
              "      <th>LOT</th>\n",
              "      <th>BUILDING CLASS AT PRESENT</th>\n",
              "      <th>ADDRESS</th>\n",
              "      <th>APARTMENT NUMBER</th>\n",
              "      <th>ZIP CODE</th>\n",
              "      <th>RESIDENTIAL UNITS</th>\n",
              "      <th>COMMERCIAL UNITS</th>\n",
              "      <th>TOTAL UNITS</th>\n",
              "      <th>LAND SQUARE FEET</th>\n",
              "      <th>GROSS SQUARE FEET</th>\n",
              "      <th>YEAR BUILT</th>\n",
              "      <th>TAX CLASS AT TIME OF SALE</th>\n",
              "      <th>BUILDING CLASS AT TIME OF SALE</th>\n",
              "      <th>SALE PRICE</th>\n",
              "    </tr>\n",
              "  </thead>\n",
              "  <tbody>\n",
              "    <tr>\n",
              "      <th>0</th>\n",
              "      <td>1</td>\n",
              "      <td>ALPHABET CITY</td>\n",
              "      <td>07 RENTALS - WALKUP APARTMENTS</td>\n",
              "      <td>2A</td>\n",
              "      <td>392</td>\n",
              "      <td>6</td>\n",
              "      <td>C2</td>\n",
              "      <td>153 AVENUE B</td>\n",
              "      <td></td>\n",
              "      <td>10009</td>\n",
              "      <td>5</td>\n",
              "      <td>0</td>\n",
              "      <td>5</td>\n",
              "      <td>1633.000000</td>\n",
              "      <td>6440.000000</td>\n",
              "      <td>1900</td>\n",
              "      <td>2</td>\n",
              "      <td>C2</td>\n",
              "      <td>6625000.0</td>\n",
              "    </tr>\n",
              "    <tr>\n",
              "      <th>3</th>\n",
              "      <td>1</td>\n",
              "      <td>ALPHABET CITY</td>\n",
              "      <td>07 RENTALS - WALKUP APARTMENTS</td>\n",
              "      <td>2B</td>\n",
              "      <td>402</td>\n",
              "      <td>21</td>\n",
              "      <td>C4</td>\n",
              "      <td>154 EAST 7TH STREET</td>\n",
              "      <td></td>\n",
              "      <td>10009</td>\n",
              "      <td>10</td>\n",
              "      <td>0</td>\n",
              "      <td>10</td>\n",
              "      <td>2272.000000</td>\n",
              "      <td>6794.000000</td>\n",
              "      <td>1913</td>\n",
              "      <td>2</td>\n",
              "      <td>C4</td>\n",
              "      <td>3936272.0</td>\n",
              "    </tr>\n",
              "    <tr>\n",
              "      <th>4</th>\n",
              "      <td>1</td>\n",
              "      <td>ALPHABET CITY</td>\n",
              "      <td>07 RENTALS - WALKUP APARTMENTS</td>\n",
              "      <td>2A</td>\n",
              "      <td>404</td>\n",
              "      <td>55</td>\n",
              "      <td>C2</td>\n",
              "      <td>301 EAST 10TH   STREET</td>\n",
              "      <td></td>\n",
              "      <td>10009</td>\n",
              "      <td>6</td>\n",
              "      <td>0</td>\n",
              "      <td>6</td>\n",
              "      <td>2369.000000</td>\n",
              "      <td>4615.000000</td>\n",
              "      <td>1900</td>\n",
              "      <td>2</td>\n",
              "      <td>C2</td>\n",
              "      <td>8000000.0</td>\n",
              "    </tr>\n",
              "    <tr>\n",
              "      <th>6</th>\n",
              "      <td>1</td>\n",
              "      <td>ALPHABET CITY</td>\n",
              "      <td>07 RENTALS - WALKUP APARTMENTS</td>\n",
              "      <td>2B</td>\n",
              "      <td>406</td>\n",
              "      <td>32</td>\n",
              "      <td>C4</td>\n",
              "      <td>210 AVENUE B</td>\n",
              "      <td></td>\n",
              "      <td>10009</td>\n",
              "      <td>8</td>\n",
              "      <td>0</td>\n",
              "      <td>8</td>\n",
              "      <td>1750.000000</td>\n",
              "      <td>4226.000000</td>\n",
              "      <td>1920</td>\n",
              "      <td>2</td>\n",
              "      <td>C4</td>\n",
              "      <td>3192840.0</td>\n",
              "    </tr>\n",
              "    <tr>\n",
              "      <th>9</th>\n",
              "      <td>1</td>\n",
              "      <td>ALPHABET CITY</td>\n",
              "      <td>08 RENTALS - ELEVATOR APARTMENTS</td>\n",
              "      <td>2</td>\n",
              "      <td>387</td>\n",
              "      <td>153</td>\n",
              "      <td>D9</td>\n",
              "      <td>629 EAST 5TH STREET</td>\n",
              "      <td></td>\n",
              "      <td>10009</td>\n",
              "      <td>24</td>\n",
              "      <td>0</td>\n",
              "      <td>24</td>\n",
              "      <td>4489.000000</td>\n",
              "      <td>18523.000000</td>\n",
              "      <td>1920</td>\n",
              "      <td>2</td>\n",
              "      <td>D9</td>\n",
              "      <td>16232000.0</td>\n",
              "    </tr>\n",
              "    <tr>\n",
              "      <th>11</th>\n",
              "      <td>1</td>\n",
              "      <td>ALPHABET CITY</td>\n",
              "      <td>08 RENTALS - ELEVATOR APARTMENTS</td>\n",
              "      <td>2B</td>\n",
              "      <td>400</td>\n",
              "      <td>21</td>\n",
              "      <td>D1</td>\n",
              "      <td>530-532 EAST 5TH STREET</td>\n",
              "      <td></td>\n",
              "      <td>10009</td>\n",
              "      <td>10</td>\n",
              "      <td>0</td>\n",
              "      <td>10</td>\n",
              "      <td>3717.000000</td>\n",
              "      <td>12350.000000</td>\n",
              "      <td>2009</td>\n",
              "      <td>2</td>\n",
              "      <td>D1</td>\n",
              "      <td>10350000.0</td>\n",
              "    </tr>\n",
              "    <tr>\n",
              "      <th>12</th>\n",
              "      <td>1</td>\n",
              "      <td>ALPHABET CITY</td>\n",
              "      <td>09 COOPS - WALKUP APARTMENTS</td>\n",
              "      <td>2</td>\n",
              "      <td>373</td>\n",
              "      <td>40</td>\n",
              "      <td>C6</td>\n",
              "      <td>327 EAST 3 STREET, 1C</td>\n",
              "      <td></td>\n",
              "      <td>10009</td>\n",
              "      <td>0</td>\n",
              "      <td>0</td>\n",
              "      <td>0</td>\n",
              "      <td>4036.387388</td>\n",
              "      <td>3882.820176</td>\n",
              "      <td>1920</td>\n",
              "      <td>2</td>\n",
              "      <td>C6</td>\n",
              "      <td>1.0</td>\n",
              "    </tr>\n",
              "    <tr>\n",
              "      <th>13</th>\n",
              "      <td>1</td>\n",
              "      <td>ALPHABET CITY</td>\n",
              "      <td>09 COOPS - WALKUP APARTMENTS</td>\n",
              "      <td>2</td>\n",
              "      <td>373</td>\n",
              "      <td>40</td>\n",
              "      <td>C6</td>\n",
              "      <td>327 EAST 3 STREET, 1C</td>\n",
              "      <td></td>\n",
              "      <td>10009</td>\n",
              "      <td>0</td>\n",
              "      <td>0</td>\n",
              "      <td>0</td>\n",
              "      <td>4036.387388</td>\n",
              "      <td>3882.820176</td>\n",
              "      <td>1920</td>\n",
              "      <td>2</td>\n",
              "      <td>C6</td>\n",
              "      <td>499000.0</td>\n",
              "    </tr>\n",
              "    <tr>\n",
              "      <th>14</th>\n",
              "      <td>1</td>\n",
              "      <td>ALPHABET CITY</td>\n",
              "      <td>09 COOPS - WALKUP APARTMENTS</td>\n",
              "      <td>2</td>\n",
              "      <td>373</td>\n",
              "      <td>40</td>\n",
              "      <td>C6</td>\n",
              "      <td>327 EAST 3 STREET, 3A</td>\n",
              "      <td></td>\n",
              "      <td>10009</td>\n",
              "      <td>0</td>\n",
              "      <td>0</td>\n",
              "      <td>0</td>\n",
              "      <td>4036.387388</td>\n",
              "      <td>3882.820176</td>\n",
              "      <td>1920</td>\n",
              "      <td>2</td>\n",
              "      <td>C6</td>\n",
              "      <td>10.0</td>\n",
              "    </tr>\n",
              "    <tr>\n",
              "      <th>15</th>\n",
              "      <td>1</td>\n",
              "      <td>ALPHABET CITY</td>\n",
              "      <td>09 COOPS - WALKUP APARTMENTS</td>\n",
              "      <td>2</td>\n",
              "      <td>373</td>\n",
              "      <td>40</td>\n",
              "      <td>C6</td>\n",
              "      <td>327 EAST 3RD STREET, 5A</td>\n",
              "      <td></td>\n",
              "      <td>10009</td>\n",
              "      <td>0</td>\n",
              "      <td>0</td>\n",
              "      <td>0</td>\n",
              "      <td>4036.387388</td>\n",
              "      <td>3882.820176</td>\n",
              "      <td>1920</td>\n",
              "      <td>2</td>\n",
              "      <td>C6</td>\n",
              "      <td>529500.0</td>\n",
              "    </tr>\n",
              "  </tbody>\n",
              "</table>\n",
              "</div>"
            ],
            "text/plain": [
              "   BOROUGH   NEIGHBORHOOD  ... BUILDING CLASS AT TIME OF SALE  SALE PRICE\n",
              "0        1  ALPHABET CITY  ...                             C2   6625000.0\n",
              "3        1  ALPHABET CITY  ...                             C4   3936272.0\n",
              "4        1  ALPHABET CITY  ...                             C2   8000000.0\n",
              "6        1  ALPHABET CITY  ...                             C4   3192840.0\n",
              "9        1  ALPHABET CITY  ...                             D9  16232000.0\n",
              "11       1  ALPHABET CITY  ...                             D1  10350000.0\n",
              "12       1  ALPHABET CITY  ...                             C6         1.0\n",
              "13       1  ALPHABET CITY  ...                             C6    499000.0\n",
              "14       1  ALPHABET CITY  ...                             C6        10.0\n",
              "15       1  ALPHABET CITY  ...                             C6    529500.0\n",
              "\n",
              "[10 rows x 19 columns]"
            ]
          },
          "metadata": {
            "tags": []
          },
          "execution_count": 72
        }
      ]
    },
    {
      "cell_type": "code",
      "metadata": {
        "id": "OP5UYq4fOx_9",
        "colab_type": "code",
        "colab": {
          "base_uri": "https://localhost:8080/",
          "height": 287
        },
        "outputId": "60f969e1-06b1-4b87-f2c8-585a75a25549"
      },
      "source": [
        "sale_house.describe()"
      ],
      "execution_count": null,
      "outputs": [
        {
          "output_type": "execute_result",
          "data": {
            "text/html": [
              "<div>\n",
              "<style scoped>\n",
              "    .dataframe tbody tr th:only-of-type {\n",
              "        vertical-align: middle;\n",
              "    }\n",
              "\n",
              "    .dataframe tbody tr th {\n",
              "        vertical-align: top;\n",
              "    }\n",
              "\n",
              "    .dataframe thead th {\n",
              "        text-align: right;\n",
              "    }\n",
              "</style>\n",
              "<table border=\"1\" class=\"dataframe\">\n",
              "  <thead>\n",
              "    <tr style=\"text-align: right;\">\n",
              "      <th></th>\n",
              "      <th>BLOCK</th>\n",
              "      <th>LOT</th>\n",
              "      <th>ZIP CODE</th>\n",
              "      <th>RESIDENTIAL UNITS</th>\n",
              "      <th>COMMERCIAL UNITS</th>\n",
              "      <th>TOTAL UNITS</th>\n",
              "      <th>LAND SQUARE FEET</th>\n",
              "      <th>GROSS SQUARE FEET</th>\n",
              "      <th>YEAR BUILT</th>\n",
              "      <th>TAX CLASS AT TIME OF SALE</th>\n",
              "      <th>SALE PRICE</th>\n",
              "    </tr>\n",
              "  </thead>\n",
              "  <tbody>\n",
              "    <tr>\n",
              "      <th>count</th>\n",
              "      <td>59541.000000</td>\n",
              "      <td>59541.000000</td>\n",
              "      <td>59541.000000</td>\n",
              "      <td>59541.000000</td>\n",
              "      <td>59541.000000</td>\n",
              "      <td>59541.000000</td>\n",
              "      <td>5.954100e+04</td>\n",
              "      <td>5.954100e+04</td>\n",
              "      <td>59541.000000</td>\n",
              "      <td>59541.000000</td>\n",
              "      <td>5.954100e+04</td>\n",
              "    </tr>\n",
              "    <tr>\n",
              "      <th>mean</th>\n",
              "      <td>4154.241380</td>\n",
              "      <td>390.978536</td>\n",
              "      <td>10705.972506</td>\n",
              "      <td>1.721033</td>\n",
              "      <td>0.154028</td>\n",
              "      <td>1.887288</td>\n",
              "      <td>3.812962e+03</td>\n",
              "      <td>3.588820e+03</td>\n",
              "      <td>1810.151677</td>\n",
              "      <td>1.628038</td>\n",
              "      <td>1.496977e+06</td>\n",
              "    </tr>\n",
              "    <tr>\n",
              "      <th>std</th>\n",
              "      <td>3569.441667</td>\n",
              "      <td>670.698035</td>\n",
              "      <td>1265.161061</td>\n",
              "      <td>14.114490</td>\n",
              "      <td>9.674913</td>\n",
              "      <td>17.218731</td>\n",
              "      <td>3.556956e+04</td>\n",
              "      <td>2.372531e+04</td>\n",
              "      <td>505.612898</td>\n",
              "      <td>0.702928</td>\n",
              "      <td>1.234578e+07</td>\n",
              "    </tr>\n",
              "    <tr>\n",
              "      <th>min</th>\n",
              "      <td>1.000000</td>\n",
              "      <td>1.000000</td>\n",
              "      <td>0.000000</td>\n",
              "      <td>0.000000</td>\n",
              "      <td>0.000000</td>\n",
              "      <td>0.000000</td>\n",
              "      <td>0.000000e+00</td>\n",
              "      <td>0.000000e+00</td>\n",
              "      <td>0.000000</td>\n",
              "      <td>1.000000</td>\n",
              "      <td>1.000000e+00</td>\n",
              "    </tr>\n",
              "    <tr>\n",
              "      <th>25%</th>\n",
              "      <td>1279.000000</td>\n",
              "      <td>21.000000</td>\n",
              "      <td>10301.000000</td>\n",
              "      <td>0.000000</td>\n",
              "      <td>0.000000</td>\n",
              "      <td>0.000000</td>\n",
              "      <td>2.000000e+03</td>\n",
              "      <td>1.300000e+03</td>\n",
              "      <td>1920.000000</td>\n",
              "      <td>1.000000</td>\n",
              "      <td>3.710000e+05</td>\n",
              "    </tr>\n",
              "    <tr>\n",
              "      <th>50%</th>\n",
              "      <td>3168.000000</td>\n",
              "      <td>50.000000</td>\n",
              "      <td>11207.000000</td>\n",
              "      <td>1.000000</td>\n",
              "      <td>0.000000</td>\n",
              "      <td>1.000000</td>\n",
              "      <td>3.682000e+03</td>\n",
              "      <td>2.528000e+03</td>\n",
              "      <td>1940.000000</td>\n",
              "      <td>2.000000</td>\n",
              "      <td>6.285000e+05</td>\n",
              "    </tr>\n",
              "    <tr>\n",
              "      <th>75%</th>\n",
              "      <td>6111.000000</td>\n",
              "      <td>1002.000000</td>\n",
              "      <td>11357.000000</td>\n",
              "      <td>2.000000</td>\n",
              "      <td>0.000000</td>\n",
              "      <td>2.000000</td>\n",
              "      <td>4.036387e+03</td>\n",
              "      <td>3.882820e+03</td>\n",
              "      <td>1966.000000</td>\n",
              "      <td>2.000000</td>\n",
              "      <td>1.075000e+06</td>\n",
              "    </tr>\n",
              "    <tr>\n",
              "      <th>max</th>\n",
              "      <td>16319.000000</td>\n",
              "      <td>9106.000000</td>\n",
              "      <td>11694.000000</td>\n",
              "      <td>1844.000000</td>\n",
              "      <td>2261.000000</td>\n",
              "      <td>2261.000000</td>\n",
              "      <td>4.252327e+06</td>\n",
              "      <td>3.750565e+06</td>\n",
              "      <td>2017.000000</td>\n",
              "      <td>4.000000</td>\n",
              "      <td>2.210000e+09</td>\n",
              "    </tr>\n",
              "  </tbody>\n",
              "</table>\n",
              "</div>"
            ],
            "text/plain": [
              "              BLOCK           LOT  ...  TAX CLASS AT TIME OF SALE    SALE PRICE\n",
              "count  59541.000000  59541.000000  ...               59541.000000  5.954100e+04\n",
              "mean    4154.241380    390.978536  ...                   1.628038  1.496977e+06\n",
              "std     3569.441667    670.698035  ...                   0.702928  1.234578e+07\n",
              "min        1.000000      1.000000  ...                   1.000000  1.000000e+00\n",
              "25%     1279.000000     21.000000  ...                   1.000000  3.710000e+05\n",
              "50%     3168.000000     50.000000  ...                   2.000000  6.285000e+05\n",
              "75%     6111.000000   1002.000000  ...                   2.000000  1.075000e+06\n",
              "max    16319.000000   9106.000000  ...                   4.000000  2.210000e+09\n",
              "\n",
              "[8 rows x 11 columns]"
            ]
          },
          "metadata": {
            "tags": []
          },
          "execution_count": 73
        }
      ]
    },
    {
      "cell_type": "markdown",
      "metadata": {
        "id": "em3V3l818Kxy",
        "colab_type": "text"
      },
      "source": [
        "According to the above chart, we can observe that \n",
        "\n",
        "1) The min value for ZIP CODE is 0, we don't have ZIP CODE that equals to 0\n",
        "\n",
        "2) The Building Year of some properties are 0, this should be incorrect as well.\n",
        "\n",
        "3) Some properties have 0 SQUARE FEET...\n",
        "\n",
        "Let's fix them\n",
        "\n"
      ]
    },
    {
      "cell_type": "markdown",
      "metadata": {
        "id": "nLKmBT8ri_kX",
        "colab_type": "text"
      },
      "source": [
        "ZIP CODE"
      ]
    },
    {
      "cell_type": "code",
      "metadata": {
        "id": "MsR7OfLejGWJ",
        "colab_type": "code",
        "colab": {
          "base_uri": "https://localhost:8080/",
          "height": 516
        },
        "outputId": "0dbc2b91-d9c6-44df-feb4-ccca090c12da"
      },
      "source": [
        "plt.figure(figsize=(10,8))\n",
        "plt.title(' ZIP CODE ')\n",
        "plt.xlim(0,12000)\n",
        "\n",
        "sale_house['ZIP CODE'].value_counts().sort_index().plot.line()"
      ],
      "execution_count": null,
      "outputs": [
        {
          "output_type": "execute_result",
          "data": {
            "text/plain": [
              "<matplotlib.axes._subplots.AxesSubplot at 0x7f2c68e03780>"
            ]
          },
          "metadata": {
            "tags": []
          },
          "execution_count": 74
        },
        {
          "output_type": "display_data",
          "data": {
            "image/png": "[encoded data removed]",
            "text/plain": [
              "<Figure size 720x576 with 1 Axes>"
            ]
          },
          "metadata": {
            "tags": [],
            "needs_background": "light"
          }
        }
      ]
    },
    {
      "cell_type": "code",
      "metadata": {
        "id": "q8WV6zVej4-_",
        "colab_type": "code",
        "colab": {
          "base_uri": "https://localhost:8080/",
          "height": 34
        },
        "outputId": "bc6618a4-cf36-4455-9910-e8eb4bca81af"
      },
      "source": [
        "#sale_house = sale_house[(sale_house['ZIP CODE'] != 0)]\n",
        "#find the most frequent value for zipcode \n",
        "from collections import Counter\n",
        "zip = Counter(sale_house['ZIP CODE'].tolist()).most_common(1)\n",
        "zip"
      ],
      "execution_count": null,
      "outputs": [
        {
          "output_type": "execute_result",
          "data": {
            "text/plain": [
              "[(10314, 1143)]"
            ]
          },
          "metadata": {
            "tags": []
          },
          "execution_count": 75
        }
      ]
    },
    {
      "cell_type": "code",
      "metadata": {
        "id": "bMnKK9Y8-mow",
        "colab_type": "code",
        "colab": {}
      },
      "source": [
        "# so the most common zipcode is 10314\n",
        "#zipcode=[]\n",
        "#for i in range(len(sale_house['ZIP CODE'])):\n",
        "# if sale_house['ZIP CODE'].tolist()[i] == 0:\n",
        "#   zipcode.append(10314)\n",
        "# else:\n",
        "#   zipcode.append(sale_house['ZIP CODE'].tolist()[i])\n",
        "#sale_house['ZIP CODE'] = zipcode"
      ],
      "execution_count": null,
      "outputs": []
    },
    {
      "cell_type": "code",
      "metadata": {
        "id": "0ildRRvIOoIf",
        "colab_type": "code",
        "colab": {}
      },
      "source": [
        "import numba as nb\n",
        "@nb.jit()\n",
        "def frequent(x,y):\n",
        "  result=[]\n",
        "  for i in range(len(x)):\n",
        "    if x.tolist()[i] == 0:\n",
        "      result.append(y)\n",
        "    else:\n",
        "      result.append(x.tolist()[i])\n",
        "  return result"
      ],
      "execution_count": null,
      "outputs": []
    },
    {
      "cell_type": "code",
      "metadata": {
        "id": "6B2Fbu-0H2_T",
        "colab_type": "code",
        "colab": {
          "base_uri": "https://localhost:8080/",
          "height": 1000
        },
        "outputId": "1e5d4dd4-d876-46a6-f67b-01dde09c2a71"
      },
      "source": [
        "sale_house['ZIP CODE'] = frequent(sale_house['ZIP CODE'], 10314)"
      ],
      "execution_count": null,
      "outputs": [
        {
          "output_type": "stream",
          "text": [
            "<ipython-input-77-53619829ea01>:2: NumbaWarning: \n",
            "Compilation is falling back to object mode WITH looplifting enabled because Function \"frequent\" failed type inference due to: non-precise type pyobject\n",
            "[1] During: typing of argument at <ipython-input-77-53619829ea01> (4)\n",
            "\n",
            "File \"<ipython-input-77-53619829ea01>\", line 4:\n",
            "def frequent(x,y):\n",
            "  result=[]\n",
            "  ^\n",
            "\n",
            "  @nb.jit()\n",
            "<ipython-input-77-53619829ea01>:2: NumbaWarning: \n",
            "Compilation is falling back to object mode WITHOUT looplifting enabled because Function \"frequent\" failed type inference due to: cannot determine Numba type of <class 'numba.dispatcher.LiftedLoop'>\n",
            "\n",
            "File \"<ipython-input-77-53619829ea01>\", line 5:\n",
            "def frequent(x,y):\n",
            "    <source elided>\n",
            "  result=[]\n",
            "  for i in range(len(x)):\n",
            "  ^\n",
            "\n",
            "  @nb.jit()\n",
            "/usr/local/lib/python3.6/dist-packages/numba/object_mode_passes.py:178: NumbaWarning: Function \"frequent\" was compiled in object mode without forceobj=True, but has lifted loops.\n",
            "\n",
            "File \"<ipython-input-77-53619829ea01>\", line 4:\n",
            "def frequent(x,y):\n",
            "  result=[]\n",
            "  ^\n",
            "\n",
            "  state.func_ir.loc))\n",
            "/usr/local/lib/python3.6/dist-packages/numba/object_mode_passes.py:188: NumbaDeprecationWarning: \n",
            "Fall-back from the nopython compilation path to the object mode compilation path has been detected, this is deprecated behaviour.\n",
            "\n",
            "For more information visit http://numba.pydata.org/numba-doc/latest/reference/deprecation.html#deprecation-of-object-mode-fall-back-behaviour-when-using-jit\n",
            "\n",
            "File \"<ipython-input-77-53619829ea01>\", line 4:\n",
            "def frequent(x,y):\n",
            "  result=[]\n",
            "  ^\n",
            "\n",
            "  state.func_ir.loc))\n",
            "<ipython-input-77-53619829ea01>:2: NumbaWarning: \n",
            "Compilation is falling back to object mode WITHOUT looplifting enabled because Function \"frequent\" failed type inference due to: non-precise type pyobject\n",
            "[1] During: typing of argument at <ipython-input-77-53619829ea01> (5)\n",
            "\n",
            "File \"<ipython-input-77-53619829ea01>\", line 5:\n",
            "def frequent(x,y):\n",
            "    <source elided>\n",
            "  result=[]\n",
            "  for i in range(len(x)):\n",
            "  ^\n",
            "\n",
            "  @nb.jit()\n",
            "/usr/local/lib/python3.6/dist-packages/numba/object_mode_passes.py:178: NumbaWarning: Function \"frequent\" was compiled in object mode without forceobj=True.\n",
            "\n",
            "File \"<ipython-input-77-53619829ea01>\", line 5:\n",
            "def frequent(x,y):\n",
            "    <source elided>\n",
            "  result=[]\n",
            "  for i in range(len(x)):\n",
            "  ^\n",
            "\n",
            "  state.func_ir.loc))\n",
            "/usr/local/lib/python3.6/dist-packages/numba/object_mode_passes.py:188: NumbaDeprecationWarning: \n",
            "Fall-back from the nopython compilation path to the object mode compilation path has been detected, this is deprecated behaviour.\n",
            "\n",
            "For more information visit http://numba.pydata.org/numba-doc/latest/reference/deprecation.html#deprecation-of-object-mode-fall-back-behaviour-when-using-jit\n",
            "\n",
            "File \"<ipython-input-77-53619829ea01>\", line 5:\n",
            "def frequent(x,y):\n",
            "    <source elided>\n",
            "  result=[]\n",
            "  for i in range(len(x)):\n",
            "  ^\n",
            "\n",
            "  state.func_ir.loc))\n",
            "/usr/local/lib/python3.6/dist-packages/ipykernel_launcher.py:1: SettingWithCopyWarning: \n",
            "A value is trying to be set on a copy of a slice from a DataFrame.\n",
            "Try using .loc[row_indexer,col_indexer] = value instead\n",
            "\n",
            "See the caveats in the documentation: https://pandas.pydata.org/pandas-docs/stable/user_guide/indexing.html#returning-a-view-versus-a-copy\n",
            "  \"\"\"Entry point for launching an IPython kernel.\n"
          ],
          "name": "stderr"
        }
      ]
    },
    {
      "cell_type": "code",
      "metadata": {
        "id": "3IOsH6YtkYrR",
        "colab_type": "code",
        "colab": {
          "base_uri": "https://localhost:8080/",
          "height": 282
        },
        "outputId": "1e0c4ba4-8eac-4c1f-9839-e8b2a34173dc"
      },
      "source": [
        "sale_house['ZIP CODE'].value_counts().sort_index().plot.line()"
      ],
      "execution_count": null,
      "outputs": [
        {
          "output_type": "execute_result",
          "data": {
            "text/plain": [
              "<matplotlib.axes._subplots.AxesSubplot at 0x7f2c6c2c5860>"
            ]
          },
          "metadata": {
            "tags": []
          },
          "execution_count": 79
        },
        {
          "output_type": "display_data",
          "data": {
            "image/png": "[encoded data removed]",
            "text/plain": [
              "<Figure size 432x288 with 1 Axes>"
            ]
          },
          "metadata": {
            "tags": [],
            "needs_background": "light"
          }
        }
      ]
    },
    {
      "cell_type": "markdown",
      "metadata": {
        "id": "ElMJbcRSc7ra",
        "colab_type": "text"
      },
      "source": [
        "BUILDING YEAR "
      ]
    },
    {
      "cell_type": "code",
      "metadata": {
        "id": "OcCfBJo6dCUZ",
        "colab_type": "code",
        "colab": {
          "base_uri": "https://localhost:8080/",
          "height": 516
        },
        "outputId": "7cc08b3f-c81b-41ae-bc56-bdd196e7c8a2"
      },
      "source": [
        "plt.figure(figsize=(10,8))\n",
        "plt.title(' Year Built ')\n",
        "plt.xlim(1500,2020)\n",
        "\n",
        "sale_house['YEAR BUILT'].value_counts().sort_index().plot.line()"
      ],
      "execution_count": null,
      "outputs": [
        {
          "output_type": "execute_result",
          "data": {
            "text/plain": [
              "<matplotlib.axes._subplots.AxesSubplot at 0x7f2c68be4978>"
            ]
          },
          "metadata": {
            "tags": []
          },
          "execution_count": 80
        },
        {
          "output_type": "display_data",
          "data": {
            "image/png": "[encoded data removed]",
            "text/plain": [
              "<Figure size 720x576 with 1 Axes>"
            ]
          },
          "metadata": {
            "tags": [],
            "needs_background": "light"
          }
        }
      ]
    },
    {
      "cell_type": "code",
      "metadata": {
        "id": "ua6tt2U2gLFL",
        "colab_type": "code",
        "colab": {
          "base_uri": "https://localhost:8080/",
          "height": 34
        },
        "outputId": "e557a219-397d-40de-eae1-6b12b6596402"
      },
      "source": [
        "#sale_house = sale_house[(sale_house['YEAR BUILT'] > 1875)]\n",
        "freyear = Counter(sale_house['YEAR BUILT'].tolist()).most_common(2)\n",
        "freyear"
      ],
      "execution_count": null,
      "outputs": [
        {
          "output_type": "execute_result",
          "data": {
            "text/plain": [
              "[(0, 4292), (1920, 4099)]"
            ]
          },
          "metadata": {
            "tags": []
          },
          "execution_count": 81
        }
      ]
    },
    {
      "cell_type": "code",
      "metadata": {
        "id": "aOqPZsM1Oze9",
        "colab_type": "code",
        "colab": {}
      },
      "source": [
        "#yearBuilt=[]\n",
        "#for i in range(len(sale_house['YEAR BUILT'])):\n",
        "#    if sale_house['YEAR BUILT'].tolist()[i]==0:\n",
        "#        yearBuilt.append(1920)\n",
        "#    else:\n",
        "#        yearBuilt.append(sale_house['YEAR BUILT'].tolist()[i])\n",
        "#sale_house['YEAR BUILT']=yearBuilt\n"
      ],
      "execution_count": null,
      "outputs": []
    },
    {
      "cell_type": "code",
      "metadata": {
        "id": "S6-OkM3CMOuT",
        "colab_type": "code",
        "colab": {
          "base_uri": "https://localhost:8080/",
          "height": 123
        },
        "outputId": "a0702f03-d88f-4547-ed3c-4a3395111555"
      },
      "source": [
        "sale_house['YEAR BUILT'] = frequent(sale_house['YEAR BUILT'], 1920)\n",
        "sale_house = sale_house[(sale_house['YEAR BUILT'] > 1875)]"
      ],
      "execution_count": null,
      "outputs": [
        {
          "output_type": "stream",
          "text": [
            "/usr/local/lib/python3.6/dist-packages/ipykernel_launcher.py:1: SettingWithCopyWarning: \n",
            "A value is trying to be set on a copy of a slice from a DataFrame.\n",
            "Try using .loc[row_indexer,col_indexer] = value instead\n",
            "\n",
            "See the caveats in the documentation: https://pandas.pydata.org/pandas-docs/stable/user_guide/indexing.html#returning-a-view-versus-a-copy\n",
            "  \"\"\"Entry point for launching an IPython kernel.\n"
          ],
          "name": "stderr"
        }
      ]
    },
    {
      "cell_type": "code",
      "metadata": {
        "id": "ibyJ9XSJiXXK",
        "colab_type": "code",
        "colab": {
          "base_uri": "https://localhost:8080/",
          "height": 282
        },
        "outputId": "cf5bf848-e67d-4512-a657-c281aa302186"
      },
      "source": [
        "sale_house['YEAR BUILT'].value_counts().sort_index().plot.line()"
      ],
      "execution_count": null,
      "outputs": [
        {
          "output_type": "execute_result",
          "data": {
            "text/plain": [
              "<matplotlib.axes._subplots.AxesSubplot at 0x7f2c68bdedd8>"
            ]
          },
          "metadata": {
            "tags": []
          },
          "execution_count": 84
        },
        {
          "output_type": "display_data",
          "data": {
            "image/png": "[encoded data removed]",
            "text/plain": [
              "<Figure size 432x288 with 1 Axes>"
            ]
          },
          "metadata": {
            "tags": [],
            "needs_background": "light"
          }
        }
      ]
    },
    {
      "cell_type": "markdown",
      "metadata": {
        "id": "m6vleZKW9UK1",
        "colab_type": "text"
      },
      "source": [
        "Finally, it's time check the outliers in our datasets, let's first look into the column sale price.\n",
        "\n",
        "####SALE PRICE"
      ]
    },
    {
      "cell_type": "code",
      "metadata": {
        "id": "5LPz59-c9dlc",
        "colab_type": "code",
        "colab": {
          "base_uri": "https://localhost:8080/",
          "height": 350
        },
        "outputId": "95925f3b-85e0-4be0-aaa2-078409fcb0f1"
      },
      "source": [
        "plt.figure(figsize=(10,5))\n",
        "\n",
        "sns.boxplot(x='SALE PRICE', data=sale_house)\n",
        "plt.ticklabel_format(style='plain', axis='x')\n",
        "plt.title('SALE PRICE in USD')\n",
        "plt.show()"
      ],
      "execution_count": null,
      "outputs": [
        {
          "output_type": "display_data",
          "data": {
            "image/png": "[encoded data removed]",
            "text/plain": [
              "<Figure size 720x360 with 1 Axes>"
            ]
          },
          "metadata": {
            "tags": [],
            "needs_background": "light"
          }
        }
      ]
    },
    {
      "cell_type": "code",
      "metadata": {
        "id": "Y42-Cfcn9nfj",
        "colab_type": "code",
        "colab": {}
      },
      "source": [
        "sale_house = sale_house[(sale_house['SALE PRICE'] > 0) & (sale_house['SALE PRICE'] < 500000000)] \n"
      ],
      "execution_count": null,
      "outputs": []
    },
    {
      "cell_type": "code",
      "metadata": {
        "id": "4RlLJs9__bwD",
        "colab_type": "code",
        "colab": {
          "base_uri": "https://localhost:8080/",
          "height": 307
        },
        "outputId": "226dda60-1d11-4e9e-dcef-b3b840b505d4"
      },
      "source": [
        "sns.distplot(sale_house['SALE PRICE'])\n"
      ],
      "execution_count": null,
      "outputs": [
        {
          "output_type": "execute_result",
          "data": {
            "text/plain": [
              "<matplotlib.axes._subplots.AxesSubplot at 0x7f2c68b20278>"
            ]
          },
          "metadata": {
            "tags": []
          },
          "execution_count": 87
        },
        {
          "output_type": "display_data",
          "data": {
            "image/png": "[encoded data removed]",
            "text/plain": [
              "<Figure size 432x288 with 1 Axes>"
            ]
          },
          "metadata": {
            "tags": [],
            "needs_background": "light"
          }
        }
      ]
    },
    {
      "cell_type": "code",
      "metadata": {
        "id": "vcsEPct4_kPP",
        "colab_type": "code",
        "colab": {}
      },
      "source": [
        "sale_house = sale_house[(sale_house['SALE PRICE'] > 0) & (sale_house['SALE PRICE'] < 5000000)]\n"
      ],
      "execution_count": null,
      "outputs": []
    },
    {
      "cell_type": "code",
      "metadata": {
        "id": "9h9dHhas_skG",
        "colab_type": "code",
        "colab": {
          "base_uri": "https://localhost:8080/",
          "height": 307
        },
        "outputId": "23eca31d-8e3f-4d4a-ea67-0fd61e531c1d"
      },
      "source": [
        "sns.distplot(sale_house['SALE PRICE'])\n"
      ],
      "execution_count": null,
      "outputs": [
        {
          "output_type": "execute_result",
          "data": {
            "text/plain": [
              "<matplotlib.axes._subplots.AxesSubplot at 0x7f2c6dfecd68>"
            ]
          },
          "metadata": {
            "tags": []
          },
          "execution_count": 89
        },
        {
          "output_type": "display_data",
          "data": {
            "image/png": "[encoded data removed]",
            "text/plain": [
              "<Figure size 432x288 with 1 Axes>"
            ]
          },
          "metadata": {
            "tags": [],
            "needs_background": "light"
          }
        }
      ]
    },
    {
      "cell_type": "markdown",
      "metadata": {
        "id": "k9UfItZ5_9u8",
        "colab_type": "text"
      },
      "source": [
        "####SQUARE FEET"
      ]
    },
    {
      "cell_type": "code",
      "metadata": {
        "id": "cKNAb2HFAQb8",
        "colab_type": "code",
        "colab": {
          "base_uri": "https://localhost:8080/",
          "height": 798
        },
        "outputId": "297c5cf5-bd16-4fe2-a172-48f6e8e8c023"
      },
      "source": [
        "sale_house = sale_house[sale_house['GROSS SQUARE FEET'] < 10000]\n",
        "sale_house = sale_house[sale_house['LAND SQUARE FEET'] < 10000]\n",
        "\n",
        "plt.figure(figsize=(10,6))\n",
        "sns.regplot(x='GROSS SQUARE FEET', y='SALE PRICE', data=sale_house, fit_reg=False, scatter_kws={'alpha':0.3})\n",
        "\n",
        "plt.figure(figsize=(10,6))\n",
        "sns.regplot(x='LAND SQUARE FEET', y='SALE PRICE', data=sale_house, fit_reg=False, scatter_kws={'alpha':0.3})"
      ],
      "execution_count": null,
      "outputs": [
        {
          "output_type": "execute_result",
          "data": {
            "text/plain": [
              "<matplotlib.axes._subplots.AxesSubplot at 0x7f2c689f94e0>"
            ]
          },
          "metadata": {
            "tags": []
          },
          "execution_count": 90
        },
        {
          "output_type": "display_data",
          "data": {
            "image/png": "[encoded data removed]",
            "text/plain": [
              "<Figure size 720x432 with 1 Axes>"
            ]
          },
          "metadata": {
            "tags": [],
            "needs_background": "light"
          }
        },
        {
          "output_type": "display_data",
          "data": {
            "image/png": "[encoded data removed]",
            "text/plain": [
              "<Figure size 720x432 with 1 Axes>"
            ]
          },
          "metadata": {
            "tags": [],
            "needs_background": "light"
          }
        }
      ]
    },
    {
      "cell_type": "markdown",
      "metadata": {
        "id": "CilCOp1OAx5W",
        "colab_type": "text"
      },
      "source": [
        "####UNIT NUMBER"
      ]
    },
    {
      "cell_type": "code",
      "metadata": {
        "id": "SBWj9jY8AVOn",
        "colab_type": "code",
        "colab": {
          "base_uri": "https://localhost:8080/",
          "height": 707
        },
        "outputId": "facc79c4-43a2-4073-e1f8-f6336325573e"
      },
      "source": [
        "sale_house[[\"TOTAL UNITS\", \"SALE PRICE\"]].groupby(['TOTAL UNITS'], as_index=False).count().sort_values(by='SALE PRICE', ascending=False)"
      ],
      "execution_count": null,
      "outputs": [
        {
          "output_type": "execute_result",
          "data": {
            "text/html": [
              "<div>\n",
              "<style scoped>\n",
              "    .dataframe tbody tr th:only-of-type {\n",
              "        vertical-align: middle;\n",
              "    }\n",
              "\n",
              "    .dataframe tbody tr th {\n",
              "        vertical-align: top;\n",
              "    }\n",
              "\n",
              "    .dataframe thead th {\n",
              "        text-align: right;\n",
              "    }\n",
              "</style>\n",
              "<table border=\"1\" class=\"dataframe\">\n",
              "  <thead>\n",
              "    <tr style=\"text-align: right;\">\n",
              "      <th></th>\n",
              "      <th>TOTAL UNITS</th>\n",
              "      <th>SALE PRICE</th>\n",
              "    </tr>\n",
              "  </thead>\n",
              "  <tbody>\n",
              "    <tr>\n",
              "      <th>1</th>\n",
              "      <td>1</td>\n",
              "      <td>25614</td>\n",
              "    </tr>\n",
              "    <tr>\n",
              "      <th>0</th>\n",
              "      <td>0</td>\n",
              "      <td>16147</td>\n",
              "    </tr>\n",
              "    <tr>\n",
              "      <th>2</th>\n",
              "      <td>2</td>\n",
              "      <td>9958</td>\n",
              "    </tr>\n",
              "    <tr>\n",
              "      <th>3</th>\n",
              "      <td>3</td>\n",
              "      <td>2882</td>\n",
              "    </tr>\n",
              "    <tr>\n",
              "      <th>4</th>\n",
              "      <td>4</td>\n",
              "      <td>741</td>\n",
              "    </tr>\n",
              "    <tr>\n",
              "      <th>6</th>\n",
              "      <td>6</td>\n",
              "      <td>377</td>\n",
              "    </tr>\n",
              "    <tr>\n",
              "      <th>5</th>\n",
              "      <td>5</td>\n",
              "      <td>181</td>\n",
              "    </tr>\n",
              "    <tr>\n",
              "      <th>8</th>\n",
              "      <td>8</td>\n",
              "      <td>143</td>\n",
              "    </tr>\n",
              "    <tr>\n",
              "      <th>7</th>\n",
              "      <td>7</td>\n",
              "      <td>74</td>\n",
              "    </tr>\n",
              "    <tr>\n",
              "      <th>9</th>\n",
              "      <td>9</td>\n",
              "      <td>58</td>\n",
              "    </tr>\n",
              "    <tr>\n",
              "      <th>10</th>\n",
              "      <td>10</td>\n",
              "      <td>50</td>\n",
              "    </tr>\n",
              "    <tr>\n",
              "      <th>12</th>\n",
              "      <td>12</td>\n",
              "      <td>17</td>\n",
              "    </tr>\n",
              "    <tr>\n",
              "      <th>11</th>\n",
              "      <td>11</td>\n",
              "      <td>12</td>\n",
              "    </tr>\n",
              "    <tr>\n",
              "      <th>16</th>\n",
              "      <td>16</td>\n",
              "      <td>10</td>\n",
              "    </tr>\n",
              "    <tr>\n",
              "      <th>13</th>\n",
              "      <td>13</td>\n",
              "      <td>5</td>\n",
              "    </tr>\n",
              "    <tr>\n",
              "      <th>14</th>\n",
              "      <td>14</td>\n",
              "      <td>5</td>\n",
              "    </tr>\n",
              "    <tr>\n",
              "      <th>15</th>\n",
              "      <td>15</td>\n",
              "      <td>5</td>\n",
              "    </tr>\n",
              "    <tr>\n",
              "      <th>17</th>\n",
              "      <td>18</td>\n",
              "      <td>2</td>\n",
              "    </tr>\n",
              "    <tr>\n",
              "      <th>18</th>\n",
              "      <td>19</td>\n",
              "      <td>1</td>\n",
              "    </tr>\n",
              "    <tr>\n",
              "      <th>19</th>\n",
              "      <td>20</td>\n",
              "      <td>1</td>\n",
              "    </tr>\n",
              "    <tr>\n",
              "      <th>20</th>\n",
              "      <td>279</td>\n",
              "      <td>1</td>\n",
              "    </tr>\n",
              "    <tr>\n",
              "      <th>21</th>\n",
              "      <td>2261</td>\n",
              "      <td>1</td>\n",
              "    </tr>\n",
              "  </tbody>\n",
              "</table>\n",
              "</div>"
            ],
            "text/plain": [
              "    TOTAL UNITS  SALE PRICE\n",
              "1             1       25614\n",
              "0             0       16147\n",
              "2             2        9958\n",
              "3             3        2882\n",
              "4             4         741\n",
              "6             6         377\n",
              "5             5         181\n",
              "8             8         143\n",
              "7             7          74\n",
              "9             9          58\n",
              "10           10          50\n",
              "12           12          17\n",
              "11           11          12\n",
              "16           16          10\n",
              "13           13           5\n",
              "14           14           5\n",
              "15           15           5\n",
              "17           18           2\n",
              "18           19           1\n",
              "19           20           1\n",
              "20          279           1\n",
              "21         2261           1"
            ]
          },
          "metadata": {
            "tags": []
          },
          "execution_count": 91
        }
      ]
    },
    {
      "cell_type": "code",
      "metadata": {
        "id": "wLs9YzluA3pX",
        "colab_type": "code",
        "colab": {}
      },
      "source": [
        "sale_house = sale_house[(sale_house['TOTAL UNITS'] > 0) & (sale_house['TOTAL UNITS'] != 2261)] \n"
      ],
      "execution_count": null,
      "outputs": []
    },
    {
      "cell_type": "code",
      "metadata": {
        "id": "tY2u_0RMA-_F",
        "colab_type": "code",
        "colab": {
          "base_uri": "https://localhost:8080/",
          "height": 404
        },
        "outputId": "0be2fdbd-c252-4414-d8cd-ff6904d49823"
      },
      "source": [
        "plt.figure(figsize=(10,6))\n",
        "sns.boxplot(x='TOTAL UNITS', y='SALE PRICE', data=sale_house)\n",
        "plt.title('Total Units vs Sale Price')\n",
        "plt.show()"
      ],
      "execution_count": null,
      "outputs": [
        {
          "output_type": "display_data",
          "data": {
            "image/png": "[encoded data removed]",
            "text/plain": [
              "<Figure size 720x432 with 1 Axes>"
            ]
          },
          "metadata": {
            "tags": [],
            "needs_background": "light"
          }
        }
      ]
    },
    {
      "cell_type": "markdown",
      "metadata": {
        "id": "jzTyJ11ic3ys",
        "colab_type": "text"
      },
      "source": [
        "#2) Preparation"
      ]
    },
    {
      "cell_type": "code",
      "metadata": {
        "id": "glwjK_96BTTT",
        "colab_type": "code",
        "colab": {
          "base_uri": "https://localhost:8080/",
          "height": 34
        },
        "outputId": "853844a2-d77e-49bd-9d20-953581ccedec"
      },
      "source": [
        "#\"Apartment Number\" only has few values, so we are going to drop it.\n",
        "print(\"The percent of rows with null in apartment number:\" +str(sum(df['APARTMENT NUMBER']==' ')/len(df)))\n",
        "del sale_house['APARTMENT NUMBER']\n",
        "del sale_house['ADDRESS']\n",
        "\n",
        "del sale_house['NEIGHBORHOOD']\n",
        "del sale_house['BUILDING CLASS AT PRESENT']\n",
        "del sale_house['BUILDING CLASS AT TIME OF SALE']"
      ],
      "execution_count": null,
      "outputs": [
        {
          "output_type": "stream",
          "text": [
            "The percent of rows with null in apartment number:0.770211027910143\n"
          ],
          "name": "stdout"
        }
      ]
    },
    {
      "cell_type": "code",
      "metadata": {
        "id": "fIuac0OuPMs-",
        "colab_type": "code",
        "colab": {
          "base_uri": "https://localhost:8080/",
          "height": 852
        },
        "outputId": "3bbc20e5-905e-42cc-bc54-e13f676fb0f3"
      },
      "source": [
        "cor = sale_house.corr()\n",
        "fig, ax = plt.subplots(figsize=(12,12))\n",
        "sns.heatmap(cor,annot=True, ax = ax)"
      ],
      "execution_count": null,
      "outputs": [
        {
          "output_type": "execute_result",
          "data": {
            "text/plain": [
              "<matplotlib.axes._subplots.AxesSubplot at 0x7f2c68a56e48>"
            ]
          },
          "metadata": {
            "tags": []
          },
          "execution_count": 95
        },
        {
          "output_type": "display_data",
          "data": {
            "image/png": "[encoded data removed]",
            "text/plain": [
              "<Figure size 864x864 with 2 Axes>"
            ]
          },
          "metadata": {
            "tags": [],
            "needs_background": "light"
          }
        }
      ]
    },
    {
      "cell_type": "markdown",
      "metadata": {
        "id": "4TeZJpNBddbW",
        "colab_type": "text"
      },
      "source": [
        "Removing highing correlated independent variable from datasets."
      ]
    },
    {
      "cell_type": "code",
      "metadata": {
        "id": "JpRlhINndvj4",
        "colab_type": "code",
        "colab": {}
      },
      "source": [
        "# sale_house.drop(['RESIDENTIAL UNITS','GROSS SQUARE FEET',],inplace=True, axis=1)\n",
        "# sale_house.head()"
      ],
      "execution_count": null,
      "outputs": []
    },
    {
      "cell_type": "code",
      "metadata": {
        "id": "wXGZiDtAn320",
        "colab_type": "code",
        "colab": {
          "base_uri": "https://localhost:8080/",
          "height": 406
        },
        "outputId": "7b16f02e-b759-4389-c0ee-91c6fda9ff8d"
      },
      "source": [
        "combine=[]\n",
        "combine = sale_house[['RESIDENTIAL UNITS','GROSS SQUARE FEET']]\n",
        "combine\n",
        "#sqr.append(sale_house['RESIDENTIAL UNITS'])"
      ],
      "execution_count": null,
      "outputs": [
        {
          "output_type": "execute_result",
          "data": {
            "text/html": [
              "<div>\n",
              "<style scoped>\n",
              "    .dataframe tbody tr th:only-of-type {\n",
              "        vertical-align: middle;\n",
              "    }\n",
              "\n",
              "    .dataframe tbody tr th {\n",
              "        vertical-align: top;\n",
              "    }\n",
              "\n",
              "    .dataframe thead th {\n",
              "        text-align: right;\n",
              "    }\n",
              "</style>\n",
              "<table border=\"1\" class=\"dataframe\">\n",
              "  <thead>\n",
              "    <tr style=\"text-align: right;\">\n",
              "      <th></th>\n",
              "      <th>RESIDENTIAL UNITS</th>\n",
              "      <th>GROSS SQUARE FEET</th>\n",
              "    </tr>\n",
              "  </thead>\n",
              "  <tbody>\n",
              "    <tr>\n",
              "      <th>3</th>\n",
              "      <td>10</td>\n",
              "      <td>6794.000000</td>\n",
              "    </tr>\n",
              "    <tr>\n",
              "      <th>6</th>\n",
              "      <td>8</td>\n",
              "      <td>4226.000000</td>\n",
              "    </tr>\n",
              "    <tr>\n",
              "      <th>76</th>\n",
              "      <td>1</td>\n",
              "      <td>3882.820176</td>\n",
              "    </tr>\n",
              "    <tr>\n",
              "      <th>79</th>\n",
              "      <td>1</td>\n",
              "      <td>3882.820176</td>\n",
              "    </tr>\n",
              "    <tr>\n",
              "      <th>80</th>\n",
              "      <td>1</td>\n",
              "      <td>3882.820176</td>\n",
              "    </tr>\n",
              "    <tr>\n",
              "      <th>...</th>\n",
              "      <td>...</td>\n",
              "      <td>...</td>\n",
              "    </tr>\n",
              "    <tr>\n",
              "      <th>84537</th>\n",
              "      <td>2</td>\n",
              "      <td>2840.000000</td>\n",
              "    </tr>\n",
              "    <tr>\n",
              "      <th>84540</th>\n",
              "      <td>2</td>\n",
              "      <td>1300.000000</td>\n",
              "    </tr>\n",
              "    <tr>\n",
              "      <th>84543</th>\n",
              "      <td>2</td>\n",
              "      <td>2575.000000</td>\n",
              "    </tr>\n",
              "    <tr>\n",
              "      <th>84544</th>\n",
              "      <td>2</td>\n",
              "      <td>2377.000000</td>\n",
              "    </tr>\n",
              "    <tr>\n",
              "      <th>84545</th>\n",
              "      <td>2</td>\n",
              "      <td>1496.000000</td>\n",
              "    </tr>\n",
              "  </tbody>\n",
              "</table>\n",
              "<p>40137 rows × 2 columns</p>\n",
              "</div>"
            ],
            "text/plain": [
              "       RESIDENTIAL UNITS  GROSS SQUARE FEET\n",
              "3                     10        6794.000000\n",
              "6                      8        4226.000000\n",
              "76                     1        3882.820176\n",
              "79                     1        3882.820176\n",
              "80                     1        3882.820176\n",
              "...                  ...                ...\n",
              "84537                  2        2840.000000\n",
              "84540                  2        1300.000000\n",
              "84543                  2        2575.000000\n",
              "84544                  2        2377.000000\n",
              "84545                  2        1496.000000\n",
              "\n",
              "[40137 rows x 2 columns]"
            ]
          },
          "metadata": {
            "tags": []
          },
          "execution_count": 97
        }
      ]
    },
    {
      "cell_type": "code",
      "metadata": {
        "id": "WQ7Ksha3jxu3",
        "colab_type": "code",
        "colab": {}
      },
      "source": [
        "from sklearn.decomposition import PCA\n",
        "pca = PCA(n_components = 1)\n",
        "pca.fit(combine)\n",
        "sale_house['COMBINE RU GSF'] = pca.transform(combine)"
      ],
      "execution_count": null,
      "outputs": []
    },
    {
      "cell_type": "code",
      "metadata": {
        "id": "hE2zqvqZsFwC",
        "colab_type": "code",
        "colab": {
          "base_uri": "https://localhost:8080/",
          "height": 297
        },
        "outputId": "5a128db0-ff72-45fb-f00a-b9f8918c7043"
      },
      "source": [
        "del sale_house['RESIDENTIAL UNITS']\n",
        "del sale_house['GROSS SQUARE FEET']\n",
        "sale_house.head()"
      ],
      "execution_count": null,
      "outputs": [
        {
          "output_type": "execute_result",
          "data": {
            "text/html": [
              "<div>\n",
              "<style scoped>\n",
              "    .dataframe tbody tr th:only-of-type {\n",
              "        vertical-align: middle;\n",
              "    }\n",
              "\n",
              "    .dataframe tbody tr th {\n",
              "        vertical-align: top;\n",
              "    }\n",
              "\n",
              "    .dataframe thead th {\n",
              "        text-align: right;\n",
              "    }\n",
              "</style>\n",
              "<table border=\"1\" class=\"dataframe\">\n",
              "  <thead>\n",
              "    <tr style=\"text-align: right;\">\n",
              "      <th></th>\n",
              "      <th>BOROUGH</th>\n",
              "      <th>BUILDING CLASS CATEGORY</th>\n",
              "      <th>TAX CLASS AT PRESENT</th>\n",
              "      <th>BLOCK</th>\n",
              "      <th>LOT</th>\n",
              "      <th>ZIP CODE</th>\n",
              "      <th>COMMERCIAL UNITS</th>\n",
              "      <th>TOTAL UNITS</th>\n",
              "      <th>LAND SQUARE FEET</th>\n",
              "      <th>YEAR BUILT</th>\n",
              "      <th>TAX CLASS AT TIME OF SALE</th>\n",
              "      <th>SALE PRICE</th>\n",
              "      <th>COMBINE RU GSF</th>\n",
              "    </tr>\n",
              "  </thead>\n",
              "  <tbody>\n",
              "    <tr>\n",
              "      <th>3</th>\n",
              "      <td>1</td>\n",
              "      <td>07 RENTALS - WALKUP APARTMENTS</td>\n",
              "      <td>2B</td>\n",
              "      <td>402</td>\n",
              "      <td>21</td>\n",
              "      <td>10009</td>\n",
              "      <td>0</td>\n",
              "      <td>10</td>\n",
              "      <td>2272.000000</td>\n",
              "      <td>1913</td>\n",
              "      <td>2</td>\n",
              "      <td>3936272.0</td>\n",
              "      <td>4570.696897</td>\n",
              "    </tr>\n",
              "    <tr>\n",
              "      <th>6</th>\n",
              "      <td>1</td>\n",
              "      <td>07 RENTALS - WALKUP APARTMENTS</td>\n",
              "      <td>2B</td>\n",
              "      <td>406</td>\n",
              "      <td>32</td>\n",
              "      <td>10009</td>\n",
              "      <td>0</td>\n",
              "      <td>8</td>\n",
              "      <td>1750.000000</td>\n",
              "      <td>1920</td>\n",
              "      <td>2</td>\n",
              "      <td>3192840.0</td>\n",
              "      <td>2002.696488</td>\n",
              "    </tr>\n",
              "    <tr>\n",
              "      <th>76</th>\n",
              "      <td>1</td>\n",
              "      <td>12 CONDOS - WALKUP APARTMENTS</td>\n",
              "      <td>2</td>\n",
              "      <td>386</td>\n",
              "      <td>1002</td>\n",
              "      <td>10009</td>\n",
              "      <td>0</td>\n",
              "      <td>1</td>\n",
              "      <td>4036.387388</td>\n",
              "      <td>1920</td>\n",
              "      <td>2</td>\n",
              "      <td>620000.0</td>\n",
              "      <td>1659.514979</td>\n",
              "    </tr>\n",
              "    <tr>\n",
              "      <th>79</th>\n",
              "      <td>1</td>\n",
              "      <td>13 CONDOS - ELEVATOR APARTMENTS</td>\n",
              "      <td>2</td>\n",
              "      <td>373</td>\n",
              "      <td>1003</td>\n",
              "      <td>10009</td>\n",
              "      <td>0</td>\n",
              "      <td>1</td>\n",
              "      <td>4036.387388</td>\n",
              "      <td>1920</td>\n",
              "      <td>2</td>\n",
              "      <td>762669.0</td>\n",
              "      <td>1659.514979</td>\n",
              "    </tr>\n",
              "    <tr>\n",
              "      <th>80</th>\n",
              "      <td>1</td>\n",
              "      <td>13 CONDOS - ELEVATOR APARTMENTS</td>\n",
              "      <td>2</td>\n",
              "      <td>373</td>\n",
              "      <td>1004</td>\n",
              "      <td>10009</td>\n",
              "      <td>0</td>\n",
              "      <td>1</td>\n",
              "      <td>4036.387388</td>\n",
              "      <td>1920</td>\n",
              "      <td>2</td>\n",
              "      <td>772851.0</td>\n",
              "      <td>1659.514979</td>\n",
              "    </tr>\n",
              "  </tbody>\n",
              "</table>\n",
              "</div>"
            ],
            "text/plain": [
              "   BOROUGH  ... COMBINE RU GSF\n",
              "3        1  ...    4570.696897\n",
              "6        1  ...    2002.696488\n",
              "76       1  ...    1659.514979\n",
              "79       1  ...    1659.514979\n",
              "80       1  ...    1659.514979\n",
              "\n",
              "[5 rows x 13 columns]"
            ]
          },
          "metadata": {
            "tags": []
          },
          "execution_count": 99
        }
      ]
    },
    {
      "cell_type": "code",
      "metadata": {
        "id": "s2OQJ0MXd1IS",
        "colab_type": "code",
        "colab": {}
      },
      "source": [
        "#one hot encoded\n",
        "#https://machinelearningmastery.com/why-one-hot-encode-data-in-machine-learning/\n",
        "one_hot_features = ['BOROUGH', 'BUILDING CLASS CATEGORY','TAX CLASS AT PRESENT','TAX CLASS AT TIME OF SALE']"
      ],
      "execution_count": null,
      "outputs": []
    },
    {
      "cell_type": "code",
      "metadata": {
        "id": "KT9VYrsWd5qy",
        "colab_type": "code",
        "colab": {
          "base_uri": "https://localhost:8080/",
          "height": 1000
        },
        "outputId": "b1bda018-7f8c-4caf-e1ab-7538f31c621f"
      },
      "source": [
        "# Convert categorical variables into dummy/indicator variables (i.e. one-hot encoding).\n",
        "one_hot_encoded = pd.get_dummies(sale_house[one_hot_features])\n",
        "one_hot_encoded.info(verbose=True, memory_usage=True, null_counts=True)"
      ],
      "execution_count": null,
      "outputs": [
        {
          "output_type": "stream",
          "text": [
            "<class 'pandas.core.frame.DataFrame'>\n",
            "Int64Index: 40137 entries, 3 to 84545\n",
            "Data columns (total 56 columns):\n",
            " #   Column                                                                Non-Null Count  Dtype\n",
            "---  ------                                                                --------------  -----\n",
            " 0   TAX CLASS AT TIME OF SALE                                             40137 non-null  int64\n",
            " 1   BOROUGH_1                                                             40137 non-null  uint8\n",
            " 2   BOROUGH_2                                                             40137 non-null  uint8\n",
            " 3   BOROUGH_3                                                             40137 non-null  uint8\n",
            " 4   BOROUGH_4                                                             40137 non-null  uint8\n",
            " 5   BOROUGH_5                                                             40137 non-null  uint8\n",
            " 6   BUILDING CLASS CATEGORY_01 ONE FAMILY DWELLINGS                       40137 non-null  uint8\n",
            " 7   BUILDING CLASS CATEGORY_02 TWO FAMILY DWELLINGS                       40137 non-null  uint8\n",
            " 8   BUILDING CLASS CATEGORY_03 THREE FAMILY DWELLINGS                     40137 non-null  uint8\n",
            " 9   BUILDING CLASS CATEGORY_04 TAX CLASS 1 CONDOS                         40137 non-null  uint8\n",
            " 10  BUILDING CLASS CATEGORY_05 TAX CLASS 1 VACANT LAND                    40137 non-null  uint8\n",
            " 11  BUILDING CLASS CATEGORY_06 TAX CLASS 1 - OTHER                        40137 non-null  uint8\n",
            " 12  BUILDING CLASS CATEGORY_07 RENTALS - WALKUP APARTMENTS                40137 non-null  uint8\n",
            " 13  BUILDING CLASS CATEGORY_08 RENTALS - ELEVATOR APARTMENTS              40137 non-null  uint8\n",
            " 14  BUILDING CLASS CATEGORY_09 COOPS - WALKUP APARTMENTS                  40137 non-null  uint8\n",
            " 15  BUILDING CLASS CATEGORY_11A CONDO-RENTALS                             40137 non-null  uint8\n",
            " 16  BUILDING CLASS CATEGORY_12 CONDOS - WALKUP APARTMENTS                 40137 non-null  uint8\n",
            " 17  BUILDING CLASS CATEGORY_13 CONDOS - ELEVATOR APARTMENTS               40137 non-null  uint8\n",
            " 18  BUILDING CLASS CATEGORY_14 RENTALS - 4-10 UNIT                        40137 non-null  uint8\n",
            " 19  BUILDING CLASS CATEGORY_15 CONDOS - 2-10 UNIT RESIDENTIAL             40137 non-null  uint8\n",
            " 20  BUILDING CLASS CATEGORY_16 CONDOS - 2-10 UNIT WITH COMMERCIAL UNIT    40137 non-null  uint8\n",
            " 21  BUILDING CLASS CATEGORY_21 OFFICE BUILDINGS                           40137 non-null  uint8\n",
            " 22  BUILDING CLASS CATEGORY_22 STORE BUILDINGS                            40137 non-null  uint8\n",
            " 23  BUILDING CLASS CATEGORY_23 LOFT BUILDINGS                             40137 non-null  uint8\n",
            " 24  BUILDING CLASS CATEGORY_26 OTHER HOTELS                               40137 non-null  uint8\n",
            " 25  BUILDING CLASS CATEGORY_27 FACTORIES                                  40137 non-null  uint8\n",
            " 26  BUILDING CLASS CATEGORY_28 COMMERCIAL CONDOS                          40137 non-null  uint8\n",
            " 27  BUILDING CLASS CATEGORY_29 COMMERCIAL GARAGES                         40137 non-null  uint8\n",
            " 28  BUILDING CLASS CATEGORY_30 WAREHOUSES                                 40137 non-null  uint8\n",
            " 29  BUILDING CLASS CATEGORY_31 COMMERCIAL VACANT LAND                     40137 non-null  uint8\n",
            " 30  BUILDING CLASS CATEGORY_32 HOSPITAL AND HEALTH FACILITIES             40137 non-null  uint8\n",
            " 31  BUILDING CLASS CATEGORY_33 EDUCATIONAL FACILITIES                     40137 non-null  uint8\n",
            " 32  BUILDING CLASS CATEGORY_35 INDOOR PUBLIC AND CULTURAL FACILITIES      40137 non-null  uint8\n",
            " 33  BUILDING CLASS CATEGORY_37 RELIGIOUS FACILITIES                       40137 non-null  uint8\n",
            " 34  BUILDING CLASS CATEGORY_38 ASYLUMS AND HOMES                          40137 non-null  uint8\n",
            " 35  BUILDING CLASS CATEGORY_40 SELECTED GOVERNMENTAL FACILITIES           40137 non-null  uint8\n",
            " 36  BUILDING CLASS CATEGORY_41 TAX CLASS 4 - OTHER                        40137 non-null  uint8\n",
            " 37  BUILDING CLASS CATEGORY_42 CONDO CULTURAL/MEDICAL/EDUCATIONAL/ETC     40137 non-null  uint8\n",
            " 38  BUILDING CLASS CATEGORY_43 CONDO OFFICE BUILDINGS                     40137 non-null  uint8\n",
            " 39  BUILDING CLASS CATEGORY_44 CONDO PARKING                              40137 non-null  uint8\n",
            " 40  BUILDING CLASS CATEGORY_45 CONDO HOTELS                               40137 non-null  uint8\n",
            " 41  BUILDING CLASS CATEGORY_46 CONDO STORE BUILDINGS                      40137 non-null  uint8\n",
            " 42  BUILDING CLASS CATEGORY_47 CONDO NON-BUSINESS STORAGE                 40137 non-null  uint8\n",
            " 43  BUILDING CLASS CATEGORY_48 CONDO TERRACES/GARDENS/CABANAS             40137 non-null  uint8\n",
            " 44  BUILDING CLASS CATEGORY_49 CONDO WAREHOUSES/FACTORY/INDUS             40137 non-null  uint8\n",
            " 45  TAX CLASS AT PRESENT_                                                 40137 non-null  uint8\n",
            " 46  TAX CLASS AT PRESENT_1                                                40137 non-null  uint8\n",
            " 47  TAX CLASS AT PRESENT_1A                                               40137 non-null  uint8\n",
            " 48  TAX CLASS AT PRESENT_1B                                               40137 non-null  uint8\n",
            " 49  TAX CLASS AT PRESENT_1C                                               40137 non-null  uint8\n",
            " 50  TAX CLASS AT PRESENT_2                                                40137 non-null  uint8\n",
            " 51  TAX CLASS AT PRESENT_2A                                               40137 non-null  uint8\n",
            " 52  TAX CLASS AT PRESENT_2B                                               40137 non-null  uint8\n",
            " 53  TAX CLASS AT PRESENT_2C                                               40137 non-null  uint8\n",
            " 54  TAX CLASS AT PRESENT_3                                                40137 non-null  uint8\n",
            " 55  TAX CLASS AT PRESENT_4                                                40137 non-null  uint8\n",
            "dtypes: int64(1), uint8(55)\n",
            "memory usage: 4.0 MB\n"
          ],
          "name": "stdout"
        }
      ]
    },
    {
      "cell_type": "code",
      "metadata": {
        "id": "IYR_n7VKeBTi",
        "colab_type": "code",
        "colab": {
          "base_uri": "https://localhost:8080/",
          "height": 287
        },
        "outputId": "6176b250-cf3a-4bd5-8a7d-acbb2c78e2ca"
      },
      "source": [
        "numeric_data=sale_house.select_dtypes(include=[np.number])\n",
        "numeric_data.describe()"
      ],
      "execution_count": null,
      "outputs": [
        {
          "output_type": "execute_result",
          "data": {
            "text/html": [
              "<div>\n",
              "<style scoped>\n",
              "    .dataframe tbody tr th:only-of-type {\n",
              "        vertical-align: middle;\n",
              "    }\n",
              "\n",
              "    .dataframe tbody tr th {\n",
              "        vertical-align: top;\n",
              "    }\n",
              "\n",
              "    .dataframe thead th {\n",
              "        text-align: right;\n",
              "    }\n",
              "</style>\n",
              "<table border=\"1\" class=\"dataframe\">\n",
              "  <thead>\n",
              "    <tr style=\"text-align: right;\">\n",
              "      <th></th>\n",
              "      <th>BLOCK</th>\n",
              "      <th>LOT</th>\n",
              "      <th>ZIP CODE</th>\n",
              "      <th>COMMERCIAL UNITS</th>\n",
              "      <th>TOTAL UNITS</th>\n",
              "      <th>LAND SQUARE FEET</th>\n",
              "      <th>YEAR BUILT</th>\n",
              "      <th>TAX CLASS AT TIME OF SALE</th>\n",
              "      <th>SALE PRICE</th>\n",
              "      <th>COMBINE RU GSF</th>\n",
              "    </tr>\n",
              "  </thead>\n",
              "  <tbody>\n",
              "    <tr>\n",
              "      <th>count</th>\n",
              "      <td>40137.000000</td>\n",
              "      <td>40137.000000</td>\n",
              "      <td>40137.000000</td>\n",
              "      <td>40137.000000</td>\n",
              "      <td>40137.000000</td>\n",
              "      <td>40137.000000</td>\n",
              "      <td>40137.000000</td>\n",
              "      <td>40137.000000</td>\n",
              "      <td>4.013700e+04</td>\n",
              "      <td>4.013700e+04</td>\n",
              "    </tr>\n",
              "    <tr>\n",
              "      <th>mean</th>\n",
              "      <td>4696.144131</td>\n",
              "      <td>470.189202</td>\n",
              "      <td>10915.548621</td>\n",
              "      <td>0.060592</td>\n",
              "      <td>1.595809</td>\n",
              "      <td>2815.921448</td>\n",
              "      <td>1951.032788</td>\n",
              "      <td>1.417495</td>\n",
              "      <td>8.771762e+05</td>\n",
              "      <td>1.991323e-11</td>\n",
              "    </tr>\n",
              "    <tr>\n",
              "      <th>std</th>\n",
              "      <td>3737.184710</td>\n",
              "      <td>719.395078</td>\n",
              "      <td>531.062996</td>\n",
              "      <td>0.343533</td>\n",
              "      <td>1.801516</td>\n",
              "      <td>1578.372210</td>\n",
              "      <td>37.025162</td>\n",
              "      <td>0.682161</td>\n",
              "      <td>7.707492e+05</td>\n",
              "      <td>1.408679e+03</td>\n",
              "    </tr>\n",
              "    <tr>\n",
              "      <th>min</th>\n",
              "      <td>1.000000</td>\n",
              "      <td>1.000000</td>\n",
              "      <td>10001.000000</td>\n",
              "      <td>0.000000</td>\n",
              "      <td>1.000000</td>\n",
              "      <td>0.000000</td>\n",
              "      <td>1880.000000</td>\n",
              "      <td>1.000000</td>\n",
              "      <td>1.000000e+00</td>\n",
              "      <td>-2.223305e+03</td>\n",
              "    </tr>\n",
              "    <tr>\n",
              "      <th>25%</th>\n",
              "      <td>1534.000000</td>\n",
              "      <td>28.000000</td>\n",
              "      <td>10314.000000</td>\n",
              "      <td>0.000000</td>\n",
              "      <td>1.000000</td>\n",
              "      <td>1933.000000</td>\n",
              "      <td>1920.000000</td>\n",
              "      <td>1.000000</td>\n",
              "      <td>4.300000e+05</td>\n",
              "      <td>-9.483051e+02</td>\n",
              "    </tr>\n",
              "    <tr>\n",
              "      <th>50%</th>\n",
              "      <td>4018.000000</td>\n",
              "      <td>62.000000</td>\n",
              "      <td>11214.000000</td>\n",
              "      <td>0.000000</td>\n",
              "      <td>1.000000</td>\n",
              "      <td>2590.000000</td>\n",
              "      <td>1940.000000</td>\n",
              "      <td>1.000000</td>\n",
              "      <td>6.520320e+05</td>\n",
              "      <td>-2.473049e+02</td>\n",
              "    </tr>\n",
              "    <tr>\n",
              "      <th>75%</th>\n",
              "      <td>6802.000000</td>\n",
              "      <td>1030.000000</td>\n",
              "      <td>11360.000000</td>\n",
              "      <td>0.000000</td>\n",
              "      <td>2.000000</td>\n",
              "      <td>4036.387388</td>\n",
              "      <td>1986.000000</td>\n",
              "      <td>2.000000</td>\n",
              "      <td>9.999990e+05</td>\n",
              "      <td>1.557695e+03</td>\n",
              "    </tr>\n",
              "    <tr>\n",
              "      <th>max</th>\n",
              "      <td>16319.000000</td>\n",
              "      <td>9106.000000</td>\n",
              "      <td>11694.000000</td>\n",
              "      <td>14.000000</td>\n",
              "      <td>279.000000</td>\n",
              "      <td>9996.000000</td>\n",
              "      <td>2017.000000</td>\n",
              "      <td>4.000000</td>\n",
              "      <td>4.996841e+06</td>\n",
              "      <td>7.702694e+03</td>\n",
              "    </tr>\n",
              "  </tbody>\n",
              "</table>\n",
              "</div>"
            ],
            "text/plain": [
              "              BLOCK           LOT  ...    SALE PRICE  COMBINE RU GSF\n",
              "count  40137.000000  40137.000000  ...  4.013700e+04    4.013700e+04\n",
              "mean    4696.144131    470.189202  ...  8.771762e+05    1.991323e-11\n",
              "std     3737.184710    719.395078  ...  7.707492e+05    1.408679e+03\n",
              "min        1.000000      1.000000  ...  1.000000e+00   -2.223305e+03\n",
              "25%     1534.000000     28.000000  ...  4.300000e+05   -9.483051e+02\n",
              "50%     4018.000000     62.000000  ...  6.520320e+05   -2.473049e+02\n",
              "75%     6802.000000   1030.000000  ...  9.999990e+05    1.557695e+03\n",
              "max    16319.000000   9106.000000  ...  4.996841e+06    7.702694e+03\n",
              "\n",
              "[8 rows x 10 columns]"
            ]
          },
          "metadata": {
            "tags": []
          },
          "execution_count": 102
        }
      ]
    },
    {
      "cell_type": "code",
      "metadata": {
        "id": "EnM7qgYGeHyg",
        "colab_type": "code",
        "colab": {}
      },
      "source": [
        "df = sale_house\n",
        "scaler = StandardScaler()\n",
        "scaler.fit(df[numeric_data.columns])\n",
        "scaled = scaler.transform(df[numeric_data.columns])\n",
        "\n",
        "for i, col in enumerate(numeric_data.columns):\n",
        "       df[col] = scaled[:,i]"
      ],
      "execution_count": null,
      "outputs": []
    },
    {
      "cell_type": "code",
      "metadata": {
        "id": "jhGGAXpgeT-0",
        "colab_type": "code",
        "colab": {
          "base_uri": "https://localhost:8080/",
          "height": 334
        },
        "outputId": "bc7e5580-56ed-4feb-96d9-d9dd51a9bbe9"
      },
      "source": [
        "\n",
        "df.drop(one_hot_features,axis=1,inplace=True)\n",
        "df = pd.concat([df, one_hot_encoded] ,axis=1)\n",
        "df.head()"
      ],
      "execution_count": null,
      "outputs": [
        {
          "output_type": "execute_result",
          "data": {
            "text/html": [
              "<div>\n",
              "<style scoped>\n",
              "    .dataframe tbody tr th:only-of-type {\n",
              "        vertical-align: middle;\n",
              "    }\n",
              "\n",
              "    .dataframe tbody tr th {\n",
              "        vertical-align: top;\n",
              "    }\n",
              "\n",
              "    .dataframe thead th {\n",
              "        text-align: right;\n",
              "    }\n",
              "</style>\n",
              "<table border=\"1\" class=\"dataframe\">\n",
              "  <thead>\n",
              "    <tr style=\"text-align: right;\">\n",
              "      <th></th>\n",
              "      <th>BLOCK</th>\n",
              "      <th>LOT</th>\n",
              "      <th>ZIP CODE</th>\n",
              "      <th>COMMERCIAL UNITS</th>\n",
              "      <th>TOTAL UNITS</th>\n",
              "      <th>LAND SQUARE FEET</th>\n",
              "      <th>YEAR BUILT</th>\n",
              "      <th>SALE PRICE</th>\n",
              "      <th>COMBINE RU GSF</th>\n",
              "      <th>TAX CLASS AT TIME OF SALE</th>\n",
              "      <th>BOROUGH_1</th>\n",
              "      <th>BOROUGH_2</th>\n",
              "      <th>BOROUGH_3</th>\n",
              "      <th>BOROUGH_4</th>\n",
              "      <th>BOROUGH_5</th>\n",
              "      <th>BUILDING CLASS CATEGORY_01 ONE FAMILY DWELLINGS</th>\n",
              "      <th>BUILDING CLASS CATEGORY_02 TWO FAMILY DWELLINGS</th>\n",
              "      <th>BUILDING CLASS CATEGORY_03 THREE FAMILY DWELLINGS</th>\n",
              "      <th>BUILDING CLASS CATEGORY_04 TAX CLASS 1 CONDOS</th>\n",
              "      <th>BUILDING CLASS CATEGORY_05 TAX CLASS 1 VACANT LAND</th>\n",
              "      <th>BUILDING CLASS CATEGORY_06 TAX CLASS 1 - OTHER</th>\n",
              "      <th>BUILDING CLASS CATEGORY_07 RENTALS - WALKUP APARTMENTS</th>\n",
              "      <th>BUILDING CLASS CATEGORY_08 RENTALS - ELEVATOR APARTMENTS</th>\n",
              "      <th>BUILDING CLASS CATEGORY_09 COOPS - WALKUP APARTMENTS</th>\n",
              "      <th>BUILDING CLASS CATEGORY_11A CONDO-RENTALS</th>\n",
              "      <th>BUILDING CLASS CATEGORY_12 CONDOS - WALKUP APARTMENTS</th>\n",
              "      <th>BUILDING CLASS CATEGORY_13 CONDOS - ELEVATOR APARTMENTS</th>\n",
              "      <th>BUILDING CLASS CATEGORY_14 RENTALS - 4-10 UNIT</th>\n",
              "      <th>BUILDING CLASS CATEGORY_15 CONDOS - 2-10 UNIT RESIDENTIAL</th>\n",
              "      <th>BUILDING CLASS CATEGORY_16 CONDOS - 2-10 UNIT WITH COMMERCIAL UNIT</th>\n",
              "      <th>BUILDING CLASS CATEGORY_21 OFFICE BUILDINGS</th>\n",
              "      <th>BUILDING CLASS CATEGORY_22 STORE BUILDINGS</th>\n",
              "      <th>BUILDING CLASS CATEGORY_23 LOFT BUILDINGS</th>\n",
              "      <th>BUILDING CLASS CATEGORY_26 OTHER HOTELS</th>\n",
              "      <th>BUILDING CLASS CATEGORY_27 FACTORIES</th>\n",
              "      <th>BUILDING CLASS CATEGORY_28 COMMERCIAL CONDOS</th>\n",
              "      <th>BUILDING CLASS CATEGORY_29 COMMERCIAL GARAGES</th>\n",
              "      <th>BUILDING CLASS CATEGORY_30 WAREHOUSES</th>\n",
              "      <th>BUILDING CLASS CATEGORY_31 COMMERCIAL VACANT LAND</th>\n",
              "      <th>BUILDING CLASS CATEGORY_32 HOSPITAL AND HEALTH FACILITIES</th>\n",
              "      <th>BUILDING CLASS CATEGORY_33 EDUCATIONAL FACILITIES</th>\n",
              "      <th>BUILDING CLASS CATEGORY_35 INDOOR PUBLIC AND CULTURAL FACILITIES</th>\n",
              "      <th>BUILDING CLASS CATEGORY_37 RELIGIOUS FACILITIES</th>\n",
              "      <th>BUILDING CLASS CATEGORY_38 ASYLUMS AND HOMES</th>\n",
              "      <th>BUILDING CLASS CATEGORY_40 SELECTED GOVERNMENTAL FACILITIES</th>\n",
              "      <th>BUILDING CLASS CATEGORY_41 TAX CLASS 4 - OTHER</th>\n",
              "      <th>BUILDING CLASS CATEGORY_42 CONDO CULTURAL/MEDICAL/EDUCATIONAL/ETC</th>\n",
              "      <th>BUILDING CLASS CATEGORY_43 CONDO OFFICE BUILDINGS</th>\n",
              "      <th>BUILDING CLASS CATEGORY_44 CONDO PARKING</th>\n",
              "      <th>BUILDING CLASS CATEGORY_45 CONDO HOTELS</th>\n",
              "      <th>BUILDING CLASS CATEGORY_46 CONDO STORE BUILDINGS</th>\n",
              "      <th>BUILDING CLASS CATEGORY_47 CONDO NON-BUSINESS STORAGE</th>\n",
              "      <th>BUILDING CLASS CATEGORY_48 CONDO TERRACES/GARDENS/CABANAS</th>\n",
              "      <th>BUILDING CLASS CATEGORY_49 CONDO WAREHOUSES/FACTORY/INDUS</th>\n",
              "      <th>TAX CLASS AT PRESENT_</th>\n",
              "      <th>TAX CLASS AT PRESENT_1</th>\n",
              "      <th>TAX CLASS AT PRESENT_1A</th>\n",
              "      <th>TAX CLASS AT PRESENT_1B</th>\n",
              "      <th>TAX CLASS AT PRESENT_1C</th>\n",
              "      <th>TAX CLASS AT PRESENT_2</th>\n",
              "      <th>TAX CLASS AT PRESENT_2A</th>\n",
              "      <th>TAX CLASS AT PRESENT_2B</th>\n",
              "      <th>TAX CLASS AT PRESENT_2C</th>\n",
              "      <th>TAX CLASS AT PRESENT_3</th>\n",
              "      <th>TAX CLASS AT PRESENT_4</th>\n",
              "    </tr>\n",
              "  </thead>\n",
              "  <tbody>\n",
              "    <tr>\n",
              "      <th>3</th>\n",
              "      <td>-1.149046</td>\n",
              "      <td>-0.624406</td>\n",
              "      <td>-1.707067</td>\n",
              "      <td>-0.176383</td>\n",
              "      <td>4.665123</td>\n",
              "      <td>-0.344613</td>\n",
              "      <td>-1.027227</td>\n",
              "      <td>3.969039</td>\n",
              "      <td>3.244709</td>\n",
              "      <td>2</td>\n",
              "      <td>1</td>\n",
              "      <td>0</td>\n",
              "      <td>0</td>\n",
              "      <td>0</td>\n",
              "      <td>0</td>\n",
              "      <td>0</td>\n",
              "      <td>0</td>\n",
              "      <td>0</td>\n",
              "      <td>0</td>\n",
              "      <td>0</td>\n",
              "      <td>0</td>\n",
              "      <td>1</td>\n",
              "      <td>0</td>\n",
              "      <td>0</td>\n",
              "      <td>0</td>\n",
              "      <td>0</td>\n",
              "      <td>0</td>\n",
              "      <td>0</td>\n",
              "      <td>0</td>\n",
              "      <td>0</td>\n",
              "      <td>0</td>\n",
              "      <td>0</td>\n",
              "      <td>0</td>\n",
              "      <td>0</td>\n",
              "      <td>0</td>\n",
              "      <td>0</td>\n",
              "      <td>0</td>\n",
              "      <td>0</td>\n",
              "      <td>0</td>\n",
              "      <td>0</td>\n",
              "      <td>0</td>\n",
              "      <td>0</td>\n",
              "      <td>0</td>\n",
              "      <td>0</td>\n",
              "      <td>0</td>\n",
              "      <td>0</td>\n",
              "      <td>0</td>\n",
              "      <td>0</td>\n",
              "      <td>0</td>\n",
              "      <td>0</td>\n",
              "      <td>0</td>\n",
              "      <td>0</td>\n",
              "      <td>0</td>\n",
              "      <td>0</td>\n",
              "      <td>0</td>\n",
              "      <td>0</td>\n",
              "      <td>0</td>\n",
              "      <td>0</td>\n",
              "      <td>0</td>\n",
              "      <td>0</td>\n",
              "      <td>0</td>\n",
              "      <td>1</td>\n",
              "      <td>0</td>\n",
              "      <td>0</td>\n",
              "      <td>0</td>\n",
              "    </tr>\n",
              "    <tr>\n",
              "      <th>6</th>\n",
              "      <td>-1.147976</td>\n",
              "      <td>-0.609115</td>\n",
              "      <td>-1.707067</td>\n",
              "      <td>-0.176383</td>\n",
              "      <td>3.554933</td>\n",
              "      <td>-0.675338</td>\n",
              "      <td>-0.838164</td>\n",
              "      <td>3.004470</td>\n",
              "      <td>1.421702</td>\n",
              "      <td>2</td>\n",
              "      <td>1</td>\n",
              "      <td>0</td>\n",
              "      <td>0</td>\n",
              "      <td>0</td>\n",
              "      <td>0</td>\n",
              "      <td>0</td>\n",
              "      <td>0</td>\n",
              "      <td>0</td>\n",
              "      <td>0</td>\n",
              "      <td>0</td>\n",
              "      <td>0</td>\n",
              "      <td>1</td>\n",
              "      <td>0</td>\n",
              "      <td>0</td>\n",
              "      <td>0</td>\n",
              "      <td>0</td>\n",
              "      <td>0</td>\n",
              "      <td>0</td>\n",
              "      <td>0</td>\n",
              "      <td>0</td>\n",
              "      <td>0</td>\n",
              "      <td>0</td>\n",
              "      <td>0</td>\n",
              "      <td>0</td>\n",
              "      <td>0</td>\n",
              "      <td>0</td>\n",
              "      <td>0</td>\n",
              "      <td>0</td>\n",
              "      <td>0</td>\n",
              "      <td>0</td>\n",
              "      <td>0</td>\n",
              "      <td>0</td>\n",
              "      <td>0</td>\n",
              "      <td>0</td>\n",
              "      <td>0</td>\n",
              "      <td>0</td>\n",
              "      <td>0</td>\n",
              "      <td>0</td>\n",
              "      <td>0</td>\n",
              "      <td>0</td>\n",
              "      <td>0</td>\n",
              "      <td>0</td>\n",
              "      <td>0</td>\n",
              "      <td>0</td>\n",
              "      <td>0</td>\n",
              "      <td>0</td>\n",
              "      <td>0</td>\n",
              "      <td>0</td>\n",
              "      <td>0</td>\n",
              "      <td>0</td>\n",
              "      <td>0</td>\n",
              "      <td>1</td>\n",
              "      <td>0</td>\n",
              "      <td>0</td>\n",
              "      <td>0</td>\n",
              "    </tr>\n",
              "    <tr>\n",
              "      <th>76</th>\n",
              "      <td>-1.153327</td>\n",
              "      <td>0.739256</td>\n",
              "      <td>-1.707067</td>\n",
              "      <td>-0.176383</td>\n",
              "      <td>-0.330731</td>\n",
              "      <td>0.773253</td>\n",
              "      <td>-0.838164</td>\n",
              "      <td>-0.333675</td>\n",
              "      <td>1.178079</td>\n",
              "      <td>2</td>\n",
              "      <td>1</td>\n",
              "      <td>0</td>\n",
              "      <td>0</td>\n",
              "      <td>0</td>\n",
              "      <td>0</td>\n",
              "      <td>0</td>\n",
              "      <td>0</td>\n",
              "      <td>0</td>\n",
              "      <td>0</td>\n",
              "      <td>0</td>\n",
              "      <td>0</td>\n",
              "      <td>0</td>\n",
              "      <td>0</td>\n",
              "      <td>0</td>\n",
              "      <td>0</td>\n",
              "      <td>1</td>\n",
              "      <td>0</td>\n",
              "      <td>0</td>\n",
              "      <td>0</td>\n",
              "      <td>0</td>\n",
              "      <td>0</td>\n",
              "      <td>0</td>\n",
              "      <td>0</td>\n",
              "      <td>0</td>\n",
              "      <td>0</td>\n",
              "      <td>0</td>\n",
              "      <td>0</td>\n",
              "      <td>0</td>\n",
              "      <td>0</td>\n",
              "      <td>0</td>\n",
              "      <td>0</td>\n",
              "      <td>0</td>\n",
              "      <td>0</td>\n",
              "      <td>0</td>\n",
              "      <td>0</td>\n",
              "      <td>0</td>\n",
              "      <td>0</td>\n",
              "      <td>0</td>\n",
              "      <td>0</td>\n",
              "      <td>0</td>\n",
              "      <td>0</td>\n",
              "      <td>0</td>\n",
              "      <td>0</td>\n",
              "      <td>0</td>\n",
              "      <td>0</td>\n",
              "      <td>0</td>\n",
              "      <td>0</td>\n",
              "      <td>0</td>\n",
              "      <td>0</td>\n",
              "      <td>1</td>\n",
              "      <td>0</td>\n",
              "      <td>0</td>\n",
              "      <td>0</td>\n",
              "      <td>0</td>\n",
              "      <td>0</td>\n",
              "    </tr>\n",
              "    <tr>\n",
              "      <th>79</th>\n",
              "      <td>-1.156806</td>\n",
              "      <td>0.740646</td>\n",
              "      <td>-1.707067</td>\n",
              "      <td>-0.176383</td>\n",
              "      <td>-0.330731</td>\n",
              "      <td>0.773253</td>\n",
              "      <td>-0.838164</td>\n",
              "      <td>-0.148568</td>\n",
              "      <td>1.178079</td>\n",
              "      <td>2</td>\n",
              "      <td>1</td>\n",
              "      <td>0</td>\n",
              "      <td>0</td>\n",
              "      <td>0</td>\n",
              "      <td>0</td>\n",
              "      <td>0</td>\n",
              "      <td>0</td>\n",
              "      <td>0</td>\n",
              "      <td>0</td>\n",
              "      <td>0</td>\n",
              "      <td>0</td>\n",
              "      <td>0</td>\n",
              "      <td>0</td>\n",
              "      <td>0</td>\n",
              "      <td>0</td>\n",
              "      <td>0</td>\n",
              "      <td>1</td>\n",
              "      <td>0</td>\n",
              "      <td>0</td>\n",
              "      <td>0</td>\n",
              "      <td>0</td>\n",
              "      <td>0</td>\n",
              "      <td>0</td>\n",
              "      <td>0</td>\n",
              "      <td>0</td>\n",
              "      <td>0</td>\n",
              "      <td>0</td>\n",
              "      <td>0</td>\n",
              "      <td>0</td>\n",
              "      <td>0</td>\n",
              "      <td>0</td>\n",
              "      <td>0</td>\n",
              "      <td>0</td>\n",
              "      <td>0</td>\n",
              "      <td>0</td>\n",
              "      <td>0</td>\n",
              "      <td>0</td>\n",
              "      <td>0</td>\n",
              "      <td>0</td>\n",
              "      <td>0</td>\n",
              "      <td>0</td>\n",
              "      <td>0</td>\n",
              "      <td>0</td>\n",
              "      <td>0</td>\n",
              "      <td>0</td>\n",
              "      <td>0</td>\n",
              "      <td>0</td>\n",
              "      <td>0</td>\n",
              "      <td>0</td>\n",
              "      <td>1</td>\n",
              "      <td>0</td>\n",
              "      <td>0</td>\n",
              "      <td>0</td>\n",
              "      <td>0</td>\n",
              "      <td>0</td>\n",
              "    </tr>\n",
              "    <tr>\n",
              "      <th>80</th>\n",
              "      <td>-1.156806</td>\n",
              "      <td>0.742037</td>\n",
              "      <td>-1.707067</td>\n",
              "      <td>-0.176383</td>\n",
              "      <td>-0.330731</td>\n",
              "      <td>0.773253</td>\n",
              "      <td>-0.838164</td>\n",
              "      <td>-0.135357</td>\n",
              "      <td>1.178079</td>\n",
              "      <td>2</td>\n",
              "      <td>1</td>\n",
              "      <td>0</td>\n",
              "      <td>0</td>\n",
              "      <td>0</td>\n",
              "      <td>0</td>\n",
              "      <td>0</td>\n",
              "      <td>0</td>\n",
              "      <td>0</td>\n",
              "      <td>0</td>\n",
              "      <td>0</td>\n",
              "      <td>0</td>\n",
              "      <td>0</td>\n",
              "      <td>0</td>\n",
              "      <td>0</td>\n",
              "      <td>0</td>\n",
              "      <td>0</td>\n",
              "      <td>1</td>\n",
              "      <td>0</td>\n",
              "      <td>0</td>\n",
              "      <td>0</td>\n",
              "      <td>0</td>\n",
              "      <td>0</td>\n",
              "      <td>0</td>\n",
              "      <td>0</td>\n",
              "      <td>0</td>\n",
              "      <td>0</td>\n",
              "      <td>0</td>\n",
              "      <td>0</td>\n",
              "      <td>0</td>\n",
              "      <td>0</td>\n",
              "      <td>0</td>\n",
              "      <td>0</td>\n",
              "      <td>0</td>\n",
              "      <td>0</td>\n",
              "      <td>0</td>\n",
              "      <td>0</td>\n",
              "      <td>0</td>\n",
              "      <td>0</td>\n",
              "      <td>0</td>\n",
              "      <td>0</td>\n",
              "      <td>0</td>\n",
              "      <td>0</td>\n",
              "      <td>0</td>\n",
              "      <td>0</td>\n",
              "      <td>0</td>\n",
              "      <td>0</td>\n",
              "      <td>0</td>\n",
              "      <td>0</td>\n",
              "      <td>0</td>\n",
              "      <td>1</td>\n",
              "      <td>0</td>\n",
              "      <td>0</td>\n",
              "      <td>0</td>\n",
              "      <td>0</td>\n",
              "      <td>0</td>\n",
              "    </tr>\n",
              "  </tbody>\n",
              "</table>\n",
              "</div>"
            ],
            "text/plain": [
              "       BLOCK       LOT  ...  TAX CLASS AT PRESENT_3  TAX CLASS AT PRESENT_4\n",
              "3  -1.149046 -0.624406  ...                       0                       0\n",
              "6  -1.147976 -0.609115  ...                       0                       0\n",
              "76 -1.153327  0.739256  ...                       0                       0\n",
              "79 -1.156806  0.740646  ...                       0                       0\n",
              "80 -1.156806  0.742037  ...                       0                       0\n",
              "\n",
              "[5 rows x 65 columns]"
            ]
          },
          "metadata": {
            "tags": []
          },
          "execution_count": 104
        }
      ]
    },
    {
      "cell_type": "code",
      "metadata": {
        "id": "0lBz50Ujebua",
        "colab_type": "code",
        "colab": {}
      },
      "source": [
        "# classifying data into independent and dependent variable\n",
        "X = df.drop(['SALE PRICE'],axis = 1).values\n",
        "y = df['SALE PRICE'].values"
      ],
      "execution_count": null,
      "outputs": []
    },
    {
      "cell_type": "code",
      "metadata": {
        "id": "M2ke98sJeeB6",
        "colab_type": "code",
        "colab": {}
      },
      "source": [
        "# creating test and training set data, 70% train, 30% test\n",
        "X_train,X_test,y_train,y_test = train_test_split(X, y, test_size = 0.3, random_state = 0)"
      ],
      "execution_count": null,
      "outputs": []
    },
    {
      "cell_type": "markdown",
      "metadata": {
        "id": "zEIhN0Q09_-J",
        "colab_type": "text"
      },
      "source": [
        "#3) Predition"
      ]
    },
    {
      "cell_type": "markdown",
      "metadata": {
        "id": "bPvvtPLXgXbd",
        "colab_type": "text"
      },
      "source": [
        "##3.0)Helper Function"
      ]
    },
    {
      "cell_type": "code",
      "metadata": {
        "id": "LJr7swCEgWKf",
        "colab_type": "code",
        "colab": {}
      },
      "source": [
        "def rmse(y_test,y_pred):\n",
        "      return np.sqrt(mean_squared_error(y_test,y_pred))"
      ],
      "execution_count": null,
      "outputs": []
    },
    {
      "cell_type": "markdown",
      "metadata": {
        "id": "74cEg17tf-m8",
        "colab_type": "text"
      },
      "source": [
        "##3.1) Linear"
      ]
    },
    {
      "cell_type": "code",
      "metadata": {
        "id": "bh90cNyal8kG",
        "colab_type": "code",
        "colab": {
          "base_uri": "https://localhost:8080/",
          "height": 34
        },
        "outputId": "f0d8598f-952a-42a7-c72f-128517f1a4bd"
      },
      "source": [
        "linear=LinearRegression()\n",
        "linear.fit(X_train, y_train)\n",
        "y_pred = linear.predict(X_test)\n",
        "result_linear = rmse(y_test, y_pred)\n",
        "result_linear"
      ],
      "execution_count": null,
      "outputs": [
        {
          "output_type": "execute_result",
          "data": {
            "text/plain": [
              "0.7981690792194288"
            ]
          },
          "metadata": {
            "tags": []
          },
          "execution_count": 108
        }
      ]
    },
    {
      "cell_type": "markdown",
      "metadata": {
        "id": "Bw0-mV6ggCiY",
        "colab_type": "text"
      },
      "source": [
        "##3.2)Ridge, Lasso"
      ]
    },
    {
      "cell_type": "code",
      "metadata": {
        "id": "ub5SG-zEegva",
        "colab_type": "code",
        "colab": {
          "base_uri": "https://localhost:8080/",
          "height": 52
        },
        "outputId": "4994c1c4-814e-43f9-84c6-a9607120e860"
      },
      "source": [
        "\n",
        "# fitting linear regression to training set\n",
        "regressor = Ridge(alpha=0.01, normalize=True)\n",
        "regressor.fit(X_train,y_train)"
      ],
      "execution_count": null,
      "outputs": [
        {
          "output_type": "execute_result",
          "data": {
            "text/plain": [
              "Ridge(alpha=0.01, copy_X=True, fit_intercept=True, max_iter=None,\n",
              "      normalize=True, random_state=None, solver='auto', tol=0.001)"
            ]
          },
          "metadata": {
            "tags": []
          },
          "execution_count": 109
        }
      ]
    },
    {
      "cell_type": "code",
      "metadata": {
        "id": "BQff_gtvfZhp",
        "colab_type": "code",
        "colab": {
          "base_uri": "https://localhost:8080/",
          "height": 34
        },
        "outputId": "da404036-8f4c-45d4-c2cc-8eceaf8b6222"
      },
      "source": [
        "y_pred = regressor.predict(X_test)\n",
        "result_ridge = rmse(y_test, y_pred)\n",
        "result_ridge"
      ],
      "execution_count": null,
      "outputs": [
        {
          "output_type": "execute_result",
          "data": {
            "text/plain": [
              "0.797813341244571"
            ]
          },
          "metadata": {
            "tags": []
          },
          "execution_count": 110
        }
      ]
    },
    {
      "cell_type": "code",
      "metadata": {
        "id": "ZVUCZyaZg4pW",
        "colab_type": "code",
        "colab": {
          "base_uri": "https://localhost:8080/",
          "height": 34
        },
        "outputId": "79250a2b-1a3f-42ef-eda9-ab48cd5e9da0"
      },
      "source": [
        "#3.6)Lasso\n",
        "Lassoregressor = Lasso(alpha = 0.01, normalize =True)\n",
        "Lassoregressor.fit(X_train,y_train)\n",
        "\n",
        "y_predict = Lassoregressor.predict(X_test)\n",
        "result_Lasso = rmse(y_test, y_predict)\n",
        "result_Lasso"
      ],
      "execution_count": null,
      "outputs": [
        {
          "output_type": "execute_result",
          "data": {
            "text/plain": [
              "1.003273840043275"
            ]
          },
          "metadata": {
            "tags": []
          },
          "execution_count": 111
        }
      ]
    },
    {
      "cell_type": "markdown",
      "metadata": {
        "id": "jt6Sq1GNgJ9O",
        "colab_type": "text"
      },
      "source": [
        "##3.3)Random Forest"
      ]
    },
    {
      "cell_type": "code",
      "metadata": {
        "id": "IwDCfHKrKCzg",
        "colab_type": "code",
        "colab": {
          "base_uri": "https://localhost:8080/",
          "height": 123
        },
        "outputId": "a7e8e176-5164-4a91-d8d9-6925e363229c"
      },
      "source": [
        "from sklearn.tree import DecisionTreeRegressor\n",
        "dtree = DecisionTreeRegressor()\n",
        "dtree.fit(X_train, y_train)"
      ],
      "execution_count": null,
      "outputs": [
        {
          "output_type": "execute_result",
          "data": {
            "text/plain": [
              "DecisionTreeRegressor(ccp_alpha=0.0, criterion='mse', max_depth=None,\n",
              "                      max_features=None, max_leaf_nodes=None,\n",
              "                      min_impurity_decrease=0.0, min_impurity_split=None,\n",
              "                      min_samples_leaf=1, min_samples_split=2,\n",
              "                      min_weight_fraction_leaf=0.0, presort='deprecated',\n",
              "                      random_state=None, splitter='best')"
            ]
          },
          "metadata": {
            "tags": []
          },
          "execution_count": 112
        }
      ]
    },
    {
      "cell_type": "code",
      "metadata": {
        "id": "ZJdqOQVTMHJX",
        "colab_type": "code",
        "colab": {
          "base_uri": "https://localhost:8080/",
          "height": 34
        },
        "outputId": "a0f97feb-b1c7-4057-f821-cca9046b88d6"
      },
      "source": [
        "y_pred = dtree.predict(X_test)\n",
        "result_dt = rmse(y_test, y_pred)\n",
        "result_dt"
      ],
      "execution_count": null,
      "outputs": [
        {
          "output_type": "execute_result",
          "data": {
            "text/plain": [
              "0.7582730990376829"
            ]
          },
          "metadata": {
            "tags": []
          },
          "execution_count": 113
        }
      ]
    },
    {
      "cell_type": "code",
      "metadata": {
        "id": "tLVsW_Y-NQf-",
        "colab_type": "code",
        "colab": {
          "base_uri": "https://localhost:8080/",
          "height": 141
        },
        "outputId": "0d56cedb-e99c-424d-b446-c770cddfe387"
      },
      "source": [
        "dforest = RandomForestRegressor(n_estimators=100, criterion='mse', bootstrap=True, n_jobs=-1)\n",
        "dforest.fit(X_train, y_train)"
      ],
      "execution_count": null,
      "outputs": [
        {
          "output_type": "execute_result",
          "data": {
            "text/plain": [
              "RandomForestRegressor(bootstrap=True, ccp_alpha=0.0, criterion='mse',\n",
              "                      max_depth=None, max_features='auto', max_leaf_nodes=None,\n",
              "                      max_samples=None, min_impurity_decrease=0.0,\n",
              "                      min_impurity_split=None, min_samples_leaf=1,\n",
              "                      min_samples_split=2, min_weight_fraction_leaf=0.0,\n",
              "                      n_estimators=100, n_jobs=-1, oob_score=False,\n",
              "                      random_state=None, verbose=0, warm_start=False)"
            ]
          },
          "metadata": {
            "tags": []
          },
          "execution_count": 114
        }
      ]
    },
    {
      "cell_type": "code",
      "metadata": {
        "id": "m6I68PflPaH1",
        "colab_type": "code",
        "colab": {
          "base_uri": "https://localhost:8080/",
          "height": 34
        },
        "outputId": "c1262bb2-4a9e-412b-9d04-bb99523ad0fd"
      },
      "source": [
        "y_pred = dforest.predict(X_test)\n",
        "result_rf = rmse(y_test, y_pred)\n",
        "result_rf"
      ],
      "execution_count": null,
      "outputs": [
        {
          "output_type": "execute_result",
          "data": {
            "text/plain": [
              "0.5904354674868008"
            ]
          },
          "metadata": {
            "tags": []
          },
          "execution_count": 115
        }
      ]
    },
    {
      "cell_type": "markdown",
      "metadata": {
        "id": "ZLQx6ESrgOAU",
        "colab_type": "text"
      },
      "source": [
        "##3.4)Gradient boosting"
      ]
    },
    {
      "cell_type": "code",
      "metadata": {
        "id": "a_0VaQyEvZzT",
        "colab_type": "code",
        "colab": {
          "base_uri": "https://localhost:8080/",
          "height": 34
        },
        "outputId": "b5e69165-5afb-402e-9162-aa490e34952a"
      },
      "source": [
        "from sklearn.ensemble import GradientBoostingRegressor\n",
        "from sklearn.model_selection import RandomizedSearchCV\n",
        "from sklearn.model_selection import GridSearchCV\n",
        "reg = GradientBoostingRegressor(alpha=0.9, ccp_alpha=0.0, criterion='friedman_mse',\n",
        "                          init=None, learning_rate=0.05, loss='ls', max_depth=7,\n",
        "                          max_features=None, max_leaf_nodes=None,\n",
        "                          min_impurity_decrease=0.0, min_impurity_split=None,\n",
        "                          min_samples_leaf=1, min_samples_split=2,\n",
        "                          min_weight_fraction_leaf=0.0, n_estimators=500,\n",
        "                          n_iter_no_change=None, presort='deprecated',\n",
        "                          random_state=None, subsample=1.0, tol=0.0001,\n",
        "                          validation_fraction=0.1, verbose=0, warm_start=False)\n",
        "reg.fit(X_train, y_train)\n",
        "pre_GBM = reg.predict(X_test)\n",
        "result_gl = rmse(y_test, pre_GBM)\n",
        "result_gl\n"
      ],
      "execution_count": null,
      "outputs": [
        {
          "output_type": "execute_result",
          "data": {
            "text/plain": [
              "0.5971282336924993"
            ]
          },
          "metadata": {
            "tags": []
          },
          "execution_count": 116
        }
      ]
    },
    {
      "cell_type": "markdown",
      "metadata": {
        "id": "aS7_IqiUMkQa",
        "colab_type": "text"
      },
      "source": [
        "## 3.5)AdaBoost"
      ]
    },
    {
      "cell_type": "code",
      "metadata": {
        "id": "PtIbX0TEMqB4",
        "colab_type": "code",
        "colab": {
          "base_uri": "https://localhost:8080/",
          "height": 34
        },
        "outputId": "4c95583b-0c1a-48c0-8446-aa3e0c8dc4b5"
      },
      "source": [
        "from sklearn.ensemble import AdaBoostRegressor\n",
        "from sklearn.model_selection import GridSearchCV\n",
        "from sklearn.model_selection import RandomizedSearchCV\n",
        "reg = AdaBoostRegressor(base_estimator=None, learning_rate=0.05, loss='linear',\n",
        "                  n_estimators=50, random_state=None)\n",
        "reg.fit(X_train, y_train)\n",
        "pre = reg.predict(X_test)\n",
        "result_gl = rmse(y_test, pre)\n",
        "result_gl\n"
      ],
      "execution_count": null,
      "outputs": [
        {
          "output_type": "execute_result",
          "data": {
            "text/plain": [
              "0.7957560549355507"
            ]
          },
          "metadata": {
            "tags": []
          },
          "execution_count": 117
        }
      ]
    },
    {
      "cell_type": "markdown",
      "metadata": {
        "id": "A7JEu6n3GAKr",
        "colab_type": "text"
      },
      "source": [
        "##3.6) Stacked"
      ]
    },
    {
      "cell_type": "code",
      "metadata": {
        "id": "25oSQEzDGgSz",
        "colab_type": "code",
        "colab": {}
      },
      "source": [
        "from sklearn.linear_model import ElasticNet, Lasso,  BayesianRidge, LassoLarsIC\n",
        "from sklearn.ensemble import RandomForestRegressor,  GradientBoostingRegressor\n",
        "from sklearn.kernel_ridge import KernelRidge\n",
        "from sklearn.pipeline import make_pipeline\n",
        "from sklearn.preprocessing import RobustScaler\n",
        "from sklearn.base import BaseEstimator, TransformerMixin, RegressorMixin, clone\n",
        "from sklearn.model_selection import KFold, cross_val_score, train_test_split\n",
        "from sklearn.metrics import mean_squared_error\n",
        "import xgboost as xgb\n",
        "import lightgbm as lgb"
      ],
      "execution_count": null,
      "outputs": []
    },
    {
      "cell_type": "markdown",
      "metadata": {
        "id": "MBJp44UciEp0",
        "colab_type": "text"
      },
      "source": [
        "This time we add a cross validation approach."
      ]
    },
    {
      "cell_type": "code",
      "metadata": {
        "id": "rL5iKnCcusWI",
        "colab_type": "code",
        "colab": {}
      },
      "source": [
        "n_folds = 5\n",
        "\n",
        "def rmsle_cv(model):\n",
        "    kf = KFold(n_folds, shuffle=True, random_state=42).get_n_splits(X_train)\n",
        "    rmse= np.sqrt(-cross_val_score(model, X_train, y_train, scoring=\"neg_mean_squared_error\", cv = kf))\n",
        "    return(rmse)"
      ],
      "execution_count": null,
      "outputs": []
    },
    {
      "cell_type": "code",
      "metadata": {
        "id": "545zubiLbwG5",
        "colab_type": "code",
        "colab": {
          "base_uri": "https://localhost:8080/",
          "height": 70
        },
        "outputId": "876192f5-c521-4480-9e01-c9ead44b973a"
      },
      "source": [
        "linear1 = LinearRegression()\n",
        "score = rmsle_cv(linear1)\n",
        "print(\"\\nLasso score: {:.4f} ({:.4f})\\n\".format(score.mean(), score.std()))"
      ],
      "execution_count": null,
      "outputs": [
        {
          "output_type": "stream",
          "text": [
            "\n",
            "Lasso score: 0.8076 (0.0167)\n",
            "\n"
          ],
          "name": "stdout"
        }
      ]
    },
    {
      "cell_type": "code",
      "metadata": {
        "id": "mk973mMbyHG3",
        "colab_type": "code",
        "colab": {
          "base_uri": "https://localhost:8080/",
          "height": 70
        },
        "outputId": "774a2434-8453-4be3-b9bd-36b2af3d064d"
      },
      "source": [
        "lasso = make_pipeline(RobustScaler(), Lasso(alpha =0.0005, random_state=1))\n",
        "score = rmsle_cv(lasso)\n",
        "print(\"\\nLasso score: {:.4f} ({:.4f})\\n\".format(score.mean(), score.std()))"
      ],
      "execution_count": null,
      "outputs": [
        {
          "output_type": "stream",
          "text": [
            "\n",
            "Lasso score: 0.8050 (0.0106)\n",
            "\n"
          ],
          "name": "stdout"
        }
      ]
    },
    {
      "cell_type": "code",
      "metadata": {
        "id": "dNNFPpG1ytyd",
        "colab_type": "code",
        "colab": {
          "base_uri": "https://localhost:8080/",
          "height": 70
        },
        "outputId": "405b3e00-3f50-4c50-ca10-c0cef8d6b6d3"
      },
      "source": [
        "ridge = make_pipeline(RobustScaler(), Ridge(alpha =0.01, random_state=1))\n",
        "score = rmsle_cv(ridge)\n",
        "print(\"\\nridge score: {:.4f} ({:.4f})\\n\".format(score.mean(), score.std()))"
      ],
      "execution_count": null,
      "outputs": [
        {
          "output_type": "stream",
          "text": [
            "\n",
            "ridge score: 0.8076 (0.0166)\n",
            "\n"
          ],
          "name": "stdout"
        }
      ]
    },
    {
      "cell_type": "code",
      "metadata": {
        "id": "4I13ZBSqy_eV",
        "colab_type": "code",
        "colab": {
          "base_uri": "https://localhost:8080/",
          "height": 70
        },
        "outputId": "9a59fb30-6355-42bc-a24a-e8d76c632c6b"
      },
      "source": [
        "elastic = make_pipeline(RobustScaler(), ElasticNet(alpha =0.01, random_state=1))\n",
        "score = rmsle_cv(elastic)\n",
        "print(\"\\nElastic score: {:.4f} ({:.4f})\\n\".format(score.mean(), score.std()))"
      ],
      "execution_count": null,
      "outputs": [
        {
          "output_type": "stream",
          "text": [
            "\n",
            "Elastic score: 0.8238 (0.0181)\n",
            "\n"
          ],
          "name": "stdout"
        }
      ]
    },
    {
      "cell_type": "code",
      "metadata": {
        "id": "kq58t6F5tjHC",
        "colab_type": "code",
        "colab": {
          "base_uri": "https://localhost:8080/",
          "height": 70
        },
        "outputId": "93dca1d4-c0b5-4eac-c3fe-baae3f836591"
      },
      "source": [
        "dforest = RandomForestRegressor(n_estimators=100, criterion='mse', bootstrap=True, n_jobs=-1)\n",
        "score = rmsle_cv(dforest)\n",
        "print(\"\\nRandomF score: {:.4f} ({:.4f})\\n\".format(score.mean(), score.std()))"
      ],
      "execution_count": null,
      "outputs": [
        {
          "output_type": "stream",
          "text": [
            "\n",
            "RandomF score: 0.6281 (0.0121)\n",
            "\n"
          ],
          "name": "stdout"
        }
      ]
    },
    {
      "cell_type": "code",
      "metadata": {
        "id": "cbmXNZRMzJvO",
        "colab_type": "code",
        "colab": {
          "base_uri": "https://localhost:8080/",
          "height": 52
        },
        "outputId": "6ba25c23-4d81-47c6-add9-e35a41bd6acb"
      },
      "source": [
        "model_gb = GradientBoostingRegressor(alpha=0.9, ccp_alpha=0.0, criterion='friedman_mse',\n",
        "                          init=None, learning_rate=0.05, loss='ls', max_depth=7,\n",
        "                          max_features=None, max_leaf_nodes=None,\n",
        "                          min_impurity_decrease=0.0, min_impurity_split=None,\n",
        "                          min_samples_leaf=1, min_samples_split=2,\n",
        "                          min_weight_fraction_leaf=0.0, n_estimators=500,\n",
        "                          n_iter_no_change=None, presort='deprecated',\n",
        "                          random_state=None, subsample=1.0, tol=0.0001,\n",
        "                          validation_fraction=0.1, verbose=0, warm_start=False)\n",
        "score = rmsle_cv(model_gb)\n",
        "print(\"GB score: {:.4f} ({:.4f})\\n\" .format(score.mean(), score.std()))\n"
      ],
      "execution_count": null,
      "outputs": [
        {
          "output_type": "stream",
          "text": [
            "GB score: 0.6222 (0.0118)\n",
            "\n"
          ],
          "name": "stdout"
        }
      ]
    },
    {
      "cell_type": "code",
      "metadata": {
        "id": "ChvNyd51zZzj",
        "colab_type": "code",
        "colab": {
          "base_uri": "https://localhost:8080/",
          "height": 52
        },
        "outputId": "bb8c65f7-0ba0-41b6-b3a3-4666ab6d3b28"
      },
      "source": [
        "ada = AdaBoostRegressor(base_estimator=None, learning_rate=0.05, loss='linear',\n",
        "                  n_estimators=50, random_state=None)\n",
        "score = rmsle_cv(ada)\n",
        "print(\"AdaBoost Ridge score: {:.4f} ({:.4f})\\n\".format(score.mean(), score.std()))"
      ],
      "execution_count": null,
      "outputs": [
        {
          "output_type": "stream",
          "text": [
            "AdaBoost Ridge score: 0.8033 (0.0085)\n",
            "\n"
          ],
          "name": "stdout"
        }
      ]
    },
    {
      "cell_type": "code",
      "metadata": {
        "id": "lr8kGxx47V0P",
        "colab_type": "code",
        "colab": {}
      },
      "source": [
        "# https://github.com/akshaykumarvikram/kaggle-advanced-regression-algos\n",
        "class StackingAveragedModels(BaseEstimator, RegressorMixin, TransformerMixin):\n",
        "    def __init__(self, base_models, meta_model, n_folds=5):\n",
        "        self.base_models = base_models\n",
        "        self.meta_model = meta_model\n",
        "        self.n_folds = n_folds\n",
        "   \n",
        "    # Fit the data on clones of the original models\n",
        "    def fit(self, X, y):\n",
        "        self.base_models_ = [list() for x in self.base_models]\n",
        "        self.meta_model_ = clone(self.meta_model)\n",
        "        kfold = KFold(n_splits=self.n_folds, shuffle=True, random_state=156)\n",
        "        \n",
        "        # Train cloned base models then create out-of-fold predictions\n",
        "        # that are needed to train the cloned meta-model\n",
        "        out_of_fold_predictions = np.zeros((X.shape[0], len(self.base_models)))\n",
        "        for i, model in enumerate(self.base_models):\n",
        "            for train_index, holdout_index in kfold.split(X, y):\n",
        "                instance = clone(model)\n",
        "                self.base_models_[i].append(instance)\n",
        "                instance.fit(X[train_index], y[train_index])\n",
        "                y_pred = instance.predict(X[holdout_index])\n",
        "                out_of_fold_predictions[holdout_index, i] = y_pred\n",
        "                \n",
        "        # Now train the cloned  meta-model using the out-of-fold predictions as new feature\n",
        "        self.meta_model_.fit(out_of_fold_predictions, y)\n",
        "        return self\n",
        "   \n",
        "    #Do the predictions of all base models on the test data and use the averaged predictions as \n",
        "    #meta-features for the final prediction which is done by the meta-model\n",
        "    def predict(self, X):\n",
        "        meta_features = np.column_stack([\n",
        "            np.column_stack([model.predict(X) for model in base_models]).mean(axis=1)\n",
        "            for base_models in self.base_models_ ])\n",
        "        return self.meta_model_.predict(meta_features)"
      ],
      "execution_count": null,
      "outputs": []
    },
    {
      "cell_type": "code",
      "metadata": {
        "id": "yoZegQ487Wx-",
        "colab_type": "code",
        "colab": {
          "base_uri": "https://localhost:8080/",
          "height": 34
        },
        "outputId": "85a89fe2-e334-4e51-c596-f963a0eafe49"
      },
      "source": [
        "stacked_averaged_models = StackingAveragedModels(base_models = (lasso, ridge, elastic, ada, dforest),\n",
        "                                                 meta_model = model_gb)\n",
        "\n",
        "score = rmsle_cv(stacked_averaged_models)\n",
        "print(\"Stacking Averaged models score: {:.4f} ({:.4f})\".format(score.mean(), score.std()))"
      ],
      "execution_count": null,
      "outputs": [
        {
          "output_type": "stream",
          "text": [
            "Stacking Averaged models score: 0.6412 (0.0103)\n"
          ],
          "name": "stdout"
        }
      ]
    },
    {
      "cell_type": "code",
      "metadata": {
        "colab_type": "code",
        "id": "r-oabaS_JGWh",
        "colab": {}
      },
      "source": [
        "stacked_averaged_models = StackingAveragedModels(base_models = (model_gb, dforest),\n",
        "                                                 meta_model = lasso)\n"
      ],
      "execution_count": null,
      "outputs": []
    },
    {
      "cell_type": "code",
      "metadata": {
        "colab_type": "code",
        "id": "21G0HJqOJH0Y",
        "colab": {}
      },
      "source": [
        "stacked_averaged_models.fit(X_train, y_train)\n",
        "stacked_train_pred = stacked_averaged_models.predict(X_train)\n",
        "stacked_pred = stacked_averaged_models.predict(X_test)\n",
        "print(rmse(y_test, stacked_pred))"
      ],
      "execution_count": null,
      "outputs": []
    },
    {
      "cell_type": "markdown",
      "metadata": {
        "id": "KpzgTKMeWD9D",
        "colab_type": "text"
      },
      "source": [
        "# 3.7)Weighted Stacking （Our Contribution）"
      ]
    },
    {
      "cell_type": "code",
      "metadata": {
        "id": "FXM93x-oWRGA",
        "colab_type": "code",
        "colab": {}
      },
      "source": [
        "from sklearn.model_selection import KFold \n",
        "X = X_train\n",
        "Y = y_train\n",
        "kf = KFold(n_splits=5)\n",
        "pre_linear = []\n",
        "pred_Lasso = []\n",
        "pred_Ridge = []\n",
        "pred_RF = []\n",
        "pred_GBM = []\n",
        "pred_Ada = []\n",
        "pred_ela = []\n",
        "for train_index, test_index in kf.split(X):\n",
        "  linear=LinearRegression()\n",
        "  linear.fit(X[train_index], Y[train_index])\n",
        "  y_pred_linear = linear.predict(X[test_index])\n",
        "  pre_linear = pre_linear + y_pred_linear.tolist()\n",
        "  ridge = Ridge(alpha=0.01, normalize=True)\n",
        "  ridge.fit(X[train_index], Y[train_index])\n",
        "  y_pred_ridge = ridge.predict(X[test_index])\n",
        "  pred_Ridge = pred_Ridge + y_pred_ridge.tolist()\n",
        "  lasso = Lasso(alpha = 0.0005, normalize =True)\n",
        "  lasso.fit(X[train_index], Y[train_index])\n",
        "  y_pred_lasso = lasso.predict(X[test_index])\n",
        "  pred_Lasso = pred_Lasso + y_pred_lasso.tolist()\n",
        "  rf = RandomForestRegressor(n_estimators=100, criterion='mse', bootstrap=True, n_jobs=-1)\n",
        "  rf.fit(X[train_index], Y[train_index])\n",
        "  y_pred_rf = rf.predict(X[test_index])\n",
        "  pred_RF = pred_RF + y_pred_rf.tolist()\n",
        "  gbm = GradientBoostingRegressor(alpha=0.9, ccp_alpha=0.0, criterion='friedman_mse',\n",
        "                          init=None, learning_rate=0.05, loss='ls', max_depth=7,\n",
        "                          max_features=None, max_leaf_nodes=None,\n",
        "                          min_impurity_decrease=0.0, min_impurity_split=None,\n",
        "                          min_samples_leaf=1, min_samples_split=2,\n",
        "                          min_weight_fraction_leaf=0.0, n_estimators=500,\n",
        "                          n_iter_no_change=None, presort='deprecated',\n",
        "                          random_state=None, subsample=1.0, tol=0.0001,\n",
        "                          validation_fraction=0.1, verbose=0, warm_start=False)\n",
        "  gbm.fit(X[train_index], Y[train_index])\n",
        "  y_pred_gbm = gbm.predict(X[test_index])\n",
        "  pred_GBM = pred_GBM + y_pred_gbm.tolist()\n",
        "  ada = AdaBoostRegressor(base_estimator=None, learning_rate=0.05, loss='linear',\n",
        "                  n_estimators=50, random_state=None)\n",
        "  ada.fit(X[train_index], Y[train_index])\n",
        "  y_pred_ada = ada.predict(X[test_index])\n",
        "  pred_Ada = pred_Ada + y_pred_ada.tolist()\n",
        "  ela = ElasticNet(alpha =0.01, random_state=1)\n",
        "  ela.fit(X[train_index], Y[train_index])\n",
        "  y_pred_ela = ela.predict(X[test_index])\n",
        "  pred_ela = pred_ela + y_pred_ela.tolist()"
      ],
      "execution_count": null,
      "outputs": []
    },
    {
      "cell_type": "code",
      "metadata": {
        "id": "-hqULurxxDJ-",
        "colab_type": "code",
        "colab": {}
      },
      "source": [
        "combine = 0*np.array(pred_linear)+0*np.array(pred_Lasso)+0.04*np.array(pred_Ridge)+0*np.array(pred_RF)+0.96*np.array(pred_GBM)+0*np.array(pred_Ada)\n",
        "rmse(combine,y_train)"
      ],
      "execution_count": null,
      "outputs": []
    },
    {
      "cell_type": "code",
      "metadata": {
        "id": "sEY9trJ3I7Nj",
        "colab_type": "code",
        "colab": {}
      },
      "source": [
        "from scipy.optimize import nnls \n",
        "fin_mat = np.zeros((26231,6))\n",
        "fin_mat[:,0]=np.array(pre_linear)\n",
        "fin_mat[:,1]=np.array(pred_Lasso)\n",
        "fin_mat[:,2]=np.array(pred_Ridge)\n",
        "fin_mat[:,3]=np.array(pred_RF)\n",
        "fin_mat[:,4]=np.array(pred_GBM)\n",
        "fin_mat[:,5]=np.array(pred_Ada)\n",
        "fin_mat\n",
        "b=nnls(fin_mat, y_train)\n",
        "b"
      ],
      "execution_count": null,
      "outputs": []
    }
  ]
}
{
  "nbformat": 4,
  "nbformat_minor": 0,
  "metadata": {
    "colab": {
      "name": "NYC_Property_w/ Stacking.ipynb",
      "provenance": [],
      "collapsed_sections": []
    },
    "kernelspec": {
      "name": "python3",
      "display_name": "Python 3"
    }
  },
  "cells": [
    {
      "cell_type": "code",
      "metadata": {
        "id": "5QGOnWkVRR1P",
        "colab_type": "code",
        "colab": {
          "base_uri": "https://localhost:8080/",
          "height": 547
        },
        "outputId": "28e02940-a046-49b3-f200-e7457761a44a"
      },
      "source": [
        "\"\"\"\n",
        "create by: Kehan Wang\n",
        "Date: 2020.6.26\n",
        "\"\"\"\n",
        "import pandas as pd\n",
        "import numpy as np\n",
        "import matplotlib.pyplot as plt\n",
        "import seaborn as sns\n",
        "from sklearn.preprocessing import StandardScaler, LabelEncoder, OneHotEncoder\n",
        "from sklearn.metrics import mean_squared_error\n",
        "from math import sqrt\n",
        "from sklearn.model_selection import train_test_split\n",
        "from sklearn.linear_model import LinearRegression\n",
        "from sklearn.linear_model import Lasso\n",
        "from sklearn.linear_model import Ridge\n",
        "from sklearn.linear_model import ElasticNet\n",
        "from sklearn.ensemble import RandomForestRegressor\n",
        "from sklearn.ensemble import GradientBoostingRegressor\n",
        "df = pd.read_csv('nyc-rolling-sales.csv')\n",
        "# df.head(100)\n",
        "df.head()"
      ],
      "execution_count": 114,
      "outputs": [
        {
          "output_type": "execute_result",
          "data": {
            "text/html": [
              "<div>\n",
              "<style scoped>\n",
              "    .dataframe tbody tr th:only-of-type {\n",
              "        vertical-align: middle;\n",
              "    }\n",
              "\n",
              "    .dataframe tbody tr th {\n",
              "        vertical-align: top;\n",
              "    }\n",
              "\n",
              "    .dataframe thead th {\n",
              "        text-align: right;\n",
              "    }\n",
              "</style>\n",
              "<table border=\"1\" class=\"dataframe\">\n",
              "  <thead>\n",
              "    <tr style=\"text-align: right;\">\n",
              "      <th></th>\n",
              "      <th>Unnamed: 0</th>\n",
              "      <th>BOROUGH</th>\n",
              "      <th>NEIGHBORHOOD</th>\n",
              "      <th>BUILDING CLASS CATEGORY</th>\n",
              "      <th>TAX CLASS AT PRESENT</th>\n",
              "      <th>BLOCK</th>\n",
              "      <th>LOT</th>\n",
              "      <th>EASE-MENT</th>\n",
              "      <th>BUILDING CLASS AT PRESENT</th>\n",
              "      <th>ADDRESS</th>\n",
              "      <th>APARTMENT NUMBER</th>\n",
              "      <th>ZIP CODE</th>\n",
              "      <th>RESIDENTIAL UNITS</th>\n",
              "      <th>COMMERCIAL UNITS</th>\n",
              "      <th>TOTAL UNITS</th>\n",
              "      <th>LAND SQUARE FEET</th>\n",
              "      <th>GROSS SQUARE FEET</th>\n",
              "      <th>YEAR BUILT</th>\n",
              "      <th>TAX CLASS AT TIME OF SALE</th>\n",
              "      <th>BUILDING CLASS AT TIME OF SALE</th>\n",
              "      <th>SALE PRICE</th>\n",
              "      <th>SALE DATE</th>\n",
              "    </tr>\n",
              "  </thead>\n",
              "  <tbody>\n",
              "    <tr>\n",
              "      <th>0</th>\n",
              "      <td>4</td>\n",
              "      <td>1</td>\n",
              "      <td>ALPHABET CITY</td>\n",
              "      <td>07 RENTALS - WALKUP APARTMENTS</td>\n",
              "      <td>2A</td>\n",
              "      <td>392</td>\n",
              "      <td>6</td>\n",
              "      <td></td>\n",
              "      <td>C2</td>\n",
              "      <td>153 AVENUE B</td>\n",
              "      <td></td>\n",
              "      <td>10009</td>\n",
              "      <td>5</td>\n",
              "      <td>0</td>\n",
              "      <td>5</td>\n",
              "      <td>1633</td>\n",
              "      <td>6440</td>\n",
              "      <td>1900</td>\n",
              "      <td>2</td>\n",
              "      <td>C2</td>\n",
              "      <td>6625000</td>\n",
              "      <td>2017-07-19 00:00:00</td>\n",
              "    </tr>\n",
              "    <tr>\n",
              "      <th>1</th>\n",
              "      <td>5</td>\n",
              "      <td>1</td>\n",
              "      <td>ALPHABET CITY</td>\n",
              "      <td>07 RENTALS - WALKUP APARTMENTS</td>\n",
              "      <td>2</td>\n",
              "      <td>399</td>\n",
              "      <td>26</td>\n",
              "      <td></td>\n",
              "      <td>C7</td>\n",
              "      <td>234 EAST 4TH   STREET</td>\n",
              "      <td></td>\n",
              "      <td>10009</td>\n",
              "      <td>28</td>\n",
              "      <td>3</td>\n",
              "      <td>31</td>\n",
              "      <td>4616</td>\n",
              "      <td>18690</td>\n",
              "      <td>1900</td>\n",
              "      <td>2</td>\n",
              "      <td>C7</td>\n",
              "      <td>-</td>\n",
              "      <td>2016-12-14 00:00:00</td>\n",
              "    </tr>\n",
              "    <tr>\n",
              "      <th>2</th>\n",
              "      <td>6</td>\n",
              "      <td>1</td>\n",
              "      <td>ALPHABET CITY</td>\n",
              "      <td>07 RENTALS - WALKUP APARTMENTS</td>\n",
              "      <td>2</td>\n",
              "      <td>399</td>\n",
              "      <td>39</td>\n",
              "      <td></td>\n",
              "      <td>C7</td>\n",
              "      <td>197 EAST 3RD   STREET</td>\n",
              "      <td></td>\n",
              "      <td>10009</td>\n",
              "      <td>16</td>\n",
              "      <td>1</td>\n",
              "      <td>17</td>\n",
              "      <td>2212</td>\n",
              "      <td>7803</td>\n",
              "      <td>1900</td>\n",
              "      <td>2</td>\n",
              "      <td>C7</td>\n",
              "      <td>-</td>\n",
              "      <td>2016-12-09 00:00:00</td>\n",
              "    </tr>\n",
              "    <tr>\n",
              "      <th>3</th>\n",
              "      <td>7</td>\n",
              "      <td>1</td>\n",
              "      <td>ALPHABET CITY</td>\n",
              "      <td>07 RENTALS - WALKUP APARTMENTS</td>\n",
              "      <td>2B</td>\n",
              "      <td>402</td>\n",
              "      <td>21</td>\n",
              "      <td></td>\n",
              "      <td>C4</td>\n",
              "      <td>154 EAST 7TH STREET</td>\n",
              "      <td></td>\n",
              "      <td>10009</td>\n",
              "      <td>10</td>\n",
              "      <td>0</td>\n",
              "      <td>10</td>\n",
              "      <td>2272</td>\n",
              "      <td>6794</td>\n",
              "      <td>1913</td>\n",
              "      <td>2</td>\n",
              "      <td>C4</td>\n",
              "      <td>3936272</td>\n",
              "      <td>2016-09-23 00:00:00</td>\n",
              "    </tr>\n",
              "    <tr>\n",
              "      <th>4</th>\n",
              "      <td>8</td>\n",
              "      <td>1</td>\n",
              "      <td>ALPHABET CITY</td>\n",
              "      <td>07 RENTALS - WALKUP APARTMENTS</td>\n",
              "      <td>2A</td>\n",
              "      <td>404</td>\n",
              "      <td>55</td>\n",
              "      <td></td>\n",
              "      <td>C2</td>\n",
              "      <td>301 EAST 10TH   STREET</td>\n",
              "      <td></td>\n",
              "      <td>10009</td>\n",
              "      <td>6</td>\n",
              "      <td>0</td>\n",
              "      <td>6</td>\n",
              "      <td>2369</td>\n",
              "      <td>4615</td>\n",
              "      <td>1900</td>\n",
              "      <td>2</td>\n",
              "      <td>C2</td>\n",
              "      <td>8000000</td>\n",
              "      <td>2016-11-17 00:00:00</td>\n",
              "    </tr>\n",
              "  </tbody>\n",
              "</table>\n",
              "</div>"
            ],
            "text/plain": [
              "   Unnamed: 0  BOROUGH  ... SALE PRICE            SALE DATE\n",
              "0           4        1  ...    6625000  2017-07-19 00:00:00\n",
              "1           5        1  ...        -    2016-12-14 00:00:00\n",
              "2           6        1  ...        -    2016-12-09 00:00:00\n",
              "3           7        1  ...    3936272  2016-09-23 00:00:00\n",
              "4           8        1  ...    8000000  2016-11-17 00:00:00\n",
              "\n",
              "[5 rows x 22 columns]"
            ]
          },
          "metadata": {
            "tags": []
          },
          "execution_count": 114
        }
      ]
    },
    {
      "cell_type": "markdown",
      "metadata": {
        "id": "Eo5gK6nE-G6L",
        "colab_type": "text"
      },
      "source": [
        "#1) Data Clean"
      ]
    },
    {
      "cell_type": "markdown",
      "metadata": {
        "id": "TUBrhCUO_6gV",
        "colab_type": "text"
      },
      "source": [
        "First of all, we want to drop thoese useless columns and to check whether there are any duplicate values in our dataset. If there is any, we will need to drop them."
      ]
    },
    {
      "cell_type": "code",
      "metadata": {
        "id": "2m-kVUmMSGNy",
        "colab_type": "code",
        "colab": {}
      },
      "source": [
        "# \"Unname: 0\" column looks like useless, drop it.\n",
        "del df['Unnamed: 0']\n",
        "#\"EASE-MENT\" column is empty, we are going to drop it.\n",
        "del df['EASE-MENT']\n",
        "\n",
        "del df['SALE DATE']"
      ],
      "execution_count": 115,
      "outputs": []
    },
    {
      "cell_type": "code",
      "metadata": {
        "id": "Cvqw8SvN_457",
        "colab_type": "code",
        "colab": {
          "base_uri": "https://localhost:8080/",
          "height": 34
        },
        "outputId": "7dc63d69-bb6b-4143-c945-6fdaa579fd55"
      },
      "source": [
        "sum(df.duplicated(df.columns))\n",
        "df = df.drop_duplicates(df.columns, keep='last')\n",
        "df.shape"
      ],
      "execution_count": 116,
      "outputs": [
        {
          "output_type": "execute_result",
          "data": {
            "text/plain": [
              "(83190, 19)"
            ]
          },
          "metadata": {
            "tags": []
          },
          "execution_count": 116
        }
      ]
    },
    {
      "cell_type": "markdown",
      "metadata": {
        "id": "I7UWV8-UBFzA",
        "colab_type": "text"
      },
      "source": [
        "Now, Let's look into details."
      ]
    },
    {
      "cell_type": "code",
      "metadata": {
        "id": "htSGOtHWUvQf",
        "colab_type": "code",
        "colab": {
          "base_uri": "https://localhost:8080/",
          "height": 459
        },
        "outputId": "324d8762-92a4-41eb-8029-af218bb70f63"
      },
      "source": [
        "df.info()"
      ],
      "execution_count": 117,
      "outputs": [
        {
          "output_type": "stream",
          "text": [
            "<class 'pandas.core.frame.DataFrame'>\n",
            "Int64Index: 83190 entries, 0 to 84547\n",
            "Data columns (total 19 columns):\n",
            " #   Column                          Non-Null Count  Dtype \n",
            "---  ------                          --------------  ----- \n",
            " 0   BOROUGH                         83190 non-null  int64 \n",
            " 1   NEIGHBORHOOD                    83190 non-null  object\n",
            " 2   BUILDING CLASS CATEGORY         83190 non-null  object\n",
            " 3   TAX CLASS AT PRESENT            83190 non-null  object\n",
            " 4   BLOCK                           83190 non-null  int64 \n",
            " 5   LOT                             83190 non-null  int64 \n",
            " 6   BUILDING CLASS AT PRESENT       83190 non-null  object\n",
            " 7   ADDRESS                         83190 non-null  object\n",
            " 8   APARTMENT NUMBER                83190 non-null  object\n",
            " 9   ZIP CODE                        83190 non-null  int64 \n",
            " 10  RESIDENTIAL UNITS               83190 non-null  int64 \n",
            " 11  COMMERCIAL UNITS                83190 non-null  int64 \n",
            " 12  TOTAL UNITS                     83190 non-null  int64 \n",
            " 13  LAND SQUARE FEET                83190 non-null  object\n",
            " 14  GROSS SQUARE FEET               83190 non-null  object\n",
            " 15  YEAR BUILT                      83190 non-null  int64 \n",
            " 16  TAX CLASS AT TIME OF SALE       83190 non-null  int64 \n",
            " 17  BUILDING CLASS AT TIME OF SALE  83190 non-null  object\n",
            " 18  SALE PRICE                      83190 non-null  object\n",
            "dtypes: int64(9), object(10)\n",
            "memory usage: 12.7+ MB\n"
          ],
          "name": "stdout"
        }
      ]
    },
    {
      "cell_type": "markdown",
      "metadata": {
        "id": "20mGNQvqLwJd",
        "colab_type": "text"
      },
      "source": [
        "After browsing the information of dataset, we can see they use \"-\" to represent the missing values. Before prediction, we should clean these rows in the data table. Some of them should not be counted as the sale of real estate. For example, in column \"SALE PRICE\", these properties with 0 value might be transferred as a gift. \n",
        "\n",
        "Before cleaning missing values, We need to convert some of the columns(for example, SALE PRICE is object, SALE DATE is object, etc) to appropriate datatype."
      ]
    },
    {
      "cell_type": "code",
      "metadata": {
        "id": "y6Ti1ywdEuNz",
        "colab_type": "code",
        "colab": {}
      },
      "source": [
        "df['SALE PRICE'] = pd.to_numeric(df['SALE PRICE'], errors='coerce')\n",
        "# df['SALE DATE'] = pd.to_datetime(df['SALE DATE'])\n",
        "# df['SALE DATE'] = [item.to_julian_date() for item in df['SALE DATE']]\n",
        "df['LAND SQUARE FEET'] = pd.to_numeric(df['LAND SQUARE FEET'], errors='coerce')\n",
        "df['GROSS SQUARE FEET']= pd.to_numeric(df['GROSS SQUARE FEET'], errors='coerce')\n",
        "\n",
        "df['TAX CLASS AT PRESENT'] = df['TAX CLASS AT PRESENT'].astype('category')\n",
        "df['TAX CLASS AT PRESENT'] = df['TAX CLASS AT PRESENT'].astype('category')\n",
        "df['BOROUGH'] = df['BOROUGH'].astype('category')\n"
      ],
      "execution_count": 118,
      "outputs": []
    },
    {
      "cell_type": "code",
      "metadata": {
        "id": "j95V0sE0S-tw",
        "colab_type": "code",
        "colab": {
          "base_uri": "https://localhost:8080/",
          "height": 34
        },
        "outputId": "7e30d067-a4f7-4a20-ae2b-b05415b1fdb5"
      },
      "source": [
        "df.shape\n"
      ],
      "execution_count": 119,
      "outputs": [
        {
          "output_type": "execute_result",
          "data": {
            "text/plain": [
              "(83190, 19)"
            ]
          },
          "metadata": {
            "tags": []
          },
          "execution_count": 119
        }
      ]
    },
    {
      "cell_type": "code",
      "metadata": {
        "id": "7bxrLnLiEG_7",
        "colab_type": "code",
        "colab": {}
      },
      "source": [
        "variables = df.columns\n",
        "\n",
        "data = []\n",
        "for variable in variables:\n",
        "  l = df[variable].count()\n",
        "  data.append(l)\n",
        "available_per = np.round(pd.Series(data)/len(df), 3)"
      ],
      "execution_count": 120,
      "outputs": []
    },
    {
      "cell_type": "code",
      "metadata": {
        "id": "tKiqJIuZEiGI",
        "colab_type": "code",
        "colab": {
          "base_uri": "https://localhost:8080/",
          "height": 392
        },
        "outputId": "b4d05690-8924-47f4-b6b5-e49f4a2a373d"
      },
      "source": [
        "plt.figure(figsize=(8,6))\n",
        "plt.barh(variables, available_per)\n",
        "plt.title(\"Percent of available data\", fontsize=15)\n",
        "plt.show()"
      ],
      "execution_count": 121,
      "outputs": [
        {
          "output_type": "display_data",
          "data": {
            "image/png": "[encoded data removed]",
            "text/plain": [
              "<Figure size 576x432 with 1 Axes>"
            ]
          },
          "metadata": {
            "tags": [],
            "needs_background": "light"
          }
        }
      ]
    },
    {
      "cell_type": "markdown",
      "metadata": {
        "id": "SDz8IvrdF4Oz",
        "colab_type": "text"
      },
      "source": [
        "As shown in the figure, SALE PRICE, GROSS SQUARE FEET and LAND SQUARE FEET have the lowest percent of available data. But again, SALE PRICE is the value we wanted to predict, and as the data set description states:\n",
        "\n",
        "*Many sales occur with a nonsensically small dollar amount: $0 most commonly. These sales are actually transfers of deeds between parties: for example, parents transferring ownership to their home to a child after moving out for retirement.* We may want to drop those rows.\n",
        "\n",
        "For SQUARE FEET, in this case, we will use mean values to fill them up."
      ]
    },
    {
      "cell_type": "code",
      "metadata": {
        "id": "A_MFibUyM3Fp",
        "colab_type": "code",
        "colab": {
          "base_uri": "https://localhost:8080/",
          "height": 34
        },
        "outputId": "91488b37-f817-42cc-eb54-49f0943d0756"
      },
      "source": [
        "df=df[df['SALE PRICE']!=0]\n",
        "df['LAND SQUARE FEET']=df['LAND SQUARE FEET'].fillna(df['LAND SQUARE FEET'].mean())\n",
        "df['GROSS SQUARE FEET']=df['GROSS SQUARE FEET'].fillna(df['GROSS SQUARE FEET'].mean())\n",
        "df.shape"
      ],
      "execution_count": 122,
      "outputs": [
        {
          "output_type": "execute_result",
          "data": {
            "text/plain": [
              "(73450, 19)"
            ]
          },
          "metadata": {
            "tags": []
          },
          "execution_count": 122
        }
      ]
    },
    {
      "cell_type": "code",
      "metadata": {
        "id": "r0aWxeKKOdH0",
        "colab_type": "code",
        "colab": {}
      },
      "source": [
        "# Splitting dataset \n",
        "test=df[df['SALE PRICE'].isna()]\n",
        "sale_house=df[~df['SALE PRICE'].isna()]"
      ],
      "execution_count": 123,
      "outputs": []
    },
    {
      "cell_type": "code",
      "metadata": {
        "id": "e1FDQ8zL7YiG",
        "colab_type": "code",
        "colab": {}
      },
      "source": [
        "test = test.drop(columns='SALE PRICE')"
      ],
      "execution_count": 124,
      "outputs": []
    },
    {
      "cell_type": "code",
      "metadata": {
        "id": "PqKUdXdd7dXQ",
        "colab_type": "code",
        "colab": {
          "base_uri": "https://localhost:8080/",
          "height": 564
        },
        "outputId": "dd8a996f-f794-4e58-f8e0-ee505dfc99f1"
      },
      "source": [
        "print(test.shape)\n",
        "test.head()"
      ],
      "execution_count": 125,
      "outputs": [
        {
          "output_type": "stream",
          "text": [
            "(13909, 18)\n"
          ],
          "name": "stdout"
        },
        {
          "output_type": "execute_result",
          "data": {
            "text/html": [
              "<div>\n",
              "<style scoped>\n",
              "    .dataframe tbody tr th:only-of-type {\n",
              "        vertical-align: middle;\n",
              "    }\n",
              "\n",
              "    .dataframe tbody tr th {\n",
              "        vertical-align: top;\n",
              "    }\n",
              "\n",
              "    .dataframe thead th {\n",
              "        text-align: right;\n",
              "    }\n",
              "</style>\n",
              "<table border=\"1\" class=\"dataframe\">\n",
              "  <thead>\n",
              "    <tr style=\"text-align: right;\">\n",
              "      <th></th>\n",
              "      <th>BOROUGH</th>\n",
              "      <th>NEIGHBORHOOD</th>\n",
              "      <th>BUILDING CLASS CATEGORY</th>\n",
              "      <th>TAX CLASS AT PRESENT</th>\n",
              "      <th>BLOCK</th>\n",
              "      <th>LOT</th>\n",
              "      <th>BUILDING CLASS AT PRESENT</th>\n",
              "      <th>ADDRESS</th>\n",
              "      <th>APARTMENT NUMBER</th>\n",
              "      <th>ZIP CODE</th>\n",
              "      <th>RESIDENTIAL UNITS</th>\n",
              "      <th>COMMERCIAL UNITS</th>\n",
              "      <th>TOTAL UNITS</th>\n",
              "      <th>LAND SQUARE FEET</th>\n",
              "      <th>GROSS SQUARE FEET</th>\n",
              "      <th>YEAR BUILT</th>\n",
              "      <th>TAX CLASS AT TIME OF SALE</th>\n",
              "      <th>BUILDING CLASS AT TIME OF SALE</th>\n",
              "    </tr>\n",
              "  </thead>\n",
              "  <tbody>\n",
              "    <tr>\n",
              "      <th>1</th>\n",
              "      <td>1</td>\n",
              "      <td>ALPHABET CITY</td>\n",
              "      <td>07 RENTALS - WALKUP APARTMENTS</td>\n",
              "      <td>2</td>\n",
              "      <td>399</td>\n",
              "      <td>26</td>\n",
              "      <td>C7</td>\n",
              "      <td>234 EAST 4TH   STREET</td>\n",
              "      <td></td>\n",
              "      <td>10009</td>\n",
              "      <td>28</td>\n",
              "      <td>3</td>\n",
              "      <td>31</td>\n",
              "      <td>4616.0</td>\n",
              "      <td>18690.0</td>\n",
              "      <td>1900</td>\n",
              "      <td>2</td>\n",
              "      <td>C7</td>\n",
              "    </tr>\n",
              "    <tr>\n",
              "      <th>2</th>\n",
              "      <td>1</td>\n",
              "      <td>ALPHABET CITY</td>\n",
              "      <td>07 RENTALS - WALKUP APARTMENTS</td>\n",
              "      <td>2</td>\n",
              "      <td>399</td>\n",
              "      <td>39</td>\n",
              "      <td>C7</td>\n",
              "      <td>197 EAST 3RD   STREET</td>\n",
              "      <td></td>\n",
              "      <td>10009</td>\n",
              "      <td>16</td>\n",
              "      <td>1</td>\n",
              "      <td>17</td>\n",
              "      <td>2212.0</td>\n",
              "      <td>7803.0</td>\n",
              "      <td>1900</td>\n",
              "      <td>2</td>\n",
              "      <td>C7</td>\n",
              "    </tr>\n",
              "    <tr>\n",
              "      <th>5</th>\n",
              "      <td>1</td>\n",
              "      <td>ALPHABET CITY</td>\n",
              "      <td>07 RENTALS - WALKUP APARTMENTS</td>\n",
              "      <td>2</td>\n",
              "      <td>405</td>\n",
              "      <td>16</td>\n",
              "      <td>C4</td>\n",
              "      <td>516 EAST 12TH   STREET</td>\n",
              "      <td></td>\n",
              "      <td>10009</td>\n",
              "      <td>20</td>\n",
              "      <td>0</td>\n",
              "      <td>20</td>\n",
              "      <td>2581.0</td>\n",
              "      <td>9730.0</td>\n",
              "      <td>1900</td>\n",
              "      <td>2</td>\n",
              "      <td>C4</td>\n",
              "    </tr>\n",
              "    <tr>\n",
              "      <th>7</th>\n",
              "      <td>1</td>\n",
              "      <td>ALPHABET CITY</td>\n",
              "      <td>07 RENTALS - WALKUP APARTMENTS</td>\n",
              "      <td>2</td>\n",
              "      <td>407</td>\n",
              "      <td>18</td>\n",
              "      <td>C7</td>\n",
              "      <td>520 EAST 14TH   STREET</td>\n",
              "      <td></td>\n",
              "      <td>10009</td>\n",
              "      <td>44</td>\n",
              "      <td>2</td>\n",
              "      <td>46</td>\n",
              "      <td>5163.0</td>\n",
              "      <td>21007.0</td>\n",
              "      <td>1900</td>\n",
              "      <td>2</td>\n",
              "      <td>C7</td>\n",
              "    </tr>\n",
              "    <tr>\n",
              "      <th>8</th>\n",
              "      <td>1</td>\n",
              "      <td>ALPHABET CITY</td>\n",
              "      <td>08 RENTALS - ELEVATOR APARTMENTS</td>\n",
              "      <td>2</td>\n",
              "      <td>379</td>\n",
              "      <td>34</td>\n",
              "      <td>D5</td>\n",
              "      <td>141 AVENUE D</td>\n",
              "      <td></td>\n",
              "      <td>10009</td>\n",
              "      <td>15</td>\n",
              "      <td>0</td>\n",
              "      <td>15</td>\n",
              "      <td>1534.0</td>\n",
              "      <td>9198.0</td>\n",
              "      <td>1920</td>\n",
              "      <td>2</td>\n",
              "      <td>D5</td>\n",
              "    </tr>\n",
              "  </tbody>\n",
              "</table>\n",
              "</div>"
            ],
            "text/plain": [
              "  BOROUGH  ... BUILDING CLASS AT TIME OF SALE\n",
              "1       1  ...                             C7\n",
              "2       1  ...                             C7\n",
              "5       1  ...                             C4\n",
              "7       1  ...                             C7\n",
              "8       1  ...                             D5\n",
              "\n",
              "[5 rows x 18 columns]"
            ]
          },
          "metadata": {
            "tags": []
          },
          "execution_count": 125
        }
      ]
    },
    {
      "cell_type": "markdown",
      "metadata": {
        "id": "Wnal5oAeNIG7",
        "colab_type": "text"
      },
      "source": [
        "Now Let's recap and revisit the details of the remaining dataset."
      ]
    },
    {
      "cell_type": "code",
      "metadata": {
        "id": "_y_fK8Pw70Bd",
        "colab_type": "code",
        "colab": {
          "base_uri": "https://localhost:8080/",
          "height": 974
        },
        "outputId": "95aec47a-b355-4e3a-8950-17dbdf58e33f"
      },
      "source": [
        "print(sale_house.shape)\n",
        "sale_house.head(10)"
      ],
      "execution_count": 126,
      "outputs": [
        {
          "output_type": "stream",
          "text": [
            "(59541, 19)\n"
          ],
          "name": "stdout"
        },
        {
          "output_type": "execute_result",
          "data": {
            "text/html": [
              "<div>\n",
              "<style scoped>\n",
              "    .dataframe tbody tr th:only-of-type {\n",
              "        vertical-align: middle;\n",
              "    }\n",
              "\n",
              "    .dataframe tbody tr th {\n",
              "        vertical-align: top;\n",
              "    }\n",
              "\n",
              "    .dataframe thead th {\n",
              "        text-align: right;\n",
              "    }\n",
              "</style>\n",
              "<table border=\"1\" class=\"dataframe\">\n",
              "  <thead>\n",
              "    <tr style=\"text-align: right;\">\n",
              "      <th></th>\n",
              "      <th>BOROUGH</th>\n",
              "      <th>NEIGHBORHOOD</th>\n",
              "      <th>BUILDING CLASS CATEGORY</th>\n",
              "      <th>TAX CLASS AT PRESENT</th>\n",
              "      <th>BLOCK</th>\n",
              "      <th>LOT</th>\n",
              "      <th>BUILDING CLASS AT PRESENT</th>\n",
              "      <th>ADDRESS</th>\n",
              "      <th>APARTMENT NUMBER</th>\n",
              "      <th>ZIP CODE</th>\n",
              "      <th>RESIDENTIAL UNITS</th>\n",
              "      <th>COMMERCIAL UNITS</th>\n",
              "      <th>TOTAL UNITS</th>\n",
              "      <th>LAND SQUARE FEET</th>\n",
              "      <th>GROSS SQUARE FEET</th>\n",
              "      <th>YEAR BUILT</th>\n",
              "      <th>TAX CLASS AT TIME OF SALE</th>\n",
              "      <th>BUILDING CLASS AT TIME OF SALE</th>\n",
              "      <th>SALE PRICE</th>\n",
              "    </tr>\n",
              "  </thead>\n",
              "  <tbody>\n",
              "    <tr>\n",
              "      <th>0</th>\n",
              "      <td>1</td>\n",
              "      <td>ALPHABET CITY</td>\n",
              "      <td>07 RENTALS - WALKUP APARTMENTS</td>\n",
              "      <td>2A</td>\n",
              "      <td>392</td>\n",
              "      <td>6</td>\n",
              "      <td>C2</td>\n",
              "      <td>153 AVENUE B</td>\n",
              "      <td></td>\n",
              "      <td>10009</td>\n",
              "      <td>5</td>\n",
              "      <td>0</td>\n",
              "      <td>5</td>\n",
              "      <td>1633.000000</td>\n",
              "      <td>6440.000000</td>\n",
              "      <td>1900</td>\n",
              "      <td>2</td>\n",
              "      <td>C2</td>\n",
              "      <td>6625000.0</td>\n",
              "    </tr>\n",
              "    <tr>\n",
              "      <th>3</th>\n",
              "      <td>1</td>\n",
              "      <td>ALPHABET CITY</td>\n",
              "      <td>07 RENTALS - WALKUP APARTMENTS</td>\n",
              "      <td>2B</td>\n",
              "      <td>402</td>\n",
              "      <td>21</td>\n",
              "      <td>C4</td>\n",
              "      <td>154 EAST 7TH STREET</td>\n",
              "      <td></td>\n",
              "      <td>10009</td>\n",
              "      <td>10</td>\n",
              "      <td>0</td>\n",
              "      <td>10</td>\n",
              "      <td>2272.000000</td>\n",
              "      <td>6794.000000</td>\n",
              "      <td>1913</td>\n",
              "      <td>2</td>\n",
              "      <td>C4</td>\n",
              "      <td>3936272.0</td>\n",
              "    </tr>\n",
              "    <tr>\n",
              "      <th>4</th>\n",
              "      <td>1</td>\n",
              "      <td>ALPHABET CITY</td>\n",
              "      <td>07 RENTALS - WALKUP APARTMENTS</td>\n",
              "      <td>2A</td>\n",
              "      <td>404</td>\n",
              "      <td>55</td>\n",
              "      <td>C2</td>\n",
              "      <td>301 EAST 10TH   STREET</td>\n",
              "      <td></td>\n",
              "      <td>10009</td>\n",
              "      <td>6</td>\n",
              "      <td>0</td>\n",
              "      <td>6</td>\n",
              "      <td>2369.000000</td>\n",
              "      <td>4615.000000</td>\n",
              "      <td>1900</td>\n",
              "      <td>2</td>\n",
              "      <td>C2</td>\n",
              "      <td>8000000.0</td>\n",
              "    </tr>\n",
              "    <tr>\n",
              "      <th>6</th>\n",
              "      <td>1</td>\n",
              "      <td>ALPHABET CITY</td>\n",
              "      <td>07 RENTALS - WALKUP APARTMENTS</td>\n",
              "      <td>2B</td>\n",
              "      <td>406</td>\n",
              "      <td>32</td>\n",
              "      <td>C4</td>\n",
              "      <td>210 AVENUE B</td>\n",
              "      <td></td>\n",
              "      <td>10009</td>\n",
              "      <td>8</td>\n",
              "      <td>0</td>\n",
              "      <td>8</td>\n",
              "      <td>1750.000000</td>\n",
              "      <td>4226.000000</td>\n",
              "      <td>1920</td>\n",
              "      <td>2</td>\n",
              "      <td>C4</td>\n",
              "      <td>3192840.0</td>\n",
              "    </tr>\n",
              "    <tr>\n",
              "      <th>9</th>\n",
              "      <td>1</td>\n",
              "      <td>ALPHABET CITY</td>\n",
              "      <td>08 RENTALS - ELEVATOR APARTMENTS</td>\n",
              "      <td>2</td>\n",
              "      <td>387</td>\n",
              "      <td>153</td>\n",
              "      <td>D9</td>\n",
              "      <td>629 EAST 5TH STREET</td>\n",
              "      <td></td>\n",
              "      <td>10009</td>\n",
              "      <td>24</td>\n",
              "      <td>0</td>\n",
              "      <td>24</td>\n",
              "      <td>4489.000000</td>\n",
              "      <td>18523.000000</td>\n",
              "      <td>1920</td>\n",
              "      <td>2</td>\n",
              "      <td>D9</td>\n",
              "      <td>16232000.0</td>\n",
              "    </tr>\n",
              "    <tr>\n",
              "      <th>11</th>\n",
              "      <td>1</td>\n",
              "      <td>ALPHABET CITY</td>\n",
              "      <td>08 RENTALS - ELEVATOR APARTMENTS</td>\n",
              "      <td>2B</td>\n",
              "      <td>400</td>\n",
              "      <td>21</td>\n",
              "      <td>D1</td>\n",
              "      <td>530-532 EAST 5TH STREET</td>\n",
              "      <td></td>\n",
              "      <td>10009</td>\n",
              "      <td>10</td>\n",
              "      <td>0</td>\n",
              "      <td>10</td>\n",
              "      <td>3717.000000</td>\n",
              "      <td>12350.000000</td>\n",
              "      <td>2009</td>\n",
              "      <td>2</td>\n",
              "      <td>D1</td>\n",
              "      <td>10350000.0</td>\n",
              "    </tr>\n",
              "    <tr>\n",
              "      <th>12</th>\n",
              "      <td>1</td>\n",
              "      <td>ALPHABET CITY</td>\n",
              "      <td>09 COOPS - WALKUP APARTMENTS</td>\n",
              "      <td>2</td>\n",
              "      <td>373</td>\n",
              "      <td>40</td>\n",
              "      <td>C6</td>\n",
              "      <td>327 EAST 3 STREET, 1C</td>\n",
              "      <td></td>\n",
              "      <td>10009</td>\n",
              "      <td>0</td>\n",
              "      <td>0</td>\n",
              "      <td>0</td>\n",
              "      <td>4036.387388</td>\n",
              "      <td>3882.820176</td>\n",
              "      <td>1920</td>\n",
              "      <td>2</td>\n",
              "      <td>C6</td>\n",
              "      <td>1.0</td>\n",
              "    </tr>\n",
              "    <tr>\n",
              "      <th>13</th>\n",
              "      <td>1</td>\n",
              "      <td>ALPHABET CITY</td>\n",
              "      <td>09 COOPS - WALKUP APARTMENTS</td>\n",
              "      <td>2</td>\n",
              "      <td>373</td>\n",
              "      <td>40</td>\n",
              "      <td>C6</td>\n",
              "      <td>327 EAST 3 STREET, 1C</td>\n",
              "      <td></td>\n",
              "      <td>10009</td>\n",
              "      <td>0</td>\n",
              "      <td>0</td>\n",
              "      <td>0</td>\n",
              "      <td>4036.387388</td>\n",
              "      <td>3882.820176</td>\n",
              "      <td>1920</td>\n",
              "      <td>2</td>\n",
              "      <td>C6</td>\n",
              "      <td>499000.0</td>\n",
              "    </tr>\n",
              "    <tr>\n",
              "      <th>14</th>\n",
              "      <td>1</td>\n",
              "      <td>ALPHABET CITY</td>\n",
              "      <td>09 COOPS - WALKUP APARTMENTS</td>\n",
              "      <td>2</td>\n",
              "      <td>373</td>\n",
              "      <td>40</td>\n",
              "      <td>C6</td>\n",
              "      <td>327 EAST 3 STREET, 3A</td>\n",
              "      <td></td>\n",
              "      <td>10009</td>\n",
              "      <td>0</td>\n",
              "      <td>0</td>\n",
              "      <td>0</td>\n",
              "      <td>4036.387388</td>\n",
              "      <td>3882.820176</td>\n",
              "      <td>1920</td>\n",
              "      <td>2</td>\n",
              "      <td>C6</td>\n",
              "      <td>10.0</td>\n",
              "    </tr>\n",
              "    <tr>\n",
              "      <th>15</th>\n",
              "      <td>1</td>\n",
              "      <td>ALPHABET CITY</td>\n",
              "      <td>09 COOPS - WALKUP APARTMENTS</td>\n",
              "      <td>2</td>\n",
              "      <td>373</td>\n",
              "      <td>40</td>\n",
              "      <td>C6</td>\n",
              "      <td>327 EAST 3RD STREET, 5A</td>\n",
              "      <td></td>\n",
              "      <td>10009</td>\n",
              "      <td>0</td>\n",
              "      <td>0</td>\n",
              "      <td>0</td>\n",
              "      <td>4036.387388</td>\n",
              "      <td>3882.820176</td>\n",
              "      <td>1920</td>\n",
              "      <td>2</td>\n",
              "      <td>C6</td>\n",
              "      <td>529500.0</td>\n",
              "    </tr>\n",
              "  </tbody>\n",
              "</table>\n",
              "</div>"
            ],
            "text/plain": [
              "   BOROUGH   NEIGHBORHOOD  ... BUILDING CLASS AT TIME OF SALE  SALE PRICE\n",
              "0        1  ALPHABET CITY  ...                             C2   6625000.0\n",
              "3        1  ALPHABET CITY  ...                             C4   3936272.0\n",
              "4        1  ALPHABET CITY  ...                             C2   8000000.0\n",
              "6        1  ALPHABET CITY  ...                             C4   3192840.0\n",
              "9        1  ALPHABET CITY  ...                             D9  16232000.0\n",
              "11       1  ALPHABET CITY  ...                             D1  10350000.0\n",
              "12       1  ALPHABET CITY  ...                             C6         1.0\n",
              "13       1  ALPHABET CITY  ...                             C6    499000.0\n",
              "14       1  ALPHABET CITY  ...                             C6        10.0\n",
              "15       1  ALPHABET CITY  ...                             C6    529500.0\n",
              "\n",
              "[10 rows x 19 columns]"
            ]
          },
          "metadata": {
            "tags": []
          },
          "execution_count": 126
        }
      ]
    },
    {
      "cell_type": "code",
      "metadata": {
        "id": "OP5UYq4fOx_9",
        "colab_type": "code",
        "colab": {
          "base_uri": "https://localhost:8080/",
          "height": 351
        },
        "outputId": "ae4ffec1-28d8-474f-86bf-97c77e618e5d"
      },
      "source": [
        "sale_house.describe()"
      ],
      "execution_count": 127,
      "outputs": [
        {
          "output_type": "execute_result",
          "data": {
            "text/html": [
              "<div>\n",
              "<style scoped>\n",
              "    .dataframe tbody tr th:only-of-type {\n",
              "        vertical-align: middle;\n",
              "    }\n",
              "\n",
              "    .dataframe tbody tr th {\n",
              "        vertical-align: top;\n",
              "    }\n",
              "\n",
              "    .dataframe thead th {\n",
              "        text-align: right;\n",
              "    }\n",
              "</style>\n",
              "<table border=\"1\" class=\"dataframe\">\n",
              "  <thead>\n",
              "    <tr style=\"text-align: right;\">\n",
              "      <th></th>\n",
              "      <th>BLOCK</th>\n",
              "      <th>LOT</th>\n",
              "      <th>ZIP CODE</th>\n",
              "      <th>RESIDENTIAL UNITS</th>\n",
              "      <th>COMMERCIAL UNITS</th>\n",
              "      <th>TOTAL UNITS</th>\n",
              "      <th>LAND SQUARE FEET</th>\n",
              "      <th>GROSS SQUARE FEET</th>\n",
              "      <th>YEAR BUILT</th>\n",
              "      <th>TAX CLASS AT TIME OF SALE</th>\n",
              "      <th>SALE PRICE</th>\n",
              "    </tr>\n",
              "  </thead>\n",
              "  <tbody>\n",
              "    <tr>\n",
              "      <th>count</th>\n",
              "      <td>59541.000000</td>\n",
              "      <td>59541.000000</td>\n",
              "      <td>59541.000000</td>\n",
              "      <td>59541.000000</td>\n",
              "      <td>59541.000000</td>\n",
              "      <td>59541.000000</td>\n",
              "      <td>5.954100e+04</td>\n",
              "      <td>5.954100e+04</td>\n",
              "      <td>59541.000000</td>\n",
              "      <td>59541.000000</td>\n",
              "      <td>5.954100e+04</td>\n",
              "    </tr>\n",
              "    <tr>\n",
              "      <th>mean</th>\n",
              "      <td>4154.241380</td>\n",
              "      <td>390.978536</td>\n",
              "      <td>10705.972506</td>\n",
              "      <td>1.721033</td>\n",
              "      <td>0.154028</td>\n",
              "      <td>1.887288</td>\n",
              "      <td>3.812962e+03</td>\n",
              "      <td>3.588820e+03</td>\n",
              "      <td>1810.151677</td>\n",
              "      <td>1.628038</td>\n",
              "      <td>1.496977e+06</td>\n",
              "    </tr>\n",
              "    <tr>\n",
              "      <th>std</th>\n",
              "      <td>3569.441667</td>\n",
              "      <td>670.698035</td>\n",
              "      <td>1265.161061</td>\n",
              "      <td>14.114490</td>\n",
              "      <td>9.674913</td>\n",
              "      <td>17.218731</td>\n",
              "      <td>3.556956e+04</td>\n",
              "      <td>2.372531e+04</td>\n",
              "      <td>505.612898</td>\n",
              "      <td>0.702928</td>\n",
              "      <td>1.234578e+07</td>\n",
              "    </tr>\n",
              "    <tr>\n",
              "      <th>min</th>\n",
              "      <td>1.000000</td>\n",
              "      <td>1.000000</td>\n",
              "      <td>0.000000</td>\n",
              "      <td>0.000000</td>\n",
              "      <td>0.000000</td>\n",
              "      <td>0.000000</td>\n",
              "      <td>0.000000e+00</td>\n",
              "      <td>0.000000e+00</td>\n",
              "      <td>0.000000</td>\n",
              "      <td>1.000000</td>\n",
              "      <td>1.000000e+00</td>\n",
              "    </tr>\n",
              "    <tr>\n",
              "      <th>25%</th>\n",
              "      <td>1279.000000</td>\n",
              "      <td>21.000000</td>\n",
              "      <td>10301.000000</td>\n",
              "      <td>0.000000</td>\n",
              "      <td>0.000000</td>\n",
              "      <td>0.000000</td>\n",
              "      <td>2.000000e+03</td>\n",
              "      <td>1.300000e+03</td>\n",
              "      <td>1920.000000</td>\n",
              "      <td>1.000000</td>\n",
              "      <td>3.710000e+05</td>\n",
              "    </tr>\n",
              "    <tr>\n",
              "      <th>50%</th>\n",
              "      <td>3168.000000</td>\n",
              "      <td>50.000000</td>\n",
              "      <td>11207.000000</td>\n",
              "      <td>1.000000</td>\n",
              "      <td>0.000000</td>\n",
              "      <td>1.000000</td>\n",
              "      <td>3.682000e+03</td>\n",
              "      <td>2.528000e+03</td>\n",
              "      <td>1940.000000</td>\n",
              "      <td>2.000000</td>\n",
              "      <td>6.285000e+05</td>\n",
              "    </tr>\n",
              "    <tr>\n",
              "      <th>75%</th>\n",
              "      <td>6111.000000</td>\n",
              "      <td>1002.000000</td>\n",
              "      <td>11357.000000</td>\n",
              "      <td>2.000000</td>\n",
              "      <td>0.000000</td>\n",
              "      <td>2.000000</td>\n",
              "      <td>4.036387e+03</td>\n",
              "      <td>3.882820e+03</td>\n",
              "      <td>1966.000000</td>\n",
              "      <td>2.000000</td>\n",
              "      <td>1.075000e+06</td>\n",
              "    </tr>\n",
              "    <tr>\n",
              "      <th>max</th>\n",
              "      <td>16319.000000</td>\n",
              "      <td>9106.000000</td>\n",
              "      <td>11694.000000</td>\n",
              "      <td>1844.000000</td>\n",
              "      <td>2261.000000</td>\n",
              "      <td>2261.000000</td>\n",
              "      <td>4.252327e+06</td>\n",
              "      <td>3.750565e+06</td>\n",
              "      <td>2017.000000</td>\n",
              "      <td>4.000000</td>\n",
              "      <td>2.210000e+09</td>\n",
              "    </tr>\n",
              "  </tbody>\n",
              "</table>\n",
              "</div>"
            ],
            "text/plain": [
              "              BLOCK           LOT  ...  TAX CLASS AT TIME OF SALE    SALE PRICE\n",
              "count  59541.000000  59541.000000  ...               59541.000000  5.954100e+04\n",
              "mean    4154.241380    390.978536  ...                   1.628038  1.496977e+06\n",
              "std     3569.441667    670.698035  ...                   0.702928  1.234578e+07\n",
              "min        1.000000      1.000000  ...                   1.000000  1.000000e+00\n",
              "25%     1279.000000     21.000000  ...                   1.000000  3.710000e+05\n",
              "50%     3168.000000     50.000000  ...                   2.000000  6.285000e+05\n",
              "75%     6111.000000   1002.000000  ...                   2.000000  1.075000e+06\n",
              "max    16319.000000   9106.000000  ...                   4.000000  2.210000e+09\n",
              "\n",
              "[8 rows x 11 columns]"
            ]
          },
          "metadata": {
            "tags": []
          },
          "execution_count": 127
        }
      ]
    },
    {
      "cell_type": "markdown",
      "metadata": {
        "id": "em3V3l818Kxy",
        "colab_type": "text"
      },
      "source": [
        "According to the above chart, we can observe that \n",
        "\n",
        "1) The min value for ZIP CODE is 0, we don't have ZIP CODE that equals to 0\n",
        "\n",
        "2) The Building Year of some properties are 0, this should be incorrect as well.\n",
        "\n",
        "3) Some properties have 0 SQUARE FEET...\n",
        "\n",
        "Let's fix them\n",
        "\n",
        "####TODO"
      ]
    },
    {
      "cell_type": "markdown",
      "metadata": {
        "id": "nLKmBT8ri_kX",
        "colab_type": "text"
      },
      "source": [
        "ZIP CODE"
      ]
    },
    {
      "cell_type": "code",
      "metadata": {
        "id": "MsR7OfLejGWJ",
        "colab_type": "code",
        "colab": {
          "base_uri": "https://localhost:8080/",
          "height": 516
        },
        "outputId": "e22e1e08-3319-434f-d308-f577dc18a1f2"
      },
      "source": [
        "plt.figure(figsize=(10,8))\n",
        "plt.title(' ZIP CODE ')\n",
        "plt.xlim(0,12000)\n",
        "\n",
        "sale_house['ZIP CODE'].value_counts().sort_index().plot.line()"
      ],
      "execution_count": 128,
      "outputs": [
        {
          "output_type": "execute_result",
          "data": {
            "text/plain": [
              "<matplotlib.axes._subplots.AxesSubplot at 0x7f720f18a6a0>"
            ]
          },
          "metadata": {
            "tags": []
          },
          "execution_count": 128
        },
        {
          "output_type": "display_data",
          "data": {
            "image/png": "[encoded data removed]",
            "text/plain": [
              "<Figure size 720x576 with 1 Axes>"
            ]
          },
          "metadata": {
            "tags": [],
            "needs_background": "light"
          }
        }
      ]
    },
    {
      "cell_type": "code",
      "metadata": {
        "id": "q8WV6zVej4-_",
        "colab_type": "code",
        "colab": {}
      },
      "source": [
        "sale_house = sale_house[(sale_house['ZIP CODE'] != 0)]"
      ],
      "execution_count": 129,
      "outputs": []
    },
    {
      "cell_type": "code",
      "metadata": {
        "id": "3IOsH6YtkYrR",
        "colab_type": "code",
        "colab": {
          "base_uri": "https://localhost:8080/",
          "height": 286
        },
        "outputId": "82761bda-c9f2-4d7d-c586-09b1bdab04c6"
      },
      "source": [
        "sale_house['ZIP CODE'].value_counts().sort_index().plot.line()"
      ],
      "execution_count": 130,
      "outputs": [
        {
          "output_type": "execute_result",
          "data": {
            "text/plain": [
              "<matplotlib.axes._subplots.AxesSubplot at 0x7f720f018240>"
            ]
          },
          "metadata": {
            "tags": []
          },
          "execution_count": 130
        },
        {
          "output_type": "display_data",
          "data": {
            "image/png": "[encoded data removed]",
            "text/plain": [
              "<Figure size 432x288 with 1 Axes>"
            ]
          },
          "metadata": {
            "tags": [],
            "needs_background": "light"
          }
        }
      ]
    },
    {
      "cell_type": "markdown",
      "metadata": {
        "id": "ElMJbcRSc7ra",
        "colab_type": "text"
      },
      "source": [
        "BUILDING YEAR "
      ]
    },
    {
      "cell_type": "code",
      "metadata": {
        "id": "OcCfBJo6dCUZ",
        "colab_type": "code",
        "colab": {
          "base_uri": "https://localhost:8080/",
          "height": 516
        },
        "outputId": "4c1334db-5505-4086-eea2-1f251ceeb1ea"
      },
      "source": [
        "plt.figure(figsize=(10,8))\n",
        "plt.title(' Year Built ')\n",
        "plt.xlim(1500,2020)\n",
        "\n",
        "sale_house['YEAR BUILT'].value_counts().sort_index().plot.line()"
      ],
      "execution_count": 131,
      "outputs": [
        {
          "output_type": "execute_result",
          "data": {
            "text/plain": [
              "<matplotlib.axes._subplots.AxesSubplot at 0x7f720effd2b0>"
            ]
          },
          "metadata": {
            "tags": []
          },
          "execution_count": 131
        },
        {
          "output_type": "display_data",
          "data": {
            "image/png": "[encoded data removed]",
            "text/plain": [
              "<Figure size 720x576 with 1 Axes>"
            ]
          },
          "metadata": {
            "tags": [],
            "needs_background": "light"
          }
        }
      ]
    },
    {
      "cell_type": "code",
      "metadata": {
        "id": "ua6tt2U2gLFL",
        "colab_type": "code",
        "colab": {}
      },
      "source": [
        "sale_house = sale_house[(sale_house['YEAR BUILT'] > 1875)]"
      ],
      "execution_count": 132,
      "outputs": []
    },
    {
      "cell_type": "code",
      "metadata": {
        "id": "ibyJ9XSJiXXK",
        "colab_type": "code",
        "colab": {
          "base_uri": "https://localhost:8080/",
          "height": 282
        },
        "outputId": "df83b2ca-b209-4033-adeb-1e977530c080"
      },
      "source": [
        "sale_house['YEAR BUILT'].value_counts().sort_index().plot.line()"
      ],
      "execution_count": 133,
      "outputs": [
        {
          "output_type": "execute_result",
          "data": {
            "text/plain": [
              "<matplotlib.axes._subplots.AxesSubplot at 0x7f720effd048>"
            ]
          },
          "metadata": {
            "tags": []
          },
          "execution_count": 133
        },
        {
          "output_type": "display_data",
          "data": {
            "image/png": "[encoded data removed]",
            "text/plain": [
              "<Figure size 432x288 with 1 Axes>"
            ]
          },
          "metadata": {
            "tags": [],
            "needs_background": "light"
          }
        }
      ]
    },
    {
      "cell_type": "markdown",
      "metadata": {
        "id": "m6vleZKW9UK1",
        "colab_type": "text"
      },
      "source": [
        "Finally, it's time check the outliers in our datasets, let's first look into the column sale price.\n",
        "\n",
        "####SALE PRICE"
      ]
    },
    {
      "cell_type": "code",
      "metadata": {
        "id": "5LPz59-c9dlc",
        "colab_type": "code",
        "colab": {
          "base_uri": "https://localhost:8080/",
          "height": 350
        },
        "outputId": "1c30de99-29c6-4d4a-a7f5-b2f530ad9871"
      },
      "source": [
        "plt.figure(figsize=(10,5))\n",
        "\n",
        "sns.boxplot(x='SALE PRICE', data=sale_house)\n",
        "plt.ticklabel_format(style='plain', axis='x')\n",
        "plt.title('SALE PRICE in USD')\n",
        "plt.show()"
      ],
      "execution_count": 134,
      "outputs": [
        {
          "output_type": "display_data",
          "data": {
            "image/png": "[encoded data removed]",
            "text/plain": [
              "<Figure size 720x360 with 1 Axes>"
            ]
          },
          "metadata": {
            "tags": [],
            "needs_background": "light"
          }
        }
      ]
    },
    {
      "cell_type": "code",
      "metadata": {
        "id": "Y42-Cfcn9nfj",
        "colab_type": "code",
        "colab": {}
      },
      "source": [
        "sale_house = sale_house[(sale_house['SALE PRICE'] > 0) & (sale_house['SALE PRICE'] < 500000000)] \n"
      ],
      "execution_count": 135,
      "outputs": []
    },
    {
      "cell_type": "code",
      "metadata": {
        "id": "4RlLJs9__bwD",
        "colab_type": "code",
        "colab": {
          "base_uri": "https://localhost:8080/",
          "height": 307
        },
        "outputId": "1b002bf3-c8ea-4e31-aecb-c48f6f9c7561"
      },
      "source": [
        "sns.distplot(sale_house['SALE PRICE'])\n"
      ],
      "execution_count": 136,
      "outputs": [
        {
          "output_type": "execute_result",
          "data": {
            "text/plain": [
              "<matplotlib.axes._subplots.AxesSubplot at 0x7f721b98c2e8>"
            ]
          },
          "metadata": {
            "tags": []
          },
          "execution_count": 136
        },
        {
          "output_type": "display_data",
          "data": {
            "image/png": "[encoded data removed]",
            "text/plain": [
              "<Figure size 432x288 with 1 Axes>"
            ]
          },
          "metadata": {
            "tags": [],
            "needs_background": "light"
          }
        }
      ]
    },
    {
      "cell_type": "code",
      "metadata": {
        "id": "vcsEPct4_kPP",
        "colab_type": "code",
        "colab": {}
      },
      "source": [
        "sale_house = sale_house[(sale_house['SALE PRICE'] > 0) & (sale_house['SALE PRICE'] < 5000000)]\n"
      ],
      "execution_count": 137,
      "outputs": []
    },
    {
      "cell_type": "code",
      "metadata": {
        "id": "9h9dHhas_skG",
        "colab_type": "code",
        "colab": {
          "base_uri": "https://localhost:8080/",
          "height": 307
        },
        "outputId": "2d697662-6e58-4e0f-98e4-62ccb8e714cf"
      },
      "source": [
        "sns.distplot(sale_house['SALE PRICE'])\n"
      ],
      "execution_count": 138,
      "outputs": [
        {
          "output_type": "execute_result",
          "data": {
            "text/plain": [
              "<matplotlib.axes._subplots.AxesSubplot at 0x7f721abb19b0>"
            ]
          },
          "metadata": {
            "tags": []
          },
          "execution_count": 138
        },
        {
          "output_type": "display_data",
          "data": {
            "image/png": "[encoded data removed]",
            "text/plain": [
              "<Figure size 432x288 with 1 Axes>"
            ]
          },
          "metadata": {
            "tags": [],
            "needs_background": "light"
          }
        }
      ]
    },
    {
      "cell_type": "markdown",
      "metadata": {
        "id": "k9UfItZ5_9u8",
        "colab_type": "text"
      },
      "source": [
        "####SQUARE FEET"
      ]
    },
    {
      "cell_type": "code",
      "metadata": {
        "id": "cKNAb2HFAQb8",
        "colab_type": "code",
        "colab": {
          "base_uri": "https://localhost:8080/",
          "height": 798
        },
        "outputId": "4b4d5c00-a436-4ba8-9dd5-eabbb358d413"
      },
      "source": [
        "sale_house = sale_house[sale_house['GROSS SQUARE FEET'] < 10000]\n",
        "sale_house = sale_house[sale_house['LAND SQUARE FEET'] < 10000]\n",
        "\n",
        "plt.figure(figsize=(10,6))\n",
        "sns.regplot(x='GROSS SQUARE FEET', y='SALE PRICE', data=sale_house, fit_reg=False, scatter_kws={'alpha':0.3})\n",
        "\n",
        "plt.figure(figsize=(10,6))\n",
        "sns.regplot(x='LAND SQUARE FEET', y='SALE PRICE', data=sale_house, fit_reg=False, scatter_kws={'alpha':0.3})"
      ],
      "execution_count": 139,
      "outputs": [
        {
          "output_type": "execute_result",
          "data": {
            "text/plain": [
              "<matplotlib.axes._subplots.AxesSubplot at 0x7f720efb6f98>"
            ]
          },
          "metadata": {
            "tags": []
          },
          "execution_count": 139
        },
        {
          "output_type": "display_data",
          "data": {
            "image/png": "[encoded data removed]",
            "text/plain": [
              "<Figure size 720x432 with 1 Axes>"
            ]
          },
          "metadata": {
            "tags": [],
            "needs_background": "light"
          }
        },
        {
          "output_type": "display_data",
          "data": {
            "image/png": "[encoded data removed]",
            "text/plain": [
              "<Figure size 720x432 with 1 Axes>"
            ]
          },
          "metadata": {
            "tags": [],
            "needs_background": "light"
          }
        }
      ]
    },
    {
      "cell_type": "markdown",
      "metadata": {
        "id": "CilCOp1OAx5W",
        "colab_type": "text"
      },
      "source": [
        "####UNIT NUMBER"
      ]
    },
    {
      "cell_type": "code",
      "metadata": {
        "id": "SBWj9jY8AVOn",
        "colab_type": "code",
        "colab": {
          "base_uri": "https://localhost:8080/",
          "height": 700
        },
        "outputId": "ba81fe80-5482-43df-d7a3-07c4b595db09"
      },
      "source": [
        "sale_house[[\"TOTAL UNITS\", \"SALE PRICE\"]].groupby(['TOTAL UNITS'], as_index=False).count().sort_values(by='SALE PRICE', ascending=False)"
      ],
      "execution_count": 140,
      "outputs": [
        {
          "output_type": "execute_result",
          "data": {
            "text/html": [
              "<div>\n",
              "<style scoped>\n",
              "    .dataframe tbody tr th:only-of-type {\n",
              "        vertical-align: middle;\n",
              "    }\n",
              "\n",
              "    .dataframe tbody tr th {\n",
              "        vertical-align: top;\n",
              "    }\n",
              "\n",
              "    .dataframe thead th {\n",
              "        text-align: right;\n",
              "    }\n",
              "</style>\n",
              "<table border=\"1\" class=\"dataframe\">\n",
              "  <thead>\n",
              "    <tr style=\"text-align: right;\">\n",
              "      <th></th>\n",
              "      <th>TOTAL UNITS</th>\n",
              "      <th>SALE PRICE</th>\n",
              "    </tr>\n",
              "  </thead>\n",
              "  <tbody>\n",
              "    <tr>\n",
              "      <th>1</th>\n",
              "      <td>1</td>\n",
              "      <td>22967</td>\n",
              "    </tr>\n",
              "    <tr>\n",
              "      <th>0</th>\n",
              "      <td>0</td>\n",
              "      <td>14778</td>\n",
              "    </tr>\n",
              "    <tr>\n",
              "      <th>2</th>\n",
              "      <td>2</td>\n",
              "      <td>9948</td>\n",
              "    </tr>\n",
              "    <tr>\n",
              "      <th>3</th>\n",
              "      <td>3</td>\n",
              "      <td>2879</td>\n",
              "    </tr>\n",
              "    <tr>\n",
              "      <th>4</th>\n",
              "      <td>4</td>\n",
              "      <td>741</td>\n",
              "    </tr>\n",
              "    <tr>\n",
              "      <th>6</th>\n",
              "      <td>6</td>\n",
              "      <td>377</td>\n",
              "    </tr>\n",
              "    <tr>\n",
              "      <th>5</th>\n",
              "      <td>5</td>\n",
              "      <td>181</td>\n",
              "    </tr>\n",
              "    <tr>\n",
              "      <th>8</th>\n",
              "      <td>8</td>\n",
              "      <td>141</td>\n",
              "    </tr>\n",
              "    <tr>\n",
              "      <th>7</th>\n",
              "      <td>7</td>\n",
              "      <td>74</td>\n",
              "    </tr>\n",
              "    <tr>\n",
              "      <th>9</th>\n",
              "      <td>9</td>\n",
              "      <td>58</td>\n",
              "    </tr>\n",
              "    <tr>\n",
              "      <th>10</th>\n",
              "      <td>10</td>\n",
              "      <td>50</td>\n",
              "    </tr>\n",
              "    <tr>\n",
              "      <th>12</th>\n",
              "      <td>12</td>\n",
              "      <td>17</td>\n",
              "    </tr>\n",
              "    <tr>\n",
              "      <th>11</th>\n",
              "      <td>11</td>\n",
              "      <td>12</td>\n",
              "    </tr>\n",
              "    <tr>\n",
              "      <th>16</th>\n",
              "      <td>16</td>\n",
              "      <td>10</td>\n",
              "    </tr>\n",
              "    <tr>\n",
              "      <th>13</th>\n",
              "      <td>13</td>\n",
              "      <td>5</td>\n",
              "    </tr>\n",
              "    <tr>\n",
              "      <th>14</th>\n",
              "      <td>14</td>\n",
              "      <td>5</td>\n",
              "    </tr>\n",
              "    <tr>\n",
              "      <th>15</th>\n",
              "      <td>15</td>\n",
              "      <td>5</td>\n",
              "    </tr>\n",
              "    <tr>\n",
              "      <th>17</th>\n",
              "      <td>18</td>\n",
              "      <td>2</td>\n",
              "    </tr>\n",
              "    <tr>\n",
              "      <th>18</th>\n",
              "      <td>19</td>\n",
              "      <td>1</td>\n",
              "    </tr>\n",
              "    <tr>\n",
              "      <th>19</th>\n",
              "      <td>20</td>\n",
              "      <td>1</td>\n",
              "    </tr>\n",
              "    <tr>\n",
              "      <th>20</th>\n",
              "      <td>2261</td>\n",
              "      <td>1</td>\n",
              "    </tr>\n",
              "  </tbody>\n",
              "</table>\n",
              "</div>"
            ],
            "text/plain": [
              "    TOTAL UNITS  SALE PRICE\n",
              "1             1       22967\n",
              "0             0       14778\n",
              "2             2        9948\n",
              "3             3        2879\n",
              "4             4         741\n",
              "6             6         377\n",
              "5             5         181\n",
              "8             8         141\n",
              "7             7          74\n",
              "9             9          58\n",
              "10           10          50\n",
              "12           12          17\n",
              "11           11          12\n",
              "16           16          10\n",
              "13           13           5\n",
              "14           14           5\n",
              "15           15           5\n",
              "17           18           2\n",
              "18           19           1\n",
              "19           20           1\n",
              "20         2261           1"
            ]
          },
          "metadata": {
            "tags": []
          },
          "execution_count": 140
        }
      ]
    },
    {
      "cell_type": "code",
      "metadata": {
        "id": "wLs9YzluA3pX",
        "colab_type": "code",
        "colab": {}
      },
      "source": [
        "sale_house = sale_house[(sale_house['TOTAL UNITS'] > 0) & (sale_house['TOTAL UNITS'] != 2261)] \n"
      ],
      "execution_count": 141,
      "outputs": []
    },
    {
      "cell_type": "code",
      "metadata": {
        "id": "tY2u_0RMA-_F",
        "colab_type": "code",
        "colab": {
          "base_uri": "https://localhost:8080/",
          "height": 404
        },
        "outputId": "57127d52-cb1d-4fc3-e24a-2b6dc33b7d9f"
      },
      "source": [
        "plt.figure(figsize=(10,6))\n",
        "sns.boxplot(x='TOTAL UNITS', y='SALE PRICE', data=sale_house)\n",
        "plt.title('Total Units vs Sale Price')\n",
        "plt.show()"
      ],
      "execution_count": 142,
      "outputs": [
        {
          "output_type": "display_data",
          "data": {
            "image/png": "[encoded data removed]",
            "text/plain": [
              "<Figure size 720x432 with 1 Axes>"
            ]
          },
          "metadata": {
            "tags": [],
            "needs_background": "light"
          }
        }
      ]
    },
    {
      "cell_type": "markdown",
      "metadata": {
        "id": "jzTyJ11ic3ys",
        "colab_type": "text"
      },
      "source": [
        "#2) Preparation"
      ]
    },
    {
      "cell_type": "code",
      "metadata": {
        "id": "glwjK_96BTTT",
        "colab_type": "code",
        "colab": {
          "base_uri": "https://localhost:8080/",
          "height": 34
        },
        "outputId": "1b17c78b-cbb9-42de-d68b-b1813f7890fc"
      },
      "source": [
        "#\"Apartment Number\" only has few values, so we are going to drop it.\n",
        "print(\"The percent of rows with null in apartment number:\" +str(sum(df['APARTMENT NUMBER']==' ')/len(df)))\n",
        "del sale_house['APARTMENT NUMBER']\n",
        "del sale_house['ADDRESS']\n",
        "\n",
        "del sale_house['NEIGHBORHOOD']\n",
        "del sale_house['BUILDING CLASS AT PRESENT']\n",
        "del sale_house['BUILDING CLASS AT TIME OF SALE']"
      ],
      "execution_count": 143,
      "outputs": [
        {
          "output_type": "stream",
          "text": [
            "The percent of rows with null in apartment number:0.770211027910143\n"
          ],
          "name": "stdout"
        }
      ]
    },
    {
      "cell_type": "code",
      "metadata": {
        "id": "fIuac0OuPMs-",
        "colab_type": "code",
        "colab": {
          "base_uri": "https://localhost:8080/",
          "height": 852
        },
        "outputId": "41f09422-72a9-4f00-da52-9a3e867a864f"
      },
      "source": [
        "cor = sale_house.corr()\n",
        "fig, ax = plt.subplots(figsize=(12,12))\n",
        "sns.heatmap(cor,annot=True, ax = ax)"
      ],
      "execution_count": 144,
      "outputs": [
        {
          "output_type": "execute_result",
          "data": {
            "text/plain": [
              "<matplotlib.axes._subplots.AxesSubplot at 0x7f720ed915f8>"
            ]
          },
          "metadata": {
            "tags": []
          },
          "execution_count": 144
        },
        {
          "output_type": "display_data",
          "data": {
            "image/png": "[encoded data removed]",
            "text/plain": [
              "<Figure size 864x864 with 2 Axes>"
            ]
          },
          "metadata": {
            "tags": [],
            "needs_background": "light"
          }
        }
      ]
    },
    {
      "cell_type": "markdown",
      "metadata": {
        "id": "4TeZJpNBddbW",
        "colab_type": "text"
      },
      "source": [
        "Removing highing correlated independent variable from datasets."
      ]
    },
    {
      "cell_type": "code",
      "metadata": {
        "id": "JpRlhINndvj4",
        "colab_type": "code",
        "colab": {}
      },
      "source": [
        "# sale_house.drop(['RESIDENTIAL UNITS','GROSS SQUARE FEET',],inplace=True, axis=1)\n",
        "# sale_house.head()"
      ],
      "execution_count": 145,
      "outputs": []
    },
    {
      "cell_type": "code",
      "metadata": {
        "id": "s2OQJ0MXd1IS",
        "colab_type": "code",
        "colab": {}
      },
      "source": [
        "#one hot encoded\n",
        "#https://machinelearningmastery.com/why-one-hot-encode-data-in-machine-learning/\n",
        "one_hot_features = ['BOROUGH', 'BUILDING CLASS CATEGORY','TAX CLASS AT PRESENT','TAX CLASS AT TIME OF SALE']"
      ],
      "execution_count": 146,
      "outputs": []
    },
    {
      "cell_type": "code",
      "metadata": {
        "id": "KT9VYrsWd5qy",
        "colab_type": "code",
        "colab": {
          "base_uri": "https://localhost:8080/",
          "height": 1000
        },
        "outputId": "4bcc9695-7745-4997-b316-1ff0b3cf3fc1"
      },
      "source": [
        "# Convert categorical variables into dummy/indicator variables (i.e. one-hot encoding).\n",
        "one_hot_encoded = pd.get_dummies(sale_house[one_hot_features])\n",
        "one_hot_encoded.info(verbose=True, memory_usage=True, null_counts=True)"
      ],
      "execution_count": 147,
      "outputs": [
        {
          "output_type": "stream",
          "text": [
            "<class 'pandas.core.frame.DataFrame'>\n",
            "Int64Index: 37474 entries, 3 to 84545\n",
            "Data columns (total 56 columns):\n",
            " #   Column                                                                Non-Null Count  Dtype\n",
            "---  ------                                                                --------------  -----\n",
            " 0   TAX CLASS AT TIME OF SALE                                             37474 non-null  int64\n",
            " 1   BOROUGH_1                                                             37474 non-null  uint8\n",
            " 2   BOROUGH_2                                                             37474 non-null  uint8\n",
            " 3   BOROUGH_3                                                             37474 non-null  uint8\n",
            " 4   BOROUGH_4                                                             37474 non-null  uint8\n",
            " 5   BOROUGH_5                                                             37474 non-null  uint8\n",
            " 6   BUILDING CLASS CATEGORY_01 ONE FAMILY DWELLINGS                       37474 non-null  uint8\n",
            " 7   BUILDING CLASS CATEGORY_02 TWO FAMILY DWELLINGS                       37474 non-null  uint8\n",
            " 8   BUILDING CLASS CATEGORY_03 THREE FAMILY DWELLINGS                     37474 non-null  uint8\n",
            " 9   BUILDING CLASS CATEGORY_04 TAX CLASS 1 CONDOS                         37474 non-null  uint8\n",
            " 10  BUILDING CLASS CATEGORY_05 TAX CLASS 1 VACANT LAND                    37474 non-null  uint8\n",
            " 11  BUILDING CLASS CATEGORY_06 TAX CLASS 1 - OTHER                        37474 non-null  uint8\n",
            " 12  BUILDING CLASS CATEGORY_07 RENTALS - WALKUP APARTMENTS                37474 non-null  uint8\n",
            " 13  BUILDING CLASS CATEGORY_08 RENTALS - ELEVATOR APARTMENTS              37474 non-null  uint8\n",
            " 14  BUILDING CLASS CATEGORY_09 COOPS - WALKUP APARTMENTS                  37474 non-null  uint8\n",
            " 15  BUILDING CLASS CATEGORY_11A CONDO-RENTALS                             37474 non-null  uint8\n",
            " 16  BUILDING CLASS CATEGORY_12 CONDOS - WALKUP APARTMENTS                 37474 non-null  uint8\n",
            " 17  BUILDING CLASS CATEGORY_13 CONDOS - ELEVATOR APARTMENTS               37474 non-null  uint8\n",
            " 18  BUILDING CLASS CATEGORY_14 RENTALS - 4-10 UNIT                        37474 non-null  uint8\n",
            " 19  BUILDING CLASS CATEGORY_15 CONDOS - 2-10 UNIT RESIDENTIAL             37474 non-null  uint8\n",
            " 20  BUILDING CLASS CATEGORY_16 CONDOS - 2-10 UNIT WITH COMMERCIAL UNIT    37474 non-null  uint8\n",
            " 21  BUILDING CLASS CATEGORY_21 OFFICE BUILDINGS                           37474 non-null  uint8\n",
            " 22  BUILDING CLASS CATEGORY_22 STORE BUILDINGS                            37474 non-null  uint8\n",
            " 23  BUILDING CLASS CATEGORY_23 LOFT BUILDINGS                             37474 non-null  uint8\n",
            " 24  BUILDING CLASS CATEGORY_26 OTHER HOTELS                               37474 non-null  uint8\n",
            " 25  BUILDING CLASS CATEGORY_27 FACTORIES                                  37474 non-null  uint8\n",
            " 26  BUILDING CLASS CATEGORY_28 COMMERCIAL CONDOS                          37474 non-null  uint8\n",
            " 27  BUILDING CLASS CATEGORY_29 COMMERCIAL GARAGES                         37474 non-null  uint8\n",
            " 28  BUILDING CLASS CATEGORY_30 WAREHOUSES                                 37474 non-null  uint8\n",
            " 29  BUILDING CLASS CATEGORY_31 COMMERCIAL VACANT LAND                     37474 non-null  uint8\n",
            " 30  BUILDING CLASS CATEGORY_32 HOSPITAL AND HEALTH FACILITIES             37474 non-null  uint8\n",
            " 31  BUILDING CLASS CATEGORY_33 EDUCATIONAL FACILITIES                     37474 non-null  uint8\n",
            " 32  BUILDING CLASS CATEGORY_35 INDOOR PUBLIC AND CULTURAL FACILITIES      37474 non-null  uint8\n",
            " 33  BUILDING CLASS CATEGORY_37 RELIGIOUS FACILITIES                       37474 non-null  uint8\n",
            " 34  BUILDING CLASS CATEGORY_38 ASYLUMS AND HOMES                          37474 non-null  uint8\n",
            " 35  BUILDING CLASS CATEGORY_40 SELECTED GOVERNMENTAL FACILITIES           37474 non-null  uint8\n",
            " 36  BUILDING CLASS CATEGORY_41 TAX CLASS 4 - OTHER                        37474 non-null  uint8\n",
            " 37  BUILDING CLASS CATEGORY_42 CONDO CULTURAL/MEDICAL/EDUCATIONAL/ETC     37474 non-null  uint8\n",
            " 38  BUILDING CLASS CATEGORY_43 CONDO OFFICE BUILDINGS                     37474 non-null  uint8\n",
            " 39  BUILDING CLASS CATEGORY_44 CONDO PARKING                              37474 non-null  uint8\n",
            " 40  BUILDING CLASS CATEGORY_45 CONDO HOTELS                               37474 non-null  uint8\n",
            " 41  BUILDING CLASS CATEGORY_46 CONDO STORE BUILDINGS                      37474 non-null  uint8\n",
            " 42  BUILDING CLASS CATEGORY_47 CONDO NON-BUSINESS STORAGE                 37474 non-null  uint8\n",
            " 43  BUILDING CLASS CATEGORY_48 CONDO TERRACES/GARDENS/CABANAS             37474 non-null  uint8\n",
            " 44  BUILDING CLASS CATEGORY_49 CONDO WAREHOUSES/FACTORY/INDUS             37474 non-null  uint8\n",
            " 45  TAX CLASS AT PRESENT_                                                 37474 non-null  uint8\n",
            " 46  TAX CLASS AT PRESENT_1                                                37474 non-null  uint8\n",
            " 47  TAX CLASS AT PRESENT_1A                                               37474 non-null  uint8\n",
            " 48  TAX CLASS AT PRESENT_1B                                               37474 non-null  uint8\n",
            " 49  TAX CLASS AT PRESENT_1C                                               37474 non-null  uint8\n",
            " 50  TAX CLASS AT PRESENT_2                                                37474 non-null  uint8\n",
            " 51  TAX CLASS AT PRESENT_2A                                               37474 non-null  uint8\n",
            " 52  TAX CLASS AT PRESENT_2B                                               37474 non-null  uint8\n",
            " 53  TAX CLASS AT PRESENT_2C                                               37474 non-null  uint8\n",
            " 54  TAX CLASS AT PRESENT_3                                                37474 non-null  uint8\n",
            " 55  TAX CLASS AT PRESENT_4                                                37474 non-null  uint8\n",
            "dtypes: int64(1), uint8(55)\n",
            "memory usage: 3.8 MB\n"
          ],
          "name": "stdout"
        }
      ]
    },
    {
      "cell_type": "code",
      "metadata": {
        "id": "IYR_n7VKeBTi",
        "colab_type": "code",
        "colab": {
          "base_uri": "https://localhost:8080/",
          "height": 351
        },
        "outputId": "312c2ddc-5fc2-4434-d46e-327724d0cf95"
      },
      "source": [
        "numeric_data=sale_house.select_dtypes(include=[np.number])\n",
        "numeric_data.describe()"
      ],
      "execution_count": 148,
      "outputs": [
        {
          "output_type": "execute_result",
          "data": {
            "text/html": [
              "<div>\n",
              "<style scoped>\n",
              "    .dataframe tbody tr th:only-of-type {\n",
              "        vertical-align: middle;\n",
              "    }\n",
              "\n",
              "    .dataframe tbody tr th {\n",
              "        vertical-align: top;\n",
              "    }\n",
              "\n",
              "    .dataframe thead th {\n",
              "        text-align: right;\n",
              "    }\n",
              "</style>\n",
              "<table border=\"1\" class=\"dataframe\">\n",
              "  <thead>\n",
              "    <tr style=\"text-align: right;\">\n",
              "      <th></th>\n",
              "      <th>BLOCK</th>\n",
              "      <th>LOT</th>\n",
              "      <th>ZIP CODE</th>\n",
              "      <th>RESIDENTIAL UNITS</th>\n",
              "      <th>COMMERCIAL UNITS</th>\n",
              "      <th>TOTAL UNITS</th>\n",
              "      <th>LAND SQUARE FEET</th>\n",
              "      <th>GROSS SQUARE FEET</th>\n",
              "      <th>YEAR BUILT</th>\n",
              "      <th>TAX CLASS AT TIME OF SALE</th>\n",
              "      <th>SALE PRICE</th>\n",
              "    </tr>\n",
              "  </thead>\n",
              "  <tbody>\n",
              "    <tr>\n",
              "      <th>count</th>\n",
              "      <td>37474.000000</td>\n",
              "      <td>37474.000000</td>\n",
              "      <td>37474.000000</td>\n",
              "      <td>37474.000000</td>\n",
              "      <td>37474.000000</td>\n",
              "      <td>37474.000000</td>\n",
              "      <td>37474.000000</td>\n",
              "      <td>37474.000000</td>\n",
              "      <td>37474.000000</td>\n",
              "      <td>37474.000000</td>\n",
              "      <td>3.747400e+04</td>\n",
              "    </tr>\n",
              "    <tr>\n",
              "      <th>mean</th>\n",
              "      <td>4844.666782</td>\n",
              "      <td>395.932647</td>\n",
              "      <td>10933.235150</td>\n",
              "      <td>1.551956</td>\n",
              "      <td>0.064631</td>\n",
              "      <td>1.629930</td>\n",
              "      <td>2850.062580</td>\n",
              "      <td>2222.268090</td>\n",
              "      <td>1953.165875</td>\n",
              "      <td>1.374900</td>\n",
              "      <td>8.668332e+05</td>\n",
              "    </tr>\n",
              "    <tr>\n",
              "      <th>std</th>\n",
              "      <td>3763.970287</td>\n",
              "      <td>629.008467</td>\n",
              "      <td>522.802656</td>\n",
              "      <td>1.139619</td>\n",
              "      <td>0.354584</td>\n",
              "      <td>1.180638</td>\n",
              "      <td>1538.266657</td>\n",
              "      <td>1365.029052</td>\n",
              "      <td>37.331756</td>\n",
              "      <td>0.665693</td>\n",
              "      <td>7.565990e+05</td>\n",
              "    </tr>\n",
              "    <tr>\n",
              "      <th>min</th>\n",
              "      <td>1.000000</td>\n",
              "      <td>1.000000</td>\n",
              "      <td>10001.000000</td>\n",
              "      <td>0.000000</td>\n",
              "      <td>0.000000</td>\n",
              "      <td>1.000000</td>\n",
              "      <td>0.000000</td>\n",
              "      <td>0.000000</td>\n",
              "      <td>1880.000000</td>\n",
              "      <td>1.000000</td>\n",
              "      <td>1.000000e+00</td>\n",
              "    </tr>\n",
              "    <tr>\n",
              "      <th>25%</th>\n",
              "      <td>1641.000000</td>\n",
              "      <td>26.000000</td>\n",
              "      <td>10314.000000</td>\n",
              "      <td>1.000000</td>\n",
              "      <td>0.000000</td>\n",
              "      <td>1.000000</td>\n",
              "      <td>1980.000000</td>\n",
              "      <td>1296.000000</td>\n",
              "      <td>1925.000000</td>\n",
              "      <td>1.000000</td>\n",
              "      <td>4.300000e+05</td>\n",
              "    </tr>\n",
              "    <tr>\n",
              "      <th>50%</th>\n",
              "      <td>4226.000000</td>\n",
              "      <td>56.000000</td>\n",
              "      <td>11216.000000</td>\n",
              "      <td>1.000000</td>\n",
              "      <td>0.000000</td>\n",
              "      <td>1.000000</td>\n",
              "      <td>2555.000000</td>\n",
              "      <td>1952.000000</td>\n",
              "      <td>1945.000000</td>\n",
              "      <td>1.000000</td>\n",
              "      <td>6.500000e+05</td>\n",
              "    </tr>\n",
              "    <tr>\n",
              "      <th>75%</th>\n",
              "      <td>6976.750000</td>\n",
              "      <td>1007.000000</td>\n",
              "      <td>11362.000000</td>\n",
              "      <td>2.000000</td>\n",
              "      <td>0.000000</td>\n",
              "      <td>2.000000</td>\n",
              "      <td>4036.387388</td>\n",
              "      <td>3375.000000</td>\n",
              "      <td>1988.000000</td>\n",
              "      <td>2.000000</td>\n",
              "      <td>9.950000e+05</td>\n",
              "    </tr>\n",
              "    <tr>\n",
              "      <th>max</th>\n",
              "      <td>16319.000000</td>\n",
              "      <td>8160.000000</td>\n",
              "      <td>11694.000000</td>\n",
              "      <td>20.000000</td>\n",
              "      <td>14.000000</td>\n",
              "      <td>20.000000</td>\n",
              "      <td>9996.000000</td>\n",
              "      <td>9926.000000</td>\n",
              "      <td>2017.000000</td>\n",
              "      <td>4.000000</td>\n",
              "      <td>4.996841e+06</td>\n",
              "    </tr>\n",
              "  </tbody>\n",
              "</table>\n",
              "</div>"
            ],
            "text/plain": [
              "              BLOCK           LOT  ...  TAX CLASS AT TIME OF SALE    SALE PRICE\n",
              "count  37474.000000  37474.000000  ...               37474.000000  3.747400e+04\n",
              "mean    4844.666782    395.932647  ...                   1.374900  8.668332e+05\n",
              "std     3763.970287    629.008467  ...                   0.665693  7.565990e+05\n",
              "min        1.000000      1.000000  ...                   1.000000  1.000000e+00\n",
              "25%     1641.000000     26.000000  ...                   1.000000  4.300000e+05\n",
              "50%     4226.000000     56.000000  ...                   1.000000  6.500000e+05\n",
              "75%     6976.750000   1007.000000  ...                   2.000000  9.950000e+05\n",
              "max    16319.000000   8160.000000  ...                   4.000000  4.996841e+06\n",
              "\n",
              "[8 rows x 11 columns]"
            ]
          },
          "metadata": {
            "tags": []
          },
          "execution_count": 148
        }
      ]
    },
    {
      "cell_type": "code",
      "metadata": {
        "id": "EnM7qgYGeHyg",
        "colab_type": "code",
        "colab": {}
      },
      "source": [
        "df = sale_house\n",
        "scaler = StandardScaler()\n",
        "scaler.fit(df[numeric_data.columns])\n",
        "scaled = scaler.transform(df[numeric_data.columns])\n",
        "\n",
        "for i, col in enumerate(numeric_data.columns):\n",
        "       df[col] = scaled[:,i]"
      ],
      "execution_count": 149,
      "outputs": []
    },
    {
      "cell_type": "code",
      "metadata": {
        "id": "jhGGAXpgeT-0",
        "colab_type": "code",
        "colab": {
          "base_uri": "https://localhost:8080/",
          "height": 343
        },
        "outputId": "21568bf1-9c80-4e50-9137-2906a8d7d5e6"
      },
      "source": [
        "\n",
        "df.drop(one_hot_features,axis=1,inplace=True)\n",
        "df = pd.concat([df, one_hot_encoded] ,axis=1)\n",
        "df.head()"
      ],
      "execution_count": 150,
      "outputs": [
        {
          "output_type": "execute_result",
          "data": {
            "text/html": [
              "<div>\n",
              "<style scoped>\n",
              "    .dataframe tbody tr th:only-of-type {\n",
              "        vertical-align: middle;\n",
              "    }\n",
              "\n",
              "    .dataframe tbody tr th {\n",
              "        vertical-align: top;\n",
              "    }\n",
              "\n",
              "    .dataframe thead th {\n",
              "        text-align: right;\n",
              "    }\n",
              "</style>\n",
              "<table border=\"1\" class=\"dataframe\">\n",
              "  <thead>\n",
              "    <tr style=\"text-align: right;\">\n",
              "      <th></th>\n",
              "      <th>BLOCK</th>\n",
              "      <th>LOT</th>\n",
              "      <th>ZIP CODE</th>\n",
              "      <th>RESIDENTIAL UNITS</th>\n",
              "      <th>COMMERCIAL UNITS</th>\n",
              "      <th>TOTAL UNITS</th>\n",
              "      <th>LAND SQUARE FEET</th>\n",
              "      <th>GROSS SQUARE FEET</th>\n",
              "      <th>YEAR BUILT</th>\n",
              "      <th>SALE PRICE</th>\n",
              "      <th>TAX CLASS AT TIME OF SALE</th>\n",
              "      <th>BOROUGH_1</th>\n",
              "      <th>BOROUGH_2</th>\n",
              "      <th>BOROUGH_3</th>\n",
              "      <th>BOROUGH_4</th>\n",
              "      <th>BOROUGH_5</th>\n",
              "      <th>BUILDING CLASS CATEGORY_01 ONE FAMILY DWELLINGS</th>\n",
              "      <th>BUILDING CLASS CATEGORY_02 TWO FAMILY DWELLINGS</th>\n",
              "      <th>BUILDING CLASS CATEGORY_03 THREE FAMILY DWELLINGS</th>\n",
              "      <th>BUILDING CLASS CATEGORY_04 TAX CLASS 1 CONDOS</th>\n",
              "      <th>BUILDING CLASS CATEGORY_05 TAX CLASS 1 VACANT LAND</th>\n",
              "      <th>BUILDING CLASS CATEGORY_06 TAX CLASS 1 - OTHER</th>\n",
              "      <th>BUILDING CLASS CATEGORY_07 RENTALS - WALKUP APARTMENTS</th>\n",
              "      <th>BUILDING CLASS CATEGORY_08 RENTALS - ELEVATOR APARTMENTS</th>\n",
              "      <th>BUILDING CLASS CATEGORY_09 COOPS - WALKUP APARTMENTS</th>\n",
              "      <th>BUILDING CLASS CATEGORY_11A CONDO-RENTALS</th>\n",
              "      <th>BUILDING CLASS CATEGORY_12 CONDOS - WALKUP APARTMENTS</th>\n",
              "      <th>BUILDING CLASS CATEGORY_13 CONDOS - ELEVATOR APARTMENTS</th>\n",
              "      <th>BUILDING CLASS CATEGORY_14 RENTALS - 4-10 UNIT</th>\n",
              "      <th>BUILDING CLASS CATEGORY_15 CONDOS - 2-10 UNIT RESIDENTIAL</th>\n",
              "      <th>BUILDING CLASS CATEGORY_16 CONDOS - 2-10 UNIT WITH COMMERCIAL UNIT</th>\n",
              "      <th>BUILDING CLASS CATEGORY_21 OFFICE BUILDINGS</th>\n",
              "      <th>BUILDING CLASS CATEGORY_22 STORE BUILDINGS</th>\n",
              "      <th>BUILDING CLASS CATEGORY_23 LOFT BUILDINGS</th>\n",
              "      <th>BUILDING CLASS CATEGORY_26 OTHER HOTELS</th>\n",
              "      <th>BUILDING CLASS CATEGORY_27 FACTORIES</th>\n",
              "      <th>BUILDING CLASS CATEGORY_28 COMMERCIAL CONDOS</th>\n",
              "      <th>BUILDING CLASS CATEGORY_29 COMMERCIAL GARAGES</th>\n",
              "      <th>BUILDING CLASS CATEGORY_30 WAREHOUSES</th>\n",
              "      <th>BUILDING CLASS CATEGORY_31 COMMERCIAL VACANT LAND</th>\n",
              "      <th>BUILDING CLASS CATEGORY_32 HOSPITAL AND HEALTH FACILITIES</th>\n",
              "      <th>BUILDING CLASS CATEGORY_33 EDUCATIONAL FACILITIES</th>\n",
              "      <th>BUILDING CLASS CATEGORY_35 INDOOR PUBLIC AND CULTURAL FACILITIES</th>\n",
              "      <th>BUILDING CLASS CATEGORY_37 RELIGIOUS FACILITIES</th>\n",
              "      <th>BUILDING CLASS CATEGORY_38 ASYLUMS AND HOMES</th>\n",
              "      <th>BUILDING CLASS CATEGORY_40 SELECTED GOVERNMENTAL FACILITIES</th>\n",
              "      <th>BUILDING CLASS CATEGORY_41 TAX CLASS 4 - OTHER</th>\n",
              "      <th>BUILDING CLASS CATEGORY_42 CONDO CULTURAL/MEDICAL/EDUCATIONAL/ETC</th>\n",
              "      <th>BUILDING CLASS CATEGORY_43 CONDO OFFICE BUILDINGS</th>\n",
              "      <th>BUILDING CLASS CATEGORY_44 CONDO PARKING</th>\n",
              "      <th>BUILDING CLASS CATEGORY_45 CONDO HOTELS</th>\n",
              "      <th>BUILDING CLASS CATEGORY_46 CONDO STORE BUILDINGS</th>\n",
              "      <th>BUILDING CLASS CATEGORY_47 CONDO NON-BUSINESS STORAGE</th>\n",
              "      <th>BUILDING CLASS CATEGORY_48 CONDO TERRACES/GARDENS/CABANAS</th>\n",
              "      <th>BUILDING CLASS CATEGORY_49 CONDO WAREHOUSES/FACTORY/INDUS</th>\n",
              "      <th>TAX CLASS AT PRESENT_</th>\n",
              "      <th>TAX CLASS AT PRESENT_1</th>\n",
              "      <th>TAX CLASS AT PRESENT_1A</th>\n",
              "      <th>TAX CLASS AT PRESENT_1B</th>\n",
              "      <th>TAX CLASS AT PRESENT_1C</th>\n",
              "      <th>TAX CLASS AT PRESENT_2</th>\n",
              "      <th>TAX CLASS AT PRESENT_2A</th>\n",
              "      <th>TAX CLASS AT PRESENT_2B</th>\n",
              "      <th>TAX CLASS AT PRESENT_2C</th>\n",
              "      <th>TAX CLASS AT PRESENT_3</th>\n",
              "      <th>TAX CLASS AT PRESENT_4</th>\n",
              "    </tr>\n",
              "  </thead>\n",
              "  <tbody>\n",
              "    <tr>\n",
              "      <th>3</th>\n",
              "      <td>-1.180330</td>\n",
              "      <td>-0.596077</td>\n",
              "      <td>-1.767871</td>\n",
              "      <td>7.413143</td>\n",
              "      <td>-0.182277</td>\n",
              "      <td>7.089539</td>\n",
              "      <td>-0.375793</td>\n",
              "      <td>3.349228</td>\n",
              "      <td>-1.075931</td>\n",
              "      <td>4.056944</td>\n",
              "      <td>2</td>\n",
              "      <td>1</td>\n",
              "      <td>0</td>\n",
              "      <td>0</td>\n",
              "      <td>0</td>\n",
              "      <td>0</td>\n",
              "      <td>0</td>\n",
              "      <td>0</td>\n",
              "      <td>0</td>\n",
              "      <td>0</td>\n",
              "      <td>0</td>\n",
              "      <td>0</td>\n",
              "      <td>1</td>\n",
              "      <td>0</td>\n",
              "      <td>0</td>\n",
              "      <td>0</td>\n",
              "      <td>0</td>\n",
              "      <td>0</td>\n",
              "      <td>0</td>\n",
              "      <td>0</td>\n",
              "      <td>0</td>\n",
              "      <td>0</td>\n",
              "      <td>0</td>\n",
              "      <td>0</td>\n",
              "      <td>0</td>\n",
              "      <td>0</td>\n",
              "      <td>0</td>\n",
              "      <td>0</td>\n",
              "      <td>0</td>\n",
              "      <td>0</td>\n",
              "      <td>0</td>\n",
              "      <td>0</td>\n",
              "      <td>0</td>\n",
              "      <td>0</td>\n",
              "      <td>0</td>\n",
              "      <td>0</td>\n",
              "      <td>0</td>\n",
              "      <td>0</td>\n",
              "      <td>0</td>\n",
              "      <td>0</td>\n",
              "      <td>0</td>\n",
              "      <td>0</td>\n",
              "      <td>0</td>\n",
              "      <td>0</td>\n",
              "      <td>0</td>\n",
              "      <td>0</td>\n",
              "      <td>0</td>\n",
              "      <td>0</td>\n",
              "      <td>0</td>\n",
              "      <td>0</td>\n",
              "      <td>0</td>\n",
              "      <td>0</td>\n",
              "      <td>1</td>\n",
              "      <td>0</td>\n",
              "      <td>0</td>\n",
              "      <td>0</td>\n",
              "    </tr>\n",
              "    <tr>\n",
              "      <th>6</th>\n",
              "      <td>-1.179267</td>\n",
              "      <td>-0.578589</td>\n",
              "      <td>-1.767871</td>\n",
              "      <td>5.658147</td>\n",
              "      <td>-0.182277</td>\n",
              "      <td>5.395518</td>\n",
              "      <td>-0.715141</td>\n",
              "      <td>1.467924</td>\n",
              "      <td>-0.888421</td>\n",
              "      <td>3.074334</td>\n",
              "      <td>2</td>\n",
              "      <td>1</td>\n",
              "      <td>0</td>\n",
              "      <td>0</td>\n",
              "      <td>0</td>\n",
              "      <td>0</td>\n",
              "      <td>0</td>\n",
              "      <td>0</td>\n",
              "      <td>0</td>\n",
              "      <td>0</td>\n",
              "      <td>0</td>\n",
              "      <td>0</td>\n",
              "      <td>1</td>\n",
              "      <td>0</td>\n",
              "      <td>0</td>\n",
              "      <td>0</td>\n",
              "      <td>0</td>\n",
              "      <td>0</td>\n",
              "      <td>0</td>\n",
              "      <td>0</td>\n",
              "      <td>0</td>\n",
              "      <td>0</td>\n",
              "      <td>0</td>\n",
              "      <td>0</td>\n",
              "      <td>0</td>\n",
              "      <td>0</td>\n",
              "      <td>0</td>\n",
              "      <td>0</td>\n",
              "      <td>0</td>\n",
              "      <td>0</td>\n",
              "      <td>0</td>\n",
              "      <td>0</td>\n",
              "      <td>0</td>\n",
              "      <td>0</td>\n",
              "      <td>0</td>\n",
              "      <td>0</td>\n",
              "      <td>0</td>\n",
              "      <td>0</td>\n",
              "      <td>0</td>\n",
              "      <td>0</td>\n",
              "      <td>0</td>\n",
              "      <td>0</td>\n",
              "      <td>0</td>\n",
              "      <td>0</td>\n",
              "      <td>0</td>\n",
              "      <td>0</td>\n",
              "      <td>0</td>\n",
              "      <td>0</td>\n",
              "      <td>0</td>\n",
              "      <td>0</td>\n",
              "      <td>0</td>\n",
              "      <td>0</td>\n",
              "      <td>1</td>\n",
              "      <td>0</td>\n",
              "      <td>0</td>\n",
              "      <td>0</td>\n",
              "    </tr>\n",
              "    <tr>\n",
              "      <th>79</th>\n",
              "      <td>-1.188034</td>\n",
              "      <td>0.965131</td>\n",
              "      <td>-1.767871</td>\n",
              "      <td>-0.484340</td>\n",
              "      <td>-0.182277</td>\n",
              "      <td>-0.533558</td>\n",
              "      <td>0.771219</td>\n",
              "      <td>1.216512</td>\n",
              "      <td>-0.888421</td>\n",
              "      <td>-0.137676</td>\n",
              "      <td>2</td>\n",
              "      <td>1</td>\n",
              "      <td>0</td>\n",
              "      <td>0</td>\n",
              "      <td>0</td>\n",
              "      <td>0</td>\n",
              "      <td>0</td>\n",
              "      <td>0</td>\n",
              "      <td>0</td>\n",
              "      <td>0</td>\n",
              "      <td>0</td>\n",
              "      <td>0</td>\n",
              "      <td>0</td>\n",
              "      <td>0</td>\n",
              "      <td>0</td>\n",
              "      <td>0</td>\n",
              "      <td>0</td>\n",
              "      <td>1</td>\n",
              "      <td>0</td>\n",
              "      <td>0</td>\n",
              "      <td>0</td>\n",
              "      <td>0</td>\n",
              "      <td>0</td>\n",
              "      <td>0</td>\n",
              "      <td>0</td>\n",
              "      <td>0</td>\n",
              "      <td>0</td>\n",
              "      <td>0</td>\n",
              "      <td>0</td>\n",
              "      <td>0</td>\n",
              "      <td>0</td>\n",
              "      <td>0</td>\n",
              "      <td>0</td>\n",
              "      <td>0</td>\n",
              "      <td>0</td>\n",
              "      <td>0</td>\n",
              "      <td>0</td>\n",
              "      <td>0</td>\n",
              "      <td>0</td>\n",
              "      <td>0</td>\n",
              "      <td>0</td>\n",
              "      <td>0</td>\n",
              "      <td>0</td>\n",
              "      <td>0</td>\n",
              "      <td>0</td>\n",
              "      <td>0</td>\n",
              "      <td>0</td>\n",
              "      <td>0</td>\n",
              "      <td>0</td>\n",
              "      <td>0</td>\n",
              "      <td>1</td>\n",
              "      <td>0</td>\n",
              "      <td>0</td>\n",
              "      <td>0</td>\n",
              "      <td>0</td>\n",
              "      <td>0</td>\n",
              "    </tr>\n",
              "    <tr>\n",
              "      <th>80</th>\n",
              "      <td>-1.188034</td>\n",
              "      <td>0.966721</td>\n",
              "      <td>-1.767871</td>\n",
              "      <td>-0.484340</td>\n",
              "      <td>-0.182277</td>\n",
              "      <td>-0.533558</td>\n",
              "      <td>0.771219</td>\n",
              "      <td>1.216512</td>\n",
              "      <td>-0.888421</td>\n",
              "      <td>-0.124218</td>\n",
              "      <td>2</td>\n",
              "      <td>1</td>\n",
              "      <td>0</td>\n",
              "      <td>0</td>\n",
              "      <td>0</td>\n",
              "      <td>0</td>\n",
              "      <td>0</td>\n",
              "      <td>0</td>\n",
              "      <td>0</td>\n",
              "      <td>0</td>\n",
              "      <td>0</td>\n",
              "      <td>0</td>\n",
              "      <td>0</td>\n",
              "      <td>0</td>\n",
              "      <td>0</td>\n",
              "      <td>0</td>\n",
              "      <td>0</td>\n",
              "      <td>1</td>\n",
              "      <td>0</td>\n",
              "      <td>0</td>\n",
              "      <td>0</td>\n",
              "      <td>0</td>\n",
              "      <td>0</td>\n",
              "      <td>0</td>\n",
              "      <td>0</td>\n",
              "      <td>0</td>\n",
              "      <td>0</td>\n",
              "      <td>0</td>\n",
              "      <td>0</td>\n",
              "      <td>0</td>\n",
              "      <td>0</td>\n",
              "      <td>0</td>\n",
              "      <td>0</td>\n",
              "      <td>0</td>\n",
              "      <td>0</td>\n",
              "      <td>0</td>\n",
              "      <td>0</td>\n",
              "      <td>0</td>\n",
              "      <td>0</td>\n",
              "      <td>0</td>\n",
              "      <td>0</td>\n",
              "      <td>0</td>\n",
              "      <td>0</td>\n",
              "      <td>0</td>\n",
              "      <td>0</td>\n",
              "      <td>0</td>\n",
              "      <td>0</td>\n",
              "      <td>0</td>\n",
              "      <td>0</td>\n",
              "      <td>0</td>\n",
              "      <td>1</td>\n",
              "      <td>0</td>\n",
              "      <td>0</td>\n",
              "      <td>0</td>\n",
              "      <td>0</td>\n",
              "      <td>0</td>\n",
              "    </tr>\n",
              "    <tr>\n",
              "      <th>81</th>\n",
              "      <td>-1.188034</td>\n",
              "      <td>0.968310</td>\n",
              "      <td>-1.767871</td>\n",
              "      <td>-0.484340</td>\n",
              "      <td>-0.182277</td>\n",
              "      <td>-0.533558</td>\n",
              "      <td>0.771219</td>\n",
              "      <td>1.216512</td>\n",
              "      <td>-0.888421</td>\n",
              "      <td>0.222111</td>\n",
              "      <td>2</td>\n",
              "      <td>1</td>\n",
              "      <td>0</td>\n",
              "      <td>0</td>\n",
              "      <td>0</td>\n",
              "      <td>0</td>\n",
              "      <td>0</td>\n",
              "      <td>0</td>\n",
              "      <td>0</td>\n",
              "      <td>0</td>\n",
              "      <td>0</td>\n",
              "      <td>0</td>\n",
              "      <td>0</td>\n",
              "      <td>0</td>\n",
              "      <td>0</td>\n",
              "      <td>0</td>\n",
              "      <td>0</td>\n",
              "      <td>1</td>\n",
              "      <td>0</td>\n",
              "      <td>0</td>\n",
              "      <td>0</td>\n",
              "      <td>0</td>\n",
              "      <td>0</td>\n",
              "      <td>0</td>\n",
              "      <td>0</td>\n",
              "      <td>0</td>\n",
              "      <td>0</td>\n",
              "      <td>0</td>\n",
              "      <td>0</td>\n",
              "      <td>0</td>\n",
              "      <td>0</td>\n",
              "      <td>0</td>\n",
              "      <td>0</td>\n",
              "      <td>0</td>\n",
              "      <td>0</td>\n",
              "      <td>0</td>\n",
              "      <td>0</td>\n",
              "      <td>0</td>\n",
              "      <td>0</td>\n",
              "      <td>0</td>\n",
              "      <td>0</td>\n",
              "      <td>0</td>\n",
              "      <td>0</td>\n",
              "      <td>0</td>\n",
              "      <td>0</td>\n",
              "      <td>0</td>\n",
              "      <td>0</td>\n",
              "      <td>0</td>\n",
              "      <td>0</td>\n",
              "      <td>0</td>\n",
              "      <td>1</td>\n",
              "      <td>0</td>\n",
              "      <td>0</td>\n",
              "      <td>0</td>\n",
              "      <td>0</td>\n",
              "      <td>0</td>\n",
              "    </tr>\n",
              "  </tbody>\n",
              "</table>\n",
              "</div>"
            ],
            "text/plain": [
              "       BLOCK       LOT  ...  TAX CLASS AT PRESENT_3  TAX CLASS AT PRESENT_4\n",
              "3  -1.180330 -0.596077  ...                       0                       0\n",
              "6  -1.179267 -0.578589  ...                       0                       0\n",
              "79 -1.188034  0.965131  ...                       0                       0\n",
              "80 -1.188034  0.966721  ...                       0                       0\n",
              "81 -1.188034  0.968310  ...                       0                       0\n",
              "\n",
              "[5 rows x 66 columns]"
            ]
          },
          "metadata": {
            "tags": []
          },
          "execution_count": 150
        }
      ]
    },
    {
      "cell_type": "code",
      "metadata": {
        "id": "0lBz50Ujebua",
        "colab_type": "code",
        "colab": {}
      },
      "source": [
        "# classifying data into independent and dependent variable\n",
        "X = df.drop(['SALE PRICE'],axis = 1).values\n",
        "y = df['SALE PRICE'].values"
      ],
      "execution_count": 151,
      "outputs": []
    },
    {
      "cell_type": "code",
      "metadata": {
        "id": "M2ke98sJeeB6",
        "colab_type": "code",
        "colab": {}
      },
      "source": [
        "# creating test and training set data, 70% train, 30% test\n",
        "X_train,X_test,y_train,y_test = train_test_split(X, y, test_size = 0.3, random_state = 0)"
      ],
      "execution_count": 152,
      "outputs": []
    },
    {
      "cell_type": "markdown",
      "metadata": {
        "id": "zEIhN0Q09_-J",
        "colab_type": "text"
      },
      "source": [
        "#3) Predition"
      ]
    },
    {
      "cell_type": "markdown",
      "metadata": {
        "id": "bPvvtPLXgXbd",
        "colab_type": "text"
      },
      "source": [
        "##3.0)Helper Function"
      ]
    },
    {
      "cell_type": "code",
      "metadata": {
        "id": "LJr7swCEgWKf",
        "colab_type": "code",
        "colab": {}
      },
      "source": [
        "def rmse(y_test,y_pred):\n",
        "      return np.sqrt(mean_squared_error(y_test,y_pred))"
      ],
      "execution_count": 153,
      "outputs": []
    },
    {
      "cell_type": "markdown",
      "metadata": {
        "id": "74cEg17tf-m8",
        "colab_type": "text"
      },
      "source": [
        "##3.1) Linear"
      ]
    },
    {
      "cell_type": "code",
      "metadata": {
        "id": "bh90cNyal8kG",
        "colab_type": "code",
        "colab": {
          "base_uri": "https://localhost:8080/",
          "height": 34
        },
        "outputId": "af7f9fb3-b314-4df7-864b-9f0f716c8c52"
      },
      "source": [
        "linear=LinearRegression()\n",
        "linear.fit(X_train, y_train)\n",
        "y_pred = linear.predict(X_test)\n",
        "result_linear = rmse(y_test, y_pred)\n",
        "result_linear"
      ],
      "execution_count": 154,
      "outputs": [
        {
          "output_type": "execute_result",
          "data": {
            "text/plain": [
              "0.8026209866472573"
            ]
          },
          "metadata": {
            "tags": []
          },
          "execution_count": 154
        }
      ]
    },
    {
      "cell_type": "markdown",
      "metadata": {
        "id": "Bw0-mV6ggCiY",
        "colab_type": "text"
      },
      "source": [
        "##3.2)Ridge, Lasso"
      ]
    },
    {
      "cell_type": "code",
      "metadata": {
        "id": "ub5SG-zEegva",
        "colab_type": "code",
        "colab": {
          "base_uri": "https://localhost:8080/",
          "height": 51
        },
        "outputId": "d3f5346e-006f-4046-abc1-49e7fa201838"
      },
      "source": [
        "\n",
        "# fitting linear regression to training set\n",
        "regressor = Ridge(alpha=0.01, normalize=True)\n",
        "regressor.fit(X_train,y_train)"
      ],
      "execution_count": 155,
      "outputs": [
        {
          "output_type": "execute_result",
          "data": {
            "text/plain": [
              "Ridge(alpha=0.01, copy_X=True, fit_intercept=True, max_iter=None,\n",
              "      normalize=True, random_state=None, solver='auto', tol=0.001)"
            ]
          },
          "metadata": {
            "tags": []
          },
          "execution_count": 155
        }
      ]
    },
    {
      "cell_type": "code",
      "metadata": {
        "id": "BQff_gtvfZhp",
        "colab_type": "code",
        "colab": {
          "base_uri": "https://localhost:8080/",
          "height": 34
        },
        "outputId": "db1370bf-abc9-4a9d-af52-d7059c8e1fe9"
      },
      "source": [
        "y_pred = regressor.predict(X_test)\n",
        "result_ridge = rmse(y_test, y_pred)\n",
        "result_ridge"
      ],
      "execution_count": 156,
      "outputs": [
        {
          "output_type": "execute_result",
          "data": {
            "text/plain": [
              "0.8020887946444987"
            ]
          },
          "metadata": {
            "tags": []
          },
          "execution_count": 156
        }
      ]
    },
    {
      "cell_type": "code",
      "metadata": {
        "id": "ZVUCZyaZg4pW",
        "colab_type": "code",
        "colab": {
          "base_uri": "https://localhost:8080/",
          "height": 34
        },
        "outputId": "dd160bed-4e2c-4540-b644-85b85f48ad43"
      },
      "source": [
        "#3.6)Lasso\n",
        "Lassoregressor = Lasso(alpha = 0.01, normalize =True)\n",
        "Lassoregressor.fit(X_train,y_train)\n",
        "\n",
        "y_predict = Lassoregressor.predict(X_test)\n",
        "result_Lasso = rmse(y_test, y_predict)\n",
        "result_Lasso"
      ],
      "execution_count": 157,
      "outputs": [
        {
          "output_type": "execute_result",
          "data": {
            "text/plain": [
              "0.9992142260243351"
            ]
          },
          "metadata": {
            "tags": []
          },
          "execution_count": 157
        }
      ]
    },
    {
      "cell_type": "markdown",
      "metadata": {
        "id": "jt6Sq1GNgJ9O",
        "colab_type": "text"
      },
      "source": [
        "##3.3)Random Forest"
      ]
    },
    {
      "cell_type": "code",
      "metadata": {
        "id": "IwDCfHKrKCzg",
        "colab_type": "code",
        "colab": {
          "base_uri": "https://localhost:8080/",
          "height": 119
        },
        "outputId": "208a2336-70fc-4fb2-a0d9-52d2055908af"
      },
      "source": [
        "from sklearn.tree import DecisionTreeRegressor\n",
        "dtree = DecisionTreeRegressor()\n",
        "dtree.fit(X_train, y_train)"
      ],
      "execution_count": 158,
      "outputs": [
        {
          "output_type": "execute_result",
          "data": {
            "text/plain": [
              "DecisionTreeRegressor(ccp_alpha=0.0, criterion='mse', max_depth=None,\n",
              "                      max_features=None, max_leaf_nodes=None,\n",
              "                      min_impurity_decrease=0.0, min_impurity_split=None,\n",
              "                      min_samples_leaf=1, min_samples_split=2,\n",
              "                      min_weight_fraction_leaf=0.0, presort='deprecated',\n",
              "                      random_state=None, splitter='best')"
            ]
          },
          "metadata": {
            "tags": []
          },
          "execution_count": 158
        }
      ]
    },
    {
      "cell_type": "code",
      "metadata": {
        "id": "ZJdqOQVTMHJX",
        "colab_type": "code",
        "colab": {
          "base_uri": "https://localhost:8080/",
          "height": 34
        },
        "outputId": "368db903-2221-481c-9115-3f5a837707e7"
      },
      "source": [
        "y_pred = dtree.predict(X_test)\n",
        "result_dt = rmse(y_test, y_pred)\n",
        "result_dt"
      ],
      "execution_count": 159,
      "outputs": [
        {
          "output_type": "execute_result",
          "data": {
            "text/plain": [
              "0.793066185403243"
            ]
          },
          "metadata": {
            "tags": []
          },
          "execution_count": 159
        }
      ]
    },
    {
      "cell_type": "code",
      "metadata": {
        "id": "tLVsW_Y-NQf-",
        "colab_type": "code",
        "colab": {
          "base_uri": "https://localhost:8080/",
          "height": 136
        },
        "outputId": "beb2b200-2752-4875-c453-87554d92d18c"
      },
      "source": [
        "dforest = RandomForestRegressor(n_estimators=100, criterion='mse', bootstrap=True, n_jobs=-1)\n",
        "dforest.fit(X_train, y_train)"
      ],
      "execution_count": 160,
      "outputs": [
        {
          "output_type": "execute_result",
          "data": {
            "text/plain": [
              "RandomForestRegressor(bootstrap=True, ccp_alpha=0.0, criterion='mse',\n",
              "                      max_depth=None, max_features='auto', max_leaf_nodes=None,\n",
              "                      max_samples=None, min_impurity_decrease=0.0,\n",
              "                      min_impurity_split=None, min_samples_leaf=1,\n",
              "                      min_samples_split=2, min_weight_fraction_leaf=0.0,\n",
              "                      n_estimators=100, n_jobs=-1, oob_score=False,\n",
              "                      random_state=None, verbose=0, warm_start=False)"
            ]
          },
          "metadata": {
            "tags": []
          },
          "execution_count": 160
        }
      ]
    },
    {
      "cell_type": "code",
      "metadata": {
        "id": "m6I68PflPaH1",
        "colab_type": "code",
        "colab": {
          "base_uri": "https://localhost:8080/",
          "height": 34
        },
        "outputId": "7a51a636-b51a-4a1e-c7fc-1e48c6f43a55"
      },
      "source": [
        "y_pred = dforest.predict(X_test)\n",
        "result_rf = rmse(y_test, y_pred)\n",
        "result_rf"
      ],
      "execution_count": 161,
      "outputs": [
        {
          "output_type": "execute_result",
          "data": {
            "text/plain": [
              "0.6174322450340973"
            ]
          },
          "metadata": {
            "tags": []
          },
          "execution_count": 161
        }
      ]
    },
    {
      "cell_type": "markdown",
      "metadata": {
        "id": "ZLQx6ESrgOAU",
        "colab_type": "text"
      },
      "source": [
        "##3.4)Gradient boosting"
      ]
    },
    {
      "cell_type": "code",
      "metadata": {
        "id": "a_0VaQyEvZzT",
        "colab_type": "code",
        "colab": {
          "base_uri": "https://localhost:8080/",
          "height": 34
        },
        "outputId": "c5599d63-8a37-449c-c7a2-002dbc88088d"
      },
      "source": [
        "from sklearn.ensemble import GradientBoostingRegressor\n",
        "from sklearn.model_selection import GridSearchCV\n",
        "reg = GradientBoostingRegressor(n_estimators=100)\n",
        "reg.fit(X_train, y_train)\n",
        "pre = reg.predict(X_test)\n",
        "result_gl = rmse(y_test, pre)\n",
        "result_gl\n"
      ],
      "execution_count": 162,
      "outputs": [
        {
          "output_type": "execute_result",
          "data": {
            "text/plain": [
              "0.7034552874635683"
            ]
          },
          "metadata": {
            "tags": []
          },
          "execution_count": 162
        }
      ]
    },
    {
      "cell_type": "markdown",
      "metadata": {
        "id": "aS7_IqiUMkQa",
        "colab_type": "text"
      },
      "source": [
        "## 3.5)AdaBoost"
      ]
    },
    {
      "cell_type": "code",
      "metadata": {
        "id": "PtIbX0TEMqB4",
        "colab_type": "code",
        "colab": {
          "base_uri": "https://localhost:8080/",
          "height": 34
        },
        "outputId": "316d8dcf-aba7-47b8-d6aa-5ec62048ae27"
      },
      "source": [
        "from sklearn.ensemble import AdaBoostRegressor\n",
        "from sklearn.model_selection import GridSearchCV\n",
        "reg = AdaBoostRegressor(n_estimators=100,learning_rate=0.05)\n",
        "reg.fit(X_train, y_train)\n",
        "pre = reg.predict(X_test)\n",
        "result_ada = rmse(y_test, pre)\n",
        "result_ada"
      ],
      "execution_count": 163,
      "outputs": [
        {
          "output_type": "execute_result",
          "data": {
            "text/plain": [
              "0.8024605348617758"
            ]
          },
          "metadata": {
            "tags": []
          },
          "execution_count": 163
        }
      ]
    },
    {
      "cell_type": "markdown",
      "metadata": {
        "id": "A7JEu6n3GAKr",
        "colab_type": "text"
      },
      "source": [
        "##3.6) Stacked"
      ]
    },
    {
      "cell_type": "code",
      "metadata": {
        "id": "25oSQEzDGgSz",
        "colab_type": "code",
        "colab": {}
      },
      "source": [
        "from sklearn.linear_model import ElasticNet, Lasso,  BayesianRidge, LassoLarsIC\n",
        "from sklearn.ensemble import RandomForestRegressor,  GradientBoostingRegressor\n",
        "from sklearn.kernel_ridge import KernelRidge\n",
        "from sklearn.pipeline import make_pipeline\n",
        "from sklearn.preprocessing import RobustScaler\n",
        "from sklearn.base import BaseEstimator, TransformerMixin, RegressorMixin, clone\n",
        "from sklearn.model_selection import KFold, cross_val_score, train_test_split\n",
        "from sklearn.metrics import mean_squared_error\n",
        "import xgboost as xgb\n",
        "import lightgbm as lgb"
      ],
      "execution_count": 164,
      "outputs": []
    },
    {
      "cell_type": "markdown",
      "metadata": {
        "id": "MBJp44UciEp0",
        "colab_type": "text"
      },
      "source": [
        "This time we add a cross validation approach."
      ]
    },
    {
      "cell_type": "code",
      "metadata": {
        "id": "rL5iKnCcusWI",
        "colab_type": "code",
        "colab": {}
      },
      "source": [
        "n_folds = 5\n",
        "\n",
        "def rmsle_cv(model):\n",
        "    kf = KFold(n_folds, shuffle=True, random_state=42).get_n_splits(X_train)\n",
        "    rmse= np.sqrt(-cross_val_score(model, X_train, y_train, scoring=\"neg_mean_squared_error\", cv = kf))\n",
        "    return(rmse)"
      ],
      "execution_count": 165,
      "outputs": []
    },
    {
      "cell_type": "code",
      "metadata": {
        "id": "mk973mMbyHG3",
        "colab_type": "code",
        "colab": {
          "base_uri": "https://localhost:8080/",
          "height": 68
        },
        "outputId": "a3d308a0-e24f-4c47-ed62-8e30fafa431c"
      },
      "source": [
        "lasso = make_pipeline(RobustScaler(), Lasso(alpha =0.0005, random_state=1))\n",
        "score = rmsle_cv(lasso)\n",
        "print(\"\\nLasso score: {:.4f} ({:.4f})\\n\".format(score.mean(), score.std()))"
      ],
      "execution_count": 166,
      "outputs": [
        {
          "output_type": "stream",
          "text": [
            "\n",
            "Lasso score: 0.7986 (0.0036)\n",
            "\n"
          ],
          "name": "stdout"
        }
      ]
    },
    {
      "cell_type": "code",
      "metadata": {
        "id": "dNNFPpG1ytyd",
        "colab_type": "code",
        "colab": {
          "base_uri": "https://localhost:8080/",
          "height": 68
        },
        "outputId": "9bdac2ef-34b8-41c6-f53d-6bb512234f6b"
      },
      "source": [
        "ridge = make_pipeline(RobustScaler(), Ridge(alpha =0.01, random_state=1))\n",
        "score = rmsle_cv(ridge)\n",
        "print(\"\\nridge score: {:.4f} ({:.4f})\\n\".format(score.mean(), score.std()))"
      ],
      "execution_count": 167,
      "outputs": [
        {
          "output_type": "stream",
          "text": [
            "\n",
            "ridge score: 0.7981 (0.0039)\n",
            "\n"
          ],
          "name": "stdout"
        }
      ]
    },
    {
      "cell_type": "code",
      "metadata": {
        "id": "4I13ZBSqy_eV",
        "colab_type": "code",
        "colab": {
          "base_uri": "https://localhost:8080/",
          "height": 68
        },
        "outputId": "669e1885-a2cc-4e7c-ef9d-9a38514b67a5"
      },
      "source": [
        "elastic = make_pipeline(RobustScaler(), ElasticNet(alpha =0.01, random_state=1))\n",
        "score = rmsle_cv(elastic)\n",
        "print(\"\\nElastic score: {:.4f} ({:.4f})\\n\".format(score.mean(), score.std()))"
      ],
      "execution_count": 168,
      "outputs": [
        {
          "output_type": "stream",
          "text": [
            "\n",
            "Elastic score: 0.8125 (0.0036)\n",
            "\n"
          ],
          "name": "stdout"
        }
      ]
    },
    {
      "cell_type": "code",
      "metadata": {
        "id": "kq58t6F5tjHC",
        "colab_type": "code",
        "colab": {
          "base_uri": "https://localhost:8080/",
          "height": 68
        },
        "outputId": "fc88ec75-99be-4256-c99c-abe3bc275be0"
      },
      "source": [
        "dforest = RandomForestRegressor(n_estimators=100, criterion='mse', bootstrap=True, n_jobs=-1)\n",
        "score = rmsle_cv(dforest)\n",
        "print(\"\\nRandomF score: {:.4f} ({:.4f})\\n\".format(score.mean(), score.std()))"
      ],
      "execution_count": 169,
      "outputs": [
        {
          "output_type": "stream",
          "text": [
            "\n",
            "RandomF score: 0.6120 (0.0114)\n",
            "\n"
          ],
          "name": "stdout"
        }
      ]
    },
    {
      "cell_type": "code",
      "metadata": {
        "id": "cbmXNZRMzJvO",
        "colab_type": "code",
        "colab": {
          "base_uri": "https://localhost:8080/",
          "height": 51
        },
        "outputId": "c2fba13e-940b-4c06-87a8-6b38e6f5483f"
      },
      "source": [
        "model_gb = GradientBoostingRegressor(n_estimators=100)\n",
        "score = rmsle_cv(model_gb)\n",
        "print(\"GB score: {:.4f} ({:.4f})\\n\" .format(score.mean(), score.std()))\n"
      ],
      "execution_count": 170,
      "outputs": [
        {
          "output_type": "stream",
          "text": [
            "GB score: 0.6953 (0.0049)\n",
            "\n"
          ],
          "name": "stdout"
        }
      ]
    },
    {
      "cell_type": "code",
      "metadata": {
        "id": "ChvNyd51zZzj",
        "colab_type": "code",
        "colab": {
          "base_uri": "https://localhost:8080/",
          "height": 51
        },
        "outputId": "b9a335b4-eb4b-40f0-fcbb-ae34f37702df"
      },
      "source": [
        "ada = AdaBoostRegressor(n_estimators=100,learning_rate=0.05)\n",
        "score = rmsle_cv(ada)\n",
        "print(\"AdaBoost Ridge score: {:.4f} ({:.4f})\\n\".format(score.mean(), score.std()))"
      ],
      "execution_count": 171,
      "outputs": [
        {
          "output_type": "stream",
          "text": [
            "AdaBoost Ridge score: 0.8073 (0.0078)\n",
            "\n"
          ],
          "name": "stdout"
        }
      ]
    },
    {
      "cell_type": "code",
      "metadata": {
        "id": "lr8kGxx47V0P",
        "colab_type": "code",
        "colab": {}
      },
      "source": [
        "class StackingAveragedModels(BaseEstimator, RegressorMixin, TransformerMixin):\n",
        "    def __init__(self, base_models, meta_model, n_folds=5):\n",
        "        self.base_models = base_models\n",
        "        self.meta_model = meta_model\n",
        "        self.n_folds = n_folds\n",
        "   \n",
        "    # Fit the data on clones of the original models\n",
        "    def fit(self, X, y):\n",
        "        self.base_models_ = [list() for x in self.base_models]\n",
        "        self.meta_model_ = clone(self.meta_model)\n",
        "        kfold = KFold(n_splits=self.n_folds, shuffle=True, random_state=156)\n",
        "        \n",
        "        # Train cloned base models then create out-of-fold predictions\n",
        "        # that are needed to train the cloned meta-model\n",
        "        out_of_fold_predictions = np.zeros((X.shape[0], len(self.base_models)))\n",
        "        for i, model in enumerate(self.base_models):\n",
        "            for train_index, holdout_index in kfold.split(X, y):\n",
        "                instance = clone(model)\n",
        "                self.base_models_[i].append(instance)\n",
        "                instance.fit(X[train_index], y[train_index])\n",
        "                y_pred = instance.predict(X[holdout_index])\n",
        "                out_of_fold_predictions[holdout_index, i] = y_pred\n",
        "                \n",
        "        # Now train the cloned  meta-model using the out-of-fold predictions as new feature\n",
        "        self.meta_model_.fit(out_of_fold_predictions, y)\n",
        "        return self\n",
        "   \n",
        "    #Do the predictions of all base models on the test data and use the averaged predictions as \n",
        "    #meta-features for the final prediction which is done by the meta-model\n",
        "    def predict(self, X):\n",
        "        meta_features = np.column_stack([\n",
        "            np.column_stack([model.predict(X) for model in base_models]).mean(axis=1)\n",
        "            for base_models in self.base_models_ ])\n",
        "        return self.meta_model_.predict(meta_features)"
      ],
      "execution_count": 172,
      "outputs": []
    },
    {
      "cell_type": "code",
      "metadata": {
        "id": "yoZegQ487Wx-",
        "colab_type": "code",
        "colab": {
          "base_uri": "https://localhost:8080/",
          "height": 34
        },
        "outputId": "267d0c15-8e9a-43bb-c1fb-5cf7c53573f3"
      },
      "source": [
        "stacked_averaged_models = StackingAveragedModels(base_models = (model_gb, ridge, elastic, ada, dforest),\n",
        "                                                 meta_model = lasso)\n",
        "\n",
        "score = rmsle_cv(stacked_averaged_models)\n",
        "print(\"Stacking Averaged models score: {:.4f} ({:.4f})\".format(score.mean(), score.std()))"
      ],
      "execution_count": 175,
      "outputs": [
        {
          "output_type": "stream",
          "text": [
            "Stacking Averaged models score: 0.5995 (0.0082)\n"
          ],
          "name": "stdout"
        }
      ]
    },
    {
      "cell_type": "code",
      "metadata": {
        "id": "jrk-002181TW",
        "colab_type": "code",
        "colab": {
          "base_uri": "https://localhost:8080/",
          "height": 34
        },
        "outputId": "9a47c223-2229-4034-c66f-0e4d1b231676"
      },
      "source": [
        "stacked_averaged_models.fit(X_train, y_train)\n",
        "stacked_train_pred = stacked_averaged_models.predict(X_train)\n",
        "stacked_pred = np.expm1(stacked_averaged_models.predict(X_test))\n",
        "print(rmse(y_train, stacked_train_pred))"
      ],
      "execution_count": 176,
      "outputs": [
        {
          "output_type": "stream",
          "text": [
            "0.3583657411951744\n"
          ],
          "name": "stdout"
        }
      ]
    }
  ]
}
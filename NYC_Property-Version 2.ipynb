{
  "nbformat": 4,
  "nbformat_minor": 0,
  "metadata": {
    "colab": {
      "name": "NYC_Property.ipynb",
      "provenance": [],
      "collapsed_sections": [],
      "toc_visible": true
    },
    "kernelspec": {
      "name": "python3",
      "display_name": "Python 3"
    }
  },
  "cells": [
    {
      "cell_type": "code",
      "metadata": {
        "id": "5QGOnWkVRR1P",
        "colab_type": "code",
        "colab": {
          "base_uri": "https://localhost:8080/",
          "height": 547
        },
        "outputId": "3fb67d37-f390-4218-e955-c4e062bed38a"
      },
      "source": [
        "\"\"\"\n",
        "create by: Kehan Wang\n",
        "Date: 2020.6.26\n",
        "\"\"\"\n",
        "import pandas as pd\n",
        "import numpy as np\n",
        "import matplotlib.pyplot as plt\n",
        "import seaborn as sns\n",
        "from sklearn.preprocessing import StandardScaler, LabelEncoder, OneHotEncoder\n",
        "from sklearn.metrics import mean_squared_error\n",
        "from math import sqrt\n",
        "from sklearn.model_selection import train_test_split\n",
        "from sklearn.linear_model import LinearRegression\n",
        "from sklearn.linear_model import Lasso\n",
        "from sklearn.linear_model import Ridge\n",
        "from sklearn.linear_model import ElasticNet\n",
        "from sklearn.ensemble import RandomForestRegressor\n",
        "from sklearn.ensemble import GradientBoostingRegressor\n",
        "df = pd.read_csv('nyc-rolling-sales.csv')\n",
        "# df.head(100)\n",
        "df.head()"
      ],
      "execution_count": 74,
      "outputs": [
        {
          "output_type": "execute_result",
          "data": {
            "text/html": [
              "<div>\n",
              "<style scoped>\n",
              "    .dataframe tbody tr th:only-of-type {\n",
              "        vertical-align: middle;\n",
              "    }\n",
              "\n",
              "    .dataframe tbody tr th {\n",
              "        vertical-align: top;\n",
              "    }\n",
              "\n",
              "    .dataframe thead th {\n",
              "        text-align: right;\n",
              "    }\n",
              "</style>\n",
              "<table border=\"1\" class=\"dataframe\">\n",
              "  <thead>\n",
              "    <tr style=\"text-align: right;\">\n",
              "      <th></th>\n",
              "      <th>Unnamed: 0</th>\n",
              "      <th>BOROUGH</th>\n",
              "      <th>NEIGHBORHOOD</th>\n",
              "      <th>BUILDING CLASS CATEGORY</th>\n",
              "      <th>TAX CLASS AT PRESENT</th>\n",
              "      <th>BLOCK</th>\n",
              "      <th>LOT</th>\n",
              "      <th>EASE-MENT</th>\n",
              "      <th>BUILDING CLASS AT PRESENT</th>\n",
              "      <th>ADDRESS</th>\n",
              "      <th>APARTMENT NUMBER</th>\n",
              "      <th>ZIP CODE</th>\n",
              "      <th>RESIDENTIAL UNITS</th>\n",
              "      <th>COMMERCIAL UNITS</th>\n",
              "      <th>TOTAL UNITS</th>\n",
              "      <th>LAND SQUARE FEET</th>\n",
              "      <th>GROSS SQUARE FEET</th>\n",
              "      <th>YEAR BUILT</th>\n",
              "      <th>TAX CLASS AT TIME OF SALE</th>\n",
              "      <th>BUILDING CLASS AT TIME OF SALE</th>\n",
              "      <th>SALE PRICE</th>\n",
              "      <th>SALE DATE</th>\n",
              "    </tr>\n",
              "  </thead>\n",
              "  <tbody>\n",
              "    <tr>\n",
              "      <th>0</th>\n",
              "      <td>4</td>\n",
              "      <td>1</td>\n",
              "      <td>ALPHABET CITY</td>\n",
              "      <td>07 RENTALS - WALKUP APARTMENTS</td>\n",
              "      <td>2A</td>\n",
              "      <td>392</td>\n",
              "      <td>6</td>\n",
              "      <td></td>\n",
              "      <td>C2</td>\n",
              "      <td>153 AVENUE B</td>\n",
              "      <td></td>\n",
              "      <td>10009</td>\n",
              "      <td>5</td>\n",
              "      <td>0</td>\n",
              "      <td>5</td>\n",
              "      <td>1633</td>\n",
              "      <td>6440</td>\n",
              "      <td>1900</td>\n",
              "      <td>2</td>\n",
              "      <td>C2</td>\n",
              "      <td>6625000</td>\n",
              "      <td>2017-07-19 00:00:00</td>\n",
              "    </tr>\n",
              "    <tr>\n",
              "      <th>1</th>\n",
              "      <td>5</td>\n",
              "      <td>1</td>\n",
              "      <td>ALPHABET CITY</td>\n",
              "      <td>07 RENTALS - WALKUP APARTMENTS</td>\n",
              "      <td>2</td>\n",
              "      <td>399</td>\n",
              "      <td>26</td>\n",
              "      <td></td>\n",
              "      <td>C7</td>\n",
              "      <td>234 EAST 4TH   STREET</td>\n",
              "      <td></td>\n",
              "      <td>10009</td>\n",
              "      <td>28</td>\n",
              "      <td>3</td>\n",
              "      <td>31</td>\n",
              "      <td>4616</td>\n",
              "      <td>18690</td>\n",
              "      <td>1900</td>\n",
              "      <td>2</td>\n",
              "      <td>C7</td>\n",
              "      <td>-</td>\n",
              "      <td>2016-12-14 00:00:00</td>\n",
              "    </tr>\n",
              "    <tr>\n",
              "      <th>2</th>\n",
              "      <td>6</td>\n",
              "      <td>1</td>\n",
              "      <td>ALPHABET CITY</td>\n",
              "      <td>07 RENTALS - WALKUP APARTMENTS</td>\n",
              "      <td>2</td>\n",
              "      <td>399</td>\n",
              "      <td>39</td>\n",
              "      <td></td>\n",
              "      <td>C7</td>\n",
              "      <td>197 EAST 3RD   STREET</td>\n",
              "      <td></td>\n",
              "      <td>10009</td>\n",
              "      <td>16</td>\n",
              "      <td>1</td>\n",
              "      <td>17</td>\n",
              "      <td>2212</td>\n",
              "      <td>7803</td>\n",
              "      <td>1900</td>\n",
              "      <td>2</td>\n",
              "      <td>C7</td>\n",
              "      <td>-</td>\n",
              "      <td>2016-12-09 00:00:00</td>\n",
              "    </tr>\n",
              "    <tr>\n",
              "      <th>3</th>\n",
              "      <td>7</td>\n",
              "      <td>1</td>\n",
              "      <td>ALPHABET CITY</td>\n",
              "      <td>07 RENTALS - WALKUP APARTMENTS</td>\n",
              "      <td>2B</td>\n",
              "      <td>402</td>\n",
              "      <td>21</td>\n",
              "      <td></td>\n",
              "      <td>C4</td>\n",
              "      <td>154 EAST 7TH STREET</td>\n",
              "      <td></td>\n",
              "      <td>10009</td>\n",
              "      <td>10</td>\n",
              "      <td>0</td>\n",
              "      <td>10</td>\n",
              "      <td>2272</td>\n",
              "      <td>6794</td>\n",
              "      <td>1913</td>\n",
              "      <td>2</td>\n",
              "      <td>C4</td>\n",
              "      <td>3936272</td>\n",
              "      <td>2016-09-23 00:00:00</td>\n",
              "    </tr>\n",
              "    <tr>\n",
              "      <th>4</th>\n",
              "      <td>8</td>\n",
              "      <td>1</td>\n",
              "      <td>ALPHABET CITY</td>\n",
              "      <td>07 RENTALS - WALKUP APARTMENTS</td>\n",
              "      <td>2A</td>\n",
              "      <td>404</td>\n",
              "      <td>55</td>\n",
              "      <td></td>\n",
              "      <td>C2</td>\n",
              "      <td>301 EAST 10TH   STREET</td>\n",
              "      <td></td>\n",
              "      <td>10009</td>\n",
              "      <td>6</td>\n",
              "      <td>0</td>\n",
              "      <td>6</td>\n",
              "      <td>2369</td>\n",
              "      <td>4615</td>\n",
              "      <td>1900</td>\n",
              "      <td>2</td>\n",
              "      <td>C2</td>\n",
              "      <td>8000000</td>\n",
              "      <td>2016-11-17 00:00:00</td>\n",
              "    </tr>\n",
              "  </tbody>\n",
              "</table>\n",
              "</div>"
            ],
            "text/plain": [
              "   Unnamed: 0  BOROUGH  ... SALE PRICE            SALE DATE\n",
              "0           4        1  ...    6625000  2017-07-19 00:00:00\n",
              "1           5        1  ...        -    2016-12-14 00:00:00\n",
              "2           6        1  ...        -    2016-12-09 00:00:00\n",
              "3           7        1  ...    3936272  2016-09-23 00:00:00\n",
              "4           8        1  ...    8000000  2016-11-17 00:00:00\n",
              "\n",
              "[5 rows x 22 columns]"
            ]
          },
          "metadata": {
            "tags": []
          },
          "execution_count": 74
        }
      ]
    },
    {
      "cell_type": "markdown",
      "metadata": {
        "id": "Eo5gK6nE-G6L",
        "colab_type": "text"
      },
      "source": [
        "#1) Data Clean"
      ]
    },
    {
      "cell_type": "markdown",
      "metadata": {
        "id": "TUBrhCUO_6gV",
        "colab_type": "text"
      },
      "source": [
        "First of all, we want to drop thoese useless columns and to check whether there are any duplicate values in our dataset. If there is any, we will need to drop them."
      ]
    },
    {
      "cell_type": "code",
      "metadata": {
        "id": "2m-kVUmMSGNy",
        "colab_type": "code",
        "colab": {}
      },
      "source": [
        "# \"Unname: 0\" column looks like useless, drop it.\n",
        "del df['Unnamed: 0']\n",
        "#\"EASE-MENT\" column is empty, we are going to drop it.\n",
        "del df['EASE-MENT']\n",
        "\n",
        "del df['SALE DATE']"
      ],
      "execution_count": 75,
      "outputs": []
    },
    {
      "cell_type": "code",
      "metadata": {
        "id": "Cvqw8SvN_457",
        "colab_type": "code",
        "colab": {
          "base_uri": "https://localhost:8080/",
          "height": 34
        },
        "outputId": "4e85e1ee-ec75-48a8-873c-6989fd64bff3"
      },
      "source": [
        "sum(df.duplicated(df.columns))\n",
        "df = df.drop_duplicates(df.columns, keep='last')\n",
        "df.shape"
      ],
      "execution_count": 76,
      "outputs": [
        {
          "output_type": "execute_result",
          "data": {
            "text/plain": [
              "(83190, 19)"
            ]
          },
          "metadata": {
            "tags": []
          },
          "execution_count": 76
        }
      ]
    },
    {
      "cell_type": "markdown",
      "metadata": {
        "id": "I7UWV8-UBFzA",
        "colab_type": "text"
      },
      "source": [
        "Now, Let's look into details."
      ]
    },
    {
      "cell_type": "code",
      "metadata": {
        "id": "htSGOtHWUvQf",
        "colab_type": "code",
        "colab": {
          "base_uri": "https://localhost:8080/",
          "height": 459
        },
        "outputId": "54ae4032-9739-414e-b237-187863c2ca64"
      },
      "source": [
        "df.info()"
      ],
      "execution_count": 77,
      "outputs": [
        {
          "output_type": "stream",
          "text": [
            "<class 'pandas.core.frame.DataFrame'>\n",
            "Int64Index: 83190 entries, 0 to 84547\n",
            "Data columns (total 19 columns):\n",
            " #   Column                          Non-Null Count  Dtype \n",
            "---  ------                          --------------  ----- \n",
            " 0   BOROUGH                         83190 non-null  int64 \n",
            " 1   NEIGHBORHOOD                    83190 non-null  object\n",
            " 2   BUILDING CLASS CATEGORY         83190 non-null  object\n",
            " 3   TAX CLASS AT PRESENT            83190 non-null  object\n",
            " 4   BLOCK                           83190 non-null  int64 \n",
            " 5   LOT                             83190 non-null  int64 \n",
            " 6   BUILDING CLASS AT PRESENT       83190 non-null  object\n",
            " 7   ADDRESS                         83190 non-null  object\n",
            " 8   APARTMENT NUMBER                83190 non-null  object\n",
            " 9   ZIP CODE                        83190 non-null  int64 \n",
            " 10  RESIDENTIAL UNITS               83190 non-null  int64 \n",
            " 11  COMMERCIAL UNITS                83190 non-null  int64 \n",
            " 12  TOTAL UNITS                     83190 non-null  int64 \n",
            " 13  LAND SQUARE FEET                83190 non-null  object\n",
            " 14  GROSS SQUARE FEET               83190 non-null  object\n",
            " 15  YEAR BUILT                      83190 non-null  int64 \n",
            " 16  TAX CLASS AT TIME OF SALE       83190 non-null  int64 \n",
            " 17  BUILDING CLASS AT TIME OF SALE  83190 non-null  object\n",
            " 18  SALE PRICE                      83190 non-null  object\n",
            "dtypes: int64(9), object(10)\n",
            "memory usage: 12.7+ MB\n"
          ],
          "name": "stdout"
        }
      ]
    },
    {
      "cell_type": "markdown",
      "metadata": {
        "id": "20mGNQvqLwJd",
        "colab_type": "text"
      },
      "source": [
        "After browsing the information of dataset, we can see they use \"-\" to represent the missing values. Before prediction, we should clean these rows in the data table. Some of them should not be counted as the sale of real estate. For example, in column \"SALE PRICE\", these properties with 0 value might be transferred as a gift. \n",
        "\n",
        "Before cleaning missing values, We need to convert some of the columns(for example, SALE PRICE is object, SALE DATE is object, etc) to appropriate datatype."
      ]
    },
    {
      "cell_type": "code",
      "metadata": {
        "id": "y6Ti1ywdEuNz",
        "colab_type": "code",
        "colab": {}
      },
      "source": [
        "df['SALE PRICE'] = pd.to_numeric(df['SALE PRICE'], errors='coerce')\n",
        "# df['SALE DATE'] = pd.to_datetime(df['SALE DATE'], errors='coerce')\n",
        "df['LAND SQUARE FEET'] = pd.to_numeric(df['LAND SQUARE FEET'], errors='coerce')\n",
        "df['GROSS SQUARE FEET']= pd.to_numeric(df['GROSS SQUARE FEET'], errors='coerce')\n",
        "\n",
        "df['TAX CLASS AT PRESENT'] = df['TAX CLASS AT PRESENT'].astype('category')\n",
        "df['TAX CLASS AT PRESENT'] = df['TAX CLASS AT PRESENT'].astype('category')\n",
        "df['BOROUGH'] = df['BOROUGH'].astype('category')\n"
      ],
      "execution_count": 78,
      "outputs": []
    },
    {
      "cell_type": "code",
      "metadata": {
        "id": "j95V0sE0S-tw",
        "colab_type": "code",
        "colab": {
          "base_uri": "https://localhost:8080/",
          "height": 34
        },
        "outputId": "9e259c23-ed6b-4818-c44f-d93765671451"
      },
      "source": [
        "df.shape\n"
      ],
      "execution_count": 79,
      "outputs": [
        {
          "output_type": "execute_result",
          "data": {
            "text/plain": [
              "(83190, 19)"
            ]
          },
          "metadata": {
            "tags": []
          },
          "execution_count": 79
        }
      ]
    },
    {
      "cell_type": "code",
      "metadata": {
        "id": "7bxrLnLiEG_7",
        "colab_type": "code",
        "colab": {}
      },
      "source": [
        "variables = df.columns\n",
        "\n",
        "data = []\n",
        "for variable in variables:\n",
        "  l = df[variable].count()\n",
        "  data.append(l)\n",
        "available_per = np.round(pd.Series(data)/len(df), 3)"
      ],
      "execution_count": 80,
      "outputs": []
    },
    {
      "cell_type": "code",
      "metadata": {
        "id": "tKiqJIuZEiGI",
        "colab_type": "code",
        "colab": {
          "base_uri": "https://localhost:8080/",
          "height": 392
        },
        "outputId": "2c596a6c-c0fb-4986-f558-8f260701685c"
      },
      "source": [
        "plt.figure(figsize=(8,6))\n",
        "plt.barh(variables, available_per)\n",
        "plt.title(\"Percent of available data\", fontsize=15)\n",
        "plt.show()"
      ],
      "execution_count": 81,
      "outputs": [
        {
          "output_type": "display_data",
          "data": {
            "image/png": "[encoded data removed]",
            "text/plain": [
              "<Figure size 576x432 with 1 Axes>"
            ]
          },
          "metadata": {
            "tags": [],
            "needs_background": "light"
          }
        }
      ]
    },
    {
      "cell_type": "markdown",
      "metadata": {
        "id": "SDz8IvrdF4Oz",
        "colab_type": "text"
      },
      "source": [
        "As shown in the figure, SALE PRICE, GROSS SQUARE FEET and LAND SQUARE FEET have the lowest percent of available data. But again, SALE PRICE is the value we wanted to predict, and as the data set description states:\n",
        "\n",
        "*Many sales occur with a nonsensically small dollar amount: $0 most commonly. These sales are actually transfers of deeds between parties: for example, parents transferring ownership to their home to a child after moving out for retirement.* We may want to drop those rows.\n",
        "\n",
        "For SQUARE FEET, in this case, we will use mean values to fill them up."
      ]
    },
    {
      "cell_type": "code",
      "metadata": {
        "id": "A_MFibUyM3Fp",
        "colab_type": "code",
        "colab": {
          "base_uri": "https://localhost:8080/",
          "height": 34
        },
        "outputId": "cc34ffbf-861d-4e04-e183-fa41778d872b"
      },
      "source": [
        "df=df[df['SALE PRICE']!=0]\n",
        "df['LAND SQUARE FEET']=df['LAND SQUARE FEET'].fillna(df['LAND SQUARE FEET'].mean())\n",
        "df['GROSS SQUARE FEET']=df['GROSS SQUARE FEET'].fillna(df['GROSS SQUARE FEET'].mean())\n",
        "df.shape"
      ],
      "execution_count": 82,
      "outputs": [
        {
          "output_type": "execute_result",
          "data": {
            "text/plain": [
              "(73450, 19)"
            ]
          },
          "metadata": {
            "tags": []
          },
          "execution_count": 82
        }
      ]
    },
    {
      "cell_type": "code",
      "metadata": {
        "id": "r0aWxeKKOdH0",
        "colab_type": "code",
        "colab": {}
      },
      "source": [
        "# Splitting dataset \n",
        "test=df[df['SALE PRICE'].isna()]\n",
        "sale_house=df[~df['SALE PRICE'].isna()]"
      ],
      "execution_count": 83,
      "outputs": []
    },
    {
      "cell_type": "code",
      "metadata": {
        "id": "e1FDQ8zL7YiG",
        "colab_type": "code",
        "colab": {}
      },
      "source": [
        "test = test.drop(columns='SALE PRICE')"
      ],
      "execution_count": 84,
      "outputs": []
    },
    {
      "cell_type": "code",
      "metadata": {
        "id": "PqKUdXdd7dXQ",
        "colab_type": "code",
        "colab": {
          "base_uri": "https://localhost:8080/",
          "height": 564
        },
        "outputId": "26cb03a1-7654-4d7c-fd15-e7bb85f8baf7"
      },
      "source": [
        "print(test.shape)\n",
        "test.head()"
      ],
      "execution_count": 85,
      "outputs": [
        {
          "output_type": "stream",
          "text": [
            "(13909, 18)\n"
          ],
          "name": "stdout"
        },
        {
          "output_type": "execute_result",
          "data": {
            "text/html": [
              "<div>\n",
              "<style scoped>\n",
              "    .dataframe tbody tr th:only-of-type {\n",
              "        vertical-align: middle;\n",
              "    }\n",
              "\n",
              "    .dataframe tbody tr th {\n",
              "        vertical-align: top;\n",
              "    }\n",
              "\n",
              "    .dataframe thead th {\n",
              "        text-align: right;\n",
              "    }\n",
              "</style>\n",
              "<table border=\"1\" class=\"dataframe\">\n",
              "  <thead>\n",
              "    <tr style=\"text-align: right;\">\n",
              "      <th></th>\n",
              "      <th>BOROUGH</th>\n",
              "      <th>NEIGHBORHOOD</th>\n",
              "      <th>BUILDING CLASS CATEGORY</th>\n",
              "      <th>TAX CLASS AT PRESENT</th>\n",
              "      <th>BLOCK</th>\n",
              "      <th>LOT</th>\n",
              "      <th>BUILDING CLASS AT PRESENT</th>\n",
              "      <th>ADDRESS</th>\n",
              "      <th>APARTMENT NUMBER</th>\n",
              "      <th>ZIP CODE</th>\n",
              "      <th>RESIDENTIAL UNITS</th>\n",
              "      <th>COMMERCIAL UNITS</th>\n",
              "      <th>TOTAL UNITS</th>\n",
              "      <th>LAND SQUARE FEET</th>\n",
              "      <th>GROSS SQUARE FEET</th>\n",
              "      <th>YEAR BUILT</th>\n",
              "      <th>TAX CLASS AT TIME OF SALE</th>\n",
              "      <th>BUILDING CLASS AT TIME OF SALE</th>\n",
              "    </tr>\n",
              "  </thead>\n",
              "  <tbody>\n",
              "    <tr>\n",
              "      <th>1</th>\n",
              "      <td>1</td>\n",
              "      <td>ALPHABET CITY</td>\n",
              "      <td>07 RENTALS - WALKUP APARTMENTS</td>\n",
              "      <td>2</td>\n",
              "      <td>399</td>\n",
              "      <td>26</td>\n",
              "      <td>C7</td>\n",
              "      <td>234 EAST 4TH   STREET</td>\n",
              "      <td></td>\n",
              "      <td>10009</td>\n",
              "      <td>28</td>\n",
              "      <td>3</td>\n",
              "      <td>31</td>\n",
              "      <td>4616.0</td>\n",
              "      <td>18690.0</td>\n",
              "      <td>1900</td>\n",
              "      <td>2</td>\n",
              "      <td>C7</td>\n",
              "    </tr>\n",
              "    <tr>\n",
              "      <th>2</th>\n",
              "      <td>1</td>\n",
              "      <td>ALPHABET CITY</td>\n",
              "      <td>07 RENTALS - WALKUP APARTMENTS</td>\n",
              "      <td>2</td>\n",
              "      <td>399</td>\n",
              "      <td>39</td>\n",
              "      <td>C7</td>\n",
              "      <td>197 EAST 3RD   STREET</td>\n",
              "      <td></td>\n",
              "      <td>10009</td>\n",
              "      <td>16</td>\n",
              "      <td>1</td>\n",
              "      <td>17</td>\n",
              "      <td>2212.0</td>\n",
              "      <td>7803.0</td>\n",
              "      <td>1900</td>\n",
              "      <td>2</td>\n",
              "      <td>C7</td>\n",
              "    </tr>\n",
              "    <tr>\n",
              "      <th>5</th>\n",
              "      <td>1</td>\n",
              "      <td>ALPHABET CITY</td>\n",
              "      <td>07 RENTALS - WALKUP APARTMENTS</td>\n",
              "      <td>2</td>\n",
              "      <td>405</td>\n",
              "      <td>16</td>\n",
              "      <td>C4</td>\n",
              "      <td>516 EAST 12TH   STREET</td>\n",
              "      <td></td>\n",
              "      <td>10009</td>\n",
              "      <td>20</td>\n",
              "      <td>0</td>\n",
              "      <td>20</td>\n",
              "      <td>2581.0</td>\n",
              "      <td>9730.0</td>\n",
              "      <td>1900</td>\n",
              "      <td>2</td>\n",
              "      <td>C4</td>\n",
              "    </tr>\n",
              "    <tr>\n",
              "      <th>7</th>\n",
              "      <td>1</td>\n",
              "      <td>ALPHABET CITY</td>\n",
              "      <td>07 RENTALS - WALKUP APARTMENTS</td>\n",
              "      <td>2</td>\n",
              "      <td>407</td>\n",
              "      <td>18</td>\n",
              "      <td>C7</td>\n",
              "      <td>520 EAST 14TH   STREET</td>\n",
              "      <td></td>\n",
              "      <td>10009</td>\n",
              "      <td>44</td>\n",
              "      <td>2</td>\n",
              "      <td>46</td>\n",
              "      <td>5163.0</td>\n",
              "      <td>21007.0</td>\n",
              "      <td>1900</td>\n",
              "      <td>2</td>\n",
              "      <td>C7</td>\n",
              "    </tr>\n",
              "    <tr>\n",
              "      <th>8</th>\n",
              "      <td>1</td>\n",
              "      <td>ALPHABET CITY</td>\n",
              "      <td>08 RENTALS - ELEVATOR APARTMENTS</td>\n",
              "      <td>2</td>\n",
              "      <td>379</td>\n",
              "      <td>34</td>\n",
              "      <td>D5</td>\n",
              "      <td>141 AVENUE D</td>\n",
              "      <td></td>\n",
              "      <td>10009</td>\n",
              "      <td>15</td>\n",
              "      <td>0</td>\n",
              "      <td>15</td>\n",
              "      <td>1534.0</td>\n",
              "      <td>9198.0</td>\n",
              "      <td>1920</td>\n",
              "      <td>2</td>\n",
              "      <td>D5</td>\n",
              "    </tr>\n",
              "  </tbody>\n",
              "</table>\n",
              "</div>"
            ],
            "text/plain": [
              "  BOROUGH  ... BUILDING CLASS AT TIME OF SALE\n",
              "1       1  ...                             C7\n",
              "2       1  ...                             C7\n",
              "5       1  ...                             C4\n",
              "7       1  ...                             C7\n",
              "8       1  ...                             D5\n",
              "\n",
              "[5 rows x 18 columns]"
            ]
          },
          "metadata": {
            "tags": []
          },
          "execution_count": 85
        }
      ]
    },
    {
      "cell_type": "markdown",
      "metadata": {
        "id": "Wnal5oAeNIG7",
        "colab_type": "text"
      },
      "source": [
        "Now Let's recap and revisit the details of the remaining dataset."
      ]
    },
    {
      "cell_type": "code",
      "metadata": {
        "id": "_y_fK8Pw70Bd",
        "colab_type": "code",
        "colab": {
          "base_uri": "https://localhost:8080/",
          "height": 974
        },
        "outputId": "12a35796-debb-4af8-c741-3108ff20161a"
      },
      "source": [
        "print(sale_house.shape)\n",
        "sale_house.head(10)"
      ],
      "execution_count": 86,
      "outputs": [
        {
          "output_type": "stream",
          "text": [
            "(59541, 19)\n"
          ],
          "name": "stdout"
        },
        {
          "output_type": "execute_result",
          "data": {
            "text/html": [
              "<div>\n",
              "<style scoped>\n",
              "    .dataframe tbody tr th:only-of-type {\n",
              "        vertical-align: middle;\n",
              "    }\n",
              "\n",
              "    .dataframe tbody tr th {\n",
              "        vertical-align: top;\n",
              "    }\n",
              "\n",
              "    .dataframe thead th {\n",
              "        text-align: right;\n",
              "    }\n",
              "</style>\n",
              "<table border=\"1\" class=\"dataframe\">\n",
              "  <thead>\n",
              "    <tr style=\"text-align: right;\">\n",
              "      <th></th>\n",
              "      <th>BOROUGH</th>\n",
              "      <th>NEIGHBORHOOD</th>\n",
              "      <th>BUILDING CLASS CATEGORY</th>\n",
              "      <th>TAX CLASS AT PRESENT</th>\n",
              "      <th>BLOCK</th>\n",
              "      <th>LOT</th>\n",
              "      <th>BUILDING CLASS AT PRESENT</th>\n",
              "      <th>ADDRESS</th>\n",
              "      <th>APARTMENT NUMBER</th>\n",
              "      <th>ZIP CODE</th>\n",
              "      <th>RESIDENTIAL UNITS</th>\n",
              "      <th>COMMERCIAL UNITS</th>\n",
              "      <th>TOTAL UNITS</th>\n",
              "      <th>LAND SQUARE FEET</th>\n",
              "      <th>GROSS SQUARE FEET</th>\n",
              "      <th>YEAR BUILT</th>\n",
              "      <th>TAX CLASS AT TIME OF SALE</th>\n",
              "      <th>BUILDING CLASS AT TIME OF SALE</th>\n",
              "      <th>SALE PRICE</th>\n",
              "    </tr>\n",
              "  </thead>\n",
              "  <tbody>\n",
              "    <tr>\n",
              "      <th>0</th>\n",
              "      <td>1</td>\n",
              "      <td>ALPHABET CITY</td>\n",
              "      <td>07 RENTALS - WALKUP APARTMENTS</td>\n",
              "      <td>2A</td>\n",
              "      <td>392</td>\n",
              "      <td>6</td>\n",
              "      <td>C2</td>\n",
              "      <td>153 AVENUE B</td>\n",
              "      <td></td>\n",
              "      <td>10009</td>\n",
              "      <td>5</td>\n",
              "      <td>0</td>\n",
              "      <td>5</td>\n",
              "      <td>1633.000000</td>\n",
              "      <td>6440.000000</td>\n",
              "      <td>1900</td>\n",
              "      <td>2</td>\n",
              "      <td>C2</td>\n",
              "      <td>6625000.0</td>\n",
              "    </tr>\n",
              "    <tr>\n",
              "      <th>3</th>\n",
              "      <td>1</td>\n",
              "      <td>ALPHABET CITY</td>\n",
              "      <td>07 RENTALS - WALKUP APARTMENTS</td>\n",
              "      <td>2B</td>\n",
              "      <td>402</td>\n",
              "      <td>21</td>\n",
              "      <td>C4</td>\n",
              "      <td>154 EAST 7TH STREET</td>\n",
              "      <td></td>\n",
              "      <td>10009</td>\n",
              "      <td>10</td>\n",
              "      <td>0</td>\n",
              "      <td>10</td>\n",
              "      <td>2272.000000</td>\n",
              "      <td>6794.000000</td>\n",
              "      <td>1913</td>\n",
              "      <td>2</td>\n",
              "      <td>C4</td>\n",
              "      <td>3936272.0</td>\n",
              "    </tr>\n",
              "    <tr>\n",
              "      <th>4</th>\n",
              "      <td>1</td>\n",
              "      <td>ALPHABET CITY</td>\n",
              "      <td>07 RENTALS - WALKUP APARTMENTS</td>\n",
              "      <td>2A</td>\n",
              "      <td>404</td>\n",
              "      <td>55</td>\n",
              "      <td>C2</td>\n",
              "      <td>301 EAST 10TH   STREET</td>\n",
              "      <td></td>\n",
              "      <td>10009</td>\n",
              "      <td>6</td>\n",
              "      <td>0</td>\n",
              "      <td>6</td>\n",
              "      <td>2369.000000</td>\n",
              "      <td>4615.000000</td>\n",
              "      <td>1900</td>\n",
              "      <td>2</td>\n",
              "      <td>C2</td>\n",
              "      <td>8000000.0</td>\n",
              "    </tr>\n",
              "    <tr>\n",
              "      <th>6</th>\n",
              "      <td>1</td>\n",
              "      <td>ALPHABET CITY</td>\n",
              "      <td>07 RENTALS - WALKUP APARTMENTS</td>\n",
              "      <td>2B</td>\n",
              "      <td>406</td>\n",
              "      <td>32</td>\n",
              "      <td>C4</td>\n",
              "      <td>210 AVENUE B</td>\n",
              "      <td></td>\n",
              "      <td>10009</td>\n",
              "      <td>8</td>\n",
              "      <td>0</td>\n",
              "      <td>8</td>\n",
              "      <td>1750.000000</td>\n",
              "      <td>4226.000000</td>\n",
              "      <td>1920</td>\n",
              "      <td>2</td>\n",
              "      <td>C4</td>\n",
              "      <td>3192840.0</td>\n",
              "    </tr>\n",
              "    <tr>\n",
              "      <th>9</th>\n",
              "      <td>1</td>\n",
              "      <td>ALPHABET CITY</td>\n",
              "      <td>08 RENTALS - ELEVATOR APARTMENTS</td>\n",
              "      <td>2</td>\n",
              "      <td>387</td>\n",
              "      <td>153</td>\n",
              "      <td>D9</td>\n",
              "      <td>629 EAST 5TH STREET</td>\n",
              "      <td></td>\n",
              "      <td>10009</td>\n",
              "      <td>24</td>\n",
              "      <td>0</td>\n",
              "      <td>24</td>\n",
              "      <td>4489.000000</td>\n",
              "      <td>18523.000000</td>\n",
              "      <td>1920</td>\n",
              "      <td>2</td>\n",
              "      <td>D9</td>\n",
              "      <td>16232000.0</td>\n",
              "    </tr>\n",
              "    <tr>\n",
              "      <th>11</th>\n",
              "      <td>1</td>\n",
              "      <td>ALPHABET CITY</td>\n",
              "      <td>08 RENTALS - ELEVATOR APARTMENTS</td>\n",
              "      <td>2B</td>\n",
              "      <td>400</td>\n",
              "      <td>21</td>\n",
              "      <td>D1</td>\n",
              "      <td>530-532 EAST 5TH STREET</td>\n",
              "      <td></td>\n",
              "      <td>10009</td>\n",
              "      <td>10</td>\n",
              "      <td>0</td>\n",
              "      <td>10</td>\n",
              "      <td>3717.000000</td>\n",
              "      <td>12350.000000</td>\n",
              "      <td>2009</td>\n",
              "      <td>2</td>\n",
              "      <td>D1</td>\n",
              "      <td>10350000.0</td>\n",
              "    </tr>\n",
              "    <tr>\n",
              "      <th>12</th>\n",
              "      <td>1</td>\n",
              "      <td>ALPHABET CITY</td>\n",
              "      <td>09 COOPS - WALKUP APARTMENTS</td>\n",
              "      <td>2</td>\n",
              "      <td>373</td>\n",
              "      <td>40</td>\n",
              "      <td>C6</td>\n",
              "      <td>327 EAST 3 STREET, 1C</td>\n",
              "      <td></td>\n",
              "      <td>10009</td>\n",
              "      <td>0</td>\n",
              "      <td>0</td>\n",
              "      <td>0</td>\n",
              "      <td>4036.387388</td>\n",
              "      <td>3882.820176</td>\n",
              "      <td>1920</td>\n",
              "      <td>2</td>\n",
              "      <td>C6</td>\n",
              "      <td>1.0</td>\n",
              "    </tr>\n",
              "    <tr>\n",
              "      <th>13</th>\n",
              "      <td>1</td>\n",
              "      <td>ALPHABET CITY</td>\n",
              "      <td>09 COOPS - WALKUP APARTMENTS</td>\n",
              "      <td>2</td>\n",
              "      <td>373</td>\n",
              "      <td>40</td>\n",
              "      <td>C6</td>\n",
              "      <td>327 EAST 3 STREET, 1C</td>\n",
              "      <td></td>\n",
              "      <td>10009</td>\n",
              "      <td>0</td>\n",
              "      <td>0</td>\n",
              "      <td>0</td>\n",
              "      <td>4036.387388</td>\n",
              "      <td>3882.820176</td>\n",
              "      <td>1920</td>\n",
              "      <td>2</td>\n",
              "      <td>C6</td>\n",
              "      <td>499000.0</td>\n",
              "    </tr>\n",
              "    <tr>\n",
              "      <th>14</th>\n",
              "      <td>1</td>\n",
              "      <td>ALPHABET CITY</td>\n",
              "      <td>09 COOPS - WALKUP APARTMENTS</td>\n",
              "      <td>2</td>\n",
              "      <td>373</td>\n",
              "      <td>40</td>\n",
              "      <td>C6</td>\n",
              "      <td>327 EAST 3 STREET, 3A</td>\n",
              "      <td></td>\n",
              "      <td>10009</td>\n",
              "      <td>0</td>\n",
              "      <td>0</td>\n",
              "      <td>0</td>\n",
              "      <td>4036.387388</td>\n",
              "      <td>3882.820176</td>\n",
              "      <td>1920</td>\n",
              "      <td>2</td>\n",
              "      <td>C6</td>\n",
              "      <td>10.0</td>\n",
              "    </tr>\n",
              "    <tr>\n",
              "      <th>15</th>\n",
              "      <td>1</td>\n",
              "      <td>ALPHABET CITY</td>\n",
              "      <td>09 COOPS - WALKUP APARTMENTS</td>\n",
              "      <td>2</td>\n",
              "      <td>373</td>\n",
              "      <td>40</td>\n",
              "      <td>C6</td>\n",
              "      <td>327 EAST 3RD STREET, 5A</td>\n",
              "      <td></td>\n",
              "      <td>10009</td>\n",
              "      <td>0</td>\n",
              "      <td>0</td>\n",
              "      <td>0</td>\n",
              "      <td>4036.387388</td>\n",
              "      <td>3882.820176</td>\n",
              "      <td>1920</td>\n",
              "      <td>2</td>\n",
              "      <td>C6</td>\n",
              "      <td>529500.0</td>\n",
              "    </tr>\n",
              "  </tbody>\n",
              "</table>\n",
              "</div>"
            ],
            "text/plain": [
              "   BOROUGH   NEIGHBORHOOD  ... BUILDING CLASS AT TIME OF SALE  SALE PRICE\n",
              "0        1  ALPHABET CITY  ...                             C2   6625000.0\n",
              "3        1  ALPHABET CITY  ...                             C4   3936272.0\n",
              "4        1  ALPHABET CITY  ...                             C2   8000000.0\n",
              "6        1  ALPHABET CITY  ...                             C4   3192840.0\n",
              "9        1  ALPHABET CITY  ...                             D9  16232000.0\n",
              "11       1  ALPHABET CITY  ...                             D1  10350000.0\n",
              "12       1  ALPHABET CITY  ...                             C6         1.0\n",
              "13       1  ALPHABET CITY  ...                             C6    499000.0\n",
              "14       1  ALPHABET CITY  ...                             C6        10.0\n",
              "15       1  ALPHABET CITY  ...                             C6    529500.0\n",
              "\n",
              "[10 rows x 19 columns]"
            ]
          },
          "metadata": {
            "tags": []
          },
          "execution_count": 86
        }
      ]
    },
    {
      "cell_type": "code",
      "metadata": {
        "id": "OP5UYq4fOx_9",
        "colab_type": "code",
        "colab": {
          "base_uri": "https://localhost:8080/",
          "height": 351
        },
        "outputId": "edc3ec9c-941c-4f84-d45b-e612c98b0858"
      },
      "source": [
        "sale_house.describe()"
      ],
      "execution_count": 87,
      "outputs": [
        {
          "output_type": "execute_result",
          "data": {
            "text/html": [
              "<div>\n",
              "<style scoped>\n",
              "    .dataframe tbody tr th:only-of-type {\n",
              "        vertical-align: middle;\n",
              "    }\n",
              "\n",
              "    .dataframe tbody tr th {\n",
              "        vertical-align: top;\n",
              "    }\n",
              "\n",
              "    .dataframe thead th {\n",
              "        text-align: right;\n",
              "    }\n",
              "</style>\n",
              "<table border=\"1\" class=\"dataframe\">\n",
              "  <thead>\n",
              "    <tr style=\"text-align: right;\">\n",
              "      <th></th>\n",
              "      <th>BLOCK</th>\n",
              "      <th>LOT</th>\n",
              "      <th>ZIP CODE</th>\n",
              "      <th>RESIDENTIAL UNITS</th>\n",
              "      <th>COMMERCIAL UNITS</th>\n",
              "      <th>TOTAL UNITS</th>\n",
              "      <th>LAND SQUARE FEET</th>\n",
              "      <th>GROSS SQUARE FEET</th>\n",
              "      <th>YEAR BUILT</th>\n",
              "      <th>TAX CLASS AT TIME OF SALE</th>\n",
              "      <th>SALE PRICE</th>\n",
              "    </tr>\n",
              "  </thead>\n",
              "  <tbody>\n",
              "    <tr>\n",
              "      <th>count</th>\n",
              "      <td>59541.000000</td>\n",
              "      <td>59541.000000</td>\n",
              "      <td>59541.000000</td>\n",
              "      <td>59541.000000</td>\n",
              "      <td>59541.000000</td>\n",
              "      <td>59541.000000</td>\n",
              "      <td>5.954100e+04</td>\n",
              "      <td>5.954100e+04</td>\n",
              "      <td>59541.000000</td>\n",
              "      <td>59541.000000</td>\n",
              "      <td>5.954100e+04</td>\n",
              "    </tr>\n",
              "    <tr>\n",
              "      <th>mean</th>\n",
              "      <td>4154.241380</td>\n",
              "      <td>390.978536</td>\n",
              "      <td>10705.972506</td>\n",
              "      <td>1.721033</td>\n",
              "      <td>0.154028</td>\n",
              "      <td>1.887288</td>\n",
              "      <td>3.812962e+03</td>\n",
              "      <td>3.588820e+03</td>\n",
              "      <td>1810.151677</td>\n",
              "      <td>1.628038</td>\n",
              "      <td>1.496977e+06</td>\n",
              "    </tr>\n",
              "    <tr>\n",
              "      <th>std</th>\n",
              "      <td>3569.441667</td>\n",
              "      <td>670.698035</td>\n",
              "      <td>1265.161061</td>\n",
              "      <td>14.114490</td>\n",
              "      <td>9.674913</td>\n",
              "      <td>17.218731</td>\n",
              "      <td>3.556956e+04</td>\n",
              "      <td>2.372531e+04</td>\n",
              "      <td>505.612898</td>\n",
              "      <td>0.702928</td>\n",
              "      <td>1.234578e+07</td>\n",
              "    </tr>\n",
              "    <tr>\n",
              "      <th>min</th>\n",
              "      <td>1.000000</td>\n",
              "      <td>1.000000</td>\n",
              "      <td>0.000000</td>\n",
              "      <td>0.000000</td>\n",
              "      <td>0.000000</td>\n",
              "      <td>0.000000</td>\n",
              "      <td>0.000000e+00</td>\n",
              "      <td>0.000000e+00</td>\n",
              "      <td>0.000000</td>\n",
              "      <td>1.000000</td>\n",
              "      <td>1.000000e+00</td>\n",
              "    </tr>\n",
              "    <tr>\n",
              "      <th>25%</th>\n",
              "      <td>1279.000000</td>\n",
              "      <td>21.000000</td>\n",
              "      <td>10301.000000</td>\n",
              "      <td>0.000000</td>\n",
              "      <td>0.000000</td>\n",
              "      <td>0.000000</td>\n",
              "      <td>2.000000e+03</td>\n",
              "      <td>1.300000e+03</td>\n",
              "      <td>1920.000000</td>\n",
              "      <td>1.000000</td>\n",
              "      <td>3.710000e+05</td>\n",
              "    </tr>\n",
              "    <tr>\n",
              "      <th>50%</th>\n",
              "      <td>3168.000000</td>\n",
              "      <td>50.000000</td>\n",
              "      <td>11207.000000</td>\n",
              "      <td>1.000000</td>\n",
              "      <td>0.000000</td>\n",
              "      <td>1.000000</td>\n",
              "      <td>3.682000e+03</td>\n",
              "      <td>2.528000e+03</td>\n",
              "      <td>1940.000000</td>\n",
              "      <td>2.000000</td>\n",
              "      <td>6.285000e+05</td>\n",
              "    </tr>\n",
              "    <tr>\n",
              "      <th>75%</th>\n",
              "      <td>6111.000000</td>\n",
              "      <td>1002.000000</td>\n",
              "      <td>11357.000000</td>\n",
              "      <td>2.000000</td>\n",
              "      <td>0.000000</td>\n",
              "      <td>2.000000</td>\n",
              "      <td>4.036387e+03</td>\n",
              "      <td>3.882820e+03</td>\n",
              "      <td>1966.000000</td>\n",
              "      <td>2.000000</td>\n",
              "      <td>1.075000e+06</td>\n",
              "    </tr>\n",
              "    <tr>\n",
              "      <th>max</th>\n",
              "      <td>16319.000000</td>\n",
              "      <td>9106.000000</td>\n",
              "      <td>11694.000000</td>\n",
              "      <td>1844.000000</td>\n",
              "      <td>2261.000000</td>\n",
              "      <td>2261.000000</td>\n",
              "      <td>4.252327e+06</td>\n",
              "      <td>3.750565e+06</td>\n",
              "      <td>2017.000000</td>\n",
              "      <td>4.000000</td>\n",
              "      <td>2.210000e+09</td>\n",
              "    </tr>\n",
              "  </tbody>\n",
              "</table>\n",
              "</div>"
            ],
            "text/plain": [
              "              BLOCK           LOT  ...  TAX CLASS AT TIME OF SALE    SALE PRICE\n",
              "count  59541.000000  59541.000000  ...               59541.000000  5.954100e+04\n",
              "mean    4154.241380    390.978536  ...                   1.628038  1.496977e+06\n",
              "std     3569.441667    670.698035  ...                   0.702928  1.234578e+07\n",
              "min        1.000000      1.000000  ...                   1.000000  1.000000e+00\n",
              "25%     1279.000000     21.000000  ...                   1.000000  3.710000e+05\n",
              "50%     3168.000000     50.000000  ...                   2.000000  6.285000e+05\n",
              "75%     6111.000000   1002.000000  ...                   2.000000  1.075000e+06\n",
              "max    16319.000000   9106.000000  ...                   4.000000  2.210000e+09\n",
              "\n",
              "[8 rows x 11 columns]"
            ]
          },
          "metadata": {
            "tags": []
          },
          "execution_count": 87
        }
      ]
    },
    {
      "cell_type": "markdown",
      "metadata": {
        "id": "em3V3l818Kxy",
        "colab_type": "text"
      },
      "source": [
        "According to the above chart, we can observe that \n",
        "\n",
        "1) The min value for ZIP CODE is 0, we don't have ZIP CODE that equals to 0\n",
        "\n",
        "2) The Building Year of some properties are 0, this should be incorrect as well.\n",
        "\n",
        "3) Some properties have 0 SQUARE FEET...\n",
        "\n",
        "Let's fix them\n",
        "\n",
        "####TODO"
      ]
    },
    {
      "cell_type": "markdown",
      "metadata": {
        "id": "m6vleZKW9UK1",
        "colab_type": "text"
      },
      "source": [
        "Finally, it's time check the outliers in our datasets, let's first look into the column sale price.\n",
        "\n",
        "####SALE PRICE"
      ]
    },
    {
      "cell_type": "code",
      "metadata": {
        "id": "5LPz59-c9dlc",
        "colab_type": "code",
        "colab": {
          "base_uri": "https://localhost:8080/",
          "height": 350
        },
        "outputId": "046e7180-3de9-491f-e7b3-7b805a2a27e3"
      },
      "source": [
        "plt.figure(figsize=(10,5))\n",
        "\n",
        "sns.boxplot(x='SALE PRICE', data=sale_house)\n",
        "plt.ticklabel_format(style='plain', axis='x')\n",
        "plt.title('SALE PRICE in USD')\n",
        "plt.show()"
      ],
      "execution_count": 88,
      "outputs": [
        {
          "output_type": "display_data",
          "data": {
            "image/png": "[encoded data removed]",
            "text/plain": [
              "<Figure size 720x360 with 1 Axes>"
            ]
          },
          "metadata": {
            "tags": [],
            "needs_background": "light"
          }
        }
      ]
    },
    {
      "cell_type": "code",
      "metadata": {
        "id": "Y42-Cfcn9nfj",
        "colab_type": "code",
        "colab": {}
      },
      "source": [
        "sale_house = sale_house[(sale_house['SALE PRICE'] > 0) & (sale_house['SALE PRICE'] < 500000000)] \n"
      ],
      "execution_count": 89,
      "outputs": []
    },
    {
      "cell_type": "code",
      "metadata": {
        "id": "4RlLJs9__bwD",
        "colab_type": "code",
        "colab": {
          "base_uri": "https://localhost:8080/",
          "height": 307
        },
        "outputId": "eac4bc3c-3250-4e62-cc02-f59e2c730c32"
      },
      "source": [
        "sns.distplot(sale_house['SALE PRICE'])\n"
      ],
      "execution_count": 90,
      "outputs": [
        {
          "output_type": "execute_result",
          "data": {
            "text/plain": [
              "<matplotlib.axes._subplots.AxesSubplot at 0x7ff1809b8518>"
            ]
          },
          "metadata": {
            "tags": []
          },
          "execution_count": 90
        },
        {
          "output_type": "display_data",
          "data": {
            "image/png": "[encoded data removed]",
            "text/plain": [
              "<Figure size 432x288 with 1 Axes>"
            ]
          },
          "metadata": {
            "tags": [],
            "needs_background": "light"
          }
        }
      ]
    },
    {
      "cell_type": "code",
      "metadata": {
        "id": "vcsEPct4_kPP",
        "colab_type": "code",
        "colab": {}
      },
      "source": [
        "sale_house = sale_house[(sale_house['SALE PRICE'] > 0) & (sale_house['SALE PRICE'] < 5000000)]\n"
      ],
      "execution_count": 91,
      "outputs": []
    },
    {
      "cell_type": "code",
      "metadata": {
        "id": "9h9dHhas_skG",
        "colab_type": "code",
        "colab": {
          "base_uri": "https://localhost:8080/",
          "height": 307
        },
        "outputId": "895e81de-7ffb-4654-80bb-1163f88ae72e"
      },
      "source": [
        "sns.distplot(sale_house['SALE PRICE'])\n"
      ],
      "execution_count": 92,
      "outputs": [
        {
          "output_type": "execute_result",
          "data": {
            "text/plain": [
              "<matplotlib.axes._subplots.AxesSubplot at 0x7ff1808b29e8>"
            ]
          },
          "metadata": {
            "tags": []
          },
          "execution_count": 92
        },
        {
          "output_type": "display_data",
          "data": {
            "image/png": "[encoded data removed]",
            "text/plain": [
              "<Figure size 432x288 with 1 Axes>"
            ]
          },
          "metadata": {
            "tags": [],
            "needs_background": "light"
          }
        }
      ]
    },
    {
      "cell_type": "markdown",
      "metadata": {
        "id": "k9UfItZ5_9u8",
        "colab_type": "text"
      },
      "source": [
        "####SQUARE FEET"
      ]
    },
    {
      "cell_type": "code",
      "metadata": {
        "id": "cKNAb2HFAQb8",
        "colab_type": "code",
        "colab": {
          "base_uri": "https://localhost:8080/",
          "height": 798
        },
        "outputId": "4fd7fe41-a109-450c-e8c0-e1850c72da44"
      },
      "source": [
        "sale_house = sale_house[sale_house['GROSS SQUARE FEET'] < 10000]\n",
        "sale_house = sale_house[sale_house['LAND SQUARE FEET'] < 10000]\n",
        "\n",
        "plt.figure(figsize=(10,6))\n",
        "sns.regplot(x='GROSS SQUARE FEET', y='SALE PRICE', data=sale_house, fit_reg=False, scatter_kws={'alpha':0.3})\n",
        "\n",
        "plt.figure(figsize=(10,6))\n",
        "sns.regplot(x='LAND SQUARE FEET', y='SALE PRICE', data=sale_house, fit_reg=False, scatter_kws={'alpha':0.3})"
      ],
      "execution_count": 93,
      "outputs": [
        {
          "output_type": "execute_result",
          "data": {
            "text/plain": [
              "<matplotlib.axes._subplots.AxesSubplot at 0x7ff1807cf358>"
            ]
          },
          "metadata": {
            "tags": []
          },
          "execution_count": 93
        },
        {
          "output_type": "display_data",
          "data": {
            "image/png": "[encoded data removed]",
            "text/plain": [
              "<Figure size 720x432 with 1 Axes>"
            ]
          },
          "metadata": {
            "tags": [],
            "needs_background": "light"
          }
        },
        {
          "output_type": "display_data",
          "data": {
            "image/png": "[encoded data removed]",
            "text/plain": [
              "<Figure size 720x432 with 1 Axes>"
            ]
          },
          "metadata": {
            "tags": [],
            "needs_background": "light"
          }
        }
      ]
    },
    {
      "cell_type": "markdown",
      "metadata": {
        "id": "CilCOp1OAx5W",
        "colab_type": "text"
      },
      "source": [
        "####UNIT NUMBER"
      ]
    },
    {
      "cell_type": "code",
      "metadata": {
        "id": "SBWj9jY8AVOn",
        "colab_type": "code",
        "colab": {
          "base_uri": "https://localhost:8080/",
          "height": 731
        },
        "outputId": "06b0a642-26c3-4c4f-e30d-ca96d767ea44"
      },
      "source": [
        "sale_house[[\"TOTAL UNITS\", \"SALE PRICE\"]].groupby(['TOTAL UNITS'], as_index=False).count().sort_values(by='SALE PRICE', ascending=False)"
      ],
      "execution_count": 94,
      "outputs": [
        {
          "output_type": "execute_result",
          "data": {
            "text/html": [
              "<div>\n",
              "<style scoped>\n",
              "    .dataframe tbody tr th:only-of-type {\n",
              "        vertical-align: middle;\n",
              "    }\n",
              "\n",
              "    .dataframe tbody tr th {\n",
              "        vertical-align: top;\n",
              "    }\n",
              "\n",
              "    .dataframe thead th {\n",
              "        text-align: right;\n",
              "    }\n",
              "</style>\n",
              "<table border=\"1\" class=\"dataframe\">\n",
              "  <thead>\n",
              "    <tr style=\"text-align: right;\">\n",
              "      <th></th>\n",
              "      <th>TOTAL UNITS</th>\n",
              "      <th>SALE PRICE</th>\n",
              "    </tr>\n",
              "  </thead>\n",
              "  <tbody>\n",
              "    <tr>\n",
              "      <th>1</th>\n",
              "      <td>1</td>\n",
              "      <td>25649</td>\n",
              "    </tr>\n",
              "    <tr>\n",
              "      <th>0</th>\n",
              "      <td>0</td>\n",
              "      <td>16167</td>\n",
              "    </tr>\n",
              "    <tr>\n",
              "      <th>2</th>\n",
              "      <td>2</td>\n",
              "      <td>9961</td>\n",
              "    </tr>\n",
              "    <tr>\n",
              "      <th>3</th>\n",
              "      <td>3</td>\n",
              "      <td>2884</td>\n",
              "    </tr>\n",
              "    <tr>\n",
              "      <th>4</th>\n",
              "      <td>4</td>\n",
              "      <td>742</td>\n",
              "    </tr>\n",
              "    <tr>\n",
              "      <th>6</th>\n",
              "      <td>6</td>\n",
              "      <td>377</td>\n",
              "    </tr>\n",
              "    <tr>\n",
              "      <th>5</th>\n",
              "      <td>5</td>\n",
              "      <td>182</td>\n",
              "    </tr>\n",
              "    <tr>\n",
              "      <th>8</th>\n",
              "      <td>8</td>\n",
              "      <td>143</td>\n",
              "    </tr>\n",
              "    <tr>\n",
              "      <th>7</th>\n",
              "      <td>7</td>\n",
              "      <td>75</td>\n",
              "    </tr>\n",
              "    <tr>\n",
              "      <th>9</th>\n",
              "      <td>9</td>\n",
              "      <td>58</td>\n",
              "    </tr>\n",
              "    <tr>\n",
              "      <th>10</th>\n",
              "      <td>10</td>\n",
              "      <td>50</td>\n",
              "    </tr>\n",
              "    <tr>\n",
              "      <th>12</th>\n",
              "      <td>12</td>\n",
              "      <td>17</td>\n",
              "    </tr>\n",
              "    <tr>\n",
              "      <th>11</th>\n",
              "      <td>11</td>\n",
              "      <td>12</td>\n",
              "    </tr>\n",
              "    <tr>\n",
              "      <th>16</th>\n",
              "      <td>16</td>\n",
              "      <td>10</td>\n",
              "    </tr>\n",
              "    <tr>\n",
              "      <th>13</th>\n",
              "      <td>13</td>\n",
              "      <td>5</td>\n",
              "    </tr>\n",
              "    <tr>\n",
              "      <th>14</th>\n",
              "      <td>14</td>\n",
              "      <td>5</td>\n",
              "    </tr>\n",
              "    <tr>\n",
              "      <th>15</th>\n",
              "      <td>15</td>\n",
              "      <td>5</td>\n",
              "    </tr>\n",
              "    <tr>\n",
              "      <th>17</th>\n",
              "      <td>18</td>\n",
              "      <td>2</td>\n",
              "    </tr>\n",
              "    <tr>\n",
              "      <th>18</th>\n",
              "      <td>19</td>\n",
              "      <td>1</td>\n",
              "    </tr>\n",
              "    <tr>\n",
              "      <th>19</th>\n",
              "      <td>20</td>\n",
              "      <td>1</td>\n",
              "    </tr>\n",
              "    <tr>\n",
              "      <th>20</th>\n",
              "      <td>279</td>\n",
              "      <td>1</td>\n",
              "    </tr>\n",
              "    <tr>\n",
              "      <th>21</th>\n",
              "      <td>2261</td>\n",
              "      <td>1</td>\n",
              "    </tr>\n",
              "  </tbody>\n",
              "</table>\n",
              "</div>"
            ],
            "text/plain": [
              "    TOTAL UNITS  SALE PRICE\n",
              "1             1       25649\n",
              "0             0       16167\n",
              "2             2        9961\n",
              "3             3        2884\n",
              "4             4         742\n",
              "6             6         377\n",
              "5             5         182\n",
              "8             8         143\n",
              "7             7          75\n",
              "9             9          58\n",
              "10           10          50\n",
              "12           12          17\n",
              "11           11          12\n",
              "16           16          10\n",
              "13           13           5\n",
              "14           14           5\n",
              "15           15           5\n",
              "17           18           2\n",
              "18           19           1\n",
              "19           20           1\n",
              "20          279           1\n",
              "21         2261           1"
            ]
          },
          "metadata": {
            "tags": []
          },
          "execution_count": 94
        }
      ]
    },
    {
      "cell_type": "code",
      "metadata": {
        "id": "wLs9YzluA3pX",
        "colab_type": "code",
        "colab": {}
      },
      "source": [
        "sale_house = sale_house[(sale_house['TOTAL UNITS'] > 0) & (sale_house['TOTAL UNITS'] != 2261)] \n"
      ],
      "execution_count": 95,
      "outputs": []
    },
    {
      "cell_type": "code",
      "metadata": {
        "id": "tY2u_0RMA-_F",
        "colab_type": "code",
        "colab": {
          "base_uri": "https://localhost:8080/",
          "height": 404
        },
        "outputId": "65bf137a-c073-4baf-d965-f9613b0fe129"
      },
      "source": [
        "plt.figure(figsize=(10,6))\n",
        "sns.boxplot(x='TOTAL UNITS', y='SALE PRICE', data=sale_house)\n",
        "plt.title('Total Units vs Sale Price')\n",
        "plt.show()"
      ],
      "execution_count": 96,
      "outputs": [
        {
          "output_type": "display_data",
          "data": {
            "image/png": "[encoded data removed]",
            "text/plain": [
              "<Figure size 720x432 with 1 Axes>"
            ]
          },
          "metadata": {
            "tags": [],
            "needs_background": "light"
          }
        }
      ]
    },
    {
      "cell_type": "markdown",
      "metadata": {
        "id": "jzTyJ11ic3ys",
        "colab_type": "text"
      },
      "source": [
        "#2) Preparation"
      ]
    },
    {
      "cell_type": "code",
      "metadata": {
        "id": "glwjK_96BTTT",
        "colab_type": "code",
        "colab": {
          "base_uri": "https://localhost:8080/",
          "height": 34
        },
        "outputId": "a52ec5bd-edb4-4a80-f0d7-c4e66e624729"
      },
      "source": [
        "#\"Apartment Number\" only has few values, so we are going to drop it.\n",
        "print(\"The percent of rows with null in apartment number:\" +str(sum(df['APARTMENT NUMBER']==' ')/len(df)))\n",
        "del sale_house['APARTMENT NUMBER']\n",
        "del sale_house['ADDRESS']\n",
        "\n",
        "del sale_house['NEIGHBORHOOD']\n",
        "del sale_house['BUILDING CLASS AT PRESENT']\n",
        "del sale_house['BUILDING CLASS AT TIME OF SALE']"
      ],
      "execution_count": 97,
      "outputs": [
        {
          "output_type": "stream",
          "text": [
            "The percent of rows with null in apartment number:0.770211027910143\n"
          ],
          "name": "stdout"
        }
      ]
    },
    {
      "cell_type": "code",
      "metadata": {
        "id": "fIuac0OuPMs-",
        "colab_type": "code",
        "colab": {
          "base_uri": "https://localhost:8080/",
          "height": 852
        },
        "outputId": "e4cf0d65-61df-4a16-ca43-78ca66197042"
      },
      "source": [
        "cor = sale_house.corr()\n",
        "fig, ax = plt.subplots(figsize=(12,12))\n",
        "sns.heatmap(cor,annot=True, ax = ax)"
      ],
      "execution_count": 98,
      "outputs": [
        {
          "output_type": "execute_result",
          "data": {
            "text/plain": [
              "<matplotlib.axes._subplots.AxesSubplot at 0x7ff18081c198>"
            ]
          },
          "metadata": {
            "tags": []
          },
          "execution_count": 98
        },
        {
          "output_type": "display_data",
          "data": {
            "image/png": "[encoded data removed]",
            "text/plain": [
              "<Figure size 864x864 with 2 Axes>"
            ]
          },
          "metadata": {
            "tags": [],
            "needs_background": "light"
          }
        }
      ]
    },
    {
      "cell_type": "markdown",
      "metadata": {
        "id": "4TeZJpNBddbW",
        "colab_type": "text"
      },
      "source": [
        "Removing highing correlated independent variable from datasets."
      ]
    },
    {
      "cell_type": "code",
      "metadata": {
        "id": "JpRlhINndvj4",
        "colab_type": "code",
        "colab": {}
      },
      "source": [
        "# sale_house.drop(['RESIDENTIAL UNITS','GROSS SQUARE FEET',],inplace=True, axis=1)\n",
        "# sale_house.head()"
      ],
      "execution_count": 99,
      "outputs": []
    },
    {
      "cell_type": "code",
      "metadata": {
        "id": "s2OQJ0MXd1IS",
        "colab_type": "code",
        "colab": {}
      },
      "source": [
        "#one hot encoded\n",
        "#https://machinelearningmastery.com/why-one-hot-encode-data-in-machine-learning/\n",
        "one_hot_features = ['BOROUGH', 'BUILDING CLASS CATEGORY','TAX CLASS AT PRESENT','TAX CLASS AT TIME OF SALE']"
      ],
      "execution_count": 100,
      "outputs": []
    },
    {
      "cell_type": "code",
      "metadata": {
        "id": "KT9VYrsWd5qy",
        "colab_type": "code",
        "colab": {
          "base_uri": "https://localhost:8080/",
          "height": 1000
        },
        "outputId": "3508eeee-7106-4824-f664-4a56f096eaa7"
      },
      "source": [
        "# Convert categorical variables into dummy/indicator variables (i.e. one-hot encoding).\n",
        "one_hot_encoded = pd.get_dummies(sale_house[one_hot_features])\n",
        "one_hot_encoded.info(verbose=True, memory_usage=True, null_counts=True)"
      ],
      "execution_count": 101,
      "outputs": [
        {
          "output_type": "stream",
          "text": [
            "<class 'pandas.core.frame.DataFrame'>\n",
            "Int64Index: 40180 entries, 3 to 84545\n",
            "Data columns (total 56 columns):\n",
            " #   Column                                                                Non-Null Count  Dtype\n",
            "---  ------                                                                --------------  -----\n",
            " 0   TAX CLASS AT TIME OF SALE                                             40180 non-null  int64\n",
            " 1   BOROUGH_1                                                             40180 non-null  uint8\n",
            " 2   BOROUGH_2                                                             40180 non-null  uint8\n",
            " 3   BOROUGH_3                                                             40180 non-null  uint8\n",
            " 4   BOROUGH_4                                                             40180 non-null  uint8\n",
            " 5   BOROUGH_5                                                             40180 non-null  uint8\n",
            " 6   BUILDING CLASS CATEGORY_01 ONE FAMILY DWELLINGS                       40180 non-null  uint8\n",
            " 7   BUILDING CLASS CATEGORY_02 TWO FAMILY DWELLINGS                       40180 non-null  uint8\n",
            " 8   BUILDING CLASS CATEGORY_03 THREE FAMILY DWELLINGS                     40180 non-null  uint8\n",
            " 9   BUILDING CLASS CATEGORY_04 TAX CLASS 1 CONDOS                         40180 non-null  uint8\n",
            " 10  BUILDING CLASS CATEGORY_05 TAX CLASS 1 VACANT LAND                    40180 non-null  uint8\n",
            " 11  BUILDING CLASS CATEGORY_06 TAX CLASS 1 - OTHER                        40180 non-null  uint8\n",
            " 12  BUILDING CLASS CATEGORY_07 RENTALS - WALKUP APARTMENTS                40180 non-null  uint8\n",
            " 13  BUILDING CLASS CATEGORY_08 RENTALS - ELEVATOR APARTMENTS              40180 non-null  uint8\n",
            " 14  BUILDING CLASS CATEGORY_09 COOPS - WALKUP APARTMENTS                  40180 non-null  uint8\n",
            " 15  BUILDING CLASS CATEGORY_11A CONDO-RENTALS                             40180 non-null  uint8\n",
            " 16  BUILDING CLASS CATEGORY_12 CONDOS - WALKUP APARTMENTS                 40180 non-null  uint8\n",
            " 17  BUILDING CLASS CATEGORY_13 CONDOS - ELEVATOR APARTMENTS               40180 non-null  uint8\n",
            " 18  BUILDING CLASS CATEGORY_14 RENTALS - 4-10 UNIT                        40180 non-null  uint8\n",
            " 19  BUILDING CLASS CATEGORY_15 CONDOS - 2-10 UNIT RESIDENTIAL             40180 non-null  uint8\n",
            " 20  BUILDING CLASS CATEGORY_16 CONDOS - 2-10 UNIT WITH COMMERCIAL UNIT    40180 non-null  uint8\n",
            " 21  BUILDING CLASS CATEGORY_21 OFFICE BUILDINGS                           40180 non-null  uint8\n",
            " 22  BUILDING CLASS CATEGORY_22 STORE BUILDINGS                            40180 non-null  uint8\n",
            " 23  BUILDING CLASS CATEGORY_23 LOFT BUILDINGS                             40180 non-null  uint8\n",
            " 24  BUILDING CLASS CATEGORY_26 OTHER HOTELS                               40180 non-null  uint8\n",
            " 25  BUILDING CLASS CATEGORY_27 FACTORIES                                  40180 non-null  uint8\n",
            " 26  BUILDING CLASS CATEGORY_28 COMMERCIAL CONDOS                          40180 non-null  uint8\n",
            " 27  BUILDING CLASS CATEGORY_29 COMMERCIAL GARAGES                         40180 non-null  uint8\n",
            " 28  BUILDING CLASS CATEGORY_30 WAREHOUSES                                 40180 non-null  uint8\n",
            " 29  BUILDING CLASS CATEGORY_31 COMMERCIAL VACANT LAND                     40180 non-null  uint8\n",
            " 30  BUILDING CLASS CATEGORY_32 HOSPITAL AND HEALTH FACILITIES             40180 non-null  uint8\n",
            " 31  BUILDING CLASS CATEGORY_33 EDUCATIONAL FACILITIES                     40180 non-null  uint8\n",
            " 32  BUILDING CLASS CATEGORY_35 INDOOR PUBLIC AND CULTURAL FACILITIES      40180 non-null  uint8\n",
            " 33  BUILDING CLASS CATEGORY_37 RELIGIOUS FACILITIES                       40180 non-null  uint8\n",
            " 34  BUILDING CLASS CATEGORY_38 ASYLUMS AND HOMES                          40180 non-null  uint8\n",
            " 35  BUILDING CLASS CATEGORY_40 SELECTED GOVERNMENTAL FACILITIES           40180 non-null  uint8\n",
            " 36  BUILDING CLASS CATEGORY_41 TAX CLASS 4 - OTHER                        40180 non-null  uint8\n",
            " 37  BUILDING CLASS CATEGORY_42 CONDO CULTURAL/MEDICAL/EDUCATIONAL/ETC     40180 non-null  uint8\n",
            " 38  BUILDING CLASS CATEGORY_43 CONDO OFFICE BUILDINGS                     40180 non-null  uint8\n",
            " 39  BUILDING CLASS CATEGORY_44 CONDO PARKING                              40180 non-null  uint8\n",
            " 40  BUILDING CLASS CATEGORY_45 CONDO HOTELS                               40180 non-null  uint8\n",
            " 41  BUILDING CLASS CATEGORY_46 CONDO STORE BUILDINGS                      40180 non-null  uint8\n",
            " 42  BUILDING CLASS CATEGORY_47 CONDO NON-BUSINESS STORAGE                 40180 non-null  uint8\n",
            " 43  BUILDING CLASS CATEGORY_48 CONDO TERRACES/GARDENS/CABANAS             40180 non-null  uint8\n",
            " 44  BUILDING CLASS CATEGORY_49 CONDO WAREHOUSES/FACTORY/INDUS             40180 non-null  uint8\n",
            " 45  TAX CLASS AT PRESENT_                                                 40180 non-null  uint8\n",
            " 46  TAX CLASS AT PRESENT_1                                                40180 non-null  uint8\n",
            " 47  TAX CLASS AT PRESENT_1A                                               40180 non-null  uint8\n",
            " 48  TAX CLASS AT PRESENT_1B                                               40180 non-null  uint8\n",
            " 49  TAX CLASS AT PRESENT_1C                                               40180 non-null  uint8\n",
            " 50  TAX CLASS AT PRESENT_2                                                40180 non-null  uint8\n",
            " 51  TAX CLASS AT PRESENT_2A                                               40180 non-null  uint8\n",
            " 52  TAX CLASS AT PRESENT_2B                                               40180 non-null  uint8\n",
            " 53  TAX CLASS AT PRESENT_2C                                               40180 non-null  uint8\n",
            " 54  TAX CLASS AT PRESENT_3                                                40180 non-null  uint8\n",
            " 55  TAX CLASS AT PRESENT_4                                                40180 non-null  uint8\n",
            "dtypes: int64(1), uint8(55)\n",
            "memory usage: 4.0 MB\n"
          ],
          "name": "stdout"
        }
      ]
    },
    {
      "cell_type": "code",
      "metadata": {
        "id": "IYR_n7VKeBTi",
        "colab_type": "code",
        "colab": {
          "base_uri": "https://localhost:8080/",
          "height": 351
        },
        "outputId": "25ec625c-c958-4b76-c7f9-406884d10dd3"
      },
      "source": [
        "numeric_data=sale_house.select_dtypes(include=[np.number])\n",
        "numeric_data.describe()"
      ],
      "execution_count": 102,
      "outputs": [
        {
          "output_type": "execute_result",
          "data": {
            "text/html": [
              "<div>\n",
              "<style scoped>\n",
              "    .dataframe tbody tr th:only-of-type {\n",
              "        vertical-align: middle;\n",
              "    }\n",
              "\n",
              "    .dataframe tbody tr th {\n",
              "        vertical-align: top;\n",
              "    }\n",
              "\n",
              "    .dataframe thead th {\n",
              "        text-align: right;\n",
              "    }\n",
              "</style>\n",
              "<table border=\"1\" class=\"dataframe\">\n",
              "  <thead>\n",
              "    <tr style=\"text-align: right;\">\n",
              "      <th></th>\n",
              "      <th>BLOCK</th>\n",
              "      <th>LOT</th>\n",
              "      <th>ZIP CODE</th>\n",
              "      <th>RESIDENTIAL UNITS</th>\n",
              "      <th>COMMERCIAL UNITS</th>\n",
              "      <th>TOTAL UNITS</th>\n",
              "      <th>LAND SQUARE FEET</th>\n",
              "      <th>GROSS SQUARE FEET</th>\n",
              "      <th>YEAR BUILT</th>\n",
              "      <th>TAX CLASS AT TIME OF SALE</th>\n",
              "      <th>SALE PRICE</th>\n",
              "    </tr>\n",
              "  </thead>\n",
              "  <tbody>\n",
              "    <tr>\n",
              "      <th>count</th>\n",
              "      <td>40180.000000</td>\n",
              "      <td>40180.000000</td>\n",
              "      <td>40180.000000</td>\n",
              "      <td>40180.000000</td>\n",
              "      <td>40180.000000</td>\n",
              "      <td>40180.000000</td>\n",
              "      <td>40180.000000</td>\n",
              "      <td>40180.000000</td>\n",
              "      <td>40180.000000</td>\n",
              "      <td>40180.000000</td>\n",
              "      <td>4.018000e+04</td>\n",
              "    </tr>\n",
              "    <tr>\n",
              "      <th>mean</th>\n",
              "      <td>4692.605450</td>\n",
              "      <td>470.622847</td>\n",
              "      <td>10906.733624</td>\n",
              "      <td>1.518143</td>\n",
              "      <td>0.060652</td>\n",
              "      <td>1.595669</td>\n",
              "      <td>2813.697221</td>\n",
              "      <td>2221.956898</td>\n",
              "      <td>1825.273594</td>\n",
              "      <td>1.418094</td>\n",
              "      <td>8.777249e+05</td>\n",
              "    </tr>\n",
              "    <tr>\n",
              "      <th>std</th>\n",
              "      <td>3736.863804</td>\n",
              "      <td>719.300854</td>\n",
              "      <td>620.709351</td>\n",
              "      <td>1.773547</td>\n",
              "      <td>0.343586</td>\n",
              "      <td>1.800990</td>\n",
              "      <td>1579.557618</td>\n",
              "      <td>1409.621777</td>\n",
              "      <td>484.332221</td>\n",
              "      <td>0.682278</td>\n",
              "      <td>7.709459e+05</td>\n",
              "    </tr>\n",
              "    <tr>\n",
              "      <th>min</th>\n",
              "      <td>1.000000</td>\n",
              "      <td>1.000000</td>\n",
              "      <td>0.000000</td>\n",
              "      <td>0.000000</td>\n",
              "      <td>0.000000</td>\n",
              "      <td>1.000000</td>\n",
              "      <td>0.000000</td>\n",
              "      <td>0.000000</td>\n",
              "      <td>0.000000</td>\n",
              "      <td>1.000000</td>\n",
              "      <td>1.000000e+00</td>\n",
              "    </tr>\n",
              "    <tr>\n",
              "      <th>25%</th>\n",
              "      <td>1532.000000</td>\n",
              "      <td>28.000000</td>\n",
              "      <td>10314.000000</td>\n",
              "      <td>1.000000</td>\n",
              "      <td>0.000000</td>\n",
              "      <td>1.000000</td>\n",
              "      <td>1933.000000</td>\n",
              "      <td>1273.000000</td>\n",
              "      <td>1920.000000</td>\n",
              "      <td>1.000000</td>\n",
              "      <td>4.300000e+05</td>\n",
              "    </tr>\n",
              "    <tr>\n",
              "      <th>50%</th>\n",
              "      <td>4010.000000</td>\n",
              "      <td>62.000000</td>\n",
              "      <td>11214.000000</td>\n",
              "      <td>1.000000</td>\n",
              "      <td>0.000000</td>\n",
              "      <td>1.000000</td>\n",
              "      <td>2587.500000</td>\n",
              "      <td>1976.000000</td>\n",
              "      <td>1940.000000</td>\n",
              "      <td>1.000000</td>\n",
              "      <td>6.534870e+05</td>\n",
              "    </tr>\n",
              "    <tr>\n",
              "      <th>75%</th>\n",
              "      <td>6801.000000</td>\n",
              "      <td>1031.000000</td>\n",
              "      <td>11360.000000</td>\n",
              "      <td>2.000000</td>\n",
              "      <td>0.000000</td>\n",
              "      <td>2.000000</td>\n",
              "      <td>4036.387388</td>\n",
              "      <td>3780.000000</td>\n",
              "      <td>1986.000000</td>\n",
              "      <td>2.000000</td>\n",
              "      <td>9.999990e+05</td>\n",
              "    </tr>\n",
              "    <tr>\n",
              "      <th>max</th>\n",
              "      <td>16319.000000</td>\n",
              "      <td>9106.000000</td>\n",
              "      <td>11694.000000</td>\n",
              "      <td>278.000000</td>\n",
              "      <td>14.000000</td>\n",
              "      <td>279.000000</td>\n",
              "      <td>9996.000000</td>\n",
              "      <td>9926.000000</td>\n",
              "      <td>2017.000000</td>\n",
              "      <td>4.000000</td>\n",
              "      <td>4.996841e+06</td>\n",
              "    </tr>\n",
              "  </tbody>\n",
              "</table>\n",
              "</div>"
            ],
            "text/plain": [
              "              BLOCK           LOT  ...  TAX CLASS AT TIME OF SALE    SALE PRICE\n",
              "count  40180.000000  40180.000000  ...               40180.000000  4.018000e+04\n",
              "mean    4692.605450    470.622847  ...                   1.418094  8.777249e+05\n",
              "std     3736.863804    719.300854  ...                   0.682278  7.709459e+05\n",
              "min        1.000000      1.000000  ...                   1.000000  1.000000e+00\n",
              "25%     1532.000000     28.000000  ...                   1.000000  4.300000e+05\n",
              "50%     4010.000000     62.000000  ...                   1.000000  6.534870e+05\n",
              "75%     6801.000000   1031.000000  ...                   2.000000  9.999990e+05\n",
              "max    16319.000000   9106.000000  ...                   4.000000  4.996841e+06\n",
              "\n",
              "[8 rows x 11 columns]"
            ]
          },
          "metadata": {
            "tags": []
          },
          "execution_count": 102
        }
      ]
    },
    {
      "cell_type": "code",
      "metadata": {
        "id": "EnM7qgYGeHyg",
        "colab_type": "code",
        "colab": {}
      },
      "source": [
        "df = sale_house\n",
        "scaler = StandardScaler()\n",
        "scaler.fit(df[numeric_data.columns])\n",
        "scaled = scaler.transform(df[numeric_data.columns])\n",
        "\n",
        "for i, col in enumerate(numeric_data.columns):\n",
        "       df[col] = scaled[:,i]"
      ],
      "execution_count": 103,
      "outputs": []
    },
    {
      "cell_type": "code",
      "metadata": {
        "id": "jhGGAXpgeT-0",
        "colab_type": "code",
        "colab": {
          "base_uri": "https://localhost:8080/",
          "height": 343
        },
        "outputId": "2e7f8d2d-b402-4279-e070-a15cd1abc55d"
      },
      "source": [
        "\n",
        "df.drop(one_hot_features,axis=1,inplace=True)\n",
        "df = pd.concat([df, one_hot_encoded] ,axis=1)\n",
        "df.head()"
      ],
      "execution_count": 104,
      "outputs": [
        {
          "output_type": "execute_result",
          "data": {
            "text/html": [
              "<div>\n",
              "<style scoped>\n",
              "    .dataframe tbody tr th:only-of-type {\n",
              "        vertical-align: middle;\n",
              "    }\n",
              "\n",
              "    .dataframe tbody tr th {\n",
              "        vertical-align: top;\n",
              "    }\n",
              "\n",
              "    .dataframe thead th {\n",
              "        text-align: right;\n",
              "    }\n",
              "</style>\n",
              "<table border=\"1\" class=\"dataframe\">\n",
              "  <thead>\n",
              "    <tr style=\"text-align: right;\">\n",
              "      <th></th>\n",
              "      <th>BLOCK</th>\n",
              "      <th>LOT</th>\n",
              "      <th>ZIP CODE</th>\n",
              "      <th>RESIDENTIAL UNITS</th>\n",
              "      <th>COMMERCIAL UNITS</th>\n",
              "      <th>TOTAL UNITS</th>\n",
              "      <th>LAND SQUARE FEET</th>\n",
              "      <th>GROSS SQUARE FEET</th>\n",
              "      <th>YEAR BUILT</th>\n",
              "      <th>SALE PRICE</th>\n",
              "      <th>TAX CLASS AT TIME OF SALE</th>\n",
              "      <th>BOROUGH_1</th>\n",
              "      <th>BOROUGH_2</th>\n",
              "      <th>BOROUGH_3</th>\n",
              "      <th>BOROUGH_4</th>\n",
              "      <th>BOROUGH_5</th>\n",
              "      <th>BUILDING CLASS CATEGORY_01 ONE FAMILY DWELLINGS</th>\n",
              "      <th>BUILDING CLASS CATEGORY_02 TWO FAMILY DWELLINGS</th>\n",
              "      <th>BUILDING CLASS CATEGORY_03 THREE FAMILY DWELLINGS</th>\n",
              "      <th>BUILDING CLASS CATEGORY_04 TAX CLASS 1 CONDOS</th>\n",
              "      <th>BUILDING CLASS CATEGORY_05 TAX CLASS 1 VACANT LAND</th>\n",
              "      <th>BUILDING CLASS CATEGORY_06 TAX CLASS 1 - OTHER</th>\n",
              "      <th>BUILDING CLASS CATEGORY_07 RENTALS - WALKUP APARTMENTS</th>\n",
              "      <th>BUILDING CLASS CATEGORY_08 RENTALS - ELEVATOR APARTMENTS</th>\n",
              "      <th>BUILDING CLASS CATEGORY_09 COOPS - WALKUP APARTMENTS</th>\n",
              "      <th>BUILDING CLASS CATEGORY_11A CONDO-RENTALS</th>\n",
              "      <th>BUILDING CLASS CATEGORY_12 CONDOS - WALKUP APARTMENTS</th>\n",
              "      <th>BUILDING CLASS CATEGORY_13 CONDOS - ELEVATOR APARTMENTS</th>\n",
              "      <th>BUILDING CLASS CATEGORY_14 RENTALS - 4-10 UNIT</th>\n",
              "      <th>BUILDING CLASS CATEGORY_15 CONDOS - 2-10 UNIT RESIDENTIAL</th>\n",
              "      <th>BUILDING CLASS CATEGORY_16 CONDOS - 2-10 UNIT WITH COMMERCIAL UNIT</th>\n",
              "      <th>BUILDING CLASS CATEGORY_21 OFFICE BUILDINGS</th>\n",
              "      <th>BUILDING CLASS CATEGORY_22 STORE BUILDINGS</th>\n",
              "      <th>BUILDING CLASS CATEGORY_23 LOFT BUILDINGS</th>\n",
              "      <th>BUILDING CLASS CATEGORY_26 OTHER HOTELS</th>\n",
              "      <th>BUILDING CLASS CATEGORY_27 FACTORIES</th>\n",
              "      <th>BUILDING CLASS CATEGORY_28 COMMERCIAL CONDOS</th>\n",
              "      <th>BUILDING CLASS CATEGORY_29 COMMERCIAL GARAGES</th>\n",
              "      <th>BUILDING CLASS CATEGORY_30 WAREHOUSES</th>\n",
              "      <th>BUILDING CLASS CATEGORY_31 COMMERCIAL VACANT LAND</th>\n",
              "      <th>BUILDING CLASS CATEGORY_32 HOSPITAL AND HEALTH FACILITIES</th>\n",
              "      <th>BUILDING CLASS CATEGORY_33 EDUCATIONAL FACILITIES</th>\n",
              "      <th>BUILDING CLASS CATEGORY_35 INDOOR PUBLIC AND CULTURAL FACILITIES</th>\n",
              "      <th>BUILDING CLASS CATEGORY_37 RELIGIOUS FACILITIES</th>\n",
              "      <th>BUILDING CLASS CATEGORY_38 ASYLUMS AND HOMES</th>\n",
              "      <th>BUILDING CLASS CATEGORY_40 SELECTED GOVERNMENTAL FACILITIES</th>\n",
              "      <th>BUILDING CLASS CATEGORY_41 TAX CLASS 4 - OTHER</th>\n",
              "      <th>BUILDING CLASS CATEGORY_42 CONDO CULTURAL/MEDICAL/EDUCATIONAL/ETC</th>\n",
              "      <th>BUILDING CLASS CATEGORY_43 CONDO OFFICE BUILDINGS</th>\n",
              "      <th>BUILDING CLASS CATEGORY_44 CONDO PARKING</th>\n",
              "      <th>BUILDING CLASS CATEGORY_45 CONDO HOTELS</th>\n",
              "      <th>BUILDING CLASS CATEGORY_46 CONDO STORE BUILDINGS</th>\n",
              "      <th>BUILDING CLASS CATEGORY_47 CONDO NON-BUSINESS STORAGE</th>\n",
              "      <th>BUILDING CLASS CATEGORY_48 CONDO TERRACES/GARDENS/CABANAS</th>\n",
              "      <th>BUILDING CLASS CATEGORY_49 CONDO WAREHOUSES/FACTORY/INDUS</th>\n",
              "      <th>TAX CLASS AT PRESENT_</th>\n",
              "      <th>TAX CLASS AT PRESENT_1</th>\n",
              "      <th>TAX CLASS AT PRESENT_1A</th>\n",
              "      <th>TAX CLASS AT PRESENT_1B</th>\n",
              "      <th>TAX CLASS AT PRESENT_1C</th>\n",
              "      <th>TAX CLASS AT PRESENT_2</th>\n",
              "      <th>TAX CLASS AT PRESENT_2A</th>\n",
              "      <th>TAX CLASS AT PRESENT_2B</th>\n",
              "      <th>TAX CLASS AT PRESENT_2C</th>\n",
              "      <th>TAX CLASS AT PRESENT_3</th>\n",
              "      <th>TAX CLASS AT PRESENT_4</th>\n",
              "    </tr>\n",
              "  </thead>\n",
              "  <tbody>\n",
              "    <tr>\n",
              "      <th>3</th>\n",
              "      <td>-1.148198</td>\n",
              "      <td>-0.625091</td>\n",
              "      <td>-1.446321</td>\n",
              "      <td>4.782486</td>\n",
              "      <td>-0.176529</td>\n",
              "      <td>4.666563</td>\n",
              "      <td>-0.342947</td>\n",
              "      <td>3.243494</td>\n",
              "      <td>0.181131</td>\n",
              "      <td>3.967315</td>\n",
              "      <td>2</td>\n",
              "      <td>1</td>\n",
              "      <td>0</td>\n",
              "      <td>0</td>\n",
              "      <td>0</td>\n",
              "      <td>0</td>\n",
              "      <td>0</td>\n",
              "      <td>0</td>\n",
              "      <td>0</td>\n",
              "      <td>0</td>\n",
              "      <td>0</td>\n",
              "      <td>0</td>\n",
              "      <td>1</td>\n",
              "      <td>0</td>\n",
              "      <td>0</td>\n",
              "      <td>0</td>\n",
              "      <td>0</td>\n",
              "      <td>0</td>\n",
              "      <td>0</td>\n",
              "      <td>0</td>\n",
              "      <td>0</td>\n",
              "      <td>0</td>\n",
              "      <td>0</td>\n",
              "      <td>0</td>\n",
              "      <td>0</td>\n",
              "      <td>0</td>\n",
              "      <td>0</td>\n",
              "      <td>0</td>\n",
              "      <td>0</td>\n",
              "      <td>0</td>\n",
              "      <td>0</td>\n",
              "      <td>0</td>\n",
              "      <td>0</td>\n",
              "      <td>0</td>\n",
              "      <td>0</td>\n",
              "      <td>0</td>\n",
              "      <td>0</td>\n",
              "      <td>0</td>\n",
              "      <td>0</td>\n",
              "      <td>0</td>\n",
              "      <td>0</td>\n",
              "      <td>0</td>\n",
              "      <td>0</td>\n",
              "      <td>0</td>\n",
              "      <td>0</td>\n",
              "      <td>0</td>\n",
              "      <td>0</td>\n",
              "      <td>0</td>\n",
              "      <td>0</td>\n",
              "      <td>0</td>\n",
              "      <td>0</td>\n",
              "      <td>0</td>\n",
              "      <td>1</td>\n",
              "      <td>0</td>\n",
              "      <td>0</td>\n",
              "      <td>0</td>\n",
              "    </tr>\n",
              "    <tr>\n",
              "      <th>6</th>\n",
              "      <td>-1.147127</td>\n",
              "      <td>-0.609798</td>\n",
              "      <td>-1.446321</td>\n",
              "      <td>3.654788</td>\n",
              "      <td>-0.176529</td>\n",
              "      <td>3.556049</td>\n",
              "      <td>-0.673423</td>\n",
              "      <td>1.421706</td>\n",
              "      <td>0.195584</td>\n",
              "      <td>3.002991</td>\n",
              "      <td>2</td>\n",
              "      <td>1</td>\n",
              "      <td>0</td>\n",
              "      <td>0</td>\n",
              "      <td>0</td>\n",
              "      <td>0</td>\n",
              "      <td>0</td>\n",
              "      <td>0</td>\n",
              "      <td>0</td>\n",
              "      <td>0</td>\n",
              "      <td>0</td>\n",
              "      <td>0</td>\n",
              "      <td>1</td>\n",
              "      <td>0</td>\n",
              "      <td>0</td>\n",
              "      <td>0</td>\n",
              "      <td>0</td>\n",
              "      <td>0</td>\n",
              "      <td>0</td>\n",
              "      <td>0</td>\n",
              "      <td>0</td>\n",
              "      <td>0</td>\n",
              "      <td>0</td>\n",
              "      <td>0</td>\n",
              "      <td>0</td>\n",
              "      <td>0</td>\n",
              "      <td>0</td>\n",
              "      <td>0</td>\n",
              "      <td>0</td>\n",
              "      <td>0</td>\n",
              "      <td>0</td>\n",
              "      <td>0</td>\n",
              "      <td>0</td>\n",
              "      <td>0</td>\n",
              "      <td>0</td>\n",
              "      <td>0</td>\n",
              "      <td>0</td>\n",
              "      <td>0</td>\n",
              "      <td>0</td>\n",
              "      <td>0</td>\n",
              "      <td>0</td>\n",
              "      <td>0</td>\n",
              "      <td>0</td>\n",
              "      <td>0</td>\n",
              "      <td>0</td>\n",
              "      <td>0</td>\n",
              "      <td>0</td>\n",
              "      <td>0</td>\n",
              "      <td>0</td>\n",
              "      <td>0</td>\n",
              "      <td>0</td>\n",
              "      <td>0</td>\n",
              "      <td>1</td>\n",
              "      <td>0</td>\n",
              "      <td>0</td>\n",
              "      <td>0</td>\n",
              "    </tr>\n",
              "    <tr>\n",
              "      <th>76</th>\n",
              "      <td>-1.152480</td>\n",
              "      <td>0.738750</td>\n",
              "      <td>-1.446321</td>\n",
              "      <td>-0.292155</td>\n",
              "      <td>-0.176529</td>\n",
              "      <td>-0.330750</td>\n",
              "      <td>0.774081</td>\n",
              "      <td>1.178248</td>\n",
              "      <td>-3.768687</td>\n",
              "      <td>-0.334301</td>\n",
              "      <td>2</td>\n",
              "      <td>1</td>\n",
              "      <td>0</td>\n",
              "      <td>0</td>\n",
              "      <td>0</td>\n",
              "      <td>0</td>\n",
              "      <td>0</td>\n",
              "      <td>0</td>\n",
              "      <td>0</td>\n",
              "      <td>0</td>\n",
              "      <td>0</td>\n",
              "      <td>0</td>\n",
              "      <td>0</td>\n",
              "      <td>0</td>\n",
              "      <td>0</td>\n",
              "      <td>0</td>\n",
              "      <td>1</td>\n",
              "      <td>0</td>\n",
              "      <td>0</td>\n",
              "      <td>0</td>\n",
              "      <td>0</td>\n",
              "      <td>0</td>\n",
              "      <td>0</td>\n",
              "      <td>0</td>\n",
              "      <td>0</td>\n",
              "      <td>0</td>\n",
              "      <td>0</td>\n",
              "      <td>0</td>\n",
              "      <td>0</td>\n",
              "      <td>0</td>\n",
              "      <td>0</td>\n",
              "      <td>0</td>\n",
              "      <td>0</td>\n",
              "      <td>0</td>\n",
              "      <td>0</td>\n",
              "      <td>0</td>\n",
              "      <td>0</td>\n",
              "      <td>0</td>\n",
              "      <td>0</td>\n",
              "      <td>0</td>\n",
              "      <td>0</td>\n",
              "      <td>0</td>\n",
              "      <td>0</td>\n",
              "      <td>0</td>\n",
              "      <td>0</td>\n",
              "      <td>0</td>\n",
              "      <td>0</td>\n",
              "      <td>0</td>\n",
              "      <td>0</td>\n",
              "      <td>0</td>\n",
              "      <td>1</td>\n",
              "      <td>0</td>\n",
              "      <td>0</td>\n",
              "      <td>0</td>\n",
              "      <td>0</td>\n",
              "      <td>0</td>\n",
              "    </tr>\n",
              "    <tr>\n",
              "      <th>79</th>\n",
              "      <td>-1.155958</td>\n",
              "      <td>0.740141</td>\n",
              "      <td>-1.446321</td>\n",
              "      <td>-0.292155</td>\n",
              "      <td>-0.176529</td>\n",
              "      <td>-0.330750</td>\n",
              "      <td>0.774081</td>\n",
              "      <td>1.178248</td>\n",
              "      <td>0.195584</td>\n",
              "      <td>-0.149242</td>\n",
              "      <td>2</td>\n",
              "      <td>1</td>\n",
              "      <td>0</td>\n",
              "      <td>0</td>\n",
              "      <td>0</td>\n",
              "      <td>0</td>\n",
              "      <td>0</td>\n",
              "      <td>0</td>\n",
              "      <td>0</td>\n",
              "      <td>0</td>\n",
              "      <td>0</td>\n",
              "      <td>0</td>\n",
              "      <td>0</td>\n",
              "      <td>0</td>\n",
              "      <td>0</td>\n",
              "      <td>0</td>\n",
              "      <td>0</td>\n",
              "      <td>1</td>\n",
              "      <td>0</td>\n",
              "      <td>0</td>\n",
              "      <td>0</td>\n",
              "      <td>0</td>\n",
              "      <td>0</td>\n",
              "      <td>0</td>\n",
              "      <td>0</td>\n",
              "      <td>0</td>\n",
              "      <td>0</td>\n",
              "      <td>0</td>\n",
              "      <td>0</td>\n",
              "      <td>0</td>\n",
              "      <td>0</td>\n",
              "      <td>0</td>\n",
              "      <td>0</td>\n",
              "      <td>0</td>\n",
              "      <td>0</td>\n",
              "      <td>0</td>\n",
              "      <td>0</td>\n",
              "      <td>0</td>\n",
              "      <td>0</td>\n",
              "      <td>0</td>\n",
              "      <td>0</td>\n",
              "      <td>0</td>\n",
              "      <td>0</td>\n",
              "      <td>0</td>\n",
              "      <td>0</td>\n",
              "      <td>0</td>\n",
              "      <td>0</td>\n",
              "      <td>0</td>\n",
              "      <td>0</td>\n",
              "      <td>0</td>\n",
              "      <td>1</td>\n",
              "      <td>0</td>\n",
              "      <td>0</td>\n",
              "      <td>0</td>\n",
              "      <td>0</td>\n",
              "      <td>0</td>\n",
              "    </tr>\n",
              "    <tr>\n",
              "      <th>80</th>\n",
              "      <td>-1.155958</td>\n",
              "      <td>0.741531</td>\n",
              "      <td>-1.446321</td>\n",
              "      <td>-0.292155</td>\n",
              "      <td>-0.176529</td>\n",
              "      <td>-0.330750</td>\n",
              "      <td>0.774081</td>\n",
              "      <td>1.178248</td>\n",
              "      <td>0.195584</td>\n",
              "      <td>-0.136035</td>\n",
              "      <td>2</td>\n",
              "      <td>1</td>\n",
              "      <td>0</td>\n",
              "      <td>0</td>\n",
              "      <td>0</td>\n",
              "      <td>0</td>\n",
              "      <td>0</td>\n",
              "      <td>0</td>\n",
              "      <td>0</td>\n",
              "      <td>0</td>\n",
              "      <td>0</td>\n",
              "      <td>0</td>\n",
              "      <td>0</td>\n",
              "      <td>0</td>\n",
              "      <td>0</td>\n",
              "      <td>0</td>\n",
              "      <td>0</td>\n",
              "      <td>1</td>\n",
              "      <td>0</td>\n",
              "      <td>0</td>\n",
              "      <td>0</td>\n",
              "      <td>0</td>\n",
              "      <td>0</td>\n",
              "      <td>0</td>\n",
              "      <td>0</td>\n",
              "      <td>0</td>\n",
              "      <td>0</td>\n",
              "      <td>0</td>\n",
              "      <td>0</td>\n",
              "      <td>0</td>\n",
              "      <td>0</td>\n",
              "      <td>0</td>\n",
              "      <td>0</td>\n",
              "      <td>0</td>\n",
              "      <td>0</td>\n",
              "      <td>0</td>\n",
              "      <td>0</td>\n",
              "      <td>0</td>\n",
              "      <td>0</td>\n",
              "      <td>0</td>\n",
              "      <td>0</td>\n",
              "      <td>0</td>\n",
              "      <td>0</td>\n",
              "      <td>0</td>\n",
              "      <td>0</td>\n",
              "      <td>0</td>\n",
              "      <td>0</td>\n",
              "      <td>0</td>\n",
              "      <td>0</td>\n",
              "      <td>0</td>\n",
              "      <td>1</td>\n",
              "      <td>0</td>\n",
              "      <td>0</td>\n",
              "      <td>0</td>\n",
              "      <td>0</td>\n",
              "      <td>0</td>\n",
              "    </tr>\n",
              "  </tbody>\n",
              "</table>\n",
              "</div>"
            ],
            "text/plain": [
              "       BLOCK       LOT  ...  TAX CLASS AT PRESENT_3  TAX CLASS AT PRESENT_4\n",
              "3  -1.148198 -0.625091  ...                       0                       0\n",
              "6  -1.147127 -0.609798  ...                       0                       0\n",
              "76 -1.152480  0.738750  ...                       0                       0\n",
              "79 -1.155958  0.740141  ...                       0                       0\n",
              "80 -1.155958  0.741531  ...                       0                       0\n",
              "\n",
              "[5 rows x 66 columns]"
            ]
          },
          "metadata": {
            "tags": []
          },
          "execution_count": 104
        }
      ]
    },
    {
      "cell_type": "code",
      "metadata": {
        "id": "0lBz50Ujebua",
        "colab_type": "code",
        "colab": {}
      },
      "source": [
        "# classifying data into independent and dependent variable\n",
        "X = df.drop(['SALE PRICE'],axis = 1).values\n",
        "y = df['SALE PRICE'].values"
      ],
      "execution_count": 105,
      "outputs": []
    },
    {
      "cell_type": "code",
      "metadata": {
        "id": "M2ke98sJeeB6",
        "colab_type": "code",
        "colab": {}
      },
      "source": [
        "# creating test and training set data, 70% train, 30% test\n",
        "X_train,X_test,y_train,y_test = train_test_split(X, y, test_size = 0.3, random_state = 0)"
      ],
      "execution_count": 106,
      "outputs": []
    },
    {
      "cell_type": "markdown",
      "metadata": {
        "id": "zEIhN0Q09_-J",
        "colab_type": "text"
      },
      "source": [
        "#3) Predition"
      ]
    },
    {
      "cell_type": "markdown",
      "metadata": {
        "id": "bPvvtPLXgXbd",
        "colab_type": "text"
      },
      "source": [
        "##3.0)Helper Function"
      ]
    },
    {
      "cell_type": "code",
      "metadata": {
        "id": "LJr7swCEgWKf",
        "colab_type": "code",
        "colab": {}
      },
      "source": [
        "from sklearn.metrics import confusion_matrix\n",
        "def rmse(y_test,y_pred):\n",
        "      return np.sqrt(mean_squared_error(y_test,y_pred))"
      ],
      "execution_count": 117,
      "outputs": []
    },
    {
      "cell_type": "markdown",
      "metadata": {
        "id": "74cEg17tf-m8",
        "colab_type": "text"
      },
      "source": [
        "##3.1) Linear"
      ]
    },
    {
      "cell_type": "markdown",
      "metadata": {
        "id": "Bw0-mV6ggCiY",
        "colab_type": "text"
      },
      "source": [
        "##3.2)Ridge"
      ]
    },
    {
      "cell_type": "code",
      "metadata": {
        "id": "ub5SG-zEegva",
        "colab_type": "code",
        "colab": {
          "base_uri": "https://localhost:8080/",
          "height": 51
        },
        "outputId": "9031b524-85dc-4af8-e158-90c6e73b8a41"
      },
      "source": [
        "\n",
        "# fitting linear regression to training set\n",
        "regressor = Ridge(alpha=0.01, normalize=True)\n",
        "regressor.fit(X_train,y_train)"
      ],
      "execution_count": 118,
      "outputs": [
        {
          "output_type": "execute_result",
          "data": {
            "text/plain": [
              "Ridge(alpha=0.01, copy_X=True, fit_intercept=True, max_iter=None,\n",
              "      normalize=True, random_state=None, solver='auto', tol=0.001)"
            ]
          },
          "metadata": {
            "tags": []
          },
          "execution_count": 118
        }
      ]
    },
    {
      "cell_type": "code",
      "metadata": {
        "id": "BQff_gtvfZhp",
        "colab_type": "code",
        "colab": {
          "base_uri": "https://localhost:8080/",
          "height": 34
        },
        "outputId": "fe68e00c-8147-400d-b980-982867349e82"
      },
      "source": [
        "y_pred = regressor.predict(X_test)\n",
        "result = rmse(y_test, y_pred)\n",
        "result"
      ],
      "execution_count": 120,
      "outputs": [
        {
          "output_type": "execute_result",
          "data": {
            "text/plain": [
              "0.7922185291897421"
            ]
          },
          "metadata": {
            "tags": []
          },
          "execution_count": 120
        }
      ]
    },
    {
      "cell_type": "markdown",
      "metadata": {
        "id": "jt6Sq1GNgJ9O",
        "colab_type": "text"
      },
      "source": [
        "##3.3)Random Forest"
      ]
    },
    {
      "cell_type": "code",
      "metadata": {
        "id": "IwDCfHKrKCzg",
        "colab_type": "code",
        "colab": {
          "base_uri": "https://localhost:8080/",
          "height": 119
        },
        "outputId": "9e2c775e-9c6e-4ad4-8456-d85041b68b2b"
      },
      "source": [
        "from sklearn.tree import DecisionTreeRegressor\n",
        "dtree = DecisionTreeRegressor()\n",
        "dtree.fit(X_train, y_train)"
      ],
      "execution_count": 110,
      "outputs": [
        {
          "output_type": "execute_result",
          "data": {
            "text/plain": [
              "DecisionTreeRegressor(ccp_alpha=0.0, criterion='mse', max_depth=None,\n",
              "                      max_features=None, max_leaf_nodes=None,\n",
              "                      min_impurity_decrease=0.0, min_impurity_split=None,\n",
              "                      min_samples_leaf=1, min_samples_split=2,\n",
              "                      min_weight_fraction_leaf=0.0, presort='deprecated',\n",
              "                      random_state=None, splitter='best')"
            ]
          },
          "metadata": {
            "tags": []
          },
          "execution_count": 110
        }
      ]
    },
    {
      "cell_type": "code",
      "metadata": {
        "id": "ZJdqOQVTMHJX",
        "colab_type": "code",
        "colab": {
          "base_uri": "https://localhost:8080/",
          "height": 34
        },
        "outputId": "93e22bb8-4a3a-42b7-ad3c-869228a3a029"
      },
      "source": [
        "y_pred = dtree.predict(X_test)\n",
        "result = rmse(y_test, y_pred)\n",
        "result"
      ],
      "execution_count": 111,
      "outputs": [
        {
          "output_type": "execute_result",
          "data": {
            "text/plain": [
              "0.778087901548027"
            ]
          },
          "metadata": {
            "tags": []
          },
          "execution_count": 111
        }
      ]
    },
    {
      "cell_type": "code",
      "metadata": {
        "id": "tLVsW_Y-NQf-",
        "colab_type": "code",
        "colab": {
          "base_uri": "https://localhost:8080/",
          "height": 328
        },
        "outputId": "a5c10db7-af3a-45e4-ced4-4dc795aeaed3"
      },
      "source": [
        "dforest = RandomForestRegressor(n_estimators=3000, criterion='mse', bootstrap=True, n_jobs=-1)\n",
        "dforest.fit(X_train, y_train)"
      ],
      "execution_count": 112,
      "outputs": [
        {
          "output_type": "error",
          "ename": "KeyboardInterrupt",
          "evalue": "ignored",
          "traceback": [
            "\u001b[0;31m---------------------------------------------------------------------------\u001b[0m",
            "\u001b[0;31mKeyboardInterrupt\u001b[0m                         Traceback (most recent call last)",
            "\u001b[0;32m<ipython-input-112-31da6be4aa3c>\u001b[0m in \u001b[0;36m<module>\u001b[0;34m()\u001b[0m\n\u001b[1;32m      1\u001b[0m \u001b[0mdforest\u001b[0m \u001b[0;34m=\u001b[0m \u001b[0mRandomForestRegressor\u001b[0m\u001b[0;34m(\u001b[0m\u001b[0mn_estimators\u001b[0m\u001b[0;34m=\u001b[0m\u001b[0;36m3000\u001b[0m\u001b[0;34m,\u001b[0m \u001b[0mcriterion\u001b[0m\u001b[0;34m=\u001b[0m\u001b[0;34m'mse'\u001b[0m\u001b[0;34m,\u001b[0m \u001b[0mbootstrap\u001b[0m\u001b[0;34m=\u001b[0m\u001b[0;32mTrue\u001b[0m\u001b[0;34m,\u001b[0m \u001b[0mn_jobs\u001b[0m\u001b[0;34m=\u001b[0m\u001b[0;34m-\u001b[0m\u001b[0;36m1\u001b[0m\u001b[0;34m)\u001b[0m\u001b[0;34m\u001b[0m\u001b[0;34m\u001b[0m\u001b[0m\n\u001b[0;32m----> 2\u001b[0;31m \u001b[0mdforest\u001b[0m\u001b[0;34m.\u001b[0m\u001b[0mfit\u001b[0m\u001b[0;34m(\u001b[0m\u001b[0mX_train\u001b[0m\u001b[0;34m,\u001b[0m \u001b[0my_train\u001b[0m\u001b[0;34m)\u001b[0m\u001b[0;34m\u001b[0m\u001b[0;34m\u001b[0m\u001b[0m\n\u001b[0m",
            "\u001b[0;32m/usr/local/lib/python3.6/dist-packages/sklearn/ensemble/_forest.py\u001b[0m in \u001b[0;36mfit\u001b[0;34m(self, X, y, sample_weight)\u001b[0m\n\u001b[1;32m    381\u001b[0m                     \u001b[0mverbose\u001b[0m\u001b[0;34m=\u001b[0m\u001b[0mself\u001b[0m\u001b[0;34m.\u001b[0m\u001b[0mverbose\u001b[0m\u001b[0;34m,\u001b[0m \u001b[0mclass_weight\u001b[0m\u001b[0;34m=\u001b[0m\u001b[0mself\u001b[0m\u001b[0;34m.\u001b[0m\u001b[0mclass_weight\u001b[0m\u001b[0;34m,\u001b[0m\u001b[0;34m\u001b[0m\u001b[0;34m\u001b[0m\u001b[0m\n\u001b[1;32m    382\u001b[0m                     n_samples_bootstrap=n_samples_bootstrap)\n\u001b[0;32m--> 383\u001b[0;31m                 for i, t in enumerate(trees))\n\u001b[0m\u001b[1;32m    384\u001b[0m \u001b[0;34m\u001b[0m\u001b[0m\n\u001b[1;32m    385\u001b[0m             \u001b[0;31m# Collect newly grown trees\u001b[0m\u001b[0;34m\u001b[0m\u001b[0;34m\u001b[0m\u001b[0;34m\u001b[0m\u001b[0m\n",
            "\u001b[0;32m/usr/local/lib/python3.6/dist-packages/joblib/parallel.py\u001b[0m in \u001b[0;36m__call__\u001b[0;34m(self, iterable)\u001b[0m\n\u001b[1;32m   1040\u001b[0m \u001b[0;34m\u001b[0m\u001b[0m\n\u001b[1;32m   1041\u001b[0m             \u001b[0;32mwith\u001b[0m \u001b[0mself\u001b[0m\u001b[0;34m.\u001b[0m\u001b[0m_backend\u001b[0m\u001b[0;34m.\u001b[0m\u001b[0mretrieval_context\u001b[0m\u001b[0;34m(\u001b[0m\u001b[0;34m)\u001b[0m\u001b[0;34m:\u001b[0m\u001b[0;34m\u001b[0m\u001b[0;34m\u001b[0m\u001b[0m\n\u001b[0;32m-> 1042\u001b[0;31m                 \u001b[0mself\u001b[0m\u001b[0;34m.\u001b[0m\u001b[0mretrieve\u001b[0m\u001b[0;34m(\u001b[0m\u001b[0;34m)\u001b[0m\u001b[0;34m\u001b[0m\u001b[0;34m\u001b[0m\u001b[0m\n\u001b[0m\u001b[1;32m   1043\u001b[0m             \u001b[0;31m# Make sure that we get a last message telling us we are done\u001b[0m\u001b[0;34m\u001b[0m\u001b[0;34m\u001b[0m\u001b[0;34m\u001b[0m\u001b[0m\n\u001b[1;32m   1044\u001b[0m             \u001b[0melapsed_time\u001b[0m \u001b[0;34m=\u001b[0m \u001b[0mtime\u001b[0m\u001b[0;34m.\u001b[0m\u001b[0mtime\u001b[0m\u001b[0;34m(\u001b[0m\u001b[0;34m)\u001b[0m \u001b[0;34m-\u001b[0m \u001b[0mself\u001b[0m\u001b[0;34m.\u001b[0m\u001b[0m_start_time\u001b[0m\u001b[0;34m\u001b[0m\u001b[0;34m\u001b[0m\u001b[0m\n",
            "\u001b[0;32m/usr/local/lib/python3.6/dist-packages/joblib/parallel.py\u001b[0m in \u001b[0;36mretrieve\u001b[0;34m(self)\u001b[0m\n\u001b[1;32m    919\u001b[0m             \u001b[0;32mtry\u001b[0m\u001b[0;34m:\u001b[0m\u001b[0;34m\u001b[0m\u001b[0;34m\u001b[0m\u001b[0m\n\u001b[1;32m    920\u001b[0m                 \u001b[0;32mif\u001b[0m \u001b[0mgetattr\u001b[0m\u001b[0;34m(\u001b[0m\u001b[0mself\u001b[0m\u001b[0;34m.\u001b[0m\u001b[0m_backend\u001b[0m\u001b[0;34m,\u001b[0m \u001b[0;34m'supports_timeout'\u001b[0m\u001b[0;34m,\u001b[0m \u001b[0;32mFalse\u001b[0m\u001b[0;34m)\u001b[0m\u001b[0;34m:\u001b[0m\u001b[0;34m\u001b[0m\u001b[0;34m\u001b[0m\u001b[0m\n\u001b[0;32m--> 921\u001b[0;31m                     \u001b[0mself\u001b[0m\u001b[0;34m.\u001b[0m\u001b[0m_output\u001b[0m\u001b[0;34m.\u001b[0m\u001b[0mextend\u001b[0m\u001b[0;34m(\u001b[0m\u001b[0mjob\u001b[0m\u001b[0;34m.\u001b[0m\u001b[0mget\u001b[0m\u001b[0;34m(\u001b[0m\u001b[0mtimeout\u001b[0m\u001b[0;34m=\u001b[0m\u001b[0mself\u001b[0m\u001b[0;34m.\u001b[0m\u001b[0mtimeout\u001b[0m\u001b[0;34m)\u001b[0m\u001b[0;34m)\u001b[0m\u001b[0;34m\u001b[0m\u001b[0;34m\u001b[0m\u001b[0m\n\u001b[0m\u001b[1;32m    922\u001b[0m                 \u001b[0;32melse\u001b[0m\u001b[0;34m:\u001b[0m\u001b[0;34m\u001b[0m\u001b[0;34m\u001b[0m\u001b[0m\n\u001b[1;32m    923\u001b[0m                     \u001b[0mself\u001b[0m\u001b[0;34m.\u001b[0m\u001b[0m_output\u001b[0m\u001b[0;34m.\u001b[0m\u001b[0mextend\u001b[0m\u001b[0;34m(\u001b[0m\u001b[0mjob\u001b[0m\u001b[0;34m.\u001b[0m\u001b[0mget\u001b[0m\u001b[0;34m(\u001b[0m\u001b[0;34m)\u001b[0m\u001b[0;34m)\u001b[0m\u001b[0;34m\u001b[0m\u001b[0;34m\u001b[0m\u001b[0m\n",
            "\u001b[0;32m/usr/lib/python3.6/multiprocessing/pool.py\u001b[0m in \u001b[0;36mget\u001b[0;34m(self, timeout)\u001b[0m\n\u001b[1;32m    636\u001b[0m \u001b[0;34m\u001b[0m\u001b[0m\n\u001b[1;32m    637\u001b[0m     \u001b[0;32mdef\u001b[0m \u001b[0mget\u001b[0m\u001b[0;34m(\u001b[0m\u001b[0mself\u001b[0m\u001b[0;34m,\u001b[0m \u001b[0mtimeout\u001b[0m\u001b[0;34m=\u001b[0m\u001b[0;32mNone\u001b[0m\u001b[0;34m)\u001b[0m\u001b[0;34m:\u001b[0m\u001b[0;34m\u001b[0m\u001b[0;34m\u001b[0m\u001b[0m\n\u001b[0;32m--> 638\u001b[0;31m         \u001b[0mself\u001b[0m\u001b[0;34m.\u001b[0m\u001b[0mwait\u001b[0m\u001b[0;34m(\u001b[0m\u001b[0mtimeout\u001b[0m\u001b[0;34m)\u001b[0m\u001b[0;34m\u001b[0m\u001b[0;34m\u001b[0m\u001b[0m\n\u001b[0m\u001b[1;32m    639\u001b[0m         \u001b[0;32mif\u001b[0m \u001b[0;32mnot\u001b[0m \u001b[0mself\u001b[0m\u001b[0;34m.\u001b[0m\u001b[0mready\u001b[0m\u001b[0;34m(\u001b[0m\u001b[0;34m)\u001b[0m\u001b[0;34m:\u001b[0m\u001b[0;34m\u001b[0m\u001b[0;34m\u001b[0m\u001b[0m\n\u001b[1;32m    640\u001b[0m             \u001b[0;32mraise\u001b[0m \u001b[0mTimeoutError\u001b[0m\u001b[0;34m\u001b[0m\u001b[0;34m\u001b[0m\u001b[0m\n",
            "\u001b[0;32m/usr/lib/python3.6/multiprocessing/pool.py\u001b[0m in \u001b[0;36mwait\u001b[0;34m(self, timeout)\u001b[0m\n\u001b[1;32m    633\u001b[0m \u001b[0;34m\u001b[0m\u001b[0m\n\u001b[1;32m    634\u001b[0m     \u001b[0;32mdef\u001b[0m \u001b[0mwait\u001b[0m\u001b[0;34m(\u001b[0m\u001b[0mself\u001b[0m\u001b[0;34m,\u001b[0m \u001b[0mtimeout\u001b[0m\u001b[0;34m=\u001b[0m\u001b[0;32mNone\u001b[0m\u001b[0;34m)\u001b[0m\u001b[0;34m:\u001b[0m\u001b[0;34m\u001b[0m\u001b[0;34m\u001b[0m\u001b[0m\n\u001b[0;32m--> 635\u001b[0;31m         \u001b[0mself\u001b[0m\u001b[0;34m.\u001b[0m\u001b[0m_event\u001b[0m\u001b[0;34m.\u001b[0m\u001b[0mwait\u001b[0m\u001b[0;34m(\u001b[0m\u001b[0mtimeout\u001b[0m\u001b[0;34m)\u001b[0m\u001b[0;34m\u001b[0m\u001b[0;34m\u001b[0m\u001b[0m\n\u001b[0m\u001b[1;32m    636\u001b[0m \u001b[0;34m\u001b[0m\u001b[0m\n\u001b[1;32m    637\u001b[0m     \u001b[0;32mdef\u001b[0m \u001b[0mget\u001b[0m\u001b[0;34m(\u001b[0m\u001b[0mself\u001b[0m\u001b[0;34m,\u001b[0m \u001b[0mtimeout\u001b[0m\u001b[0;34m=\u001b[0m\u001b[0;32mNone\u001b[0m\u001b[0;34m)\u001b[0m\u001b[0;34m:\u001b[0m\u001b[0;34m\u001b[0m\u001b[0;34m\u001b[0m\u001b[0m\n",
            "\u001b[0;32m/usr/lib/python3.6/threading.py\u001b[0m in \u001b[0;36mwait\u001b[0;34m(self, timeout)\u001b[0m\n\u001b[1;32m    549\u001b[0m             \u001b[0msignaled\u001b[0m \u001b[0;34m=\u001b[0m \u001b[0mself\u001b[0m\u001b[0;34m.\u001b[0m\u001b[0m_flag\u001b[0m\u001b[0;34m\u001b[0m\u001b[0;34m\u001b[0m\u001b[0m\n\u001b[1;32m    550\u001b[0m             \u001b[0;32mif\u001b[0m \u001b[0;32mnot\u001b[0m \u001b[0msignaled\u001b[0m\u001b[0;34m:\u001b[0m\u001b[0;34m\u001b[0m\u001b[0;34m\u001b[0m\u001b[0m\n\u001b[0;32m--> 551\u001b[0;31m                 \u001b[0msignaled\u001b[0m \u001b[0;34m=\u001b[0m \u001b[0mself\u001b[0m\u001b[0;34m.\u001b[0m\u001b[0m_cond\u001b[0m\u001b[0;34m.\u001b[0m\u001b[0mwait\u001b[0m\u001b[0;34m(\u001b[0m\u001b[0mtimeout\u001b[0m\u001b[0;34m)\u001b[0m\u001b[0;34m\u001b[0m\u001b[0;34m\u001b[0m\u001b[0m\n\u001b[0m\u001b[1;32m    552\u001b[0m             \u001b[0;32mreturn\u001b[0m \u001b[0msignaled\u001b[0m\u001b[0;34m\u001b[0m\u001b[0;34m\u001b[0m\u001b[0m\n\u001b[1;32m    553\u001b[0m \u001b[0;34m\u001b[0m\u001b[0m\n",
            "\u001b[0;32m/usr/lib/python3.6/threading.py\u001b[0m in \u001b[0;36mwait\u001b[0;34m(self, timeout)\u001b[0m\n\u001b[1;32m    293\u001b[0m         \u001b[0;32mtry\u001b[0m\u001b[0;34m:\u001b[0m    \u001b[0;31m# restore state no matter what (e.g., KeyboardInterrupt)\u001b[0m\u001b[0;34m\u001b[0m\u001b[0;34m\u001b[0m\u001b[0m\n\u001b[1;32m    294\u001b[0m             \u001b[0;32mif\u001b[0m \u001b[0mtimeout\u001b[0m \u001b[0;32mis\u001b[0m \u001b[0;32mNone\u001b[0m\u001b[0;34m:\u001b[0m\u001b[0;34m\u001b[0m\u001b[0;34m\u001b[0m\u001b[0m\n\u001b[0;32m--> 295\u001b[0;31m                 \u001b[0mwaiter\u001b[0m\u001b[0;34m.\u001b[0m\u001b[0macquire\u001b[0m\u001b[0;34m(\u001b[0m\u001b[0;34m)\u001b[0m\u001b[0;34m\u001b[0m\u001b[0;34m\u001b[0m\u001b[0m\n\u001b[0m\u001b[1;32m    296\u001b[0m                 \u001b[0mgotit\u001b[0m \u001b[0;34m=\u001b[0m \u001b[0;32mTrue\u001b[0m\u001b[0;34m\u001b[0m\u001b[0;34m\u001b[0m\u001b[0m\n\u001b[1;32m    297\u001b[0m             \u001b[0;32melse\u001b[0m\u001b[0;34m:\u001b[0m\u001b[0;34m\u001b[0m\u001b[0;34m\u001b[0m\u001b[0m\n",
            "\u001b[0;31mKeyboardInterrupt\u001b[0m: "
          ]
        }
      ]
    },
    {
      "cell_type": "code",
      "metadata": {
        "id": "m6I68PflPaH1",
        "colab_type": "code",
        "colab": {}
      },
      "source": [
        "y_pred = dforest.predict(X_test)\n",
        "result = rmse(y_test, y_pred)\n",
        "result"
      ],
      "execution_count": null,
      "outputs": []
    },
    {
      "cell_type": "markdown",
      "metadata": {
        "id": "ZLQx6ESrgOAU",
        "colab_type": "text"
      },
      "source": [
        "##3.4)Gradient boosting"
      ]
    },
    {
      "cell_type": "code",
      "metadata": {
        "id": "a_0VaQyEvZzT",
        "colab_type": "code",
        "colab": {
          "base_uri": "https://localhost:8080/",
          "height": 35
        },
        "outputId": "7ccde5a6-17b9-44e7-f953-5107671e87ab"
      },
      "source": [
        "from sklearn.ensemble import GradientBoostingRegressor\n",
        "from sklearn.model_selection import GridSearchCV\n",
        "reg = GradientBoostingRegressor(n_estimators=100)\n",
        "reg.fit(X_train, y_train)\n",
        "pre = reg.predict(X_test)\n",
        "result = rmse(y_test, pre)\n",
        "result\n"
      ],
      "execution_count": null,
      "outputs": [
        {
          "output_type": "execute_result",
          "data": {
            "text/plain": [
              "0.48530082882126324"
            ]
          },
          "metadata": {
            "tags": []
          },
          "execution_count": 64
        }
      ]
    },
    {
      "cell_type": "markdown",
      "metadata": {
        "id": "aS7_IqiUMkQa",
        "colab_type": "text"
      },
      "source": [
        "## 3.5)AdaBoost"
      ]
    },
    {
      "cell_type": "code",
      "metadata": {
        "id": "PtIbX0TEMqB4",
        "colab_type": "code",
        "colab": {
          "base_uri": "https://localhost:8080/",
          "height": 35
        },
        "outputId": "5f59a465-779e-4417-f52f-87780b70d8ae"
      },
      "source": [
        "from sklearn.ensemble import AdaBoostRegressor\n",
        "from sklearn.model_selection import GridSearchCV\n",
        "reg = AdaBoostRegressor(n_estimators=100,learning_rate=0.05)\n",
        "reg.fit(X_train, y_train)\n",
        "pre = reg.predict(X_test)\n",
        "result = rmse(y_test, pre)\n",
        "result"
      ],
      "execution_count": null,
      "outputs": [
        {
          "output_type": "execute_result",
          "data": {
            "text/plain": [
              "0.6032792740107465"
            ]
          },
          "metadata": {
            "tags": []
          },
          "execution_count": 60
        }
      ]
    }
  ]
}
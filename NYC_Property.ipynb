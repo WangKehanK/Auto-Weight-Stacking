{
  "nbformat": 4,
  "nbformat_minor": 0,
  "metadata": {
    "colab": {
      "name": "NYC Property.ipynb",
      "provenance": [],
      "collapsed_sections": []
    },
    "kernelspec": {
      "name": "python3",
      "display_name": "Python 3"
    }
  },
  "cells": [
    {
      "cell_type": "code",
      "metadata": {
        "id": "5QGOnWkVRR1P",
        "colab_type": "code",
        "colab": {
          "base_uri": "https://localhost:8080/",
          "height": 581
        },
        "outputId": "cf81d0b7-26a2-46da-9df7-bfe05b266e1e"
      },
      "source": [
        "\"\"\"\n",
        "create by: Kehan Wang\n",
        "Date: 2020.6.26\n",
        "\"\"\"\n",
        "import pandas as pd\n",
        "import numpy as np\n",
        "import matplotlib.pyplot as plt\n",
        "import seaborn as sns\n",
        "from sklearn.preprocessing import StandardScaler, LabelEncoder, OneHotEncoder\n",
        "from sklearn.metrics import mean_squared_error\n",
        "from math import sqrt\n",
        "from sklearn.model_selection import train_test_split\n",
        "from sklearn.linear_model import LinearRegression\n",
        "from sklearn.linear_model import Lasso\n",
        "from sklearn.linear_model import Ridge\n",
        "from sklearn.linear_model import ElasticNet\n",
        "from sklearn.ensemble import RandomForestRegressor\n",
        "from sklearn.ensemble import GradientBoostingRegressor\n",
        "df = pd.read_csv('nyc-rolling-sales.csv')\n",
        "# df.head(100)\n",
        "df.head()"
      ],
      "execution_count": null,
      "outputs": [
        {
          "output_type": "stream",
          "text": [
            "/usr/local/lib/python3.6/dist-packages/statsmodels/tools/_testing.py:19: FutureWarning: pandas.util.testing is deprecated. Use the functions in the public API at pandas.testing instead.\n",
            "  import pandas.util.testing as tm\n"
          ],
          "name": "stderr"
        },
        {
          "output_type": "execute_result",
          "data": {
            "text/html": [
              "<div>\n",
              "<style scoped>\n",
              "    .dataframe tbody tr th:only-of-type {\n",
              "        vertical-align: middle;\n",
              "    }\n",
              "\n",
              "    .dataframe tbody tr th {\n",
              "        vertical-align: top;\n",
              "    }\n",
              "\n",
              "    .dataframe thead th {\n",
              "        text-align: right;\n",
              "    }\n",
              "</style>\n",
              "<table border=\"1\" class=\"dataframe\">\n",
              "  <thead>\n",
              "    <tr style=\"text-align: right;\">\n",
              "      <th></th>\n",
              "      <th>Unnamed: 0</th>\n",
              "      <th>BOROUGH</th>\n",
              "      <th>NEIGHBORHOOD</th>\n",
              "      <th>BUILDING CLASS CATEGORY</th>\n",
              "      <th>TAX CLASS AT PRESENT</th>\n",
              "      <th>BLOCK</th>\n",
              "      <th>LOT</th>\n",
              "      <th>EASE-MENT</th>\n",
              "      <th>BUILDING CLASS AT PRESENT</th>\n",
              "      <th>ADDRESS</th>\n",
              "      <th>APARTMENT NUMBER</th>\n",
              "      <th>ZIP CODE</th>\n",
              "      <th>RESIDENTIAL UNITS</th>\n",
              "      <th>COMMERCIAL UNITS</th>\n",
              "      <th>TOTAL UNITS</th>\n",
              "      <th>LAND SQUARE FEET</th>\n",
              "      <th>GROSS SQUARE FEET</th>\n",
              "      <th>YEAR BUILT</th>\n",
              "      <th>TAX CLASS AT TIME OF SALE</th>\n",
              "      <th>BUILDING CLASS AT TIME OF SALE</th>\n",
              "      <th>SALE PRICE</th>\n",
              "      <th>SALE DATE</th>\n",
              "    </tr>\n",
              "  </thead>\n",
              "  <tbody>\n",
              "    <tr>\n",
              "      <th>0</th>\n",
              "      <td>4</td>\n",
              "      <td>1</td>\n",
              "      <td>ALPHABET CITY</td>\n",
              "      <td>07 RENTALS - WALKUP APARTMENTS</td>\n",
              "      <td>2A</td>\n",
              "      <td>392</td>\n",
              "      <td>6</td>\n",
              "      <td></td>\n",
              "      <td>C2</td>\n",
              "      <td>153 AVENUE B</td>\n",
              "      <td></td>\n",
              "      <td>10009</td>\n",
              "      <td>5</td>\n",
              "      <td>0</td>\n",
              "      <td>5</td>\n",
              "      <td>1633</td>\n",
              "      <td>6440</td>\n",
              "      <td>1900</td>\n",
              "      <td>2</td>\n",
              "      <td>C2</td>\n",
              "      <td>6625000</td>\n",
              "      <td>2017-07-19 00:00:00</td>\n",
              "    </tr>\n",
              "    <tr>\n",
              "      <th>1</th>\n",
              "      <td>5</td>\n",
              "      <td>1</td>\n",
              "      <td>ALPHABET CITY</td>\n",
              "      <td>07 RENTALS - WALKUP APARTMENTS</td>\n",
              "      <td>2</td>\n",
              "      <td>399</td>\n",
              "      <td>26</td>\n",
              "      <td></td>\n",
              "      <td>C7</td>\n",
              "      <td>234 EAST 4TH   STREET</td>\n",
              "      <td></td>\n",
              "      <td>10009</td>\n",
              "      <td>28</td>\n",
              "      <td>3</td>\n",
              "      <td>31</td>\n",
              "      <td>4616</td>\n",
              "      <td>18690</td>\n",
              "      <td>1900</td>\n",
              "      <td>2</td>\n",
              "      <td>C7</td>\n",
              "      <td>-</td>\n",
              "      <td>2016-12-14 00:00:00</td>\n",
              "    </tr>\n",
              "    <tr>\n",
              "      <th>2</th>\n",
              "      <td>6</td>\n",
              "      <td>1</td>\n",
              "      <td>ALPHABET CITY</td>\n",
              "      <td>07 RENTALS - WALKUP APARTMENTS</td>\n",
              "      <td>2</td>\n",
              "      <td>399</td>\n",
              "      <td>39</td>\n",
              "      <td></td>\n",
              "      <td>C7</td>\n",
              "      <td>197 EAST 3RD   STREET</td>\n",
              "      <td></td>\n",
              "      <td>10009</td>\n",
              "      <td>16</td>\n",
              "      <td>1</td>\n",
              "      <td>17</td>\n",
              "      <td>2212</td>\n",
              "      <td>7803</td>\n",
              "      <td>1900</td>\n",
              "      <td>2</td>\n",
              "      <td>C7</td>\n",
              "      <td>-</td>\n",
              "      <td>2016-12-09 00:00:00</td>\n",
              "    </tr>\n",
              "    <tr>\n",
              "      <th>3</th>\n",
              "      <td>7</td>\n",
              "      <td>1</td>\n",
              "      <td>ALPHABET CITY</td>\n",
              "      <td>07 RENTALS - WALKUP APARTMENTS</td>\n",
              "      <td>2B</td>\n",
              "      <td>402</td>\n",
              "      <td>21</td>\n",
              "      <td></td>\n",
              "      <td>C4</td>\n",
              "      <td>154 EAST 7TH STREET</td>\n",
              "      <td></td>\n",
              "      <td>10009</td>\n",
              "      <td>10</td>\n",
              "      <td>0</td>\n",
              "      <td>10</td>\n",
              "      <td>2272</td>\n",
              "      <td>6794</td>\n",
              "      <td>1913</td>\n",
              "      <td>2</td>\n",
              "      <td>C4</td>\n",
              "      <td>3936272</td>\n",
              "      <td>2016-09-23 00:00:00</td>\n",
              "    </tr>\n",
              "    <tr>\n",
              "      <th>4</th>\n",
              "      <td>8</td>\n",
              "      <td>1</td>\n",
              "      <td>ALPHABET CITY</td>\n",
              "      <td>07 RENTALS - WALKUP APARTMENTS</td>\n",
              "      <td>2A</td>\n",
              "      <td>404</td>\n",
              "      <td>55</td>\n",
              "      <td></td>\n",
              "      <td>C2</td>\n",
              "      <td>301 EAST 10TH   STREET</td>\n",
              "      <td></td>\n",
              "      <td>10009</td>\n",
              "      <td>6</td>\n",
              "      <td>0</td>\n",
              "      <td>6</td>\n",
              "      <td>2369</td>\n",
              "      <td>4615</td>\n",
              "      <td>1900</td>\n",
              "      <td>2</td>\n",
              "      <td>C2</td>\n",
              "      <td>8000000</td>\n",
              "      <td>2016-11-17 00:00:00</td>\n",
              "    </tr>\n",
              "  </tbody>\n",
              "</table>\n",
              "</div>"
            ],
            "text/plain": [
              "   Unnamed: 0  BOROUGH  ... SALE PRICE            SALE DATE\n",
              "0           4        1  ...    6625000  2017-07-19 00:00:00\n",
              "1           5        1  ...        -    2016-12-14 00:00:00\n",
              "2           6        1  ...        -    2016-12-09 00:00:00\n",
              "3           7        1  ...    3936272  2016-09-23 00:00:00\n",
              "4           8        1  ...    8000000  2016-11-17 00:00:00\n",
              "\n",
              "[5 rows x 22 columns]"
            ]
          },
          "metadata": {
            "tags": []
          },
          "execution_count": 3
        }
      ]
    },
    {
      "cell_type": "markdown",
      "metadata": {
        "id": "Eo5gK6nE-G6L",
        "colab_type": "text"
      },
      "source": [
        "#1) Data Clean"
      ]
    },
    {
      "cell_type": "markdown",
      "metadata": {
        "id": "TUBrhCUO_6gV",
        "colab_type": "text"
      },
      "source": [
        "First of all, we want to drop thoese useless columns and to check whether there are any duplicate values in our dataset. If there is any, we will need to drop them."
      ]
    },
    {
      "cell_type": "code",
      "metadata": {
        "id": "2m-kVUmMSGNy",
        "colab_type": "code",
        "colab": {
          "base_uri": "https://localhost:8080/",
          "height": 34
        },
        "outputId": "802203bc-970b-4f57-9ec8-3f83991f2b52"
      },
      "source": [
        "# \"Unname: 0\" column looks like useless, drop it.\n",
        "del df['Unnamed: 0']\n",
        "#\"EASE-MENT\" column is empty, we are going to drop it.\n",
        "del df['EASE-MENT']\n",
        "# \"Apartment Number\" only has few values, so we are going to drop it.\n",
        "print(\"The percent of rows with null in apartment number:\" +str(sum(df['APARTMENT NUMBER']==' ')/len(df)))\n",
        "del df['APARTMENT NUMBER']\n",
        "del df['ADDRESS']\n",
        "del df['SALE DATE']\n",
        "del df['NEIGHBORHOOD']\n",
        "del df['BUILDING CLASS AT PRESENT']\n",
        "del df['BUILDING CLASS AT TIME OF SALE']"
      ],
      "execution_count": null,
      "outputs": [
        {
          "output_type": "stream",
          "text": [
            "The percent of rows with null in apartment number:0.7746605478544732\n"
          ],
          "name": "stdout"
        }
      ]
    },
    {
      "cell_type": "code",
      "metadata": {
        "id": "Cvqw8SvN_457",
        "colab_type": "code",
        "colab": {
          "base_uri": "https://localhost:8080/",
          "height": 34
        },
        "outputId": "fe270eae-0eae-46ce-9ab9-96d1411519b8"
      },
      "source": [
        "sum(df.duplicated(df.columns))\n",
        "df = df.drop_duplicates(df.columns, keep='last')\n",
        "df.shape"
      ],
      "execution_count": null,
      "outputs": [
        {
          "output_type": "execute_result",
          "data": {
            "text/plain": [
              "(81677, 14)"
            ]
          },
          "metadata": {
            "tags": []
          },
          "execution_count": 5
        }
      ]
    },
    {
      "cell_type": "markdown",
      "metadata": {
        "id": "I7UWV8-UBFzA",
        "colab_type": "text"
      },
      "source": [
        "Now, Let's look into details."
      ]
    },
    {
      "cell_type": "code",
      "metadata": {
        "id": "htSGOtHWUvQf",
        "colab_type": "code",
        "colab": {
          "base_uri": "https://localhost:8080/",
          "height": 374
        },
        "outputId": "cc05c630-0f44-444b-809e-1c2376dbf247"
      },
      "source": [
        "df.info()"
      ],
      "execution_count": null,
      "outputs": [
        {
          "output_type": "stream",
          "text": [
            "<class 'pandas.core.frame.DataFrame'>\n",
            "Int64Index: 81677 entries, 0 to 84547\n",
            "Data columns (total 14 columns):\n",
            " #   Column                     Non-Null Count  Dtype \n",
            "---  ------                     --------------  ----- \n",
            " 0   BOROUGH                    81677 non-null  int64 \n",
            " 1   BUILDING CLASS CATEGORY    81677 non-null  object\n",
            " 2   TAX CLASS AT PRESENT       81677 non-null  object\n",
            " 3   BLOCK                      81677 non-null  int64 \n",
            " 4   LOT                        81677 non-null  int64 \n",
            " 5   ZIP CODE                   81677 non-null  int64 \n",
            " 6   RESIDENTIAL UNITS          81677 non-null  int64 \n",
            " 7   COMMERCIAL UNITS           81677 non-null  int64 \n",
            " 8   TOTAL UNITS                81677 non-null  int64 \n",
            " 9   LAND SQUARE FEET           81677 non-null  object\n",
            " 10  GROSS SQUARE FEET          81677 non-null  object\n",
            " 11  YEAR BUILT                 81677 non-null  int64 \n",
            " 12  TAX CLASS AT TIME OF SALE  81677 non-null  int64 \n",
            " 13  SALE PRICE                 81677 non-null  object\n",
            "dtypes: int64(9), object(5)\n",
            "memory usage: 9.3+ MB\n"
          ],
          "name": "stdout"
        }
      ]
    },
    {
      "cell_type": "markdown",
      "metadata": {
        "id": "20mGNQvqLwJd",
        "colab_type": "text"
      },
      "source": [
        "After browsing the information of dataset, we can see they use \"-\" to represent the missing values. Before prediction, we should clean these rows in the data table. Some of them should not be counted as the sale of real estate. For example, in column \"SALE PRICE\", these properties with 0 value might be transferred as a gift. \n",
        "\n",
        "Before cleaning missing values, We need to convert some of the columns(for example, SALE PRICE is object, SALE DATE is object, etc) to appropriate datatype."
      ]
    },
    {
      "cell_type": "code",
      "metadata": {
        "id": "y6Ti1ywdEuNz",
        "colab_type": "code",
        "colab": {}
      },
      "source": [
        "df['SALE PRICE'] = pd.to_numeric(df['SALE PRICE'], errors='coerce')\n",
        "# df['SALE DATE'] = pd.to_datetime(df['SALE DATE'], errors='coerce')\n",
        "df['LAND SQUARE FEET'] = pd.to_numeric(df['LAND SQUARE FEET'], errors='coerce')\n",
        "df['GROSS SQUARE FEET']= pd.to_numeric(df['GROSS SQUARE FEET'], errors='coerce')\n",
        "\n",
        "df['TAX CLASS AT PRESENT'] = df['TAX CLASS AT PRESENT'].astype('category')\n",
        "df['TAX CLASS AT PRESENT'] = df['TAX CLASS AT PRESENT'].astype('category')\n",
        "df['BOROUGH'] = df['BOROUGH'].astype('category')\n"
      ],
      "execution_count": null,
      "outputs": []
    },
    {
      "cell_type": "code",
      "metadata": {
        "id": "j95V0sE0S-tw",
        "colab_type": "code",
        "colab": {
          "base_uri": "https://localhost:8080/",
          "height": 34
        },
        "outputId": "4282d629-592a-4361-be57-5452a45f9508"
      },
      "source": [
        "df.shape\n"
      ],
      "execution_count": null,
      "outputs": [
        {
          "output_type": "execute_result",
          "data": {
            "text/plain": [
              "(81677, 14)"
            ]
          },
          "metadata": {
            "tags": []
          },
          "execution_count": 8
        }
      ]
    },
    {
      "cell_type": "code",
      "metadata": {
        "id": "7bxrLnLiEG_7",
        "colab_type": "code",
        "colab": {}
      },
      "source": [
        "variables = df.columns\n",
        "\n",
        "data = []\n",
        "for variable in variables:\n",
        "  l = df[variable].count()\n",
        "  data.append(l)\n",
        "available_per = np.round(pd.Series(data)/len(df), 3)"
      ],
      "execution_count": null,
      "outputs": []
    },
    {
      "cell_type": "code",
      "metadata": {
        "id": "tKiqJIuZEiGI",
        "colab_type": "code",
        "colab": {
          "base_uri": "https://localhost:8080/",
          "height": 392
        },
        "outputId": "10f0f2b8-8b07-4861-b9cc-0fd64d98f1de"
      },
      "source": [
        "plt.figure(figsize=(8,6))\n",
        "plt.barh(variables, available_per)\n",
        "plt.title(\"Percent of available data\", fontsize=15)\n",
        "plt.show()"
      ],
      "execution_count": null,
      "outputs": [
        {
          "output_type": "display_data",
          "data": {
            "image/png": "[encoded data removed]",
            "text/plain": [
              "<Figure size 576x432 with 1 Axes>"
            ]
          },
          "metadata": {
            "tags": [],
            "needs_background": "light"
          }
        }
      ]
    },
    {
      "cell_type": "markdown",
      "metadata": {
        "id": "JcxQz_J2hS7l",
        "colab_type": "text"
      },
      "source": [
        "###TODO"
      ]
    },
    {
      "cell_type": "markdown",
      "metadata": {
        "id": "SDz8IvrdF4Oz",
        "colab_type": "text"
      },
      "source": [
        "As shown in the figure, SALE PRICE, GROSS SQUARE FEET and LAND SQUARE FEET have the lowest percent of available data. But again, SALE PRICE is the value we wanted to predict, we can still predict the price with all other features. For those SQUARE FEET, in this case, we will use mean values to fill them up."
      ]
    },
    {
      "cell_type": "code",
      "metadata": {
        "id": "A_MFibUyM3Fp",
        "colab_type": "code",
        "colab": {}
      },
      "source": [
        "# df['SALE PRICE'] = df['SALE PRICE'].fillna(0)\n",
        "# sale_house = df[~df['SALE PRICE'].isin([0])]\n",
        "# sale_house = df[df['SALE PRICE'].notnull()]\n",
        "# sale_house.shape #(69607,19) ->  Total 84548 - 69607 = 14941 lines have been deleted. \n",
        "df['LAND SQUARE FEET']=df['LAND SQUARE FEET'].fillna(df['LAND SQUARE FEET'].mean())\n",
        "df['GROSS SQUARE FEET']=df['GROSS SQUARE FEET'].fillna(df['GROSS SQUARE FEET'].mean())"
      ],
      "execution_count": null,
      "outputs": []
    },
    {
      "cell_type": "code",
      "metadata": {
        "id": "r0aWxeKKOdH0",
        "colab_type": "code",
        "colab": {
          "base_uri": "https://localhost:8080/",
          "height": 34
        },
        "outputId": "bfd249bb-06bd-4fc1-ee66-b2917084e978"
      },
      "source": [
        "df['SALE PRICE'] = df['SALE PRICE'].fillna(0)\n",
        "sale_house = df[~df['SALE PRICE'].isin([0])]\n",
        "sale_house.shape #(69607,19) ->  Total 84548 - 69607 = 14941 lines have been deleted. \n"
      ],
      "execution_count": null,
      "outputs": [
        {
          "output_type": "execute_result",
          "data": {
            "text/plain": [
              "(58865, 14)"
            ]
          },
          "metadata": {
            "tags": []
          },
          "execution_count": 12
        }
      ]
    },
    {
      "cell_type": "markdown",
      "metadata": {
        "id": "Wnal5oAeNIG7",
        "colab_type": "text"
      },
      "source": [
        "Now Let's recap and revisit the details of dataset"
      ]
    },
    {
      "cell_type": "code",
      "metadata": {
        "id": "OP5UYq4fOx_9",
        "colab_type": "code",
        "colab": {
          "base_uri": "https://localhost:8080/",
          "height": 351
        },
        "outputId": "e346186b-7a93-4b67-fa5e-3d5e96f782c8"
      },
      "source": [
        "sale_house.describe()"
      ],
      "execution_count": null,
      "outputs": [
        {
          "output_type": "execute_result",
          "data": {
            "text/html": [
              "<div>\n",
              "<style scoped>\n",
              "    .dataframe tbody tr th:only-of-type {\n",
              "        vertical-align: middle;\n",
              "    }\n",
              "\n",
              "    .dataframe tbody tr th {\n",
              "        vertical-align: top;\n",
              "    }\n",
              "\n",
              "    .dataframe thead th {\n",
              "        text-align: right;\n",
              "    }\n",
              "</style>\n",
              "<table border=\"1\" class=\"dataframe\">\n",
              "  <thead>\n",
              "    <tr style=\"text-align: right;\">\n",
              "      <th></th>\n",
              "      <th>BLOCK</th>\n",
              "      <th>LOT</th>\n",
              "      <th>ZIP CODE</th>\n",
              "      <th>RESIDENTIAL UNITS</th>\n",
              "      <th>COMMERCIAL UNITS</th>\n",
              "      <th>TOTAL UNITS</th>\n",
              "      <th>LAND SQUARE FEET</th>\n",
              "      <th>GROSS SQUARE FEET</th>\n",
              "      <th>YEAR BUILT</th>\n",
              "      <th>TAX CLASS AT TIME OF SALE</th>\n",
              "      <th>SALE PRICE</th>\n",
              "    </tr>\n",
              "  </thead>\n",
              "  <tbody>\n",
              "    <tr>\n",
              "      <th>count</th>\n",
              "      <td>58865.000000</td>\n",
              "      <td>58865.000000</td>\n",
              "      <td>58865.000000</td>\n",
              "      <td>58865.000000</td>\n",
              "      <td>58865.000000</td>\n",
              "      <td>58865.000000</td>\n",
              "      <td>5.886500e+04</td>\n",
              "      <td>5.886500e+04</td>\n",
              "      <td>58865.000000</td>\n",
              "      <td>58865.000000</td>\n",
              "      <td>5.886500e+04</td>\n",
              "    </tr>\n",
              "    <tr>\n",
              "      <th>mean</th>\n",
              "      <td>4154.602107</td>\n",
              "      <td>393.924267</td>\n",
              "      <td>10704.200221</td>\n",
              "      <td>1.714177</td>\n",
              "      <td>0.155644</td>\n",
              "      <td>1.882188</td>\n",
              "      <td>3.753246e+03</td>\n",
              "      <td>3.576840e+03</td>\n",
              "      <td>1808.804757</td>\n",
              "      <td>1.623953</td>\n",
              "      <td>1.509312e+06</td>\n",
              "    </tr>\n",
              "    <tr>\n",
              "      <th>std</th>\n",
              "      <td>3572.550581</td>\n",
              "      <td>673.116462</td>\n",
              "      <td>1270.730634</td>\n",
              "      <td>13.467234</td>\n",
              "      <td>9.730267</td>\n",
              "      <td>16.725767</td>\n",
              "      <td>3.575600e+04</td>\n",
              "      <td>2.363769e+04</td>\n",
              "      <td>507.844508</td>\n",
              "      <td>0.705565</td>\n",
              "      <td>1.241577e+07</td>\n",
              "    </tr>\n",
              "    <tr>\n",
              "      <th>min</th>\n",
              "      <td>1.000000</td>\n",
              "      <td>1.000000</td>\n",
              "      <td>0.000000</td>\n",
              "      <td>0.000000</td>\n",
              "      <td>0.000000</td>\n",
              "      <td>0.000000</td>\n",
              "      <td>0.000000e+00</td>\n",
              "      <td>0.000000e+00</td>\n",
              "      <td>0.000000</td>\n",
              "      <td>1.000000</td>\n",
              "      <td>1.000000e+00</td>\n",
              "    </tr>\n",
              "    <tr>\n",
              "      <th>25%</th>\n",
              "      <td>1278.000000</td>\n",
              "      <td>21.000000</td>\n",
              "      <td>10301.000000</td>\n",
              "      <td>0.000000</td>\n",
              "      <td>0.000000</td>\n",
              "      <td>0.000000</td>\n",
              "      <td>2.000000e+03</td>\n",
              "      <td>1.300000e+03</td>\n",
              "      <td>1920.000000</td>\n",
              "      <td>1.000000</td>\n",
              "      <td>3.750000e+05</td>\n",
              "    </tr>\n",
              "    <tr>\n",
              "      <th>50%</th>\n",
              "      <td>3168.000000</td>\n",
              "      <td>51.000000</td>\n",
              "      <td>11207.000000</td>\n",
              "      <td>1.000000</td>\n",
              "      <td>0.000000</td>\n",
              "      <td>1.000000</td>\n",
              "      <td>3.600000e+03</td>\n",
              "      <td>2.500000e+03</td>\n",
              "      <td>1940.000000</td>\n",
              "      <td>2.000000</td>\n",
              "      <td>6.309000e+05</td>\n",
              "    </tr>\n",
              "    <tr>\n",
              "      <th>75%</th>\n",
              "      <td>6099.000000</td>\n",
              "      <td>1002.000000</td>\n",
              "      <td>11356.000000</td>\n",
              "      <td>2.000000</td>\n",
              "      <td>0.000000</td>\n",
              "      <td>2.000000</td>\n",
              "      <td>3.863020e+03</td>\n",
              "      <td>3.888377e+03</td>\n",
              "      <td>1966.000000</td>\n",
              "      <td>2.000000</td>\n",
              "      <td>1.085000e+06</td>\n",
              "    </tr>\n",
              "    <tr>\n",
              "      <th>max</th>\n",
              "      <td>16319.000000</td>\n",
              "      <td>9106.000000</td>\n",
              "      <td>11694.000000</td>\n",
              "      <td>1844.000000</td>\n",
              "      <td>2261.000000</td>\n",
              "      <td>2261.000000</td>\n",
              "      <td>4.252327e+06</td>\n",
              "      <td>3.750565e+06</td>\n",
              "      <td>2017.000000</td>\n",
              "      <td>4.000000</td>\n",
              "      <td>2.210000e+09</td>\n",
              "    </tr>\n",
              "  </tbody>\n",
              "</table>\n",
              "</div>"
            ],
            "text/plain": [
              "              BLOCK           LOT  ...  TAX CLASS AT TIME OF SALE    SALE PRICE\n",
              "count  58865.000000  58865.000000  ...               58865.000000  5.886500e+04\n",
              "mean    4154.602107    393.924267  ...                   1.623953  1.509312e+06\n",
              "std     3572.550581    673.116462  ...                   0.705565  1.241577e+07\n",
              "min        1.000000      1.000000  ...                   1.000000  1.000000e+00\n",
              "25%     1278.000000     21.000000  ...                   1.000000  3.750000e+05\n",
              "50%     3168.000000     51.000000  ...                   2.000000  6.309000e+05\n",
              "75%     6099.000000   1002.000000  ...                   2.000000  1.085000e+06\n",
              "max    16319.000000   9106.000000  ...                   4.000000  2.210000e+09\n",
              "\n",
              "[8 rows x 11 columns]"
            ]
          },
          "metadata": {
            "tags": []
          },
          "execution_count": 13
        }
      ]
    },
    {
      "cell_type": "markdown",
      "metadata": {
        "id": "em3V3l818Kxy",
        "colab_type": "text"
      },
      "source": [
        "According to the above chart, we can observe that \n",
        "\n",
        "1) The min value for ZIP CODE is 0, we don't have ZIP CODE that equals to 0\n",
        "\n",
        "2) The Building Year of some properties are 0, this should be incorrect as well.\n",
        "\n",
        "3) Some properties have 0 SQUARE FEET...\n",
        "\n",
        "Let's fix them\n",
        "\n",
        "####TODO"
      ]
    },
    {
      "cell_type": "markdown",
      "metadata": {
        "id": "jzTyJ11ic3ys",
        "colab_type": "text"
      },
      "source": [
        "#2) Preparation"
      ]
    },
    {
      "cell_type": "code",
      "metadata": {
        "id": "fIuac0OuPMs-",
        "colab_type": "code",
        "colab": {
          "base_uri": "https://localhost:8080/",
          "height": 852
        },
        "outputId": "d2a8dc5f-30bd-49cd-97bf-55bc7b6dc680"
      },
      "source": [
        "cor = sale_house.corr()\n",
        "fig, ax = plt.subplots(figsize=(12,12))\n",
        "sns.heatmap(cor,annot=True, ax = ax)"
      ],
      "execution_count": null,
      "outputs": [
        {
          "output_type": "execute_result",
          "data": {
            "text/plain": [
              "<matplotlib.axes._subplots.AxesSubplot at 0x7f78b8932710>"
            ]
          },
          "metadata": {
            "tags": []
          },
          "execution_count": 14
        },
        {
          "output_type": "display_data",
          "data": {
            "image/png": "[encoded data removed]",
            "text/plain": [
              "<Figure size 864x864 with 2 Axes>"
            ]
          },
          "metadata": {
            "tags": [],
            "needs_background": "light"
          }
        }
      ]
    },
    {
      "cell_type": "markdown",
      "metadata": {
        "id": "4TeZJpNBddbW",
        "colab_type": "text"
      },
      "source": [
        "Removing highing correlated independent variable from datasets."
      ]
    },
    {
      "cell_type": "code",
      "metadata": {
        "id": "JpRlhINndvj4",
        "colab_type": "code",
        "colab": {
          "base_uri": "https://localhost:8080/",
          "height": 428
        },
        "outputId": "f302ca76-7ed9-4dc0-b5c6-8c2cfb0bcbd6"
      },
      "source": [
        "sale_house.drop(['RESIDENTIAL UNITS','GROSS SQUARE FEET',],inplace=True, axis=1)\n",
        "sale_house.head()"
      ],
      "execution_count": null,
      "outputs": [
        {
          "output_type": "stream",
          "text": [
            "/usr/local/lib/python3.6/dist-packages/pandas/core/frame.py:3997: SettingWithCopyWarning: \n",
            "A value is trying to be set on a copy of a slice from a DataFrame\n",
            "\n",
            "See the caveats in the documentation: https://pandas.pydata.org/pandas-docs/stable/user_guide/indexing.html#returning-a-view-versus-a-copy\n",
            "  errors=errors,\n"
          ],
          "name": "stderr"
        },
        {
          "output_type": "execute_result",
          "data": {
            "text/html": [
              "<div>\n",
              "<style scoped>\n",
              "    .dataframe tbody tr th:only-of-type {\n",
              "        vertical-align: middle;\n",
              "    }\n",
              "\n",
              "    .dataframe tbody tr th {\n",
              "        vertical-align: top;\n",
              "    }\n",
              "\n",
              "    .dataframe thead th {\n",
              "        text-align: right;\n",
              "    }\n",
              "</style>\n",
              "<table border=\"1\" class=\"dataframe\">\n",
              "  <thead>\n",
              "    <tr style=\"text-align: right;\">\n",
              "      <th></th>\n",
              "      <th>BOROUGH</th>\n",
              "      <th>BUILDING CLASS CATEGORY</th>\n",
              "      <th>TAX CLASS AT PRESENT</th>\n",
              "      <th>BLOCK</th>\n",
              "      <th>LOT</th>\n",
              "      <th>ZIP CODE</th>\n",
              "      <th>COMMERCIAL UNITS</th>\n",
              "      <th>TOTAL UNITS</th>\n",
              "      <th>LAND SQUARE FEET</th>\n",
              "      <th>YEAR BUILT</th>\n",
              "      <th>TAX CLASS AT TIME OF SALE</th>\n",
              "      <th>SALE PRICE</th>\n",
              "    </tr>\n",
              "  </thead>\n",
              "  <tbody>\n",
              "    <tr>\n",
              "      <th>0</th>\n",
              "      <td>1</td>\n",
              "      <td>07 RENTALS - WALKUP APARTMENTS</td>\n",
              "      <td>2A</td>\n",
              "      <td>392</td>\n",
              "      <td>6</td>\n",
              "      <td>10009</td>\n",
              "      <td>0</td>\n",
              "      <td>5</td>\n",
              "      <td>1633.0</td>\n",
              "      <td>1900</td>\n",
              "      <td>2</td>\n",
              "      <td>6625000.0</td>\n",
              "    </tr>\n",
              "    <tr>\n",
              "      <th>3</th>\n",
              "      <td>1</td>\n",
              "      <td>07 RENTALS - WALKUP APARTMENTS</td>\n",
              "      <td>2B</td>\n",
              "      <td>402</td>\n",
              "      <td>21</td>\n",
              "      <td>10009</td>\n",
              "      <td>0</td>\n",
              "      <td>10</td>\n",
              "      <td>2272.0</td>\n",
              "      <td>1913</td>\n",
              "      <td>2</td>\n",
              "      <td>3936272.0</td>\n",
              "    </tr>\n",
              "    <tr>\n",
              "      <th>4</th>\n",
              "      <td>1</td>\n",
              "      <td>07 RENTALS - WALKUP APARTMENTS</td>\n",
              "      <td>2A</td>\n",
              "      <td>404</td>\n",
              "      <td>55</td>\n",
              "      <td>10009</td>\n",
              "      <td>0</td>\n",
              "      <td>6</td>\n",
              "      <td>2369.0</td>\n",
              "      <td>1900</td>\n",
              "      <td>2</td>\n",
              "      <td>8000000.0</td>\n",
              "    </tr>\n",
              "    <tr>\n",
              "      <th>6</th>\n",
              "      <td>1</td>\n",
              "      <td>07 RENTALS - WALKUP APARTMENTS</td>\n",
              "      <td>2B</td>\n",
              "      <td>406</td>\n",
              "      <td>32</td>\n",
              "      <td>10009</td>\n",
              "      <td>0</td>\n",
              "      <td>8</td>\n",
              "      <td>1750.0</td>\n",
              "      <td>1920</td>\n",
              "      <td>2</td>\n",
              "      <td>3192840.0</td>\n",
              "    </tr>\n",
              "    <tr>\n",
              "      <th>9</th>\n",
              "      <td>1</td>\n",
              "      <td>08 RENTALS - ELEVATOR APARTMENTS</td>\n",
              "      <td>2</td>\n",
              "      <td>387</td>\n",
              "      <td>153</td>\n",
              "      <td>10009</td>\n",
              "      <td>0</td>\n",
              "      <td>24</td>\n",
              "      <td>4489.0</td>\n",
              "      <td>1920</td>\n",
              "      <td>2</td>\n",
              "      <td>16232000.0</td>\n",
              "    </tr>\n",
              "  </tbody>\n",
              "</table>\n",
              "</div>"
            ],
            "text/plain": [
              "  BOROUGH  ...  SALE PRICE\n",
              "0       1  ...   6625000.0\n",
              "3       1  ...   3936272.0\n",
              "4       1  ...   8000000.0\n",
              "6       1  ...   3192840.0\n",
              "9       1  ...  16232000.0\n",
              "\n",
              "[5 rows x 12 columns]"
            ]
          },
          "metadata": {
            "tags": []
          },
          "execution_count": 15
        }
      ]
    },
    {
      "cell_type": "code",
      "metadata": {
        "id": "s2OQJ0MXd1IS",
        "colab_type": "code",
        "colab": {}
      },
      "source": [
        "#one hot encoded\n",
        "#https://machinelearningmastery.com/why-one-hot-encode-data-in-machine-learning/\n",
        "one_hot_features = ['BOROUGH', 'BUILDING CLASS CATEGORY','TAX CLASS AT PRESENT','TAX CLASS AT TIME OF SALE']"
      ],
      "execution_count": null,
      "outputs": []
    },
    {
      "cell_type": "code",
      "metadata": {
        "id": "KT9VYrsWd5qy",
        "colab_type": "code",
        "colab": {
          "base_uri": "https://localhost:8080/",
          "height": 1000
        },
        "outputId": "1e65d10a-b945-48f5-dafc-e74346439a79"
      },
      "source": [
        "# Convert categorical variables into dummy/indicator variables (i.e. one-hot encoding).\n",
        "one_hot_encoded = pd.get_dummies(sale_house[one_hot_features])\n",
        "one_hot_encoded.info(verbose=True, memory_usage=True, null_counts=True)"
      ],
      "execution_count": null,
      "outputs": [
        {
          "output_type": "stream",
          "text": [
            "<class 'pandas.core.frame.DataFrame'>\n",
            "Int64Index: 58865 entries, 0 to 84547\n",
            "Data columns (total 63 columns):\n",
            " #   Column                                                                Non-Null Count  Dtype\n",
            "---  ------                                                                --------------  -----\n",
            " 0   TAX CLASS AT TIME OF SALE                                             58865 non-null  int64\n",
            " 1   BOROUGH_1                                                             58865 non-null  uint8\n",
            " 2   BOROUGH_2                                                             58865 non-null  uint8\n",
            " 3   BOROUGH_3                                                             58865 non-null  uint8\n",
            " 4   BOROUGH_4                                                             58865 non-null  uint8\n",
            " 5   BOROUGH_5                                                             58865 non-null  uint8\n",
            " 6   BUILDING CLASS CATEGORY_01 ONE FAMILY DWELLINGS                       58865 non-null  uint8\n",
            " 7   BUILDING CLASS CATEGORY_02 TWO FAMILY DWELLINGS                       58865 non-null  uint8\n",
            " 8   BUILDING CLASS CATEGORY_03 THREE FAMILY DWELLINGS                     58865 non-null  uint8\n",
            " 9   BUILDING CLASS CATEGORY_04 TAX CLASS 1 CONDOS                         58865 non-null  uint8\n",
            " 10  BUILDING CLASS CATEGORY_05 TAX CLASS 1 VACANT LAND                    58865 non-null  uint8\n",
            " 11  BUILDING CLASS CATEGORY_06 TAX CLASS 1 - OTHER                        58865 non-null  uint8\n",
            " 12  BUILDING CLASS CATEGORY_07 RENTALS - WALKUP APARTMENTS                58865 non-null  uint8\n",
            " 13  BUILDING CLASS CATEGORY_08 RENTALS - ELEVATOR APARTMENTS              58865 non-null  uint8\n",
            " 14  BUILDING CLASS CATEGORY_09 COOPS - WALKUP APARTMENTS                  58865 non-null  uint8\n",
            " 15  BUILDING CLASS CATEGORY_10 COOPS - ELEVATOR APARTMENTS                58865 non-null  uint8\n",
            " 16  BUILDING CLASS CATEGORY_11 SPECIAL CONDO BILLING LOTS                 58865 non-null  uint8\n",
            " 17  BUILDING CLASS CATEGORY_11A CONDO-RENTALS                             58865 non-null  uint8\n",
            " 18  BUILDING CLASS CATEGORY_12 CONDOS - WALKUP APARTMENTS                 58865 non-null  uint8\n",
            " 19  BUILDING CLASS CATEGORY_13 CONDOS - ELEVATOR APARTMENTS               58865 non-null  uint8\n",
            " 20  BUILDING CLASS CATEGORY_14 RENTALS - 4-10 UNIT                        58865 non-null  uint8\n",
            " 21  BUILDING CLASS CATEGORY_15 CONDOS - 2-10 UNIT RESIDENTIAL             58865 non-null  uint8\n",
            " 22  BUILDING CLASS CATEGORY_16 CONDOS - 2-10 UNIT WITH COMMERCIAL UNIT    58865 non-null  uint8\n",
            " 23  BUILDING CLASS CATEGORY_17 CONDO COOPS                                58865 non-null  uint8\n",
            " 24  BUILDING CLASS CATEGORY_21 OFFICE BUILDINGS                           58865 non-null  uint8\n",
            " 25  BUILDING CLASS CATEGORY_22 STORE BUILDINGS                            58865 non-null  uint8\n",
            " 26  BUILDING CLASS CATEGORY_23 LOFT BUILDINGS                             58865 non-null  uint8\n",
            " 27  BUILDING CLASS CATEGORY_25 LUXURY HOTELS                              58865 non-null  uint8\n",
            " 28  BUILDING CLASS CATEGORY_26 OTHER HOTELS                               58865 non-null  uint8\n",
            " 29  BUILDING CLASS CATEGORY_27 FACTORIES                                  58865 non-null  uint8\n",
            " 30  BUILDING CLASS CATEGORY_28 COMMERCIAL CONDOS                          58865 non-null  uint8\n",
            " 31  BUILDING CLASS CATEGORY_29 COMMERCIAL GARAGES                         58865 non-null  uint8\n",
            " 32  BUILDING CLASS CATEGORY_30 WAREHOUSES                                 58865 non-null  uint8\n",
            " 33  BUILDING CLASS CATEGORY_31 COMMERCIAL VACANT LAND                     58865 non-null  uint8\n",
            " 34  BUILDING CLASS CATEGORY_32 HOSPITAL AND HEALTH FACILITIES             58865 non-null  uint8\n",
            " 35  BUILDING CLASS CATEGORY_33 EDUCATIONAL FACILITIES                     58865 non-null  uint8\n",
            " 36  BUILDING CLASS CATEGORY_34 THEATRES                                   58865 non-null  uint8\n",
            " 37  BUILDING CLASS CATEGORY_35 INDOOR PUBLIC AND CULTURAL FACILITIES      58865 non-null  uint8\n",
            " 38  BUILDING CLASS CATEGORY_36 OUTDOOR RECREATIONAL FACILITIES            58865 non-null  uint8\n",
            " 39  BUILDING CLASS CATEGORY_37 RELIGIOUS FACILITIES                       58865 non-null  uint8\n",
            " 40  BUILDING CLASS CATEGORY_38 ASYLUMS AND HOMES                          58865 non-null  uint8\n",
            " 41  BUILDING CLASS CATEGORY_39 TRANSPORTATION FACILITIES                  58865 non-null  uint8\n",
            " 42  BUILDING CLASS CATEGORY_40 SELECTED GOVERNMENTAL FACILITIES           58865 non-null  uint8\n",
            " 43  BUILDING CLASS CATEGORY_41 TAX CLASS 4 - OTHER                        58865 non-null  uint8\n",
            " 44  BUILDING CLASS CATEGORY_42 CONDO CULTURAL/MEDICAL/EDUCATIONAL/ETC     58865 non-null  uint8\n",
            " 45  BUILDING CLASS CATEGORY_43 CONDO OFFICE BUILDINGS                     58865 non-null  uint8\n",
            " 46  BUILDING CLASS CATEGORY_44 CONDO PARKING                              58865 non-null  uint8\n",
            " 47  BUILDING CLASS CATEGORY_45 CONDO HOTELS                               58865 non-null  uint8\n",
            " 48  BUILDING CLASS CATEGORY_46 CONDO STORE BUILDINGS                      58865 non-null  uint8\n",
            " 49  BUILDING CLASS CATEGORY_47 CONDO NON-BUSINESS STORAGE                 58865 non-null  uint8\n",
            " 50  BUILDING CLASS CATEGORY_48 CONDO TERRACES/GARDENS/CABANAS             58865 non-null  uint8\n",
            " 51  BUILDING CLASS CATEGORY_49 CONDO WAREHOUSES/FACTORY/INDUS             58865 non-null  uint8\n",
            " 52  TAX CLASS AT PRESENT_                                                 58865 non-null  uint8\n",
            " 53  TAX CLASS AT PRESENT_1                                                58865 non-null  uint8\n",
            " 54  TAX CLASS AT PRESENT_1A                                               58865 non-null  uint8\n",
            " 55  TAX CLASS AT PRESENT_1B                                               58865 non-null  uint8\n",
            " 56  TAX CLASS AT PRESENT_1C                                               58865 non-null  uint8\n",
            " 57  TAX CLASS AT PRESENT_2                                                58865 non-null  uint8\n",
            " 58  TAX CLASS AT PRESENT_2A                                               58865 non-null  uint8\n",
            " 59  TAX CLASS AT PRESENT_2B                                               58865 non-null  uint8\n",
            " 60  TAX CLASS AT PRESENT_2C                                               58865 non-null  uint8\n",
            " 61  TAX CLASS AT PRESENT_3                                                58865 non-null  uint8\n",
            " 62  TAX CLASS AT PRESENT_4                                                58865 non-null  uint8\n",
            "dtypes: int64(1), uint8(62)\n",
            "memory usage: 4.4 MB\n"
          ],
          "name": "stdout"
        }
      ]
    },
    {
      "cell_type": "code",
      "metadata": {
        "id": "IYR_n7VKeBTi",
        "colab_type": "code",
        "colab": {
          "base_uri": "https://localhost:8080/",
          "height": 314
        },
        "outputId": "85e3eeb3-9840-4c4a-ae75-5abc18b18e7a"
      },
      "source": [
        "numeric_data=sale_house.select_dtypes(include=[np.number])\n",
        "numeric_data.describe()"
      ],
      "execution_count": null,
      "outputs": [
        {
          "output_type": "execute_result",
          "data": {
            "text/html": [
              "<div>\n",
              "<style scoped>\n",
              "    .dataframe tbody tr th:only-of-type {\n",
              "        vertical-align: middle;\n",
              "    }\n",
              "\n",
              "    .dataframe tbody tr th {\n",
              "        vertical-align: top;\n",
              "    }\n",
              "\n",
              "    .dataframe thead th {\n",
              "        text-align: right;\n",
              "    }\n",
              "</style>\n",
              "<table border=\"1\" class=\"dataframe\">\n",
              "  <thead>\n",
              "    <tr style=\"text-align: right;\">\n",
              "      <th></th>\n",
              "      <th>BLOCK</th>\n",
              "      <th>LOT</th>\n",
              "      <th>ZIP CODE</th>\n",
              "      <th>COMMERCIAL UNITS</th>\n",
              "      <th>TOTAL UNITS</th>\n",
              "      <th>LAND SQUARE FEET</th>\n",
              "      <th>YEAR BUILT</th>\n",
              "      <th>TAX CLASS AT TIME OF SALE</th>\n",
              "      <th>SALE PRICE</th>\n",
              "    </tr>\n",
              "  </thead>\n",
              "  <tbody>\n",
              "    <tr>\n",
              "      <th>count</th>\n",
              "      <td>58865.000000</td>\n",
              "      <td>58865.000000</td>\n",
              "      <td>58865.000000</td>\n",
              "      <td>58865.000000</td>\n",
              "      <td>58865.000000</td>\n",
              "      <td>5.886500e+04</td>\n",
              "      <td>58865.000000</td>\n",
              "      <td>58865.000000</td>\n",
              "      <td>5.886500e+04</td>\n",
              "    </tr>\n",
              "    <tr>\n",
              "      <th>mean</th>\n",
              "      <td>4154.602107</td>\n",
              "      <td>393.924267</td>\n",
              "      <td>10704.200221</td>\n",
              "      <td>0.155644</td>\n",
              "      <td>1.882188</td>\n",
              "      <td>3.753246e+03</td>\n",
              "      <td>1808.804757</td>\n",
              "      <td>1.623953</td>\n",
              "      <td>1.509312e+06</td>\n",
              "    </tr>\n",
              "    <tr>\n",
              "      <th>std</th>\n",
              "      <td>3572.550581</td>\n",
              "      <td>673.116462</td>\n",
              "      <td>1270.730634</td>\n",
              "      <td>9.730267</td>\n",
              "      <td>16.725767</td>\n",
              "      <td>3.575600e+04</td>\n",
              "      <td>507.844508</td>\n",
              "      <td>0.705565</td>\n",
              "      <td>1.241577e+07</td>\n",
              "    </tr>\n",
              "    <tr>\n",
              "      <th>min</th>\n",
              "      <td>1.000000</td>\n",
              "      <td>1.000000</td>\n",
              "      <td>0.000000</td>\n",
              "      <td>0.000000</td>\n",
              "      <td>0.000000</td>\n",
              "      <td>0.000000e+00</td>\n",
              "      <td>0.000000</td>\n",
              "      <td>1.000000</td>\n",
              "      <td>1.000000e+00</td>\n",
              "    </tr>\n",
              "    <tr>\n",
              "      <th>25%</th>\n",
              "      <td>1278.000000</td>\n",
              "      <td>21.000000</td>\n",
              "      <td>10301.000000</td>\n",
              "      <td>0.000000</td>\n",
              "      <td>0.000000</td>\n",
              "      <td>2.000000e+03</td>\n",
              "      <td>1920.000000</td>\n",
              "      <td>1.000000</td>\n",
              "      <td>3.750000e+05</td>\n",
              "    </tr>\n",
              "    <tr>\n",
              "      <th>50%</th>\n",
              "      <td>3168.000000</td>\n",
              "      <td>51.000000</td>\n",
              "      <td>11207.000000</td>\n",
              "      <td>0.000000</td>\n",
              "      <td>1.000000</td>\n",
              "      <td>3.600000e+03</td>\n",
              "      <td>1940.000000</td>\n",
              "      <td>2.000000</td>\n",
              "      <td>6.309000e+05</td>\n",
              "    </tr>\n",
              "    <tr>\n",
              "      <th>75%</th>\n",
              "      <td>6099.000000</td>\n",
              "      <td>1002.000000</td>\n",
              "      <td>11356.000000</td>\n",
              "      <td>0.000000</td>\n",
              "      <td>2.000000</td>\n",
              "      <td>3.863020e+03</td>\n",
              "      <td>1966.000000</td>\n",
              "      <td>2.000000</td>\n",
              "      <td>1.085000e+06</td>\n",
              "    </tr>\n",
              "    <tr>\n",
              "      <th>max</th>\n",
              "      <td>16319.000000</td>\n",
              "      <td>9106.000000</td>\n",
              "      <td>11694.000000</td>\n",
              "      <td>2261.000000</td>\n",
              "      <td>2261.000000</td>\n",
              "      <td>4.252327e+06</td>\n",
              "      <td>2017.000000</td>\n",
              "      <td>4.000000</td>\n",
              "      <td>2.210000e+09</td>\n",
              "    </tr>\n",
              "  </tbody>\n",
              "</table>\n",
              "</div>"
            ],
            "text/plain": [
              "              BLOCK           LOT  ...  TAX CLASS AT TIME OF SALE    SALE PRICE\n",
              "count  58865.000000  58865.000000  ...               58865.000000  5.886500e+04\n",
              "mean    4154.602107    393.924267  ...                   1.623953  1.509312e+06\n",
              "std     3572.550581    673.116462  ...                   0.705565  1.241577e+07\n",
              "min        1.000000      1.000000  ...                   1.000000  1.000000e+00\n",
              "25%     1278.000000     21.000000  ...                   1.000000  3.750000e+05\n",
              "50%     3168.000000     51.000000  ...                   2.000000  6.309000e+05\n",
              "75%     6099.000000   1002.000000  ...                   2.000000  1.085000e+06\n",
              "max    16319.000000   9106.000000  ...                   4.000000  2.210000e+09\n",
              "\n",
              "[8 rows x 9 columns]"
            ]
          },
          "metadata": {
            "tags": []
          },
          "execution_count": 18
        }
      ]
    },
    {
      "cell_type": "code",
      "metadata": {
        "id": "EnM7qgYGeHyg",
        "colab_type": "code",
        "colab": {}
      },
      "source": [
        "df = sale_house\n",
        "scaler = StandardScaler()\n",
        "scaler.fit(df[numeric_data.columns])\n",
        "scaled = scaler.transform(df[numeric_data.columns])\n",
        "\n",
        "for i, col in enumerate(numeric_data.columns):\n",
        "       df[col] = scaled[:,i]"
      ],
      "execution_count": null,
      "outputs": []
    },
    {
      "cell_type": "code",
      "metadata": {
        "id": "jhGGAXpgeT-0",
        "colab_type": "code",
        "colab": {
          "base_uri": "https://localhost:8080/",
          "height": 343
        },
        "outputId": "c61e4ab2-9c4a-4163-a2bf-731c68c60cc8"
      },
      "source": [
        "\n",
        "df.drop(one_hot_features,axis=1,inplace=True)\n",
        "df = pd.concat([df, one_hot_encoded] ,axis=1)\n",
        "df.head()"
      ],
      "execution_count": null,
      "outputs": [
        {
          "output_type": "execute_result",
          "data": {
            "text/html": [
              "<div>\n",
              "<style scoped>\n",
              "    .dataframe tbody tr th:only-of-type {\n",
              "        vertical-align: middle;\n",
              "    }\n",
              "\n",
              "    .dataframe tbody tr th {\n",
              "        vertical-align: top;\n",
              "    }\n",
              "\n",
              "    .dataframe thead th {\n",
              "        text-align: right;\n",
              "    }\n",
              "</style>\n",
              "<table border=\"1\" class=\"dataframe\">\n",
              "  <thead>\n",
              "    <tr style=\"text-align: right;\">\n",
              "      <th></th>\n",
              "      <th>BLOCK</th>\n",
              "      <th>LOT</th>\n",
              "      <th>ZIP CODE</th>\n",
              "      <th>COMMERCIAL UNITS</th>\n",
              "      <th>TOTAL UNITS</th>\n",
              "      <th>LAND SQUARE FEET</th>\n",
              "      <th>YEAR BUILT</th>\n",
              "      <th>SALE PRICE</th>\n",
              "      <th>TAX CLASS AT TIME OF SALE</th>\n",
              "      <th>BOROUGH_1</th>\n",
              "      <th>BOROUGH_2</th>\n",
              "      <th>BOROUGH_3</th>\n",
              "      <th>BOROUGH_4</th>\n",
              "      <th>BOROUGH_5</th>\n",
              "      <th>BUILDING CLASS CATEGORY_01 ONE FAMILY DWELLINGS</th>\n",
              "      <th>BUILDING CLASS CATEGORY_02 TWO FAMILY DWELLINGS</th>\n",
              "      <th>BUILDING CLASS CATEGORY_03 THREE FAMILY DWELLINGS</th>\n",
              "      <th>BUILDING CLASS CATEGORY_04 TAX CLASS 1 CONDOS</th>\n",
              "      <th>BUILDING CLASS CATEGORY_05 TAX CLASS 1 VACANT LAND</th>\n",
              "      <th>BUILDING CLASS CATEGORY_06 TAX CLASS 1 - OTHER</th>\n",
              "      <th>BUILDING CLASS CATEGORY_07 RENTALS - WALKUP APARTMENTS</th>\n",
              "      <th>BUILDING CLASS CATEGORY_08 RENTALS - ELEVATOR APARTMENTS</th>\n",
              "      <th>BUILDING CLASS CATEGORY_09 COOPS - WALKUP APARTMENTS</th>\n",
              "      <th>BUILDING CLASS CATEGORY_10 COOPS - ELEVATOR APARTMENTS</th>\n",
              "      <th>BUILDING CLASS CATEGORY_11 SPECIAL CONDO BILLING LOTS</th>\n",
              "      <th>BUILDING CLASS CATEGORY_11A CONDO-RENTALS</th>\n",
              "      <th>BUILDING CLASS CATEGORY_12 CONDOS - WALKUP APARTMENTS</th>\n",
              "      <th>BUILDING CLASS CATEGORY_13 CONDOS - ELEVATOR APARTMENTS</th>\n",
              "      <th>BUILDING CLASS CATEGORY_14 RENTALS - 4-10 UNIT</th>\n",
              "      <th>BUILDING CLASS CATEGORY_15 CONDOS - 2-10 UNIT RESIDENTIAL</th>\n",
              "      <th>BUILDING CLASS CATEGORY_16 CONDOS - 2-10 UNIT WITH COMMERCIAL UNIT</th>\n",
              "      <th>BUILDING CLASS CATEGORY_17 CONDO COOPS</th>\n",
              "      <th>BUILDING CLASS CATEGORY_21 OFFICE BUILDINGS</th>\n",
              "      <th>BUILDING CLASS CATEGORY_22 STORE BUILDINGS</th>\n",
              "      <th>BUILDING CLASS CATEGORY_23 LOFT BUILDINGS</th>\n",
              "      <th>BUILDING CLASS CATEGORY_25 LUXURY HOTELS</th>\n",
              "      <th>BUILDING CLASS CATEGORY_26 OTHER HOTELS</th>\n",
              "      <th>BUILDING CLASS CATEGORY_27 FACTORIES</th>\n",
              "      <th>BUILDING CLASS CATEGORY_28 COMMERCIAL CONDOS</th>\n",
              "      <th>BUILDING CLASS CATEGORY_29 COMMERCIAL GARAGES</th>\n",
              "      <th>BUILDING CLASS CATEGORY_30 WAREHOUSES</th>\n",
              "      <th>BUILDING CLASS CATEGORY_31 COMMERCIAL VACANT LAND</th>\n",
              "      <th>BUILDING CLASS CATEGORY_32 HOSPITAL AND HEALTH FACILITIES</th>\n",
              "      <th>BUILDING CLASS CATEGORY_33 EDUCATIONAL FACILITIES</th>\n",
              "      <th>BUILDING CLASS CATEGORY_34 THEATRES</th>\n",
              "      <th>BUILDING CLASS CATEGORY_35 INDOOR PUBLIC AND CULTURAL FACILITIES</th>\n",
              "      <th>BUILDING CLASS CATEGORY_36 OUTDOOR RECREATIONAL FACILITIES</th>\n",
              "      <th>BUILDING CLASS CATEGORY_37 RELIGIOUS FACILITIES</th>\n",
              "      <th>BUILDING CLASS CATEGORY_38 ASYLUMS AND HOMES</th>\n",
              "      <th>BUILDING CLASS CATEGORY_39 TRANSPORTATION FACILITIES</th>\n",
              "      <th>BUILDING CLASS CATEGORY_40 SELECTED GOVERNMENTAL FACILITIES</th>\n",
              "      <th>BUILDING CLASS CATEGORY_41 TAX CLASS 4 - OTHER</th>\n",
              "      <th>BUILDING CLASS CATEGORY_42 CONDO CULTURAL/MEDICAL/EDUCATIONAL/ETC</th>\n",
              "      <th>BUILDING CLASS CATEGORY_43 CONDO OFFICE BUILDINGS</th>\n",
              "      <th>BUILDING CLASS CATEGORY_44 CONDO PARKING</th>\n",
              "      <th>BUILDING CLASS CATEGORY_45 CONDO HOTELS</th>\n",
              "      <th>BUILDING CLASS CATEGORY_46 CONDO STORE BUILDINGS</th>\n",
              "      <th>BUILDING CLASS CATEGORY_47 CONDO NON-BUSINESS STORAGE</th>\n",
              "      <th>BUILDING CLASS CATEGORY_48 CONDO TERRACES/GARDENS/CABANAS</th>\n",
              "      <th>BUILDING CLASS CATEGORY_49 CONDO WAREHOUSES/FACTORY/INDUS</th>\n",
              "      <th>TAX CLASS AT PRESENT_</th>\n",
              "      <th>TAX CLASS AT PRESENT_1</th>\n",
              "      <th>TAX CLASS AT PRESENT_1A</th>\n",
              "      <th>TAX CLASS AT PRESENT_1B</th>\n",
              "      <th>TAX CLASS AT PRESENT_1C</th>\n",
              "      <th>TAX CLASS AT PRESENT_2</th>\n",
              "      <th>TAX CLASS AT PRESENT_2A</th>\n",
              "      <th>TAX CLASS AT PRESENT_2B</th>\n",
              "      <th>TAX CLASS AT PRESENT_2C</th>\n",
              "      <th>TAX CLASS AT PRESENT_3</th>\n",
              "      <th>TAX CLASS AT PRESENT_4</th>\n",
              "    </tr>\n",
              "  </thead>\n",
              "  <tbody>\n",
              "    <tr>\n",
              "      <th>0</th>\n",
              "      <td>-1.053207</td>\n",
              "      <td>-0.576316</td>\n",
              "      <td>-0.547092</td>\n",
              "      <td>-0.015996</td>\n",
              "      <td>0.186409</td>\n",
              "      <td>-0.059298</td>\n",
              "      <td>0.179575</td>\n",
              "      <td>0.412035</td>\n",
              "      <td>2</td>\n",
              "      <td>1</td>\n",
              "      <td>0</td>\n",
              "      <td>0</td>\n",
              "      <td>0</td>\n",
              "      <td>0</td>\n",
              "      <td>0</td>\n",
              "      <td>0</td>\n",
              "      <td>0</td>\n",
              "      <td>0</td>\n",
              "      <td>0</td>\n",
              "      <td>0</td>\n",
              "      <td>1</td>\n",
              "      <td>0</td>\n",
              "      <td>0</td>\n",
              "      <td>0</td>\n",
              "      <td>0</td>\n",
              "      <td>0</td>\n",
              "      <td>0</td>\n",
              "      <td>0</td>\n",
              "      <td>0</td>\n",
              "      <td>0</td>\n",
              "      <td>0</td>\n",
              "      <td>0</td>\n",
              "      <td>0</td>\n",
              "      <td>0</td>\n",
              "      <td>0</td>\n",
              "      <td>0</td>\n",
              "      <td>0</td>\n",
              "      <td>0</td>\n",
              "      <td>0</td>\n",
              "      <td>0</td>\n",
              "      <td>0</td>\n",
              "      <td>0</td>\n",
              "      <td>0</td>\n",
              "      <td>0</td>\n",
              "      <td>0</td>\n",
              "      <td>0</td>\n",
              "      <td>0</td>\n",
              "      <td>0</td>\n",
              "      <td>0</td>\n",
              "      <td>0</td>\n",
              "      <td>0</td>\n",
              "      <td>0</td>\n",
              "      <td>0</td>\n",
              "      <td>0</td>\n",
              "      <td>0</td>\n",
              "      <td>0</td>\n",
              "      <td>0</td>\n",
              "      <td>0</td>\n",
              "      <td>0</td>\n",
              "      <td>0</td>\n",
              "      <td>0</td>\n",
              "      <td>0</td>\n",
              "      <td>0</td>\n",
              "      <td>0</td>\n",
              "      <td>0</td>\n",
              "      <td>0</td>\n",
              "      <td>1</td>\n",
              "      <td>0</td>\n",
              "      <td>0</td>\n",
              "      <td>0</td>\n",
              "      <td>0</td>\n",
              "    </tr>\n",
              "    <tr>\n",
              "      <th>3</th>\n",
              "      <td>-1.050408</td>\n",
              "      <td>-0.554031</td>\n",
              "      <td>-0.547092</td>\n",
              "      <td>-0.015996</td>\n",
              "      <td>0.485352</td>\n",
              "      <td>-0.041427</td>\n",
              "      <td>0.205173</td>\n",
              "      <td>0.195476</td>\n",
              "      <td>2</td>\n",
              "      <td>1</td>\n",
              "      <td>0</td>\n",
              "      <td>0</td>\n",
              "      <td>0</td>\n",
              "      <td>0</td>\n",
              "      <td>0</td>\n",
              "      <td>0</td>\n",
              "      <td>0</td>\n",
              "      <td>0</td>\n",
              "      <td>0</td>\n",
              "      <td>0</td>\n",
              "      <td>1</td>\n",
              "      <td>0</td>\n",
              "      <td>0</td>\n",
              "      <td>0</td>\n",
              "      <td>0</td>\n",
              "      <td>0</td>\n",
              "      <td>0</td>\n",
              "      <td>0</td>\n",
              "      <td>0</td>\n",
              "      <td>0</td>\n",
              "      <td>0</td>\n",
              "      <td>0</td>\n",
              "      <td>0</td>\n",
              "      <td>0</td>\n",
              "      <td>0</td>\n",
              "      <td>0</td>\n",
              "      <td>0</td>\n",
              "      <td>0</td>\n",
              "      <td>0</td>\n",
              "      <td>0</td>\n",
              "      <td>0</td>\n",
              "      <td>0</td>\n",
              "      <td>0</td>\n",
              "      <td>0</td>\n",
              "      <td>0</td>\n",
              "      <td>0</td>\n",
              "      <td>0</td>\n",
              "      <td>0</td>\n",
              "      <td>0</td>\n",
              "      <td>0</td>\n",
              "      <td>0</td>\n",
              "      <td>0</td>\n",
              "      <td>0</td>\n",
              "      <td>0</td>\n",
              "      <td>0</td>\n",
              "      <td>0</td>\n",
              "      <td>0</td>\n",
              "      <td>0</td>\n",
              "      <td>0</td>\n",
              "      <td>0</td>\n",
              "      <td>0</td>\n",
              "      <td>0</td>\n",
              "      <td>0</td>\n",
              "      <td>0</td>\n",
              "      <td>0</td>\n",
              "      <td>0</td>\n",
              "      <td>0</td>\n",
              "      <td>1</td>\n",
              "      <td>0</td>\n",
              "      <td>0</td>\n",
              "      <td>0</td>\n",
              "    </tr>\n",
              "    <tr>\n",
              "      <th>4</th>\n",
              "      <td>-1.049848</td>\n",
              "      <td>-0.503519</td>\n",
              "      <td>-0.547092</td>\n",
              "      <td>-0.015996</td>\n",
              "      <td>0.246198</td>\n",
              "      <td>-0.038714</td>\n",
              "      <td>0.179575</td>\n",
              "      <td>0.522782</td>\n",
              "      <td>2</td>\n",
              "      <td>1</td>\n",
              "      <td>0</td>\n",
              "      <td>0</td>\n",
              "      <td>0</td>\n",
              "      <td>0</td>\n",
              "      <td>0</td>\n",
              "      <td>0</td>\n",
              "      <td>0</td>\n",
              "      <td>0</td>\n",
              "      <td>0</td>\n",
              "      <td>0</td>\n",
              "      <td>1</td>\n",
              "      <td>0</td>\n",
              "      <td>0</td>\n",
              "      <td>0</td>\n",
              "      <td>0</td>\n",
              "      <td>0</td>\n",
              "      <td>0</td>\n",
              "      <td>0</td>\n",
              "      <td>0</td>\n",
              "      <td>0</td>\n",
              "      <td>0</td>\n",
              "      <td>0</td>\n",
              "      <td>0</td>\n",
              "      <td>0</td>\n",
              "      <td>0</td>\n",
              "      <td>0</td>\n",
              "      <td>0</td>\n",
              "      <td>0</td>\n",
              "      <td>0</td>\n",
              "      <td>0</td>\n",
              "      <td>0</td>\n",
              "      <td>0</td>\n",
              "      <td>0</td>\n",
              "      <td>0</td>\n",
              "      <td>0</td>\n",
              "      <td>0</td>\n",
              "      <td>0</td>\n",
              "      <td>0</td>\n",
              "      <td>0</td>\n",
              "      <td>0</td>\n",
              "      <td>0</td>\n",
              "      <td>0</td>\n",
              "      <td>0</td>\n",
              "      <td>0</td>\n",
              "      <td>0</td>\n",
              "      <td>0</td>\n",
              "      <td>0</td>\n",
              "      <td>0</td>\n",
              "      <td>0</td>\n",
              "      <td>0</td>\n",
              "      <td>0</td>\n",
              "      <td>0</td>\n",
              "      <td>0</td>\n",
              "      <td>0</td>\n",
              "      <td>0</td>\n",
              "      <td>0</td>\n",
              "      <td>1</td>\n",
              "      <td>0</td>\n",
              "      <td>0</td>\n",
              "      <td>0</td>\n",
              "      <td>0</td>\n",
              "    </tr>\n",
              "    <tr>\n",
              "      <th>6</th>\n",
              "      <td>-1.049288</td>\n",
              "      <td>-0.537689</td>\n",
              "      <td>-0.547092</td>\n",
              "      <td>-0.015996</td>\n",
              "      <td>0.365775</td>\n",
              "      <td>-0.056026</td>\n",
              "      <td>0.218957</td>\n",
              "      <td>0.135597</td>\n",
              "      <td>2</td>\n",
              "      <td>1</td>\n",
              "      <td>0</td>\n",
              "      <td>0</td>\n",
              "      <td>0</td>\n",
              "      <td>0</td>\n",
              "      <td>0</td>\n",
              "      <td>0</td>\n",
              "      <td>0</td>\n",
              "      <td>0</td>\n",
              "      <td>0</td>\n",
              "      <td>0</td>\n",
              "      <td>1</td>\n",
              "      <td>0</td>\n",
              "      <td>0</td>\n",
              "      <td>0</td>\n",
              "      <td>0</td>\n",
              "      <td>0</td>\n",
              "      <td>0</td>\n",
              "      <td>0</td>\n",
              "      <td>0</td>\n",
              "      <td>0</td>\n",
              "      <td>0</td>\n",
              "      <td>0</td>\n",
              "      <td>0</td>\n",
              "      <td>0</td>\n",
              "      <td>0</td>\n",
              "      <td>0</td>\n",
              "      <td>0</td>\n",
              "      <td>0</td>\n",
              "      <td>0</td>\n",
              "      <td>0</td>\n",
              "      <td>0</td>\n",
              "      <td>0</td>\n",
              "      <td>0</td>\n",
              "      <td>0</td>\n",
              "      <td>0</td>\n",
              "      <td>0</td>\n",
              "      <td>0</td>\n",
              "      <td>0</td>\n",
              "      <td>0</td>\n",
              "      <td>0</td>\n",
              "      <td>0</td>\n",
              "      <td>0</td>\n",
              "      <td>0</td>\n",
              "      <td>0</td>\n",
              "      <td>0</td>\n",
              "      <td>0</td>\n",
              "      <td>0</td>\n",
              "      <td>0</td>\n",
              "      <td>0</td>\n",
              "      <td>0</td>\n",
              "      <td>0</td>\n",
              "      <td>0</td>\n",
              "      <td>0</td>\n",
              "      <td>0</td>\n",
              "      <td>0</td>\n",
              "      <td>0</td>\n",
              "      <td>0</td>\n",
              "      <td>1</td>\n",
              "      <td>0</td>\n",
              "      <td>0</td>\n",
              "      <td>0</td>\n",
              "    </tr>\n",
              "    <tr>\n",
              "      <th>9</th>\n",
              "      <td>-1.054606</td>\n",
              "      <td>-0.357927</td>\n",
              "      <td>-0.547092</td>\n",
              "      <td>-0.015996</td>\n",
              "      <td>1.322391</td>\n",
              "      <td>0.020577</td>\n",
              "      <td>0.218957</td>\n",
              "      <td>1.185816</td>\n",
              "      <td>2</td>\n",
              "      <td>1</td>\n",
              "      <td>0</td>\n",
              "      <td>0</td>\n",
              "      <td>0</td>\n",
              "      <td>0</td>\n",
              "      <td>0</td>\n",
              "      <td>0</td>\n",
              "      <td>0</td>\n",
              "      <td>0</td>\n",
              "      <td>0</td>\n",
              "      <td>0</td>\n",
              "      <td>0</td>\n",
              "      <td>1</td>\n",
              "      <td>0</td>\n",
              "      <td>0</td>\n",
              "      <td>0</td>\n",
              "      <td>0</td>\n",
              "      <td>0</td>\n",
              "      <td>0</td>\n",
              "      <td>0</td>\n",
              "      <td>0</td>\n",
              "      <td>0</td>\n",
              "      <td>0</td>\n",
              "      <td>0</td>\n",
              "      <td>0</td>\n",
              "      <td>0</td>\n",
              "      <td>0</td>\n",
              "      <td>0</td>\n",
              "      <td>0</td>\n",
              "      <td>0</td>\n",
              "      <td>0</td>\n",
              "      <td>0</td>\n",
              "      <td>0</td>\n",
              "      <td>0</td>\n",
              "      <td>0</td>\n",
              "      <td>0</td>\n",
              "      <td>0</td>\n",
              "      <td>0</td>\n",
              "      <td>0</td>\n",
              "      <td>0</td>\n",
              "      <td>0</td>\n",
              "      <td>0</td>\n",
              "      <td>0</td>\n",
              "      <td>0</td>\n",
              "      <td>0</td>\n",
              "      <td>0</td>\n",
              "      <td>0</td>\n",
              "      <td>0</td>\n",
              "      <td>0</td>\n",
              "      <td>0</td>\n",
              "      <td>0</td>\n",
              "      <td>0</td>\n",
              "      <td>0</td>\n",
              "      <td>0</td>\n",
              "      <td>0</td>\n",
              "      <td>0</td>\n",
              "      <td>1</td>\n",
              "      <td>0</td>\n",
              "      <td>0</td>\n",
              "      <td>0</td>\n",
              "      <td>0</td>\n",
              "      <td>0</td>\n",
              "    </tr>\n",
              "  </tbody>\n",
              "</table>\n",
              "</div>"
            ],
            "text/plain": [
              "      BLOCK       LOT  ...  TAX CLASS AT PRESENT_3  TAX CLASS AT PRESENT_4\n",
              "0 -1.053207 -0.576316  ...                       0                       0\n",
              "3 -1.050408 -0.554031  ...                       0                       0\n",
              "4 -1.049848 -0.503519  ...                       0                       0\n",
              "6 -1.049288 -0.537689  ...                       0                       0\n",
              "9 -1.054606 -0.357927  ...                       0                       0\n",
              "\n",
              "[5 rows x 71 columns]"
            ]
          },
          "metadata": {
            "tags": []
          },
          "execution_count": 20
        }
      ]
    },
    {
      "cell_type": "code",
      "metadata": {
        "id": "0lBz50Ujebua",
        "colab_type": "code",
        "colab": {}
      },
      "source": [
        "# classifying data into independent and dependent variable\n",
        "X = df.drop(['SALE PRICE'],axis = 1).values\n",
        "y = df['SALE PRICE'].values"
      ],
      "execution_count": null,
      "outputs": []
    },
    {
      "cell_type": "code",
      "metadata": {
        "id": "M2ke98sJeeB6",
        "colab_type": "code",
        "colab": {}
      },
      "source": [
        "# creating test and training set data, 70% train, 30% test\n",
        "X_train,X_test,y_train,y_test = train_test_split(X, y, test_size = 0.3, random_state = 0)"
      ],
      "execution_count": null,
      "outputs": []
    },
    {
      "cell_type": "markdown",
      "metadata": {
        "id": "zEIhN0Q09_-J",
        "colab_type": "text"
      },
      "source": [
        "#3) Predition"
      ]
    },
    {
      "cell_type": "markdown",
      "metadata": {
        "id": "bPvvtPLXgXbd",
        "colab_type": "text"
      },
      "source": [
        "##3.0)Helper Function"
      ]
    },
    {
      "cell_type": "code",
      "metadata": {
        "id": "LJr7swCEgWKf",
        "colab_type": "code",
        "colab": {}
      },
      "source": [
        "def rmse(y_test,y_pred):\n",
        "      return np.sqrt(mean_squared_error(y_test,y_pred))"
      ],
      "execution_count": null,
      "outputs": []
    },
    {
      "cell_type": "markdown",
      "metadata": {
        "id": "74cEg17tf-m8",
        "colab_type": "text"
      },
      "source": [
        "##3.1) Linear"
      ]
    },
    {
      "cell_type": "markdown",
      "metadata": {
        "id": "Bw0-mV6ggCiY",
        "colab_type": "text"
      },
      "source": [
        "##3.2)Ridge"
      ]
    },
    {
      "cell_type": "code",
      "metadata": {
        "id": "ub5SG-zEegva",
        "colab_type": "code",
        "colab": {
          "base_uri": "https://localhost:8080/",
          "height": 51
        },
        "outputId": "8e2a4757-f2dd-4d98-ebb8-784fb8cd7b73"
      },
      "source": [
        "\n",
        "# fitting linear regression to training set\n",
        "regressor = Ridge(alpha=0.01, normalize=True)\n",
        "regressor.fit(X_train,y_train)"
      ],
      "execution_count": null,
      "outputs": [
        {
          "output_type": "execute_result",
          "data": {
            "text/plain": [
              "Ridge(alpha=0.01, copy_X=True, fit_intercept=True, max_iter=None,\n",
              "      normalize=True, random_state=None, solver='auto', tol=0.001)"
            ]
          },
          "metadata": {
            "tags": []
          },
          "execution_count": 24
        }
      ]
    },
    {
      "cell_type": "code",
      "metadata": {
        "id": "BQff_gtvfZhp",
        "colab_type": "code",
        "colab": {
          "base_uri": "https://localhost:8080/",
          "height": 34
        },
        "outputId": "0e246e9c-20d3-4bfb-8f29-63c39564b869"
      },
      "source": [
        "y_pred = regressor.predict(X_test)\n",
        "result = rmse(y_test, y_pred)\n",
        "result"
      ],
      "execution_count": null,
      "outputs": [
        {
          "output_type": "execute_result",
          "data": {
            "text/plain": [
              "0.5851199455918485"
            ]
          },
          "metadata": {
            "tags": []
          },
          "execution_count": 25
        }
      ]
    },
    {
      "cell_type": "markdown",
      "metadata": {
        "id": "jt6Sq1GNgJ9O",
        "colab_type": "text"
      },
      "source": [
        "##3.3)Random Forest"
      ]
    },
    {
      "cell_type": "code",
      "metadata": {
        "id": "IwDCfHKrKCzg",
        "colab_type": "code",
        "colab": {
          "base_uri": "https://localhost:8080/",
          "height": 119
        },
        "outputId": "6ee1cce6-026c-40a5-dbf9-18b75da55fc4"
      },
      "source": [
        "from sklearn.tree import DecisionTreeRegressor\n",
        "dtree = DecisionTreeRegressor()\n",
        "dtree.fit(X_train, y_train)"
      ],
      "execution_count": null,
      "outputs": [
        {
          "output_type": "execute_result",
          "data": {
            "text/plain": [
              "DecisionTreeRegressor(ccp_alpha=0.0, criterion='mse', max_depth=None,\n",
              "                      max_features=None, max_leaf_nodes=None,\n",
              "                      min_impurity_decrease=0.0, min_impurity_split=None,\n",
              "                      min_samples_leaf=1, min_samples_split=2,\n",
              "                      min_weight_fraction_leaf=0.0, presort='deprecated',\n",
              "                      random_state=None, splitter='best')"
            ]
          },
          "metadata": {
            "tags": []
          },
          "execution_count": 26
        }
      ]
    },
    {
      "cell_type": "code",
      "metadata": {
        "id": "ZJdqOQVTMHJX",
        "colab_type": "code",
        "colab": {
          "base_uri": "https://localhost:8080/",
          "height": 34
        },
        "outputId": "591e59a9-669a-4b54-fb82-505a9354937e"
      },
      "source": [
        "y_pred = dtree.predict(X_test)\n",
        "result = rmse(y_test, y_pred)\n",
        "result"
      ],
      "execution_count": null,
      "outputs": [
        {
          "output_type": "execute_result",
          "data": {
            "text/plain": [
              "0.6086380072949652"
            ]
          },
          "metadata": {
            "tags": []
          },
          "execution_count": 27
        }
      ]
    },
    {
      "cell_type": "code",
      "metadata": {
        "id": "tLVsW_Y-NQf-",
        "colab_type": "code",
        "colab": {
          "base_uri": "https://localhost:8080/",
          "height": 136
        },
        "outputId": "a514fb59-a992-49bb-cd9c-e48ebc3f9b37"
      },
      "source": [
        "dforest = RandomForestRegressor(n_estimators=3000, criterion='mse', bootstrap=True, n_jobs=-1)\n",
        "dforest.fit(X_train, y_train)"
      ],
      "execution_count": null,
      "outputs": [
        {
          "output_type": "execute_result",
          "data": {
            "text/plain": [
              "RandomForestRegressor(bootstrap=True, ccp_alpha=0.0, criterion='mse',\n",
              "                      max_depth=None, max_features='auto', max_leaf_nodes=None,\n",
              "                      max_samples=None, min_impurity_decrease=0.0,\n",
              "                      min_impurity_split=None, min_samples_leaf=1,\n",
              "                      min_samples_split=2, min_weight_fraction_leaf=0.0,\n",
              "                      n_estimators=3000, n_jobs=-1, oob_score=False,\n",
              "                      random_state=None, verbose=0, warm_start=False)"
            ]
          },
          "metadata": {
            "tags": []
          },
          "execution_count": 28
        }
      ]
    },
    {
      "cell_type": "code",
      "metadata": {
        "id": "m6I68PflPaH1",
        "colab_type": "code",
        "colab": {
          "base_uri": "https://localhost:8080/",
          "height": 34
        },
        "outputId": "044793cb-9342-4c1c-a431-6249352d0a73"
      },
      "source": [
        "y_pred = dforest.predict(X_test)\n",
        "result = rmse(y_test, y_pred)\n",
        "result"
      ],
      "execution_count": null,
      "outputs": [
        {
          "output_type": "execute_result",
          "data": {
            "text/plain": [
              "0.4860193036299752"
            ]
          },
          "metadata": {
            "tags": []
          },
          "execution_count": 29
        }
      ]
    },
    {
      "cell_type": "markdown",
      "metadata": {
        "id": "ZLQx6ESrgOAU",
        "colab_type": "text"
      },
      "source": [
        "##3.4)Gradient boosting"
      ]
    }
  ]
}